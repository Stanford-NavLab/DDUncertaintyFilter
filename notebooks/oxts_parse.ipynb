{
 "cells": [
  {
   "cell_type": "code",
   "execution_count": 8,
   "metadata": {},
   "outputs": [],
   "source": [
    "import os\n",
    "import numpy as np\n",
    "from tqdm import tqdm\n",
    "import pandas as pd"
   ]
  },
  {
   "cell_type": "code",
   "execution_count": 9,
   "metadata": {},
   "outputs": [],
   "source": [
    "def loadOxtsData(oxts_dir, frames=None):\n",
    "    ''' reads GPS/IMU data from files to memory. requires base directory\n",
    "    (=sequence directory as parameter). if frames is not specified, loads all frames. '''\n",
    "\n",
    "    ts = []\n",
    "\n",
    "    if frames==None:\n",
    "\n",
    "        ts = loadTimestamps(oxts_dir)\n",
    "        oxts  = []\n",
    "        for i in tqdm(range(len(ts))):\n",
    "            if len(ts[i]):\n",
    "                try:\n",
    "                    oxts.append(np.loadtxt(os.path.join(oxts_dir, 'data', '%010d.txt'%i)))\n",
    "                except:\n",
    "                    oxts.append([])\n",
    "            else:\n",
    "                oxts.append([])\n",
    "    else:\n",
    "\n",
    "        if len(frames)>1:\n",
    "            k = 1\n",
    "            oxts = []\n",
    "            for i in tqdm(range(len(frames))):\n",
    "                try:\n",
    "                    oxts.append(np.loadtxt(os.path.join(oxts_dir, 'data', '%010d.txt'%k)))\n",
    "                except:\n",
    "                    oxts.append([])\n",
    "                k=k+1\n",
    "\n",
    "        # no list for single value\n",
    "        else:\n",
    "            file_name = os.path.join(oxts_dir, 'data', '%010d.txt'%k)\n",
    "            try:\n",
    "                oxts = np.loadtxt(file_name)\n",
    "            except:\n",
    "                oxts = []\n",
    "\n",
    "    return oxts,ts\n",
    "\n",
    "def loadTimestamps(ts_dir):\n",
    "    ''' load timestamps '''\n",
    "\n",
    "    with open(os.path.join(ts_dir, 'timestamps.txt')) as f:\n",
    "        data=f.read().splitlines()\n",
    "    ts = [l.split(' ')[0] for l in data] \n",
    "  \n",
    "    return ts\n",
    "\n",
    "def loadPoses (pos_file):\n",
    "    ''' load system poses '''\n",
    "\n",
    "    data = np.loadtxt(pos_file)\n",
    "    ts = data[:, 0].astype(np.int)\n",
    "    poses = np.reshape(data[:, 1:], (-1, 3, 4))\n",
    "    poses = np.concatenate((poses, np.tile(np.array([0, 0, 0, 1]).reshape(1,1,4),(poses.shape[0],1,1))), 1)\n",
    "    return ts, poses"
   ]
  },
  {
   "cell_type": "code",
   "execution_count": 15,
   "metadata": {},
   "outputs": [],
   "source": [
    "path = \"/oak/stanford/groups/gracegao/KITTI360/data_poses/\"\n",
    "seq = \"2013_05_28_drive_0003_sync\""
   ]
  },
  {
   "cell_type": "code",
   "execution_count": 16,
   "metadata": {},
   "outputs": [
    {
     "name": "stderr",
     "output_type": "stream",
     "text": [
      "100%|██████████| 1031/1031 [02:16<00:00,  7.53it/s]\n"
     ]
    }
   ],
   "source": [
    "oxts, ts = loadOxtsData(path+seq+\"/oxts\")"
   ]
  },
  {
   "cell_type": "code",
   "execution_count": 17,
   "metadata": {},
   "outputs": [],
   "source": [
    "df = pd.DataFrame(columns=['timestamp', 'lat', 'lon', 'alt', 'roll', 'pitch', 'yaw', 'vn', 've', 'vf', 'vl', 'vu', 'ax', 'ay', 'az', 'af', 'al', 'au', 'wx', 'wy', 'wz', 'wf', 'wl', 'wu', 'pos_accuracy', 'vel_accuracy', 'navstat', 'navstat', 'posmode', 'velmode', 'orimode'])"
   ]
  },
  {
   "cell_type": "code",
   "execution_count": 18,
   "metadata": {},
   "outputs": [
    {
     "name": "stderr",
     "output_type": "stream",
     "text": [
      "100%|██████████| 1031/1031 [00:05<00:00, 173.00it/s]\n"
     ]
    }
   ],
   "source": [
    "for i in tqdm(range(len(oxts))):\n",
    "    timestamp = ts[i]\n",
    "    oxts_i = oxts[i]\n",
    "    data = [timestamp, *oxts_i]\n",
    "    df.loc[i] = data"
   ]
  },
  {
   "cell_type": "code",
   "execution_count": 19,
   "metadata": {},
   "outputs": [],
   "source": [
    "df.to_csv(path+seq+\"/oxts/oxts.csv\")"
   ]
  },
  {
   "cell_type": "code",
   "execution_count": null,
   "metadata": {},
   "outputs": [],
   "source": []
  }
 ],
 "metadata": {
  "kernelspec": {
   "display_name": "Python 3",
   "language": "python",
   "name": "python3"
  },
  "language_info": {
   "codemirror_mode": {
    "name": "ipython",
    "version": 3
   },
   "file_extension": ".py",
   "mimetype": "text/x-python",
   "name": "python",
   "nbconvert_exporter": "python",
   "pygments_lexer": "ipython3",
   "version": "3.8.10"
  }
 },
 "nbformat": 4,
 "nbformat_minor": 2
}
