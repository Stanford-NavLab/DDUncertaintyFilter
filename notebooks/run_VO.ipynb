{
 "cells": [
  {
   "cell_type": "code",
   "execution_count": 8,
   "id": "44ad286b",
   "metadata": {},
   "outputs": [],
   "source": [
    "%matplotlib inline\n",
    "import pandas as pd\n",
    "import numpy as np\n",
    "from threading import Thread\n",
    "import cv2\n",
    "import os, sys\n",
    "import time\n",
    "import glob\n",
    "from collections import defaultdict, namedtuple\n",
    "import matplotlib.pyplot as plt\n",
    "from mpl_toolkits.mplot3d import Axes3D\n",
    "import matplotlib.animation as animation\n",
    "from itertools import chain, compress\n",
    "from queue import Queue\n",
    "from scipy.stats import chi2\n",
    "import pytransform3d.transformations as pt\n",
    "import pytransform3d.rotations as pr\n",
    "from pytransform3d.plot_utils import make_3d_axis\n",
    "from tqdm import tqdm"
   ]
  },
  {
   "cell_type": "code",
   "execution_count": 9,
   "id": "444a306a",
   "metadata": {},
   "outputs": [
    {
     "name": "stdout",
     "output_type": "stream",
     "text": [
      "The autoreload extension is already loaded. To reload it, use:\n",
      "  %reload_ext autoreload\n"
     ]
    }
   ],
   "source": [
    "import os, sys\n",
    "sys.path.append('..')\n",
    "\n",
    "from config import *\n",
    "from image_processing import *\n",
    "from image_reader import *\n",
    "from online_testing import *\n",
    "from utils import *\n",
    "from states import *\n",
    "from feature import *\n",
    "\n",
    "%load_ext autoreload\n",
    "%autoreload 2"
   ]
  },
  {
   "cell_type": "code",
   "execution_count": 22,
   "id": "0fad44f8",
   "metadata": {},
   "outputs": [],
   "source": [
    "\"\"\"\n",
    "Snapshot PnP VO solver\n",
    "\"\"\"\n",
    "class SnapshotPnPSolver(object):\n",
    "    def __init__(self, config, verbose=True):\n",
    "        self.config = config\n",
    "        self.optimization_config = config.optimization_config\n",
    "        self.map_server = dict()   # <FeatureID, Feature>\n",
    "        self.state = None\n",
    "        self.prev_state = CAMState()\n",
    "        self.verbose = verbose\n",
    "\n",
    "        self.K = self.to_K(config.cam0_intrinsics)\n",
    "        self.T_cam_w = Isometry3d(config.T_cam0_imu[:3, :3], config.T_cam0_imu[:3, 3])\n",
    "\n",
    "        CAMState.next_id = 0\n",
    "\n",
    "        # Tracking rate.\n",
    "        self.tracking_rate = None\n",
    "\n",
    "        # Indicate if the received image is the first one. The system will \n",
    "        # start after receiving the first image.\n",
    "        self.is_first_img = True\n",
    "\n",
    "    def to_K(self, params):\n",
    "        \n",
    "        K = np.zeros((3,3))\n",
    "        K[0, 0] = params[0]\n",
    "        K[0, 2] = params[2]\n",
    "        K[1, 1] = params[1]\n",
    "        K[1, 2] = params[3]\n",
    "        K[2, 2] = 1\n",
    "        return K\n",
    "    \n",
    "    def feature_callback(self, feature_msg):\n",
    "        \"\"\"\n",
    "        Callback function for feature measurements.\n",
    "        \"\"\"\n",
    "        start = time.time()\n",
    "        self.state = CAMState(CAMState.next_id)\n",
    "        self.state.timestamp = feature_msg.timestamp\n",
    "        \n",
    "        t = time.time()\n",
    "\n",
    "        # Add new observations for existing features or new features \n",
    "        # in the map server.\n",
    "        self.add_feature_observations(feature_msg)\n",
    "\n",
    "        if self.verbose:\n",
    "            print('___add_feature_observations', time.time() - t)\n",
    "\n",
    "        # Start the system if the first image is received.\n",
    "        # The frame where the first image is received will be the origin.\n",
    "        if self.is_first_img:\n",
    "            self.is_first_img = False\n",
    "            self.state.position = self.prev_state.position\n",
    "            self.state.orientation = self.prev_state.orientation\n",
    "        else:\n",
    "            t = time.time()\n",
    "            # Track state using visual odometry\n",
    "            self.track_state(feature_msg)\n",
    "\n",
    "            if self.verbose:\n",
    "                print('___track_state', time.time() - t)\n",
    "        if self.verbose:\n",
    "            print('===snapshot PnP VO elapsed:          ', time.time() - start, f'({feature_msg.timestamp})')\n",
    "\n",
    "        try:\n",
    "            # Publish the odometry.\n",
    "            return self.publish(feature_msg.timestamp)\n",
    "        finally:\n",
    "            # Reset the system if necessary.\n",
    "            self.prev_state = self.state\n",
    "            CAMState.next_id += 1\n",
    "\n",
    "    def add_feature_observations(self, feature_msg):\n",
    "        tracked_feature_num = 0\n",
    "        curr_feature_num = len(self.map_server)\n",
    "        for feature in feature_msg.features:\n",
    "            if feature.id not in self.map_server:\n",
    "                # This is a new feature.\n",
    "                map_feature = Feature(feature.id, self.optimization_config)\n",
    "                map_feature.observations[self.state.id] = np.array([\n",
    "                    feature.u0, feature.v0])\n",
    "                self.map_server[feature.id] = map_feature\n",
    "            else:\n",
    "                # This is an old feature.\n",
    "                self.map_server[feature.id].observations[self.state.id] = np.array([\n",
    "                    feature.u0, feature.v0])\n",
    "                tracked_feature_num += 1\n",
    "\n",
    "        self.tracking_rate = tracked_feature_num / (curr_feature_num+1e-5)\n",
    "\n",
    "    def track_state(self, feature_msg):\n",
    "        prev_id = self.prev_state.id\n",
    "        curr_id = self.state.id\n",
    "\n",
    "        prev_points = []\n",
    "        curr_points = []\n",
    "        for feature in feature_msg.features:\n",
    "            map_feature = self.map_server[feature.id]\n",
    "            if prev_id in map_feature.observations.keys():\n",
    "                curr_points.append(map_feature.observations[curr_id])\n",
    "                prev_points.append(map_feature.observations[prev_id])\n",
    "\n",
    "        # print('Features for VO: ', list(zip(curr_points, prev_points)))\n",
    "\n",
    "        prev_points = np.array(prev_points)\n",
    "        curr_points = np.array(curr_points)\n",
    "\n",
    "        # print('points shape ', prev_points.shape, curr_points.shape)\n",
    "\n",
    "        R, T, _ = self.recover_pose(prev_points, curr_points)\n",
    "        \n",
    "        R_p_w = to_rotation(self.prev_state.orientation)\n",
    "        T_p_w = self.prev_state.position\n",
    "\n",
    "        H_p_w = Isometry3d(R_p_w, T_p_w)\n",
    "#         H_c_p = Isometry3d(R, T)\n",
    "#         print(\"Before \", R[:2, :2], T[:2])\n",
    "        flip = np.array([\n",
    "            [1.0, 0.0, 0.0],\n",
    "            [0.0, 1.0, 0.0],\n",
    "            [0.0, 0.0, -1.0]\n",
    "        ])\n",
    "        H_c_p = Isometry3d(R, np.squeeze(T))\n",
    "#         print(\"After\")\n",
    "#         print(T)\n",
    "        # print(\"H_p_w \", H_p_w.R, H_p_w.t)\n",
    "        # print(\"H_c_p \", H_c_p.R, H_c_p.t)\n",
    "\n",
    "#         H_c_w = H_p_w * H_c_p\n",
    "        print(H_c_p.t)\n",
    "        H_c_w = H_c_p\n",
    "        self.state.orientation = to_quaternion(H_c_w.R)\n",
    "        self.state.position = H_c_w.t        \n",
    "\n",
    "    def recover_pose(self, prev_points, curr_points, mask=None):\n",
    "        E, mask = cv2.findEssentialMat(curr_points, prev_points, self.K, cv2.RANSAC, 0.9, 1.0, mask)\n",
    "        \n",
    "        _, R, T, mask = cv2.recoverPose(E, curr_points, prev_points, self.K, mask=mask)\n",
    "\n",
    "        return R, T, mask\n",
    "    \n",
    "    def publish(self, time):\n",
    "        state = self.state\n",
    "        if self.verbose:\n",
    "            print('+++publish:')\n",
    "            print('   timestamp:', state.timestamp)\n",
    "            print('   orientation:', state.orientation)\n",
    "            print('   position:', state.position)\n",
    "            print()\n",
    "        \n",
    "        H_c_w = Isometry3d(\n",
    "            to_rotation(state.orientation),\n",
    "            state.position)\n",
    "        \n",
    "        return namedtuple('vo_result', ['timestamp', 'pose'])(\n",
    "            time, H_c_w)"
   ]
  },
  {
   "cell_type": "code",
   "execution_count": 23,
   "id": "e9db6a5a",
   "metadata": {},
   "outputs": [],
   "source": [
    "class Trajectory(object):\n",
    "    def __init__(self):\n",
    "        self.times = []\n",
    "        self.transforms = []\n",
    "        self.max_s = np.zeros(3)\n",
    "        self.min_s = np.zeros(3)\n",
    "        \n",
    "    def add_point(self, msg, origin=\"world\"):\n",
    "        if origin==\"world\":\n",
    "            H_c_w = msg.pose\n",
    "        elif origin==\"cam\":\n",
    "            H_w_c = msg.pose\n",
    "            H_c_w = H_w_c.inverse()\n",
    "        self.times.append(msg.timestamp)\n",
    "        self.transforms.append(H_c_w)\n",
    "        t = H_c_w.t\n",
    "        if len(self.times)==1 and (np.all(self.max_s==0) and np.all(self.min_s==0)):\n",
    "            self.max_s = t.copy()\n",
    "            self.min_s = t.copy()\n",
    "        else:\n",
    "            for j in range(3):\n",
    "                self.max_s[j] = max(self.max_s[j], t[j]) \n",
    "                self.min_s[j] = min(self.min_s[j], t[j]) \n",
    "        \n",
    "    def __len__(self):\n",
    "        return len(self.times)\n",
    "\n",
    "    def pytf_pose(self, num):\n",
    "        r = self.transforms[num].R\n",
    "        t = self.transforms[num].t\n",
    "        r = pr.matrix_from_quaternion(pr.quaternion_from_matrix(r, strict_check=False))\n",
    "        return r, t\n",
    "    \n",
    "    def create_plot(self, n=100000, mode=\"trajectory\"):\n",
    "        ax = make_3d_axis(ax_s=1, unit=\"m\", n_ticks=6)\n",
    "\n",
    "        scale = 1e-5 + max([i-j for i, j in zip(self.max_s, self.min_s)])/1.5\n",
    "        center = [(i+j)/2.0 for i, j in zip(self.max_s, self.min_s)]\n",
    "\n",
    "        ax.set_xlim((center[0]-scale, center[0]+scale))\n",
    "        ax.set_ylim((center[1]-scale, center[1]+scale))\n",
    "        ax.set_zlim((center[2]-scale, center[2]+scale))\n",
    "\n",
    "#         ax.view_init(azim=0, elev=90)\n",
    "        \n",
    "        last_n = min(len(self.times), n)\n",
    "        t0 = self.transforms[0].t\n",
    "        ax.scatter(t0[0], t0[1], t0[2], s=100, marker='o', color=\"lightgreen\")\n",
    "        tn = self.transforms[last_n-1].t\n",
    "        ax.scatter(tn[0], tn[1], tn[2], s=100, marker='o', color=\"lightsalmon\")\n",
    "        if mode==\"trajectory\":\n",
    "            t_x, t_y, t_z = [], [], []\n",
    "            for num in tqdm(range(last_n)):\n",
    "                t = self.transforms[num].t\n",
    "                t_x.append(t[0])\n",
    "                t_y.append(t[1])\n",
    "                t_z.append(t[2])\n",
    "            ax.scatter(t_x, t_y, t_z, s=0.1, color=\"gray\")\n",
    "        elif mode==\"poses\":\n",
    "            for num in tqdm(range(last_n)):\n",
    "                r, t = self.pytf_pose(num)\n",
    "                pt.plot_transform(ax=ax, A2B=pt.transform_from(r, t))\n",
    "        plt.tight_layout()"
   ]
  },
  {
   "cell_type": "code",
   "execution_count": 24,
   "id": "1118e671",
   "metadata": {},
   "outputs": [],
   "source": [
    "def ground_truth_load(times, file='/content/00.txt', start_idx=0):\n",
    "    traj = Trajectory()\n",
    "    with open(file) as f:\n",
    "        lines = f.readlines()\n",
    "        for i in tqdm(range(start_idx, min(len(times), len(lines)))):\n",
    "            tmp44 = np.array(lines[i].rstrip().split(\" \")[1:], dtype=np.float64).reshape((4, 4))\n",
    "            H_curr = Isometry3d(tmp44[:3, :3], tmp44[:3, 3])\n",
    "            timestamp = times[i]\n",
    "            # print(timestamp, ' : ', H_curr)\n",
    "            msg = namedtuple('ground_truth', ['timestamp', 'pose'])(\n",
    "                    timestamp, H_curr)\n",
    "            traj.add_point(msg, origin=\"world\")\n",
    "    return traj"
   ]
  },
  {
   "cell_type": "code",
   "execution_count": 25,
   "id": "182e0e7c",
   "metadata": {},
   "outputs": [],
   "source": [
    "# Pretty printing\n",
    "np.set_printoptions(formatter={'float': lambda x: \"{0:0.2f}\".format(x)})"
   ]
  },
  {
   "cell_type": "code",
   "execution_count": 26,
   "id": "8ac888a2",
   "metadata": {},
   "outputs": [],
   "source": [
    "# Paths\n",
    "start_idx = 0\n",
    "ids = sorted(glob.glob(\"/scratch/users/shubhgup/Left/*.png\"))\n",
    "ids = ids[start_idx:]\n",
    "now = time.time()\n",
    "timestamps = now + 0.03*np.arange(0, len(ids))\n",
    "assert(len(ids) == len(timestamps))"
   ]
  },
  {
   "cell_type": "code",
   "execution_count": 27,
   "id": "1b8a922c",
   "metadata": {},
   "outputs": [],
   "source": [
    "cam0 = MonoCamera(ImageReader(ids, timestamps))\n",
    "cam0.set_starttime(now)\n",
    "img_queue = Queue()\n",
    "img_publisher = DataPublisher(\n",
    "        cam0, img_queue)"
   ]
  },
  {
   "cell_type": "code",
   "execution_count": 28,
   "id": "b43c8e8b",
   "metadata": {},
   "outputs": [],
   "source": [
    "ip = ImageProcessor(ConfigHKMedUrban(), verbose=False)\n",
    "solver = SnapshotPnPSolver(ConfigHKMedUrban(), verbose=False)\n",
    "traj = Trajectory()"
   ]
  },
  {
   "cell_type": "code",
   "execution_count": null,
   "id": "d9b42a8d",
   "metadata": {},
   "outputs": [],
   "source": [
    "gt_traj = ground_truth_load(timestamps, file=\"/oak/stanford/groups/gracegao/KITTI360/data_poses/2013_05_28_drive_0000_sync/cam0_to_world.txt\", start_idx=start_idx)\n",
    "solver.prev_state.position = gt_traj.transforms[0].t\n",
    "solver.prev_state.orientation = to_quaternion(gt_traj.transforms[0].R)\n",
    "traj.max_s = gt_traj.max_s.copy()\n",
    "traj.min_s = gt_traj.min_s.copy()"
   ]
  },
  {
   "cell_type": "code",
   "execution_count": null,
   "id": "7d5bb0e1",
   "metadata": {},
   "outputs": [],
   "source": [
    "gt_traj.create_plot(n=5000)"
   ]
  },
  {
   "cell_type": "code",
   "execution_count": 29,
   "id": "ad118b5f",
   "metadata": {},
   "outputs": [],
   "source": [
    "img_publisher.start(now)"
   ]
  },
  {
   "cell_type": "code",
   "execution_count": 30,
   "id": "33f80178",
   "metadata": {},
   "outputs": [
    {
     "name": "stderr",
     "output_type": "stream",
     "text": [
      "  0%|          | 15/5000 [00:00<01:09, 72.06it/s]"
     ]
    },
    {
     "name": "stdout",
     "output_type": "stream",
     "text": [
      "[0.34 -0.03 -0.94]\n",
      "[1.00 -0.02 0.06]\n",
      "[0.91 0.21 -0.36]\n",
      "[0.83 -0.52 0.19]\n",
      "[0.31 -0.91 -0.26]\n",
      "[0.92 0.37 0.12]\n",
      "[-0.39 0.01 -0.92]\n",
      "[1.00 0.06 0.00]\n",
      "[0.79 -0.56 0.25]\n",
      "[0.77 -0.47 -0.43]\n",
      "[0.89 0.26 0.38]\n",
      "[0.09 -0.97 -0.21]\n",
      "[0.37 -0.88 -0.29]\n",
      "[0.36 -0.89 -0.30]\n",
      "[0.35 -0.89 -0.30]\n"
     ]
    },
    {
     "name": "stderr",
     "output_type": "stream",
     "text": [
      "\r",
      "  0%|          | 23/5000 [00:00<01:22, 60.65it/s]"
     ]
    },
    {
     "name": "stdout",
     "output_type": "stream",
     "text": [
      "[0.35 -0.89 -0.29]\n",
      "[0.81 0.56 0.14]\n",
      "[0.32 -0.90 -0.29]\n",
      "[0.39 -0.87 -0.30]\n",
      "[-0.51 -0.66 0.55]\n",
      "[0.34 -0.89 -0.29]\n",
      "[0.36 -0.89 -0.27]\n",
      "[0.75 -0.57 -0.33]\n",
      "[0.17 -0.38 0.91]\n",
      "[0.15 -0.46 0.87]\n",
      "[0.90 0.34 0.28]\n"
     ]
    },
    {
     "name": "stderr",
     "output_type": "stream",
     "text": [
      "  1%|          | 36/5000 [00:00<01:30, 55.04it/s]"
     ]
    },
    {
     "name": "stdout",
     "output_type": "stream",
     "text": [
      "[0.43 -0.89 0.18]\n",
      "[0.26 -0.93 -0.24]\n",
      "[0.06 -0.90 0.42]\n",
      "[0.71 -0.49 -0.50]\n",
      "[0.34 -0.89 -0.29]\n",
      "[0.30 -0.91 -0.27]\n",
      "[0.37 -0.35 0.86]\n",
      "[-0.03 -0.88 0.47]\n",
      "[0.36 -0.92 0.17]\n",
      "[0.02 -0.51 0.86]\n"
     ]
    },
    {
     "name": "stderr",
     "output_type": "stream",
     "text": [
      "  1%|          | 48/5000 [00:00<01:34, 52.33it/s]"
     ]
    },
    {
     "name": "stdout",
     "output_type": "stream",
     "text": [
      "[-0.22 -0.41 0.88]\n",
      "[0.98 0.12 -0.14]\n",
      "[-0.50 -0.25 0.83]\n",
      "[0.86 -0.42 -0.29]\n",
      "[0.35 -0.88 -0.31]\n",
      "[-0.30 -0.58 0.76]\n",
      "[0.90 0.27 0.33]\n",
      "[0.91 -0.32 0.26]\n",
      "[0.92 0.22 0.33]\n",
      "[0.35 -0.89 -0.30]\n",
      "[0.43 -0.88 -0.21]\n"
     ]
    },
    {
     "name": "stderr",
     "output_type": "stream",
     "text": [
      "\r",
      "  1%|          | 54/5000 [00:00<01:33, 52.97it/s]"
     ]
    },
    {
     "name": "stdout",
     "output_type": "stream",
     "text": [
      "[0.88 0.20 0.44]\n",
      "[0.35 -0.89 -0.29]\n",
      "[0.90 -0.34 0.28]\n",
      "[0.22 -0.90 -0.38]\n",
      "[0.30 -0.91 -0.29]\n",
      "[0.35 -0.89 -0.29]\n",
      "[-0.47 -0.27 0.84]\n",
      "[0.34 -0.90 -0.29]\n",
      "[0.34 -0.90 -0.28]\n",
      "[0.33 -0.90 -0.29]\n",
      "[0.90 0.26 0.35]\n"
     ]
    },
    {
     "name": "stderr",
     "output_type": "stream",
     "text": [
      "  1%|▏         | 66/5000 [00:01<01:32, 53.47it/s]"
     ]
    },
    {
     "name": "stdout",
     "output_type": "stream",
     "text": [
      "[0.35 -0.89 -0.30]\n",
      "[-0.09 -0.14 0.99]\n",
      "[-0.34 -0.17 0.93]\n",
      "[-0.24 -0.18 0.95]\n",
      "[0.27 -0.54 0.80]\n",
      "[0.25 -0.90 -0.35]\n",
      "[0.31 0.09 0.95]\n",
      "[0.34 -0.90 -0.28]\n",
      "[0.88 0.20 0.44]\n",
      "[0.20 -0.28 0.94]\n",
      "[0.34 -0.90 -0.28]\n",
      "[0.93 -0.07 0.37]\n"
     ]
    },
    {
     "name": "stderr",
     "output_type": "stream",
     "text": [
      "  2%|▏         | 80/5000 [00:01<01:21, 60.09it/s]"
     ]
    },
    {
     "name": "stdout",
     "output_type": "stream",
     "text": [
      "[0.94 0.26 0.23]\n",
      "[0.97 0.26 -0.04]\n",
      "[-0.20 -0.25 0.95]\n",
      "[0.07 -0.97 -0.25]\n",
      "[0.91 0.23 0.33]\n",
      "[-0.25 -0.17 0.95]\n",
      "[0.88 0.22 0.42]\n",
      "[0.07 -0.97 -0.24]\n",
      "[0.59 -0.79 -0.18]\n",
      "[0.30 -0.91 -0.28]\n",
      "[0.17 -0.57 0.81]\n",
      "[0.55 -0.78 -0.31]\n",
      "[0.37 0.16 0.91]\n",
      "[0.98 0.16 -0.09]\n"
     ]
    },
    {
     "name": "stderr",
     "output_type": "stream",
     "text": [
      "  2%|▏         | 94/5000 [00:01<01:16, 64.43it/s]"
     ]
    },
    {
     "name": "stdout",
     "output_type": "stream",
     "text": [
      "[-0.23 -0.24 0.94]\n",
      "[0.90 0.23 0.37]\n",
      "[0.45 0.12 0.88]\n",
      "[0.80 0.54 0.27]\n",
      "[-0.36 -0.22 0.91]\n",
      "[0.94 0.30 0.15]\n",
      "[0.35 -0.11 0.93]\n",
      "[0.97 -0.20 0.14]\n",
      "[-0.16 0.04 0.99]\n",
      "[-0.39 -0.16 -0.91]\n",
      "[0.46 -0.16 0.87]\n",
      "[0.57 0.43 -0.70]\n",
      "[-0.26 -0.93 -0.25]\n",
      "[-0.22 -0.05 -0.97]\n"
     ]
    },
    {
     "name": "stderr",
     "output_type": "stream",
     "text": [
      "  2%|▏         | 108/5000 [00:01<01:13, 66.24it/s]"
     ]
    },
    {
     "name": "stdout",
     "output_type": "stream",
     "text": [
      "[-0.13 -0.14 0.98]\n",
      "[-0.16 -0.00 0.99]\n",
      "[-0.04 0.02 -1.00]\n",
      "[0.32 0.17 0.93]\n",
      "[-0.06 -0.17 0.98]\n",
      "[0.34 -0.11 0.93]\n",
      "[0.32 -0.09 0.94]\n",
      "[0.51 0.22 0.83]\n",
      "[-0.13 -0.05 -0.99]\n",
      "[-0.06 -0.01 1.00]\n",
      "[-0.25 -0.10 0.96]\n",
      "[0.26 0.12 0.96]\n",
      "[0.23 0.11 0.97]\n",
      "[-0.04 -0.14 0.99]\n"
     ]
    },
    {
     "name": "stderr",
     "output_type": "stream",
     "text": [
      "  2%|▏         | 122/5000 [00:02<01:12, 66.83it/s]"
     ]
    },
    {
     "name": "stdout",
     "output_type": "stream",
     "text": [
      "[-0.32 0.04 0.95]\n",
      "[0.15 0.06 0.99]\n",
      "[0.08 0.12 0.99]\n",
      "[0.26 0.01 0.97]\n",
      "[0.13 0.04 0.99]\n",
      "[-0.19 0.10 0.98]\n",
      "[0.04 0.01 1.00]\n",
      "[0.18 0.09 0.98]\n",
      "[-0.44 -0.26 0.86]\n",
      "[0.08 -0.00 1.00]\n",
      "[-0.11 -0.01 0.99]\n",
      "[-0.16 -0.05 0.99]\n",
      "[0.11 0.05 0.99]\n",
      "[0.17 0.06 0.98]\n"
     ]
    },
    {
     "name": "stderr",
     "output_type": "stream",
     "text": [
      "  3%|▎         | 136/5000 [00:02<01:15, 64.67it/s]"
     ]
    },
    {
     "name": "stdout",
     "output_type": "stream",
     "text": [
      "[0.24 0.13 0.96]\n",
      "[0.01 0.16 0.99]\n",
      "[-0.02 -0.04 1.00]\n",
      "[-0.30 -0.14 0.95]\n",
      "[-0.23 0.04 0.97]\n",
      "[0.28 0.07 0.96]\n",
      "[-0.09 0.02 1.00]\n",
      "[0.37 -0.09 0.93]\n",
      "[0.14 0.03 0.99]\n",
      "[-0.31 -0.05 0.95]\n",
      "[-0.10 0.05 0.99]\n",
      "[-0.08 -0.02 1.00]\n",
      "[-0.15 0.14 0.98]\n"
     ]
    },
    {
     "name": "stderr",
     "output_type": "stream",
     "text": [
      "  3%|▎         | 149/5000 [00:02<01:30, 53.36it/s]"
     ]
    },
    {
     "name": "stdout",
     "output_type": "stream",
     "text": [
      "[-0.04 0.03 1.00]\n",
      "[0.12 0.10 0.99]\n",
      "[-0.24 -0.21 0.95]\n",
      "[0.03 0.03 1.00]\n",
      "[0.14 0.06 0.99]\n",
      "[-0.03 -0.06 1.00]\n",
      "[0.00 -0.01 1.00]\n",
      "[-0.17 -0.07 0.98]\n",
      "[0.14 0.03 0.99]\n"
     ]
    },
    {
     "name": "stderr",
     "output_type": "stream",
     "text": [
      "\r",
      "  3%|▎         | 155/5000 [00:02<01:38, 49.17it/s]"
     ]
    },
    {
     "name": "stdout",
     "output_type": "stream",
     "text": [
      "[0.22 0.05 0.98]\n",
      "[0.14 -0.01 0.99]\n",
      "[0.11 0.06 0.99]\n",
      "[0.32 0.06 0.95]\n",
      "[0.21 0.08 0.97]\n",
      "[0.02 -0.02 1.00]\n",
      "[-0.01 -0.02 1.00]\n",
      "[0.99 0.13 -0.06]\n"
     ]
    },
    {
     "name": "stderr",
     "output_type": "stream",
     "text": [
      "\r",
      "  3%|▎         | 161/5000 [00:02<01:51, 43.55it/s]"
     ]
    },
    {
     "name": "stdout",
     "output_type": "stream",
     "text": [
      "[-0.02 0.06 1.00]\n",
      "[0.03 0.04 1.00]\n",
      "[-0.23 0.13 0.97]\n",
      "[0.22 -0.13 0.97]\n",
      "[-0.10 -0.03 0.99]\n",
      "[0.17 0.01 0.99]\n",
      "[-0.08 0.00 1.00]\n",
      "[-0.06 0.02 1.00]\n"
     ]
    },
    {
     "name": "stderr",
     "output_type": "stream",
     "text": [
      "  3%|▎         | 171/5000 [00:03<01:53, 42.70it/s]"
     ]
    },
    {
     "name": "stdout",
     "output_type": "stream",
     "text": [
      "[-0.07 -0.07 1.00]\n",
      "[-0.49 0.07 0.87]\n",
      "[-0.28 0.14 0.95]\n",
      "[-0.60 -0.09 0.80]\n",
      "[-0.32 0.10 0.94]\n",
      "[-0.61 0.01 0.79]\n",
      "[-0.46 -0.06 0.88]\n",
      "[-0.54 0.05 0.84]\n",
      "[-0.83 0.03 0.56]\n",
      "[-0.83 0.01 0.56]\n"
     ]
    },
    {
     "name": "stderr",
     "output_type": "stream",
     "text": [
      "  4%|▎         | 181/5000 [00:03<01:46, 45.46it/s]"
     ]
    },
    {
     "name": "stdout",
     "output_type": "stream",
     "text": [
      "[-0.36 0.24 0.90]\n",
      "[-0.60 0.44 0.67]\n",
      "[0.23 0.54 0.81]\n",
      "[0.04 0.48 0.88]\n",
      "[0.38 0.53 0.76]\n",
      "[0.41 -0.25 -0.88]\n",
      "[-0.87 0.19 0.45]\n",
      "[-0.90 0.12 0.42]\n",
      "[-0.98 0.14 0.11]\n"
     ]
    },
    {
     "name": "stderr",
     "output_type": "stream",
     "text": [
      "  4%|▍         | 191/5000 [00:03<01:52, 42.69it/s]"
     ]
    },
    {
     "name": "stdout",
     "output_type": "stream",
     "text": [
      "[-0.24 0.02 0.97]\n",
      "[0.35 0.41 0.84]\n",
      "[-0.85 0.11 0.51]\n",
      "[-0.08 0.23 0.97]\n",
      "[-0.96 0.12 0.24]\n",
      "[-0.82 0.02 0.57]\n",
      "[0.08 0.38 0.92]\n",
      "[0.15 0.43 0.89]\n",
      "[-0.95 0.11 0.29]\n"
     ]
    },
    {
     "name": "stderr",
     "output_type": "stream",
     "text": [
      "  4%|▍         | 201/5000 [00:03<01:55, 41.46it/s]"
     ]
    },
    {
     "name": "stdout",
     "output_type": "stream",
     "text": [
      "[0.07 0.33 0.94]\n",
      "[0.59 -0.08 0.80]\n",
      "[0.01 0.45 0.89]\n",
      "[-0.03 0.43 0.90]\n",
      "[0.52 0.52 0.68]\n",
      "[0.65 0.50 0.57]\n",
      "[-0.13 0.01 0.99]\n",
      "[-0.16 -0.05 0.99]\n"
     ]
    },
    {
     "name": "stderr",
     "output_type": "stream",
     "text": [
      "\r",
      "  4%|▍         | 206/5000 [00:03<02:04, 38.62it/s]"
     ]
    },
    {
     "name": "stdout",
     "output_type": "stream",
     "text": [
      "[-0.17 0.09 0.98]\n",
      "[-0.00 0.47 0.88]\n",
      "[-0.99 0.04 -0.09]\n",
      "[-0.97 -0.01 0.22]\n",
      "[-0.98 0.05 -0.21]\n",
      "[-0.98 0.03 -0.19]\n",
      "[-0.95 0.07 -0.30]\n",
      "[-0.99 -0.02 0.16]\n"
     ]
    },
    {
     "name": "stderr",
     "output_type": "stream",
     "text": [
      "  4%|▍         | 214/5000 [00:04<02:05, 38.01it/s]"
     ]
    },
    {
     "name": "stdout",
     "output_type": "stream",
     "text": [
      "[-1.00 -0.02 0.04]\n",
      "[-0.92 -0.07 0.38]\n",
      "[-0.80 0.01 0.60]\n",
      "[-0.48 0.09 0.87]\n",
      "[-0.73 -0.03 0.69]\n",
      "[-0.44 0.02 0.90]\n",
      "[-0.36 0.04 0.93]\n",
      "[-0.28 0.10 0.96]\n"
     ]
    },
    {
     "name": "stderr",
     "output_type": "stream",
     "text": [
      "  4%|▍         | 223/5000 [00:04<02:22, 33.51it/s]"
     ]
    },
    {
     "name": "stdout",
     "output_type": "stream",
     "text": [
      "[-0.14 -0.02 0.99]\n",
      "[-0.17 0.04 0.98]\n",
      "[-0.07 0.00 1.00]\n",
      "[-0.17 0.11 0.98]\n",
      "[-0.07 -0.02 1.00]\n",
      "[-0.02 0.01 1.00]\n"
     ]
    },
    {
     "name": "stderr",
     "output_type": "stream",
     "text": [
      "  5%|▍         | 235/5000 [00:04<01:48, 43.82it/s]"
     ]
    },
    {
     "name": "stdout",
     "output_type": "stream",
     "text": [
      "[-0.14 -0.02 0.99]\n",
      "[0.13 0.03 0.99]\n",
      "[-0.02 -0.03 1.00]\n",
      "[0.10 -0.00 1.00]\n",
      "[0.10 0.03 0.99]\n",
      "[0.36 0.06 0.93]\n",
      "[0.07 -0.08 0.99]\n",
      "[0.09 -0.01 1.00]\n",
      "[0.17 0.02 0.99]\n",
      "[0.10 0.01 0.99]\n",
      "[0.07 -0.03 1.00]\n",
      "[0.31 -0.06 0.95]\n"
     ]
    },
    {
     "name": "stderr",
     "output_type": "stream",
     "text": [
      "  5%|▍         | 249/5000 [00:04<01:28, 53.77it/s]"
     ]
    },
    {
     "name": "stdout",
     "output_type": "stream",
     "text": [
      "[-0.03 -0.09 1.00]\n",
      "[0.12 0.03 0.99]\n",
      "[-0.05 0.07 1.00]\n",
      "[0.07 -0.14 0.99]\n",
      "[0.16 0.04 0.99]\n",
      "[0.59 0.04 0.81]\n",
      "[0.82 -0.02 0.58]\n",
      "[0.02 0.05 1.00]\n",
      "[0.17 -0.03 0.99]\n",
      "[0.63 -0.09 0.77]\n",
      "[-1.00 -0.00 0.05]\n",
      "[-0.10 0.02 0.99]\n",
      "[0.04 0.01 1.00]\n",
      "[0.08 0.05 1.00]\n"
     ]
    },
    {
     "name": "stderr",
     "output_type": "stream",
     "text": [
      "\r",
      "  5%|▌         | 256/5000 [00:05<01:23, 56.77it/s]"
     ]
    },
    {
     "name": "stdout",
     "output_type": "stream",
     "text": [
      "[0.60 0.04 0.80]\n",
      "[0.06 0.01 1.00]\n",
      "[0.28 -0.01 0.96]\n",
      "[0.16 -0.02 0.99]\n",
      "[0.06 0.01 1.00]\n",
      "[-0.03 0.05 1.00]\n",
      "[-0.07 -0.02 1.00]\n",
      "[0.28 -0.02 0.96]\n",
      "[0.06 0.06 1.00]\n",
      "[0.07 0.04 1.00]\n",
      "[-0.02 -0.02 1.00]\n",
      "[-0.06 0.05 1.00]\n",
      "[0.05 -0.01 1.00]\n",
      "[0.09 0.03 1.00]\n"
     ]
    },
    {
     "name": "stderr",
     "output_type": "stream",
     "text": [
      "  5%|▌         | 272/5000 [00:05<01:15, 62.80it/s]"
     ]
    },
    {
     "name": "stdout",
     "output_type": "stream",
     "text": [
      "[0.18 -0.04 0.98]\n",
      "[-0.02 -0.03 1.00]\n",
      "[0.22 0.03 0.97]\n",
      "[0.07 0.07 1.00]\n",
      "[-0.00 0.03 1.00]\n",
      "[-0.05 -0.00 1.00]\n",
      "[0.02 -0.02 1.00]\n",
      "[-0.02 0.02 1.00]\n",
      "[-0.20 -0.02 0.98]\n",
      "[0.17 -0.11 0.98]\n",
      "[0.00 0.03 1.00]\n",
      "[0.20 0.10 0.97]\n",
      "[0.03 0.01 1.00]\n",
      "[-0.02 0.05 1.00]\n"
     ]
    },
    {
     "name": "stderr",
     "output_type": "stream",
     "text": [
      "  6%|▌         | 286/5000 [00:05<01:23, 56.54it/s]"
     ]
    },
    {
     "name": "stdout",
     "output_type": "stream",
     "text": [
      "[0.05 -0.04 1.00]\n",
      "[-0.60 -0.26 0.76]\n",
      "[-0.45 -0.02 0.90]\n",
      "[-0.05 0.06 1.00]\n",
      "[-0.00 0.07 1.00]\n",
      "[0.05 0.12 0.99]\n",
      "[-0.02 -0.01 1.00]\n",
      "[0.04 0.01 1.00]\n",
      "[-0.03 0.07 1.00]\n",
      "[0.09 -0.11 0.99]\n"
     ]
    },
    {
     "name": "stderr",
     "output_type": "stream",
     "text": [
      "\r",
      "  6%|▌         | 292/5000 [00:05<01:27, 53.64it/s]"
     ]
    },
    {
     "name": "stdout",
     "output_type": "stream",
     "text": [
      "[0.09 -0.03 1.00]\n",
      "[-0.08 -0.02 1.00]\n",
      "[0.04 -0.07 1.00]\n",
      "[0.10 0.03 0.99]\n",
      "[-0.42 0.03 0.91]\n",
      "[0.08 -0.03 1.00]\n",
      "[0.02 0.00 1.00]\n",
      "[0.01 0.02 1.00]\n",
      "[0.10 0.03 0.99]\n"
     ]
    },
    {
     "name": "stderr",
     "output_type": "stream",
     "text": [
      "  6%|▌         | 304/5000 [00:05<01:41, 46.45it/s]"
     ]
    },
    {
     "name": "stdout",
     "output_type": "stream",
     "text": [
      "[0.07 -0.02 1.00]\n",
      "[0.00 -0.03 1.00]\n",
      "[0.09 0.05 0.99]\n",
      "[0.18 0.07 0.98]\n",
      "[-0.05 -0.05 1.00]\n",
      "[-0.08 -0.17 0.98]\n",
      "[-0.03 0.02 1.00]\n",
      "[-0.00 0.04 1.00]\n",
      "[-0.05 0.07 1.00]\n"
     ]
    },
    {
     "name": "stderr",
     "output_type": "stream",
     "text": [
      "  6%|▋         | 314/5000 [00:06<01:43, 45.10it/s]"
     ]
    },
    {
     "name": "stdout",
     "output_type": "stream",
     "text": [
      "[0.23 -0.05 0.97]\n",
      "[0.05 -0.07 1.00]\n",
      "[0.01 -0.01 1.00]\n",
      "[-0.06 -0.06 1.00]\n",
      "[0.02 -0.02 1.00]\n",
      "[0.04 -0.00 1.00]\n",
      "[0.06 -0.05 1.00]\n",
      "[-0.10 0.02 0.99]\n",
      "[-0.04 0.06 1.00]\n"
     ]
    },
    {
     "name": "stderr",
     "output_type": "stream",
     "text": [
      "  7%|▋         | 328/5000 [00:06<01:27, 53.60it/s]"
     ]
    },
    {
     "name": "stdout",
     "output_type": "stream",
     "text": [
      "[-0.07 -0.05 1.00]\n",
      "[-0.02 -0.02 1.00]\n",
      "[0.02 0.00 1.00]\n",
      "[-0.00 -0.00 1.00]\n",
      "[0.07 0.00 1.00]\n",
      "[0.10 -0.04 0.99]\n",
      "[-0.02 0.01 1.00]\n",
      "[0.05 0.01 1.00]\n",
      "[-0.01 -0.04 1.00]\n",
      "[0.04 -0.07 1.00]\n",
      "[-0.36 -0.15 0.92]\n",
      "[-0.01 0.06 1.00]\n",
      "[0.04 0.01 1.00]\n",
      "[0.30 0.05 0.95]\n"
     ]
    },
    {
     "name": "stderr",
     "output_type": "stream",
     "text": [
      "\r",
      "  7%|▋         | 336/5000 [00:06<01:18, 59.61it/s]"
     ]
    },
    {
     "name": "stdout",
     "output_type": "stream",
     "text": [
      "[0.02 -0.08 1.00]\n",
      "[-0.03 -0.04 1.00]\n",
      "[0.10 -0.02 0.99]\n",
      "[0.18 0.08 0.98]\n",
      "[0.08 0.15 0.99]\n",
      "[-0.10 0.06 0.99]\n",
      "[0.06 -0.04 1.00]\n",
      "[0.15 -0.00 0.99]\n",
      "[0.08 0.04 1.00]\n",
      "[0.06 -0.01 1.00]\n",
      "[0.19 -0.13 0.97]\n",
      "[0.12 -0.01 0.99]\n"
     ]
    },
    {
     "name": "stderr",
     "output_type": "stream",
     "text": [
      "\r",
      "  7%|▋         | 343/5000 [00:06<01:39, 46.74it/s]"
     ]
    },
    {
     "name": "stdout",
     "output_type": "stream",
     "text": [
      "[-0.05 0.05 1.00]\n",
      "[0.03 -0.02 1.00]\n",
      "[0.19 0.02 0.98]\n",
      "[0.06 0.09 0.99]\n",
      "[0.07 -0.01 1.00]\n",
      "[0.07 0.06 1.00]\n",
      "[0.01 -0.00 1.00]\n"
     ]
    },
    {
     "name": "stderr",
     "output_type": "stream",
     "text": [
      "  7%|▋         | 354/5000 [00:07<01:53, 41.10it/s]"
     ]
    },
    {
     "name": "stdout",
     "output_type": "stream",
     "text": [
      "[0.15 -0.08 0.99]\n",
      "[0.19 0.05 0.98]\n",
      "[0.05 0.04 1.00]\n",
      "[-0.02 0.01 1.00]\n",
      "[0.15 0.07 0.99]\n",
      "[0.13 0.00 0.99]\n",
      "[0.10 -0.00 0.99]\n",
      "[0.08 -0.10 0.99]\n"
     ]
    },
    {
     "name": "stderr",
     "output_type": "stream",
     "text": [
      "  7%|▋         | 369/5000 [00:07<01:26, 53.47it/s]"
     ]
    },
    {
     "name": "stdout",
     "output_type": "stream",
     "text": [
      "[0.14 -0.04 0.99]\n",
      "[0.19 0.12 0.97]\n",
      "[0.16 0.01 0.99]\n",
      "[0.02 0.01 1.00]\n",
      "[0.05 -0.12 0.99]\n",
      "[-0.03 -0.03 1.00]\n",
      "[0.30 0.06 0.95]\n",
      "[0.33 -0.27 0.91]\n",
      "[-0.01 0.04 1.00]\n",
      "[0.09 -0.05 0.99]\n",
      "[-0.09 -0.04 1.00]\n",
      "[0.02 -0.02 1.00]\n",
      "[0.16 0.00 0.99]\n",
      "[0.05 0.03 1.00]\n",
      "[0.00 -0.00 1.00]\n"
     ]
    },
    {
     "name": "stderr",
     "output_type": "stream",
     "text": [
      "  8%|▊         | 384/5000 [00:07<01:15, 61.46it/s]"
     ]
    },
    {
     "name": "stdout",
     "output_type": "stream",
     "text": [
      "[0.15 0.01 0.99]\n",
      "[-0.01 0.03 1.00]\n",
      "[-0.02 0.07 1.00]\n",
      "[0.07 -0.03 1.00]\n",
      "[0.05 -0.12 0.99]\n",
      "[0.06 -0.07 1.00]\n",
      "[0.13 -0.03 0.99]\n",
      "[-0.02 0.02 1.00]\n",
      "[0.02 0.02 1.00]\n",
      "[0.05 -0.02 1.00]\n",
      "[0.12 0.03 0.99]\n",
      "[0.11 -0.01 0.99]\n",
      "[0.15 -0.04 0.99]\n",
      "[0.16 0.02 0.99]\n",
      "[0.02 0.03 1.00]\n"
     ]
    },
    {
     "name": "stderr",
     "output_type": "stream",
     "text": [
      "\r",
      "  8%|▊         | 391/5000 [00:07<01:15, 60.73it/s]"
     ]
    },
    {
     "name": "stdout",
     "output_type": "stream",
     "text": [
      "[0.07 -0.00 1.00]\n",
      "[0.06 -0.01 1.00]\n",
      "[0.04 -0.02 1.00]\n",
      "[-0.00 0.02 1.00]\n",
      "[0.16 -0.03 0.99]\n",
      "[0.22 -0.13 0.97]\n",
      "[0.06 0.03 1.00]\n",
      "[0.08 -0.00 1.00]\n",
      "[0.05 0.07 1.00]\n",
      "[0.28 -0.01 0.96]\n"
     ]
    },
    {
     "name": "stderr",
     "output_type": "stream",
     "text": [
      "  8%|▊         | 404/5000 [00:07<01:21, 56.06it/s]"
     ]
    },
    {
     "name": "stdout",
     "output_type": "stream",
     "text": [
      "[-0.06 -0.01 1.00]\n",
      "[0.07 -0.04 1.00]\n",
      "[0.11 -0.02 0.99]\n",
      "[0.23 -0.09 0.97]\n",
      "[0.05 -0.07 1.00]\n",
      "[0.11 -0.03 0.99]\n",
      "[-0.12 -0.01 0.99]\n",
      "[0.08 0.00 1.00]\n",
      "[-0.15 -0.06 0.99]\n",
      "[0.02 0.03 1.00]\n",
      "[0.06 -0.04 1.00]\n",
      "[-0.14 0.06 0.99]\n",
      "[-0.02 0.02 1.00]\n"
     ]
    },
    {
     "name": "stderr",
     "output_type": "stream",
     "text": [
      "  8%|▊         | 420/5000 [00:08<01:07, 67.65it/s]"
     ]
    },
    {
     "name": "stdout",
     "output_type": "stream",
     "text": [
      "[0.10 0.13 0.99]\n",
      "[0.03 0.02 1.00]\n",
      "[0.07 0.03 1.00]\n",
      "[0.07 -0.01 1.00]\n",
      "[0.08 0.03 1.00]\n",
      "[0.08 0.01 1.00]\n",
      "[0.14 -0.09 0.99]\n",
      "[0.19 -0.12 0.97]\n",
      "[0.04 0.06 1.00]\n",
      "[-0.01 0.04 1.00]\n",
      "[0.07 -0.08 0.99]\n",
      "[0.08 -0.01 1.00]\n",
      "[0.20 -0.03 0.98]\n",
      "[-0.01 -0.03 1.00]\n",
      "[0.07 -0.04 1.00]\n",
      "[0.02 0.00 1.00]\n",
      "[-0.01 0.07 1.00]\n",
      "[-0.23 0.05 0.97]\n",
      "[0.02 0.12 0.99]\n"
     ]
    },
    {
     "name": "stderr",
     "output_type": "stream",
     "text": [
      "\r",
      "  9%|▊         | 430/5000 [00:08<01:01, 74.85it/s]"
     ]
    },
    {
     "name": "stdout",
     "output_type": "stream",
     "text": [
      "[0.19 -0.06 0.98]\n",
      "[0.33 0.01 0.94]\n",
      "[0.17 0.01 0.98]\n",
      "[0.04 -0.05 1.00]\n",
      "[0.02 0.04 1.00]\n",
      "[0.01 0.10 0.99]\n",
      "[-0.09 -0.07 0.99]"
     ]
    },
    {
     "name": "stderr",
     "output_type": "stream",
     "text": [
      "  9%|▉         | 445/5000 [00:08<01:21, 55.89it/s]"
     ]
    },
    {
     "name": "stdout",
     "output_type": "stream",
     "text": [
      "\n",
      "[-0.15 -0.05 0.99]\n",
      "[0.01 0.01 1.00]\n",
      "[-0.09 0.09 0.99]\n",
      "[0.18 0.01 0.98]\n",
      "[0.21 0.02 0.98]\n",
      "[-0.02 -0.24 0.97]\n",
      "[-0.23 -0.28 0.93]\n",
      "[0.61 0.06 0.79]\n",
      "[-0.12 0.30 0.94]\n",
      "[0.46 0.02 -0.89]\n",
      "[-0.51 -0.83 0.22]\n",
      "[-0.25 0.03 0.97]\n"
     ]
    },
    {
     "name": "stderr",
     "output_type": "stream",
     "text": [
      "  9%|▉         | 460/5000 [00:08<01:12, 62.52it/s]"
     ]
    },
    {
     "name": "stdout",
     "output_type": "stream",
     "text": [
      "[-0.55 -0.17 0.82]\n",
      "[0.69 0.58 -0.44]\n",
      "[0.49 -0.52 -0.70]\n",
      "[0.79 0.49 -0.37]\n",
      "[-0.08 -0.28 0.96]\n",
      "[-0.14 -0.09 0.99]\n",
      "[-0.64 -0.07 0.76]\n",
      "[-0.59 -0.22 0.78]\n",
      "[0.17 0.57 0.80]\n",
      "[-0.42 -0.67 -0.61]\n",
      "[0.67 0.22 0.71]\n",
      "[0.01 0.33 0.94]\n",
      "[0.87 0.32 0.38]\n",
      "[0.60 -0.57 0.56]\n",
      "[0.32 0.49 0.81]\n"
     ]
    },
    {
     "name": "stderr",
     "output_type": "stream",
     "text": [
      " 10%|▉         | 478/5000 [00:08<01:00, 75.07it/s]"
     ]
    },
    {
     "name": "stdout",
     "output_type": "stream",
     "text": [
      "[0.21 0.63 0.75]\n",
      "[0.69 0.59 0.41]\n",
      "[0.11 -0.99 0.04]\n",
      "[0.51 -0.67 -0.54]\n",
      "[0.53 -0.50 -0.68]\n",
      "[0.93 -0.13 -0.35]\n",
      "[0.98 -0.21 0.01]\n",
      "[0.65 0.26 0.71]\n",
      "[-0.53 -0.57 -0.63]\n",
      "[0.09 -0.92 0.38]\n",
      "[0.17 0.42 0.89]\n",
      "[0.57 -0.52 0.64]\n",
      "[0.47 -0.88 -0.03]\n",
      "[-0.66 -0.72 -0.19]\n",
      "[-0.46 -0.65 -0.60]\n",
      "[0.28 -0.86 -0.43]\n",
      "[0.58 -0.57 0.58]\n",
      "[0.86 0.39 0.34]\n",
      "[-0.00 0.64 0.77]\n"
     ]
    },
    {
     "name": "stderr",
     "output_type": "stream",
     "text": [
      " 10%|▉         | 498/5000 [00:09<00:54, 83.28it/s]"
     ]
    },
    {
     "name": "stdout",
     "output_type": "stream",
     "text": [
      "[0.93 -0.32 -0.19]\n",
      "[0.81 -0.24 -0.54]\n",
      "[-0.41 -0.56 0.72]\n",
      "[0.55 0.14 0.82]\n",
      "[0.40 -0.66 -0.64]\n",
      "[0.01 -0.65 0.76]\n",
      "[-0.44 0.08 0.89]\n",
      "[0.73 -0.30 -0.61]\n",
      "[0.91 0.13 -0.40]\n",
      "[0.88 -0.32 -0.34]\n",
      "[0.93 -0.34 -0.17]\n",
      "[0.95 -0.29 -0.13]\n",
      "[0.81 -0.32 -0.49]\n",
      "[0.79 -0.28 -0.55]\n",
      "[0.73 -0.32 -0.60]\n",
      "[0.74 -0.31 -0.59]\n",
      "[0.72 -0.66 -0.23]\n",
      "[0.57 -0.65 -0.50]\n"
     ]
    },
    {
     "name": "stderr",
     "output_type": "stream",
     "text": [
      " 10%|█         | 516/5000 [00:09<00:52, 84.99it/s]"
     ]
    },
    {
     "name": "stdout",
     "output_type": "stream",
     "text": [
      "[-0.26 -0.45 0.85]\n",
      "[0.78 -0.29 -0.56]\n",
      "[0.60 -0.47 0.65]\n",
      "[0.74 -0.31 -0.60]\n",
      "[0.80 -0.10 0.59]\n",
      "[0.62 0.23 0.75]\n",
      "[0.80 -0.23 -0.56]\n",
      "[0.86 -0.21 -0.46]\n",
      "[0.68 -0.72 0.17]\n",
      "[0.24 0.32 0.91]\n",
      "[0.70 -0.71 0.08]\n",
      "[0.79 -0.35 -0.50]\n",
      "[0.59 -0.56 0.58]\n",
      "[-0.58 0.16 0.80]\n",
      "[0.77 -0.56 -0.32]\n",
      "[0.76 -0.05 0.64]\n",
      "[0.88 0.02 0.48]\n",
      "[0.74 -0.32 -0.59]\n"
     ]
    },
    {
     "name": "stderr",
     "output_type": "stream",
     "text": [
      "\r",
      " 10%|█         | 525/5000 [00:09<00:52, 85.04it/s]"
     ]
    },
    {
     "name": "stdout",
     "output_type": "stream",
     "text": [
      "[0.75 -0.07 0.66]\n",
      "[0.94 -0.31 -0.13]\n",
      "[0.84 -0.35 -0.42]\n",
      "[0.76 -0.26 -0.60]\n",
      "[0.95 -0.32 -0.02]\n",
      "[-0.35 0.26 0.90]\n",
      "[-0.75 0.30 0.59]\n",
      "[0.77 -0.33 -0.54]\n",
      "[0.98 -0.18 0.03]\n",
      "[0.95 0.13 0.27]\n",
      "[0.84 0.25 -0.48]\n",
      "[0.81 -0.35 -0.47]\n",
      "[0.79 -0.62 0.02]\n",
      "[0.81 -0.14 0.57]\n"
     ]
    },
    {
     "name": "stderr",
     "output_type": "stream",
     "text": [
      "\r",
      " 11%|█         | 534/5000 [00:09<01:05, 68.33it/s]"
     ]
    },
    {
     "name": "stdout",
     "output_type": "stream",
     "text": [
      "[-0.50 -0.75 0.44]\n",
      "[0.77 -0.26 -0.58]\n",
      "[0.73 -0.30 -0.61]\n",
      "[0.80 -0.21 -0.56]\n",
      "[0.93 -0.27 -0.25]\n",
      "[-0.50 -0.82 0.28]\n",
      "[0.70 0.24 0.67]\n"
     ]
    },
    {
     "name": "stderr",
     "output_type": "stream",
     "text": [
      "\r",
      " 11%|█         | 542/5000 [00:09<01:23, 53.24it/s]"
     ]
    },
    {
     "name": "stdout",
     "output_type": "stream",
     "text": [
      "[-0.28 0.34 0.90]\n",
      "[0.75 -0.37 -0.55]\n",
      "[-0.50 -0.03 0.86]\n",
      "[0.92 0.11 0.38]\n",
      "[0.93 -0.33 -0.15]\n",
      "[0.76 -0.36 -0.54]\n",
      "[0.96 -0.29 0.02]\n",
      "[0.99 -0.17 -0.01]\n"
     ]
    },
    {
     "name": "stderr",
     "output_type": "stream",
     "text": [
      "\r",
      " 11%|█         | 549/5000 [00:10<01:35, 46.61it/s]"
     ]
    },
    {
     "name": "stdout",
     "output_type": "stream",
     "text": [
      "[-0.45 -0.08 0.89]\n",
      "[0.81 0.53 0.25]\n",
      "[0.67 0.19 0.72]\n",
      "[0.92 -0.32 -0.23]\n",
      "[-0.26 0.01 0.97]\n",
      "[0.70 -0.47 -0.54]\n",
      "[-0.60 0.17 0.78]\n"
     ]
    },
    {
     "name": "stderr",
     "output_type": "stream",
     "text": [
      "\r",
      " 11%|█         | 555/5000 [00:10<01:44, 42.63it/s]"
     ]
    },
    {
     "name": "stdout",
     "output_type": "stream",
     "text": [
      "[0.54 0.49 0.69]\n",
      "[0.44 -0.70 0.56]\n",
      "[0.79 -0.29 -0.54]\n",
      "[0.83 -0.23 -0.51]\n",
      "[0.85 -0.02 -0.52]\n",
      "[0.89 -0.43 -0.16]\n",
      "[-0.54 -0.26 0.80]\n"
     ]
    },
    {
     "name": "stderr",
     "output_type": "stream",
     "text": [
      " 11%|█▏        | 565/5000 [00:10<01:55, 38.48it/s]"
     ]
    },
    {
     "name": "stdout",
     "output_type": "stream",
     "text": [
      "[0.79 -0.26 -0.55]\n",
      "[0.80 -0.27 -0.54]\n",
      "[0.39 -0.36 0.85]\n",
      "[0.80 -0.15 0.58]\n",
      "[-0.03 0.03 1.00]\n",
      "[0.82 -0.22 -0.53]\n",
      "[0.94 -0.31 -0.12]\n"
     ]
    },
    {
     "name": "stderr",
     "output_type": "stream",
     "text": [
      "\r",
      " 11%|█▏        | 570/5000 [00:10<01:59, 37.05it/s]"
     ]
    },
    {
     "name": "stdout",
     "output_type": "stream",
     "text": [
      "[-0.36 -0.70 -0.62]\n",
      "[0.97 -0.24 -0.01]\n",
      "[0.02 -0.76 -0.64]\n",
      "[0.91 -0.35 -0.23]\n",
      "[0.35 -0.64 0.69]\n",
      "[0.94 -0.16 0.29]\n",
      "[0.72 -0.41 -0.56]\n"
     ]
    },
    {
     "name": "stderr",
     "output_type": "stream",
     "text": [
      " 12%|█▏        | 578/5000 [00:10<02:05, 35.25it/s]"
     ]
    },
    {
     "name": "stdout",
     "output_type": "stream",
     "text": [
      "[0.74 -0.57 -0.36]\n",
      "[-0.41 -0.16 0.90]\n",
      "[0.94 -0.22 -0.25]\n",
      "[0.77 -0.33 -0.54]\n",
      "[0.84 0.16 0.52]\n",
      "[0.79 -0.33 -0.51]\n",
      "[-0.21 0.46 0.86]\n"
     ]
    },
    {
     "name": "stderr",
     "output_type": "stream",
     "text": [
      " 12%|█▏        | 586/5000 [00:11<02:08, 34.31it/s]"
     ]
    },
    {
     "name": "stdout",
     "output_type": "stream",
     "text": [
      "[0.86 0.21 0.46]\n",
      "[0.75 -0.31 -0.59]\n",
      "[0.60 0.34 0.73]\n",
      "[-0.33 -0.55 0.76]\n",
      "[0.76 0.09 0.64]\n",
      "[0.86 -0.48 -0.17]\n",
      "[0.69 -0.68 -0.25]\n"
     ]
    },
    {
     "name": "stderr",
     "output_type": "stream",
     "text": [
      " 12%|█▏        | 594/5000 [00:11<02:10, 33.74it/s]"
     ]
    },
    {
     "name": "stdout",
     "output_type": "stream",
     "text": [
      "[0.84 -0.13 -0.53]\n",
      "[-0.92 0.36 0.17]\n",
      "[0.75 -0.62 0.22]\n",
      "[0.78 -0.41 -0.47]\n",
      "[-0.45 -0.78 0.44]\n",
      "[0.10 -0.74 0.67]\n",
      "[0.77 -0.38 -0.51]\n",
      "[0.75 -0.33 -0.57]"
     ]
    },
    {
     "name": "stderr",
     "output_type": "stream",
     "text": [
      "\r",
      " 12%|█▏        | 598/5000 [00:11<02:09, 33.90it/s]"
     ]
    },
    {
     "name": "stdout",
     "output_type": "stream",
     "text": [
      "\n",
      "[0.63 -0.49 -0.60]\n",
      "[0.86 0.50 -0.03]\n",
      "[-0.33 0.02 0.94]\n",
      "[0.93 -0.33 -0.16]\n",
      "[-0.77 0.29 0.58]\n",
      "[-0.30 0.04 0.95]\n"
     ]
    },
    {
     "name": "stderr",
     "output_type": "stream",
     "text": [
      " 12%|█▏        | 606/5000 [00:11<02:10, 33.62it/s]"
     ]
    },
    {
     "name": "stdout",
     "output_type": "stream",
     "text": [
      "[-0.74 0.38 0.56]\n",
      "[0.81 -0.30 -0.51]\n",
      "[0.88 -0.10 -0.47]\n",
      "[-0.47 0.06 0.88]\n",
      "[0.80 -0.26 -0.54]\n",
      "[0.92 -0.33 -0.20]\n",
      "[0.86 -0.22 -0.46]\n"
     ]
    },
    {
     "name": "stderr",
     "output_type": "stream",
     "text": [
      " 12%|█▏        | 614/5000 [00:12<02:12, 33.16it/s]"
     ]
    },
    {
     "name": "stdout",
     "output_type": "stream",
     "text": [
      "[0.88 -0.35 0.33]\n",
      "[0.65 -0.66 -0.38]\n",
      "[0.85 -0.52 -0.01]\n",
      "[0.79 -0.38 -0.49]\n",
      "[0.78 -0.32 -0.54]\n",
      "[0.87 -0.50 -0.05]\n",
      "[-0.36 -0.91 0.21]\n"
     ]
    },
    {
     "name": "stderr",
     "output_type": "stream",
     "text": [
      " 12%|█▏        | 622/5000 [00:12<02:13, 32.69it/s]"
     ]
    },
    {
     "name": "stdout",
     "output_type": "stream",
     "text": [
      "[-0.49 0.09 0.87]\n",
      "[0.98 -0.18 0.03]\n",
      "[0.64 0.34 0.69]\n",
      "[0.94 -0.26 -0.21]\n",
      "[0.72 0.09 0.69]\n",
      "[0.92 -0.31 -0.23]\n",
      "[0.93 0.36 0.04]\n"
     ]
    },
    {
     "name": "stderr",
     "output_type": "stream",
     "text": [
      "\r",
      " 13%|█▎        | 626/5000 [00:12<02:12, 32.89it/s]"
     ]
    },
    {
     "name": "stdout",
     "output_type": "stream",
     "text": [
      "[0.79 -0.40 -0.47]\n",
      "[0.87 0.47 0.15]\n",
      "[-0.20 -0.77 0.61]\n",
      "[0.94 -0.33 -0.11]\n",
      "[0.94 -0.21 0.28]\n",
      "[0.77 -0.37 -0.52]\n",
      "[0.85 -0.16 -0.50]\n"
     ]
    },
    {
     "name": "stderr",
     "output_type": "stream",
     "text": [
      " 13%|█▎        | 634/5000 [00:12<02:10, 33.36it/s]"
     ]
    },
    {
     "name": "stdout",
     "output_type": "stream",
     "text": [
      "[0.95 -0.28 -0.14]\n",
      "[0.72 -0.46 -0.52]\n",
      "[-0.78 0.29 0.56]\n",
      "[0.84 -0.28 -0.46]\n",
      "[-0.53 -0.56 -0.64]\n",
      "[0.81 -0.37 0.45]\n",
      "[0.75 -0.33 -0.58]\n"
     ]
    },
    {
     "name": "stderr",
     "output_type": "stream",
     "text": [
      " 13%|█▎        | 642/5000 [00:12<02:12, 32.82it/s]"
     ]
    },
    {
     "name": "stdout",
     "output_type": "stream",
     "text": [
      "[0.71 -0.43 -0.56]\n",
      "[0.98 0.13 0.14]\n",
      "[0.78 -0.32 -0.54]\n",
      "[0.15 -0.93 0.32]\n",
      "[0.97 -0.25 0.01]\n",
      "[0.89 -0.17 0.42]\n",
      "[0.55 0.46 0.70]\n"
     ]
    },
    {
     "name": "stderr",
     "output_type": "stream",
     "text": [
      " 13%|█▎        | 650/5000 [00:13<02:10, 33.36it/s]"
     ]
    },
    {
     "name": "stdout",
     "output_type": "stream",
     "text": [
      "[0.59 -0.69 -0.41]\n",
      "[0.78 -0.05 0.63]\n",
      "[-0.01 0.07 1.00]\n",
      "[0.69 0.64 -0.35]\n",
      "[-0.49 0.22 0.84]\n",
      "[0.69 0.19 0.70]\n",
      "[0.25 0.66 0.71]\n"
     ]
    },
    {
     "name": "stderr",
     "output_type": "stream",
     "text": [
      "\r",
      " 13%|█▎        | 654/5000 [00:13<02:09, 33.56it/s]"
     ]
    },
    {
     "name": "stdout",
     "output_type": "stream",
     "text": [
      "[0.33 -0.75 0.58]\n",
      "[0.82 -0.54 0.17]\n",
      "[0.94 -0.28 -0.22]\n",
      "[0.54 0.48 0.69]\n",
      "[0.76 -0.37 -0.53]\n",
      "[-0.72 0.30 0.62]\n",
      "[-0.70 -0.71 0.11]\n"
     ]
    },
    {
     "name": "stderr",
     "output_type": "stream",
     "text": [
      " 13%|█▎        | 662/5000 [00:13<02:09, 33.48it/s]"
     ]
    },
    {
     "name": "stdout",
     "output_type": "stream",
     "text": [
      "[0.99 0.05 0.16]\n",
      "[0.74 -0.12 0.66]\n",
      "[0.83 -0.44 0.35]\n",
      "[0.40 0.51 0.76]\n",
      "[0.90 0.32 -0.31]\n",
      "[0.63 0.26 0.73]\n",
      "[0.94 -0.07 0.34]\n"
     ]
    },
    {
     "name": "stderr",
     "output_type": "stream",
     "text": [
      " 13%|█▎        | 670/5000 [00:13<02:09, 33.51it/s]"
     ]
    },
    {
     "name": "stdout",
     "output_type": "stream",
     "text": [
      "[0.94 -0.29 -0.16]\n",
      "[-0.74 -0.05 -0.67]\n",
      "[0.48 -0.60 0.64]\n",
      "[0.94 -0.08 0.32]\n",
      "[-0.31 0.11 0.94]\n",
      "[0.07 -0.79 -0.61]\n",
      "[0.87 -0.48 -0.08]\n"
     ]
    },
    {
     "name": "stderr",
     "output_type": "stream",
     "text": [
      " 14%|█▎        | 678/5000 [00:13<02:11, 32.94it/s]"
     ]
    },
    {
     "name": "stdout",
     "output_type": "stream",
     "text": [
      "[0.66 0.57 -0.48]\n",
      "[0.79 -0.43 -0.43]\n",
      "[0.93 -0.37 -0.05]\n",
      "[0.45 0.52 0.72]\n",
      "[0.85 -0.15 -0.50]\n",
      "[-0.50 0.09 0.86]\n",
      "[0.99 0.01 -0.12]\n"
     ]
    },
    {
     "name": "stderr",
     "output_type": "stream",
     "text": [
      "\r",
      " 14%|█▎        | 682/5000 [00:14<02:10, 33.19it/s]"
     ]
    },
    {
     "name": "stdout",
     "output_type": "stream",
     "text": [
      "[0.86 -0.33 -0.38]\n",
      "[-0.42 0.25 0.87]\n",
      "[0.57 0.42 0.70]\n",
      "[-0.50 0.07 0.86]\n",
      "[0.90 -0.42 0.14]\n",
      "[0.84 -0.24 -0.48]\n",
      "[0.65 -0.29 0.71]\n"
     ]
    },
    {
     "name": "stderr",
     "output_type": "stream",
     "text": [
      " 14%|█▍        | 690/5000 [00:14<02:10, 32.92it/s]"
     ]
    },
    {
     "name": "stdout",
     "output_type": "stream",
     "text": [
      "[-0.43 -0.89 -0.17]\n",
      "[-0.40 0.11 0.91]\n",
      "[0.78 -0.30 -0.55]\n",
      "[0.96 -0.28 -0.08]\n",
      "[0.86 -0.34 -0.38]\n",
      "[0.87 -0.38 -0.32]\n",
      "[0.91 -0.35 -0.24]\n"
     ]
    },
    {
     "name": "stderr",
     "output_type": "stream",
     "text": [
      " 14%|█▍        | 698/5000 [00:14<02:09, 33.30it/s]"
     ]
    },
    {
     "name": "stdout",
     "output_type": "stream",
     "text": [
      "[0.90 -0.30 -0.31]\n",
      "[-0.76 0.31 0.57]\n",
      "[0.62 -0.67 0.40]\n",
      "[0.99 -0.09 -0.12]\n",
      "[0.57 -0.01 0.82]\n",
      "[0.77 -0.31 -0.55]\n",
      "[0.77 -0.51 -0.39]\n"
     ]
    },
    {
     "name": "stderr",
     "output_type": "stream",
     "text": [
      " 14%|█▍        | 706/5000 [00:14<02:09, 33.15it/s]"
     ]
    },
    {
     "name": "stdout",
     "output_type": "stream",
     "text": [
      "[0.53 -0.85 -0.03]\n",
      "[-0.44 -0.86 0.27]\n",
      "[0.77 -0.32 -0.55]\n",
      "[0.66 -0.68 0.33]\n",
      "[0.89 -0.45 -0.08]\n",
      "[0.79 -0.34 -0.51]\n",
      "[0.57 0.53 0.63]\n"
     ]
    },
    {
     "name": "stderr",
     "output_type": "stream",
     "text": [
      "\r",
      " 14%|█▍        | 710/5000 [00:14<02:10, 32.91it/s]"
     ]
    },
    {
     "name": "stdout",
     "output_type": "stream",
     "text": [
      "[0.92 -0.08 0.39]\n",
      "[-0.28 0.18 0.94]\n",
      "[0.93 -0.31 -0.22]\n",
      "[-0.06 0.17 0.98]\n",
      "[0.75 -0.35 -0.56]\n",
      "[0.89 -0.44 -0.11]\n",
      "[-0.51 0.11 0.85]\n"
     ]
    },
    {
     "name": "stderr",
     "output_type": "stream",
     "text": [
      " 14%|█▍        | 718/5000 [00:15<02:07, 33.58it/s]"
     ]
    },
    {
     "name": "stdout",
     "output_type": "stream",
     "text": [
      "[0.93 -0.34 -0.17]\n",
      "[-0.46 0.07 0.88]\n",
      "[0.64 -0.64 -0.42]\n",
      "[0.21 0.56 0.80]\n",
      "[1.00 -0.03 0.01]\n",
      "[0.46 -0.06 0.88]\n",
      "[0.43 0.54 0.72]\n"
     ]
    },
    {
     "name": "stderr",
     "output_type": "stream",
     "text": [
      " 15%|█▍        | 726/5000 [00:15<02:11, 32.44it/s]"
     ]
    },
    {
     "name": "stdout",
     "output_type": "stream",
     "text": [
      "[0.75 -0.31 -0.59]\n",
      "[0.85 -0.41 -0.33]\n",
      "[0.87 -0.36 -0.34]\n",
      "[0.69 -0.41 -0.60]\n",
      "[0.92 -0.30 -0.24]\n",
      "[0.76 -0.29 -0.58]\n",
      "[0.59 -0.47 -0.66]\n"
     ]
    },
    {
     "name": "stderr",
     "output_type": "stream",
     "text": [
      " 15%|█▍        | 734/5000 [00:15<02:06, 33.74it/s]"
     ]
    },
    {
     "name": "stdout",
     "output_type": "stream",
     "text": [
      "[0.74 -0.26 -0.62]\n",
      "[0.63 0.36 0.69]\n",
      "[0.75 -0.32 -0.58]\n",
      "[0.70 -0.43 -0.57]\n",
      "[0.76 -0.50 -0.42]\n",
      "[0.74 -0.62 -0.27]\n",
      "[0.60 0.39 0.70]\n"
     ]
    },
    {
     "name": "stderr",
     "output_type": "stream",
     "text": [
      "\r",
      " 15%|█▍        | 738/5000 [00:15<02:08, 33.29it/s]"
     ]
    },
    {
     "name": "stdout",
     "output_type": "stream",
     "text": [
      "[0.60 -0.48 0.64]\n",
      "[0.70 0.25 0.67]\n",
      "[0.54 -0.08 0.84]\n",
      "[0.90 -0.27 -0.34]\n",
      "[-0.73 0.43 0.53]\n",
      "[0.57 0.45 0.69]\n",
      "[0.64 0.28 0.72]\n"
     ]
    },
    {
     "name": "stderr",
     "output_type": "stream",
     "text": [
      " 15%|█▍        | 746/5000 [00:16<02:08, 33.20it/s]"
     ]
    },
    {
     "name": "stdout",
     "output_type": "stream",
     "text": [
      "[0.99 -0.10 -0.11]\n",
      "[0.54 -0.01 0.84]\n",
      "[0.83 -0.20 0.52]\n",
      "[0.95 0.29 -0.14]\n",
      "[0.56 0.45 0.69]\n",
      "[0.96 -0.29 -0.05]\n",
      "[0.77 -0.33 -0.54]\n"
     ]
    },
    {
     "name": "stderr",
     "output_type": "stream",
     "text": [
      " 15%|█▌        | 754/5000 [00:16<02:07, 33.35it/s]"
     ]
    },
    {
     "name": "stdout",
     "output_type": "stream",
     "text": [
      "[0.75 -0.38 -0.53]\n",
      "[-0.01 0.53 0.85]\n",
      "[-0.48 0.24 0.85]\n",
      "[-0.57 -0.80 -0.16]\n",
      "[-0.19 -0.75 0.63]\n",
      "[0.98 -0.14 -0.14]\n",
      "[0.59 0.35 0.73]\n"
     ]
    },
    {
     "name": "stderr",
     "output_type": "stream",
     "text": [
      " 15%|█▌        | 762/5000 [00:16<02:06, 33.37it/s]"
     ]
    },
    {
     "name": "stdout",
     "output_type": "stream",
     "text": [
      "[0.85 -0.52 -0.11]\n",
      "[-0.84 0.15 0.53]\n",
      "[0.74 -0.50 -0.45]\n",
      "[0.89 -0.30 -0.34]\n",
      "[-0.24 0.30 0.92]\n",
      "[0.26 -0.72 -0.65]\n",
      "[0.86 0.36 0.37]\n"
     ]
    },
    {
     "name": "stderr",
     "output_type": "stream",
     "text": [
      "\r",
      " 15%|█▌        | 766/5000 [00:16<02:07, 33.12it/s]"
     ]
    },
    {
     "name": "stdout",
     "output_type": "stream",
     "text": [
      "[0.77 -0.03 -0.64]\n",
      "[0.67 0.25 0.70]\n",
      "[0.77 -0.32 -0.55]\n",
      "[0.40 0.03 0.92]\n",
      "[0.93 -0.32 -0.19]\n",
      "[0.76 -0.25 -0.60]\n",
      "[0.94 -0.30 -0.16]\n"
     ]
    },
    {
     "name": "stderr",
     "output_type": "stream",
     "text": [
      " 15%|█▌        | 774/5000 [00:16<02:05, 33.56it/s]"
     ]
    },
    {
     "name": "stdout",
     "output_type": "stream",
     "text": [
      "[0.77 -0.42 -0.48]\n",
      "[0.81 -0.36 -0.47]\n",
      "[0.77 -0.34 -0.55]\n",
      "[0.22 -0.85 0.48]\n",
      "[0.86 0.10 0.49]\n",
      "[0.88 0.33 -0.34]\n",
      "[0.63 -0.76 -0.14]\n"
     ]
    },
    {
     "name": "stderr",
     "output_type": "stream",
     "text": [
      " 16%|█▌        | 782/5000 [00:17<02:06, 33.23it/s]"
     ]
    },
    {
     "name": "stdout",
     "output_type": "stream",
     "text": [
      "[0.82 -0.46 0.33]\n",
      "[0.75 -0.25 0.61]\n",
      "[0.96 -0.29 -0.05]\n",
      "[-0.23 0.03 0.97]\n",
      "[0.72 0.04 0.69]\n",
      "[0.82 -0.39 -0.42]\n",
      "[0.93 -0.22 -0.29]\n"
     ]
    },
    {
     "name": "stderr",
     "output_type": "stream",
     "text": [
      " 16%|█▌        | 790/5000 [00:17<02:06, 33.35it/s]"
     ]
    },
    {
     "name": "stdout",
     "output_type": "stream",
     "text": [
      "[0.81 -0.34 -0.47]\n",
      "[-0.65 -0.74 -0.18]\n",
      "[0.93 -0.28 -0.23]\n",
      "[0.79 -0.38 -0.48]\n",
      "[0.80 -0.29 -0.53]\n",
      "[0.12 0.38 0.92]\n",
      "[0.65 -0.44 0.63]\n"
     ]
    },
    {
     "name": "stderr",
     "output_type": "stream",
     "text": [
      " 16%|█▌        | 798/5000 [00:17<02:03, 34.03it/s]"
     ]
    },
    {
     "name": "stdout",
     "output_type": "stream",
     "text": [
      "[0.70 -0.45 -0.56]\n",
      "[0.30 -0.95 -0.09]\n",
      "[-0.54 0.42 0.73]\n",
      "[-0.33 -0.04 0.94]\n",
      "[0.74 0.01 0.67]\n",
      "[-0.75 0.31 0.59]\n",
      "[0.35 0.37 0.86]\n",
      "[-0.09 -1.00 -0.02]\n"
     ]
    },
    {
     "name": "stderr",
     "output_type": "stream",
     "text": [
      "\r",
      " 16%|█▌        | 802/5000 [00:17<02:07, 32.87it/s]"
     ]
    },
    {
     "name": "stdout",
     "output_type": "stream",
     "text": [
      "[0.89 -0.45 -0.12]\n",
      "[0.53 0.00 0.85]\n",
      "[0.20 0.65 0.73]\n",
      "[0.87 0.41 0.27]\n",
      "[0.55 -0.62 -0.56]\n",
      "[0.84 0.53 0.09]\n",
      "[0.92 0.39 -0.06]\n"
     ]
    },
    {
     "name": "stderr",
     "output_type": "stream",
     "text": [
      " 16%|█▌        | 810/5000 [00:17<02:02, 34.15it/s]"
     ]
    },
    {
     "name": "stdout",
     "output_type": "stream",
     "text": [
      "[0.83 0.54 0.14]\n",
      "[0.27 0.19 0.94]\n",
      "[0.51 -0.85 -0.14]\n",
      "[0.82 0.50 0.29]\n",
      "[-0.15 0.65 0.74]\n",
      "[0.27 -0.68 -0.68]\n",
      "[-0.62 -0.76 0.18]\n",
      "[0.41 0.14 0.90]\n"
     ]
    },
    {
     "name": "stderr",
     "output_type": "stream",
     "text": [
      " 16%|█▋        | 818/5000 [00:18<02:06, 32.98it/s]"
     ]
    },
    {
     "name": "stdout",
     "output_type": "stream",
     "text": [
      "[-0.27 -0.96 0.08]\n",
      "[-0.33 -0.63 -0.70]\n",
      "[0.21 0.34 0.92]\n",
      "[0.27 -0.70 -0.67]\n",
      "[0.46 0.47 0.75]\n",
      "[0.42 -0.07 0.91]\n",
      "[-0.11 -0.80 -0.59]\n"
     ]
    },
    {
     "name": "stderr",
     "output_type": "stream",
     "text": [
      " 17%|█▋        | 826/5000 [00:18<02:04, 33.60it/s]"
     ]
    },
    {
     "name": "stdout",
     "output_type": "stream",
     "text": [
      "[0.07 -1.00 0.01]\n",
      "[0.25 0.23 0.94]\n",
      "[0.50 -0.29 0.81]\n",
      "[0.66 0.65 0.37]\n",
      "[0.95 0.32 -0.01]\n",
      "[0.84 0.53 0.09]\n",
      "[0.12 0.65 0.75]\n"
     ]
    },
    {
     "name": "stderr",
     "output_type": "stream",
     "text": [
      " 17%|█▋        | 834/5000 [00:18<02:04, 33.41it/s]"
     ]
    },
    {
     "name": "stdout",
     "output_type": "stream",
     "text": [
      "[0.29 0.57 0.77]\n",
      "[0.26 0.15 0.95]\n",
      "[0.53 -0.84 -0.12]\n",
      "[0.40 -0.88 -0.27]\n",
      "[0.25 0.24 0.94]\n",
      "[0.22 0.27 0.94]\n",
      "[0.74 0.35 0.58]\n"
     ]
    },
    {
     "name": "stderr",
     "output_type": "stream",
     "text": [
      "\r",
      " 17%|█▋        | 838/5000 [00:18<02:04, 33.44it/s]"
     ]
    },
    {
     "name": "stdout",
     "output_type": "stream",
     "text": [
      "[0.39 0.01 0.92]\n",
      "[0.00 -0.93 -0.37]\n",
      "[0.54 -0.50 0.68]\n",
      "[0.22 0.55 0.81]\n",
      "[0.33 -0.89 0.31]\n",
      "[0.78 0.27 0.56]\n",
      "[-0.10 -0.99 -0.06]\n"
     ]
    },
    {
     "name": "stderr",
     "output_type": "stream",
     "text": [
      " 17%|█▋        | 846/5000 [00:19<02:06, 32.96it/s]"
     ]
    },
    {
     "name": "stdout",
     "output_type": "stream",
     "text": [
      "[0.36 0.01 0.93]\n",
      "[0.54 -0.41 0.73]\n",
      "[0.54 -0.64 -0.55]\n",
      "[0.45 0.22 0.87]\n",
      "[0.64 -0.77 -0.10]\n",
      "[0.24 -0.16 0.96]\n",
      "[0.39 -0.81 -0.44]\n"
     ]
    },
    {
     "name": "stderr",
     "output_type": "stream",
     "text": [
      " 17%|█▋        | 854/5000 [00:19<02:04, 33.39it/s]"
     ]
    },
    {
     "name": "stdout",
     "output_type": "stream",
     "text": [
      "[0.51 -0.75 -0.42]\n",
      "[0.05 0.48 0.88]\n",
      "[0.38 -0.00 0.92]\n",
      "[0.70 0.60 0.39]\n",
      "[0.30 -0.06 0.95]\n",
      "[0.26 0.15 0.95]\n",
      "[0.54 0.05 0.84]\n"
     ]
    },
    {
     "name": "stderr",
     "output_type": "stream",
     "text": [
      " 17%|█▋        | 862/5000 [00:19<02:02, 33.67it/s]"
     ]
    },
    {
     "name": "stdout",
     "output_type": "stream",
     "text": [
      "[0.88 0.46 0.14]\n",
      "[0.20 0.04 0.98]\n",
      "[0.85 -0.53 0.03]\n",
      "[0.18 0.66 0.73]\n",
      "[0.84 0.53 0.06]\n",
      "[0.10 0.67 0.74]\n",
      "[0.66 -0.65 -0.38]\n"
     ]
    },
    {
     "name": "stderr",
     "output_type": "stream",
     "text": [
      "\r",
      " 17%|█▋        | 866/5000 [00:19<02:04, 33.23it/s]"
     ]
    },
    {
     "name": "stdout",
     "output_type": "stream",
     "text": [
      "[-0.29 -0.85 -0.43]\n",
      "[-0.53 -0.67 -0.52]\n",
      "[0.45 -0.16 0.88]\n",
      "[0.34 -0.00 0.94]\n",
      "[0.97 0.09 -0.24]\n",
      "[0.39 0.12 0.91]\n",
      "[0.94 0.06 -0.33]\n"
     ]
    },
    {
     "name": "stderr",
     "output_type": "stream",
     "text": [
      " 17%|█▋        | 874/5000 [00:19<02:04, 33.08it/s]"
     ]
    },
    {
     "name": "stdout",
     "output_type": "stream",
     "text": [
      "[0.43 -0.74 -0.51]\n",
      "[-0.02 0.66 0.75]\n",
      "[0.55 -0.43 0.72]\n",
      "[0.70 -0.43 0.57]\n",
      "[0.85 0.51 0.08]\n",
      "[0.06 0.49 0.87]\n",
      "[-0.23 -0.97 0.01]\n"
     ]
    },
    {
     "name": "stderr",
     "output_type": "stream",
     "text": [
      " 18%|█▊        | 882/5000 [00:20<02:04, 33.00it/s]"
     ]
    },
    {
     "name": "stdout",
     "output_type": "stream",
     "text": [
      "[0.57 -0.51 0.64]\n",
      "[-0.34 -0.69 -0.63]\n",
      "[0.36 0.03 0.93]\n",
      "[-0.27 0.64 0.72]\n",
      "[0.28 0.27 0.92]\n",
      "[-0.76 -0.60 -0.27]\n",
      "[0.59 0.46 0.66]\n"
     ]
    },
    {
     "name": "stderr",
     "output_type": "stream",
     "text": [
      " 18%|█▊        | 890/5000 [00:20<02:06, 32.61it/s]"
     ]
    },
    {
     "name": "stdout",
     "output_type": "stream",
     "text": [
      "[0.57 -0.79 0.23]\n",
      "[0.11 0.59 0.80]\n",
      "[0.44 -0.11 0.89]\n",
      "[0.58 -0.75 0.32]\n",
      "[0.81 -0.37 0.44]\n",
      "[0.29 -0.07 0.96]\n",
      "[0.73 -0.65 0.20]\n"
     ]
    },
    {
     "name": "stderr",
     "output_type": "stream",
     "text": [
      "\r",
      " 18%|█▊        | 894/5000 [00:20<02:02, 33.46it/s]"
     ]
    },
    {
     "name": "stdout",
     "output_type": "stream",
     "text": [
      "[0.34 0.35 0.88]\n",
      "[0.53 -0.18 -0.83]\n",
      "[-0.31 0.18 -0.93]\n",
      "[0.00 0.04 -1.00]\n",
      "[0.74 0.52 0.42]\n",
      "[-0.16 0.09 -0.98]\n",
      "[0.81 0.42 -0.40]\n"
     ]
    },
    {
     "name": "stderr",
     "output_type": "stream",
     "text": [
      " 18%|█▊        | 902/5000 [00:20<02:03, 33.16it/s]"
     ]
    },
    {
     "name": "stdout",
     "output_type": "stream",
     "text": [
      "[0.19 -0.04 -0.98]\n",
      "[0.89 0.28 0.36]\n",
      "[-0.66 -0.23 -0.71]\n",
      "[0.55 -0.24 -0.80]\n",
      "[-0.06 -0.22 0.97]\n",
      "[-0.34 0.12 -0.93]\n",
      "[0.09 -0.14 0.99]\n"
     ]
    },
    {
     "name": "stderr",
     "output_type": "stream",
     "text": [
      " 18%|█▊        | 910/5000 [00:20<02:01, 33.54it/s]"
     ]
    },
    {
     "name": "stdout",
     "output_type": "stream",
     "text": [
      "[-0.62 -0.62 0.47]\n",
      "[-0.97 0.23 0.05]\n",
      "[0.05 0.09 0.99]\n",
      "[0.41 -0.08 0.91]\n",
      "[-0.06 0.06 -1.00]\n",
      "[0.02 0.01 1.00]\n",
      "[-0.30 -0.02 0.96]\n",
      "[0.01 0.01 1.00]\n"
     ]
    },
    {
     "name": "stderr",
     "output_type": "stream",
     "text": [
      " 18%|█▊        | 918/5000 [00:21<01:59, 34.13it/s]"
     ]
    },
    {
     "name": "stdout",
     "output_type": "stream",
     "text": [
      "[-0.12 -0.04 -0.99]\n",
      "[-0.51 -0.33 -0.80]\n",
      "[-0.13 -0.09 0.99]\n",
      "[-0.33 -0.08 -0.94]\n",
      "[-0.20 -0.09 -0.98]\n",
      "[-0.24 0.03 0.97]\n",
      "[-0.28 0.04 0.96]\n"
     ]
    },
    {
     "name": "stderr",
     "output_type": "stream",
     "text": [
      " 19%|█▊        | 926/5000 [00:21<02:02, 33.36it/s]"
     ]
    },
    {
     "name": "stdout",
     "output_type": "stream",
     "text": [
      "[0.16 0.05 0.99]\n",
      "[0.20 0.01 0.98]\n",
      "[-0.07 0.02 1.00]\n",
      "[0.00 0.00 1.00]\n",
      "[-0.14 0.02 -0.99]\n",
      "[0.79 0.08 0.61]\n",
      "[0.18 -0.02 0.98]\n"
     ]
    },
    {
     "name": "stderr",
     "output_type": "stream",
     "text": [
      "\r",
      " 19%|█▊        | 930/5000 [00:21<02:00, 33.67it/s]"
     ]
    },
    {
     "name": "stdout",
     "output_type": "stream",
     "text": [
      "[-0.12 0.05 0.99]\n",
      "[-0.32 -0.01 0.95]\n",
      "[0.30 0.07 0.95]\n",
      "[-0.21 0.06 0.98]\n",
      "[-0.07 0.18 0.98]\n",
      "[0.66 0.08 0.75]\n",
      "[-0.13 0.18 0.98]\n"
     ]
    },
    {
     "name": "stderr",
     "output_type": "stream",
     "text": [
      " 19%|█▉        | 938/5000 [00:21<01:59, 34.12it/s]"
     ]
    },
    {
     "name": "stdout",
     "output_type": "stream",
     "text": [
      "[-0.06 0.09 0.99]\n",
      "[-0.02 -0.05 1.00]\n",
      "[0.19 0.06 0.98]\n",
      "[0.08 -0.08 0.99]\n",
      "[0.56 0.17 0.81]\n",
      "[0.04 -0.06 1.00]\n",
      "[-0.64 -0.07 -0.76]\n"
     ]
    },
    {
     "name": "stderr",
     "output_type": "stream",
     "text": [
      " 19%|█▉        | 946/5000 [00:22<02:01, 33.43it/s]"
     ]
    },
    {
     "name": "stdout",
     "output_type": "stream",
     "text": [
      "[0.34 0.15 0.93]\n",
      "[-0.69 -0.04 -0.73]\n",
      "[-0.61 -0.04 -0.79]\n",
      "[0.12 0.01 0.99]\n",
      "[0.23 0.05 0.97]\n",
      "[-0.12 0.05 0.99]\n",
      "[0.02 0.10 0.99]\n"
     ]
    },
    {
     "name": "stderr",
     "output_type": "stream",
     "text": [
      " 19%|█▉        | 954/5000 [00:22<01:57, 34.50it/s]"
     ]
    },
    {
     "name": "stdout",
     "output_type": "stream",
     "text": [
      "[0.54 0.04 0.84]\n",
      "[-0.04 0.01 1.00]\n",
      "[0.21 0.25 0.95]\n",
      "[-0.24 0.03 0.97]\n",
      "[-0.93 -0.07 -0.36]\n",
      "[0.18 0.05 0.98]\n",
      "[0.41 0.00 0.91]\n",
      "[-0.15 0.05 0.99]\n"
     ]
    },
    {
     "name": "stderr",
     "output_type": "stream",
     "text": [
      " 19%|█▉        | 962/5000 [00:22<02:06, 31.97it/s]"
     ]
    },
    {
     "name": "stdout",
     "output_type": "stream",
     "text": [
      "[0.11 0.04 0.99]\n",
      "[-0.48 0.02 0.88]\n",
      "[0.15 0.07 0.99]\n",
      "[0.27 0.05 0.96]\n",
      "[0.01 0.05 1.00]\n",
      "[0.50 0.09 0.86]\n",
      "[0.69 0.05 0.72]\n"
     ]
    },
    {
     "name": "stderr",
     "output_type": "stream",
     "text": [
      "\r",
      " 19%|█▉        | 967/5000 [00:22<02:00, 33.49it/s]"
     ]
    },
    {
     "name": "stdout",
     "output_type": "stream",
     "text": [
      "[0.15 -0.04 0.99]\n",
      "[0.64 0.47 0.61]\n",
      "[0.72 0.09 0.69]\n",
      "[0.51 0.16 0.84]\n",
      "[-0.49 -0.24 -0.84]\n",
      "[-0.38 -0.40 0.83]\n",
      "[-0.06 0.16 0.99]\n"
     ]
    },
    {
     "name": "stderr",
     "output_type": "stream",
     "text": [
      " 20%|█▉        | 975/5000 [00:22<02:00, 33.43it/s]"
     ]
    },
    {
     "name": "stdout",
     "output_type": "stream",
     "text": [
      "[0.96 -0.19 0.22]\n",
      "[-0.51 -0.00 0.86]\n",
      "[-0.48 -0.49 0.73]\n",
      "[-0.50 -0.49 0.71]\n",
      "[-0.45 -0.18 0.87]\n",
      "[-0.60 0.10 0.79]\n",
      "[0.85 -0.20 0.48]\n"
     ]
    },
    {
     "name": "stderr",
     "output_type": "stream",
     "text": [
      " 20%|█▉        | 983/5000 [00:23<01:58, 33.80it/s]"
     ]
    },
    {
     "name": "stdout",
     "output_type": "stream",
     "text": [
      "[0.23 0.05 0.97]\n",
      "[-0.92 -0.27 0.28]\n",
      "[-0.46 -0.08 0.88]\n",
      "[-0.15 -0.03 0.99]\n",
      "[-0.24 0.04 0.97]\n",
      "[-0.12 0.07 0.99]\n",
      "[-0.58 -0.14 0.80]\n"
     ]
    },
    {
     "name": "stderr",
     "output_type": "stream",
     "text": [
      "\r",
      " 20%|█▉        | 987/5000 [00:23<02:01, 33.16it/s]"
     ]
    },
    {
     "name": "stdout",
     "output_type": "stream",
     "text": [
      "[-0.59 -0.14 0.80]\n",
      "[0.98 -0.19 -0.05]\n",
      "[-0.37 -0.08 0.93]\n",
      "[-0.65 0.05 0.76]\n",
      "[-0.98 -0.13 -0.13]\n",
      "[-0.73 0.02 0.68]\n",
      "[0.16 0.08 0.98]\n"
     ]
    },
    {
     "name": "stderr",
     "output_type": "stream",
     "text": [
      " 20%|█▉        | 995/5000 [00:23<01:59, 33.42it/s]"
     ]
    },
    {
     "name": "stdout",
     "output_type": "stream",
     "text": [
      "[-0.98 -0.05 -0.19]\n",
      "[-1.00 -0.05 -0.06]\n",
      "[-0.37 -0.06 0.93]\n",
      "[-0.94 -0.02 0.33]\n",
      "[0.46 0.06 0.89]\n",
      "[-0.63 -0.01 0.78]\n",
      "[-0.94 -0.05 -0.32]\n"
     ]
    },
    {
     "name": "stderr",
     "output_type": "stream",
     "text": [
      " 20%|██        | 1003/5000 [00:23<01:58, 33.77it/s]"
     ]
    },
    {
     "name": "stdout",
     "output_type": "stream",
     "text": [
      "[-0.31 0.05 0.95]\n",
      "[-0.55 0.05 0.83]\n",
      "[-0.33 -0.05 0.94]\n",
      "[-0.78 -0.07 0.62]\n",
      "[-0.97 -0.02 -0.24]\n",
      "[-0.53 -0.06 0.84]\n",
      "[-0.96 -0.03 -0.27]\n",
      "[-0.63 -0.18 0.75]\n"
     ]
    },
    {
     "name": "stderr",
     "output_type": "stream",
     "text": [
      " 20%|██        | 1011/5000 [00:23<01:58, 33.72it/s]"
     ]
    },
    {
     "name": "stdout",
     "output_type": "stream",
     "text": [
      "[0.30 0.08 0.95]\n",
      "[-0.05 0.05 1.00]\n",
      "[-0.09 -0.01 1.00]\n",
      "[-0.16 -0.03 0.99]\n",
      "[0.48 -0.02 0.88]\n",
      "[-0.57 0.77 0.27]\n",
      "[-0.66 -0.10 -0.75]\n"
     ]
    },
    {
     "name": "stderr",
     "output_type": "stream",
     "text": [
      " 20%|██        | 1019/5000 [00:24<02:03, 32.15it/s]"
     ]
    },
    {
     "name": "stdout",
     "output_type": "stream",
     "text": [
      "[-0.12 0.00 0.99]\n",
      "[0.57 -0.39 -0.73]\n",
      "[0.42 0.11 0.90]\n",
      "[0.19 0.40 0.89]\n",
      "[-0.62 0.07 0.78]\n",
      "[-0.27 0.23 0.93]\n",
      "[-0.74 0.45 0.49]\n"
     ]
    },
    {
     "name": "stderr",
     "output_type": "stream",
     "text": [
      " 21%|██        | 1027/5000 [00:24<01:57, 33.71it/s]"
     ]
    },
    {
     "name": "stdout",
     "output_type": "stream",
     "text": [
      "[0.99 -0.07 -0.08]\n",
      "[0.81 -0.15 0.56]\n",
      "[0.83 0.08 0.56]\n",
      "[0.29 -0.43 -0.86]\n",
      "[-0.71 -0.34 -0.61]\n",
      "[-0.32 0.64 0.70]\n",
      "[0.79 -0.18 -0.59]\n",
      "[1.00 -0.02 -0.03]\n"
     ]
    },
    {
     "name": "stderr",
     "output_type": "stream",
     "text": [
      "\r",
      " 21%|██        | 1031/5000 [00:24<01:57, 33.88it/s]"
     ]
    },
    {
     "name": "stdout",
     "output_type": "stream",
     "text": [
      "[1.00 0.04 -0.03]\n",
      "[0.95 0.03 0.32]\n",
      "[0.99 0.07 -0.09]\n",
      "[1.00 0.07 -0.05]\n",
      "[0.74 0.20 0.64]\n",
      "[-0.78 0.36 0.52]\n",
      "[0.86 0.03 0.51]"
     ]
    },
    {
     "name": "stderr",
     "output_type": "stream",
     "text": [
      " 21%|██        | 1039/5000 [00:24<01:58, 33.33it/s]"
     ]
    },
    {
     "name": "stdout",
     "output_type": "stream",
     "text": [
      "\n",
      "[0.99 0.01 -0.15]\n",
      "[-0.96 0.11 0.27]\n",
      "[0.82 -0.08 -0.56]\n",
      "[0.99 0.02 0.10]\n",
      "[-0.42 -0.42 -0.80]\n",
      "[0.89 0.03 0.46]\n",
      "[-0.21 0.32 0.92]\n"
     ]
    },
    {
     "name": "stderr",
     "output_type": "stream",
     "text": [
      " 21%|██        | 1047/5000 [00:25<02:00, 32.71it/s]"
     ]
    },
    {
     "name": "stdout",
     "output_type": "stream",
     "text": [
      "[-0.58 -0.05 -0.81]\n",
      "[0.99 0.08 0.09]\n",
      "[0.98 0.09 0.16]\n",
      "[-0.00 0.57 0.82]\n",
      "[0.99 0.15 0.00]\n",
      "[0.16 0.31 0.94]\n",
      "[0.99 0.05 -0.14]\n"
     ]
    },
    {
     "name": "stderr",
     "output_type": "stream",
     "text": [
      " 21%|██        | 1055/5000 [00:25<02:01, 32.49it/s]"
     ]
    },
    {
     "name": "stdout",
     "output_type": "stream",
     "text": [
      "[1.00 0.06 0.07]\n",
      "[0.31 0.14 0.94]\n",
      "[0.83 0.05 0.56]\n",
      "[0.04 0.10 0.99]\n",
      "[0.95 0.18 0.24]\n",
      "[-0.44 0.47 0.77]\n",
      "[0.94 0.08 0.32]\n",
      "[0.97 0.11 0.23]\n"
     ]
    },
    {
     "name": "stderr",
     "output_type": "stream",
     "text": [
      " 21%|██▏       | 1063/5000 [00:25<01:56, 33.66it/s]"
     ]
    },
    {
     "name": "stdout",
     "output_type": "stream",
     "text": [
      "[0.99 0.05 0.10]\n",
      "[0.07 0.15 0.99]\n",
      "[0.94 0.11 0.34]\n",
      "[0.69 0.09 0.72]\n",
      "[0.08 0.10 0.99]\n",
      "[0.80 0.06 0.59]\n",
      "[0.71 0.03 0.70]\n"
     ]
    },
    {
     "name": "stderr",
     "output_type": "stream",
     "text": [
      "\r",
      " 21%|██▏       | 1067/5000 [00:25<02:02, 32.02it/s]"
     ]
    },
    {
     "name": "stdout",
     "output_type": "stream",
     "text": [
      "[0.38 0.09 0.92]\n",
      "[0.21 0.09 0.97]\n",
      "[0.12 0.07 0.99]\n",
      "[0.49 0.03 0.87]\n",
      "[0.07 0.05 1.00]\n",
      "[0.16 0.16 0.97]\n",
      "[0.08 0.13 0.99]\n"
     ]
    },
    {
     "name": "stderr",
     "output_type": "stream",
     "text": [
      " 22%|██▏       | 1075/5000 [00:25<01:52, 34.76it/s]"
     ]
    },
    {
     "name": "stdout",
     "output_type": "stream",
     "text": [
      "[0.04 0.18 0.98]\n",
      "[0.92 -0.05 0.39]\n",
      "[-0.14 0.50 0.85]\n",
      "[0.22 0.04 0.97]\n",
      "[0.31 0.03 0.95]\n",
      "[0.17 0.01 0.99]\n",
      "[0.05 0.05 1.00]\n",
      "[0.15 -0.07 0.99]\n"
     ]
    },
    {
     "name": "stderr",
     "output_type": "stream",
     "text": [
      " 22%|██▏       | 1083/5000 [00:26<01:55, 33.85it/s]"
     ]
    },
    {
     "name": "stdout",
     "output_type": "stream",
     "text": [
      "[0.07 0.01 1.00]\n",
      "[0.35 0.06 0.94]\n",
      "[0.17 0.05 0.98]\n",
      "[0.29 -0.03 0.96]\n",
      "[0.07 0.04 1.00]\n",
      "[0.23 0.10 0.97]\n",
      "[0.20 0.01 0.98]\n"
     ]
    },
    {
     "name": "stderr",
     "output_type": "stream",
     "text": [
      " 22%|██▏       | 1091/5000 [00:26<01:58, 33.00it/s]"
     ]
    },
    {
     "name": "stdout",
     "output_type": "stream",
     "text": [
      "[0.17 -0.11 0.98]\n",
      "[0.02 0.04 1.00]\n",
      "[0.16 0.00 0.99]\n",
      "[0.35 0.06 0.94]\n",
      "[-0.18 0.08 0.98]\n",
      "[0.03 0.02 1.00]\n",
      "[0.04 0.01 1.00]\n",
      "[-0.00 -0.08 1.00]\n"
     ]
    },
    {
     "name": "stderr",
     "output_type": "stream",
     "text": [
      " 22%|██▏       | 1099/5000 [00:26<01:54, 34.02it/s]"
     ]
    },
    {
     "name": "stdout",
     "output_type": "stream",
     "text": [
      "[0.09 -0.10 0.99]\n",
      "[-0.10 0.06 0.99]\n",
      "[-0.12 -0.02 0.99]\n",
      "[-0.05 0.03 1.00]\n",
      "[-0.09 0.01 1.00]\n",
      "[-0.09 0.00 1.00]\n",
      "[0.06 0.01 1.00]\n"
     ]
    },
    {
     "name": "stderr",
     "output_type": "stream",
     "text": [
      " 22%|██▏       | 1107/5000 [00:26<01:56, 33.36it/s]"
     ]
    },
    {
     "name": "stdout",
     "output_type": "stream",
     "text": [
      "[-0.16 -0.07 0.98]\n",
      "[0.04 -0.06 1.00]\n",
      "[-0.02 -0.05 1.00]\n",
      "[-0.02 -0.02 1.00]\n",
      "[0.12 0.06 0.99]\n",
      "[0.10 0.02 0.99]\n",
      "[-0.03 0.08 1.00]\n"
     ]
    },
    {
     "name": "stderr",
     "output_type": "stream",
     "text": [
      "\r",
      " 22%|██▏       | 1111/5000 [00:26<01:55, 33.77it/s]"
     ]
    },
    {
     "name": "stdout",
     "output_type": "stream",
     "text": [
      "[0.07 -0.03 1.00]\n",
      "[-0.04 0.01 1.00]\n",
      "[-0.00 -0.00 1.00]\n",
      "[-0.05 -0.11 0.99]\n",
      "[0.04 -0.00 1.00]\n",
      "[0.09 -0.06 0.99]\n",
      "[0.16 0.19 0.97]\n"
     ]
    },
    {
     "name": "stderr",
     "output_type": "stream",
     "text": [
      " 22%|██▏       | 1119/5000 [00:27<01:55, 33.48it/s]"
     ]
    },
    {
     "name": "stdout",
     "output_type": "stream",
     "text": [
      "[-0.14 0.03 0.99]\n",
      "[-0.00 -0.00 1.00]\n",
      "[0.04 -0.05 1.00]\n",
      "[-0.05 -0.01 1.00]\n",
      "[0.05 -0.02 1.00]\n",
      "[-0.29 0.06 0.95]\n",
      "[0.09 0.00 1.00]\n"
     ]
    },
    {
     "name": "stderr",
     "output_type": "stream",
     "text": [
      " 23%|██▎       | 1127/5000 [00:27<01:57, 33.05it/s]"
     ]
    },
    {
     "name": "stdout",
     "output_type": "stream",
     "text": [
      "[-0.16 -0.05 0.99]\n",
      "[0.08 0.07 0.99]\n",
      "[0.02 0.03 1.00]\n",
      "[0.01 -0.00 1.00]\n",
      "[-0.02 -0.02 1.00]\n",
      "[0.08 0.00 1.00]\n",
      "[0.02 0.02 1.00]\n"
     ]
    },
    {
     "name": "stderr",
     "output_type": "stream",
     "text": [
      " 23%|██▎       | 1135/5000 [00:27<01:56, 33.18it/s]"
     ]
    },
    {
     "name": "stdout",
     "output_type": "stream",
     "text": [
      "[-0.06 0.06 1.00]\n",
      "[-0.09 -0.02 1.00]\n",
      "[0.02 0.02 1.00]\n",
      "[0.08 -0.05 1.00]\n",
      "[-0.02 0.02 1.00]\n",
      "[0.05 0.00 1.00]\n",
      "[0.06 0.02 1.00]\n"
     ]
    },
    {
     "name": "stderr",
     "output_type": "stream",
     "text": [
      "\r",
      " 23%|██▎       | 1139/5000 [00:27<01:56, 33.12it/s]"
     ]
    },
    {
     "name": "stdout",
     "output_type": "stream",
     "text": [
      "[0.06 -0.02 1.00]\n",
      "[-0.08 0.00 1.00]\n",
      "[0.05 -0.01 1.00]\n",
      "[0.20 -0.00 0.98]\n",
      "[0.18 -0.03 0.98]\n",
      "[0.07 0.00 1.00]\n",
      "[0.09 -0.08 0.99]\n"
     ]
    },
    {
     "name": "stderr",
     "output_type": "stream",
     "text": [
      " 23%|██▎       | 1147/5000 [00:28<01:56, 33.11it/s]"
     ]
    },
    {
     "name": "stdout",
     "output_type": "stream",
     "text": [
      "[0.00 -0.03 1.00]\n",
      "[0.03 -0.01 1.00]\n",
      "[0.00 -0.00 1.00]\n",
      "[-0.17 0.06 0.98]\n",
      "[0.06 0.02 1.00]\n",
      "[-0.01 0.03 1.00]\n",
      "[0.10 -0.01 1.00]\n"
     ]
    },
    {
     "name": "stderr",
     "output_type": "stream",
     "text": [
      " 23%|██▎       | 1155/5000 [00:28<01:56, 32.87it/s]"
     ]
    },
    {
     "name": "stdout",
     "output_type": "stream",
     "text": [
      "[0.01 -0.03 1.00]\n",
      "[0.11 -0.04 0.99]\n",
      "[0.08 -0.09 0.99]\n",
      "[0.08 -0.14 0.99]\n",
      "[-0.08 -0.04 1.00]\n",
      "[0.01 -0.01 1.00]\n",
      "[0.01 0.00 1.00]\n"
     ]
    },
    {
     "name": "stderr",
     "output_type": "stream",
     "text": [
      " 23%|██▎       | 1163/5000 [00:28<01:53, 33.68it/s]"
     ]
    },
    {
     "name": "stdout",
     "output_type": "stream",
     "text": [
      "[0.07 -0.03 1.00]\n",
      "[-0.04 -0.03 1.00]\n",
      "[0.04 0.01 1.00]\n",
      "[0.06 0.02 1.00]\n",
      "[0.06 -0.09 0.99]\n",
      "[0.01 0.01 1.00]\n",
      "[0.00 0.00 1.00]\n"
     ]
    },
    {
     "name": "stderr",
     "output_type": "stream",
     "text": [
      "\r",
      " 23%|██▎       | 1167/5000 [00:28<01:55, 33.22it/s]"
     ]
    },
    {
     "name": "stdout",
     "output_type": "stream",
     "text": [
      "[0.06 0.02 1.00]\n",
      "[0.02 -0.10 0.99]\n",
      "[-0.00 0.01 1.00]\n",
      "[0.14 -0.01 0.99]\n",
      "[-0.01 -0.03 1.00]\n",
      "[-0.03 0.07 1.00]\n",
      "[0.07 0.02 1.00]\n"
     ]
    },
    {
     "name": "stderr",
     "output_type": "stream",
     "text": [
      " 24%|██▎       | 1175/5000 [00:28<01:54, 33.43it/s]"
     ]
    },
    {
     "name": "stdout",
     "output_type": "stream",
     "text": [
      "[-0.01 -0.02 1.00]\n",
      "[0.00 -0.01 1.00]\n",
      "[-0.02 -0.06 1.00]\n",
      "[-0.16 -0.03 0.99]\n",
      "[0.05 -0.01 1.00]\n",
      "[-0.02 0.05 1.00]\n",
      "[-0.02 0.05 1.00]\n"
     ]
    },
    {
     "name": "stderr",
     "output_type": "stream",
     "text": [
      " 24%|██▎       | 1183/5000 [00:29<01:54, 33.29it/s]"
     ]
    },
    {
     "name": "stdout",
     "output_type": "stream",
     "text": [
      "[0.02 -0.01 1.00]\n",
      "[-0.00 -0.00 1.00]\n",
      "[0.16 -0.01 0.99]\n",
      "[0.13 0.03 0.99]\n",
      "[0.08 0.01 1.00]\n",
      "[-0.12 -0.13 0.98]\n",
      "[-0.07 -0.07 1.00]\n"
     ]
    },
    {
     "name": "stderr",
     "output_type": "stream",
     "text": [
      " 24%|██▍       | 1191/5000 [00:29<01:54, 33.41it/s]"
     ]
    },
    {
     "name": "stdout",
     "output_type": "stream",
     "text": [
      "[0.26 -0.07 0.96]\n",
      "[0.19 -0.06 0.98]\n",
      "[0.13 0.06 0.99]\n",
      "[0.12 0.13 0.98]\n",
      "[0.06 0.07 1.00]\n",
      "[0.00 -0.03 1.00]\n",
      "[0.07 0.05 1.00]\n"
     ]
    },
    {
     "name": "stderr",
     "output_type": "stream",
     "text": [
      "\r",
      " 24%|██▍       | 1195/5000 [00:29<01:54, 33.29it/s]"
     ]
    },
    {
     "name": "stdout",
     "output_type": "stream",
     "text": [
      "[0.02 -0.01 1.00]\n",
      "[-0.08 -0.07 0.99]\n",
      "[0.15 0.02 0.99]\n",
      "[0.20 -0.07 0.98]\n",
      "[0.04 -0.05 1.00]\n",
      "[-0.28 -0.01 0.96]\n",
      "[0.11 0.14 0.98]\n"
     ]
    },
    {
     "name": "stderr",
     "output_type": "stream",
     "text": [
      " 24%|██▍       | 1203/5000 [00:29<01:53, 33.38it/s]"
     ]
    },
    {
     "name": "stdout",
     "output_type": "stream",
     "text": [
      "[-0.10 0.07 0.99]\n",
      "[-0.04 0.03 1.00]\n",
      "[-0.14 0.04 0.99]\n",
      "[0.05 -0.01 1.00]\n",
      "[-0.17 0.00 0.99]\n",
      "[0.04 -0.06 1.00]\n",
      "[0.01 -0.06 1.00]\n"
     ]
    },
    {
     "name": "stderr",
     "output_type": "stream",
     "text": [
      " 24%|██▍       | 1211/5000 [00:29<01:53, 33.35it/s]"
     ]
    },
    {
     "name": "stdout",
     "output_type": "stream",
     "text": [
      "[0.12 0.03 0.99]\n",
      "[-0.12 0.01 0.99]\n",
      "[0.06 0.00 1.00]\n",
      "[0.04 0.07 1.00]\n",
      "[-0.15 -0.10 0.98]\n",
      "[0.04 -0.02 1.00]\n",
      "[0.10 -0.04 0.99]\n"
     ]
    },
    {
     "name": "stderr",
     "output_type": "stream",
     "text": [
      " 24%|██▍       | 1219/5000 [00:30<01:53, 33.24it/s]"
     ]
    },
    {
     "name": "stdout",
     "output_type": "stream",
     "text": [
      "[-0.12 -0.06 0.99]\n",
      "[0.09 -0.03 0.99]\n",
      "[0.10 -0.02 1.00]\n",
      "[0.05 0.03 1.00]\n",
      "[-0.03 0.02 1.00]\n",
      "[0.20 0.07 0.98]\n",
      "[0.02 0.05 1.00]\n"
     ]
    },
    {
     "name": "stderr",
     "output_type": "stream",
     "text": [
      "\r",
      " 24%|██▍       | 1223/5000 [00:30<01:58, 31.90it/s]"
     ]
    },
    {
     "name": "stdout",
     "output_type": "stream",
     "text": [
      "[-0.02 0.03 1.00]\n",
      "[-0.01 0.08 1.00]\n",
      "[0.02 -0.06 1.00]\n",
      "[0.32 0.02 0.95]\n",
      "[0.16 -0.02 0.99]\n",
      "[-0.06 -0.01 1.00]\n",
      "[-0.05 -0.03 1.00]\n"
     ]
    },
    {
     "name": "stderr",
     "output_type": "stream",
     "text": [
      "\r",
      " 25%|██▍       | 1227/5000 [00:30<01:53, 33.28it/s]"
     ]
    },
    {
     "name": "stdout",
     "output_type": "stream",
     "text": [
      "[0.14 0.01 0.99]\n",
      "[0.16 0.02 0.99]\n",
      "[0.06 -0.07 1.00]\n",
      "[0.05 0.01 1.00]\n"
     ]
    },
    {
     "name": "stderr",
     "output_type": "stream",
     "text": [
      " 25%|██▍       | 1236/5000 [00:30<02:02, 30.74it/s]"
     ]
    },
    {
     "name": "stdout",
     "output_type": "stream",
     "text": [
      "[0.09 0.02 1.00]\n",
      "[0.12 0.04 0.99]\n",
      "[0.08 -0.10 0.99]\n",
      "[0.03 0.07 1.00]\n",
      "[0.13 0.00 0.99]\n",
      "[0.07 0.08 0.99]\n",
      "[-0.06 0.03 1.00]\n",
      "[0.06 0.02 1.00]\n"
     ]
    },
    {
     "name": "stderr",
     "output_type": "stream",
     "text": [
      " 25%|██▍       | 1246/5000 [00:31<01:43, 36.29it/s]"
     ]
    },
    {
     "name": "stdout",
     "output_type": "stream",
     "text": [
      "[-0.03 0.04 1.00]\n",
      "[0.05 0.01 1.00]\n",
      "[-0.16 0.03 0.99]\n",
      "[0.26 0.09 0.96]\n",
      "[0.14 -0.04 0.99]\n",
      "[0.03 0.00 1.00]\n",
      "[0.03 0.02 1.00]\n",
      "[-0.49 -0.13 0.86]\n",
      "[0.16 0.00 0.99]\n"
     ]
    },
    {
     "name": "stderr",
     "output_type": "stream",
     "text": [
      " 25%|██▌       | 1254/5000 [00:31<01:49, 34.20it/s]"
     ]
    },
    {
     "name": "stdout",
     "output_type": "stream",
     "text": [
      "[0.04 -0.08 1.00]\n",
      "[-0.08 0.01 1.00]\n",
      "[0.02 -0.06 1.00]\n",
      "[0.12 0.04 0.99]\n",
      "[0.01 -0.02 1.00]\n",
      "[-0.09 0.05 0.99]\n",
      "[-0.05 0.05 1.00]\n"
     ]
    },
    {
     "name": "stderr",
     "output_type": "stream",
     "text": [
      "\r",
      " 25%|██▌       | 1258/5000 [00:31<01:48, 34.52it/s]"
     ]
    },
    {
     "name": "stdout",
     "output_type": "stream",
     "text": [
      "[0.07 -0.06 1.00]\n",
      "[-0.06 -0.11 0.99]\n",
      "[0.15 -0.04 0.99]\n",
      "[-0.04 -0.10 0.99]\n",
      "[-0.02 0.02 1.00]\n",
      "[0.09 0.13 0.99]\n",
      "[0.01 0.34 0.94]\n"
     ]
    },
    {
     "name": "stderr",
     "output_type": "stream",
     "text": [
      " 25%|██▌       | 1266/5000 [00:31<01:48, 34.44it/s]"
     ]
    },
    {
     "name": "stdout",
     "output_type": "stream",
     "text": [
      "[-0.70 0.26 0.67]\n",
      "[0.05 0.00 1.00]\n",
      "[0.02 -0.04 1.00]\n",
      "[0.08 0.03 1.00]\n",
      "[0.05 -0.02 1.00]\n",
      "[-0.08 0.04 1.00]\n",
      "[0.07 0.15 0.99]\n"
     ]
    },
    {
     "name": "stderr",
     "output_type": "stream",
     "text": [
      " 25%|██▌       | 1274/5000 [00:31<01:50, 33.63it/s]"
     ]
    },
    {
     "name": "stdout",
     "output_type": "stream",
     "text": [
      "[-0.00 0.03 1.00]\n",
      "[0.29 0.10 0.95]\n",
      "[-0.08 0.09 0.99]\n",
      "[-0.32 -0.04 0.95]\n",
      "[0.25 -0.03 0.97]\n",
      "[0.03 -0.06 1.00]\n",
      "[-0.02 0.01 1.00]\n",
      "[0.03 0.01 1.00]\n"
     ]
    },
    {
     "name": "stderr",
     "output_type": "stream",
     "text": [
      " 26%|██▌       | 1282/5000 [00:32<01:49, 34.11it/s]"
     ]
    },
    {
     "name": "stdout",
     "output_type": "stream",
     "text": [
      "[0.10 0.06 0.99]\n",
      "[0.25 0.05 0.97]\n",
      "[0.14 0.00 0.99]\n",
      "[-0.24 0.01 0.97]\n",
      "[0.13 -0.01 0.99]\n",
      "[0.20 -0.11 0.97]\n",
      "[-0.05 -0.06 1.00]\n"
     ]
    },
    {
     "name": "stderr",
     "output_type": "stream",
     "text": [
      " 26%|██▌       | 1290/5000 [00:32<01:51, 33.30it/s]"
     ]
    },
    {
     "name": "stdout",
     "output_type": "stream",
     "text": [
      "[0.16 0.04 0.99]\n",
      "[0.30 0.01 0.95]\n",
      "[-0.02 0.00 1.00]\n",
      "[0.12 0.06 0.99]\n",
      "[0.18 0.03 0.98]\n",
      "[0.07 -0.01 1.00]\n",
      "[-0.08 0.01 1.00]\n"
     ]
    },
    {
     "name": "stderr",
     "output_type": "stream",
     "text": [
      "\r",
      " 26%|██▌       | 1294/5000 [00:32<01:49, 33.86it/s]"
     ]
    },
    {
     "name": "stdout",
     "output_type": "stream",
     "text": [
      "[0.02 0.03 1.00]\n",
      "[-0.03 0.02 1.00]\n",
      "[-0.05 -0.03 1.00]\n",
      "[0.03 -0.11 0.99]\n",
      "[0.05 0.07 1.00]\n",
      "[-0.03 0.02 1.00]\n",
      "[-0.34 0.08 0.94]\n"
     ]
    },
    {
     "name": "stderr",
     "output_type": "stream",
     "text": [
      " 26%|██▌       | 1302/5000 [00:32<01:48, 34.07it/s]"
     ]
    },
    {
     "name": "stdout",
     "output_type": "stream",
     "text": [
      "[0.02 -0.04 1.00]\n",
      "[-0.01 -0.02 1.00]\n",
      "[-0.08 -0.07 0.99]\n",
      "[0.13 0.01 0.99]\n",
      "[-0.21 0.07 0.97]\n",
      "[-0.01 -0.03 1.00]\n",
      "[0.03 0.04 1.00]\n"
     ]
    },
    {
     "name": "stderr",
     "output_type": "stream",
     "text": [
      " 26%|██▌       | 1310/5000 [00:32<01:56, 31.76it/s]"
     ]
    },
    {
     "name": "stdout",
     "output_type": "stream",
     "text": [
      "[0.25 -0.05 0.97]\n",
      "[0.08 0.01 1.00]\n",
      "[0.04 0.01 1.00]\n",
      "[-0.16 0.05 0.98]\n",
      "[0.22 -0.12 0.97]\n",
      "[0.02 0.03 1.00]\n"
     ]
    },
    {
     "name": "stderr",
     "output_type": "stream",
     "text": [
      " 26%|██▋       | 1318/5000 [00:33<01:49, 33.63it/s]"
     ]
    },
    {
     "name": "stdout",
     "output_type": "stream",
     "text": [
      "[0.03 0.01 1.00]\n",
      "[0.04 -0.01 1.00]\n",
      "[0.14 -0.05 0.99]\n",
      "[-0.19 -0.10 0.98]\n",
      "[0.06 -0.02 1.00]\n",
      "[-0.10 -0.02 0.99]\n",
      "[-0.09 -0.11 0.99]\n",
      "[-0.03 -0.00 1.00]\n"
     ]
    },
    {
     "name": "stderr",
     "output_type": "stream",
     "text": [
      "\r",
      " 26%|██▋       | 1322/5000 [00:33<01:49, 33.47it/s]"
     ]
    },
    {
     "name": "stdout",
     "output_type": "stream",
     "text": [
      "[-0.07 0.06 1.00]\n",
      "[-0.00 0.13 0.99]\n",
      "[0.01 -0.19 0.98]\n",
      "[-0.05 0.11 0.99]\n",
      "[0.00 0.04 1.00]\n",
      "[0.00 -0.04 1.00]\n",
      "[-0.16 -0.03 0.99]\n"
     ]
    },
    {
     "name": "stderr",
     "output_type": "stream",
     "text": [
      " 27%|██▋       | 1330/5000 [00:33<01:49, 33.65it/s]"
     ]
    },
    {
     "name": "stdout",
     "output_type": "stream",
     "text": [
      "[0.05 -0.01 1.00]\n",
      "[0.04 -0.07 1.00]\n",
      "[0.02 0.05 1.00]\n",
      "[-0.17 -0.01 0.98]\n",
      "[-0.01 0.07 1.00]\n",
      "[0.06 -0.11 0.99]\n",
      "[0.10 0.03 0.99]\n"
     ]
    },
    {
     "name": "stderr",
     "output_type": "stream",
     "text": [
      " 27%|██▋       | 1338/5000 [00:33<01:49, 33.51it/s]"
     ]
    },
    {
     "name": "stdout",
     "output_type": "stream",
     "text": [
      "[0.04 -0.09 0.99]\n",
      "[0.02 0.04 1.00]\n",
      "[-0.04 0.04 1.00]\n",
      "[-0.36 -0.17 0.92]\n",
      "[0.09 0.07 0.99]\n",
      "[0.02 -0.03 1.00]\n",
      "[0.05 -0.06 1.00]\n"
     ]
    },
    {
     "name": "stderr",
     "output_type": "stream",
     "text": [
      " 27%|██▋       | 1346/5000 [00:34<01:48, 33.56it/s]"
     ]
    },
    {
     "name": "stdout",
     "output_type": "stream",
     "text": [
      "[-0.12 0.11 0.99]\n",
      "[0.17 -0.09 0.98]\n",
      "[0.12 0.07 0.99]\n",
      "[0.09 -0.04 0.99]\n",
      "[0.03 -0.06 1.00]\n",
      "[-0.00 0.03 1.00]\n",
      "[0.07 -0.01 1.00]\n",
      "[0.06 -0.00 1.00]\n"
     ]
    },
    {
     "name": "stderr",
     "output_type": "stream",
     "text": [
      " 27%|██▋       | 1354/5000 [00:34<01:47, 33.78it/s]"
     ]
    },
    {
     "name": "stdout",
     "output_type": "stream",
     "text": [
      "[0.02 -0.01 1.00]\n",
      "[0.01 0.00 1.00]\n",
      "[0.01 0.05 1.00]\n",
      "[-0.09 0.02 1.00]\n",
      "[0.07 -0.02 1.00]\n",
      "[0.16 0.05 0.99]\n",
      "[0.05 0.03 1.00]\n",
      "[-0.03 -0.01 1.00]\n"
     ]
    },
    {
     "name": "stderr",
     "output_type": "stream",
     "text": [
      " 27%|██▋       | 1362/5000 [00:34<01:46, 34.17it/s]"
     ]
    },
    {
     "name": "stdout",
     "output_type": "stream",
     "text": [
      "[-0.01 -0.06 1.00]\n",
      "[0.07 0.00 1.00]\n",
      "[0.02 0.03 1.00]\n",
      "[-0.17 0.04 0.99]\n",
      "[0.04 -0.06 1.00]\n",
      "[0.05 0.03 1.00]\n",
      "[0.11 -0.01 0.99]\n"
     ]
    },
    {
     "name": "stderr",
     "output_type": "stream",
     "text": [
      "\r",
      " 27%|██▋       | 1366/5000 [00:34<01:47, 33.87it/s]"
     ]
    },
    {
     "name": "stdout",
     "output_type": "stream",
     "text": [
      "[0.05 0.07 1.00]\n",
      "[0.06 0.02 1.00]\n",
      "[0.06 0.00 1.00]\n",
      "[0.01 0.00 1.00]\n",
      "[0.06 -0.02 1.00]\n",
      "[0.14 -0.07 0.99]\n",
      "[-0.06 0.02 1.00]\n"
     ]
    },
    {
     "name": "stderr",
     "output_type": "stream",
     "text": [
      " 28%|██▊       | 1377/5000 [00:35<01:54, 31.65it/s]"
     ]
    },
    {
     "name": "stdout",
     "output_type": "stream",
     "text": [
      "[0.04 0.01 1.00]\n",
      "[0.01 0.00 1.00]\n",
      "[0.06 -0.00 1.00]\n",
      "[-0.05 -0.02 1.00]\n",
      "[-0.04 0.03 1.00]\n",
      "[-0.03 0.02 1.00]\n",
      "[0.08 -0.00 1.00]\n",
      "[0.11 0.08 0.99]\n",
      "[0.14 -0.02 0.99]\n",
      "[0.11 -0.09 0.99]\n",
      "[-0.02 0.07 1.00]\n",
      "[0.08 0.00 1.00]\n",
      "[0.08 -0.02 1.00]\n"
     ]
    },
    {
     "name": "stderr",
     "output_type": "stream",
     "text": [
      " 28%|██▊       | 1388/5000 [00:35<01:39, 36.47it/s]"
     ]
    },
    {
     "name": "stdout",
     "output_type": "stream",
     "text": [
      "[0.06 0.03 1.00]\n",
      "[0.04 -0.01 1.00]\n",
      "[0.11 0.07 0.99]\n",
      "[0.03 -0.05 1.00]\n",
      "[0.05 0.00 1.00]\n",
      "[0.09 -0.05 1.00]\n",
      "[-0.18 -0.03 0.98]\n",
      "[-0.01 0.07 1.00]\n"
     ]
    },
    {
     "name": "stderr",
     "output_type": "stream",
     "text": [
      " 28%|██▊       | 1397/5000 [00:35<01:41, 35.46it/s]"
     ]
    },
    {
     "name": "stdout",
     "output_type": "stream",
     "text": [
      "[0.02 0.08 1.00]\n",
      "[0.07 -0.00 1.00]\n",
      "[-0.00 -0.06 1.00]\n",
      "[0.10 0.03 0.99]\n",
      "[0.03 0.00 1.00]\n",
      "[0.04 -0.00 1.00]\n",
      "[0.09 0.03 1.00]\n"
     ]
    },
    {
     "name": "stderr",
     "output_type": "stream",
     "text": [
      "\r",
      " 28%|██▊       | 1401/5000 [00:35<01:45, 34.15it/s]"
     ]
    },
    {
     "name": "stdout",
     "output_type": "stream",
     "text": [
      "[-0.02 0.04 1.00]\n",
      "[0.01 -0.01 1.00]\n",
      "[0.03 0.02 1.00]\n",
      "[-0.07 0.00 1.00]\n",
      "[0.06 -0.02 1.00]\n",
      "[0.05 -0.02 1.00]\n",
      "[0.06 -0.09 0.99]\n"
     ]
    },
    {
     "name": "stderr",
     "output_type": "stream",
     "text": [
      " 28%|██▊       | 1409/5000 [00:35<01:44, 34.49it/s]"
     ]
    },
    {
     "name": "stdout",
     "output_type": "stream",
     "text": [
      "[0.06 0.06 1.00]\n",
      "[-0.01 0.07 1.00]\n",
      "[0.05 -0.02 1.00]\n",
      "[-0.13 -0.13 0.98]\n",
      "[-0.06 -0.00 1.00]\n",
      "[0.12 0.01 0.99]\n",
      "[0.09 -0.01 1.00]\n"
     ]
    },
    {
     "name": "stderr",
     "output_type": "stream",
     "text": [
      " 28%|██▊       | 1418/5000 [00:36<01:43, 34.72it/s]"
     ]
    },
    {
     "name": "stdout",
     "output_type": "stream",
     "text": [
      "[0.07 -0.02 1.00]\n",
      "[-0.17 0.02 0.99]\n",
      "[0.07 -0.05 1.00]\n",
      "[0.18 0.11 0.98]\n",
      "[-0.24 0.10 0.97]\n",
      "[-0.12 -0.02 0.99]\n",
      "[-0.26 -0.03 0.97]\n",
      "[-0.08 -0.02 1.00]\n"
     ]
    },
    {
     "name": "stderr",
     "output_type": "stream",
     "text": [
      " 29%|██▊       | 1426/5000 [00:36<01:46, 33.63it/s]"
     ]
    },
    {
     "name": "stdout",
     "output_type": "stream",
     "text": [
      "[0.05 0.06 1.00]\n",
      "[-0.15 0.00 0.99]\n",
      "[-0.26 0.08 0.96]\n",
      "[-0.09 0.01 1.00]\n",
      "[-0.11 -0.00 0.99]\n",
      "[0.01 -0.03 1.00]\n",
      "[-0.10 0.00 0.99]\n"
     ]
    },
    {
     "name": "stderr",
     "output_type": "stream",
     "text": [
      "\r",
      " 29%|██▊       | 1430/5000 [00:36<01:45, 33.77it/s]"
     ]
    },
    {
     "name": "stdout",
     "output_type": "stream",
     "text": [
      "[-0.19 0.01 0.98]\n",
      "[-0.06 -0.04 1.00]\n",
      "[-0.05 -0.01 1.00]\n",
      "[0.16 -0.03 0.99]\n",
      "[0.12 0.07 0.99]\n",
      "[-0.15 -0.02 0.99]\n",
      "[-0.28 0.06 0.96]\n"
     ]
    },
    {
     "name": "stderr",
     "output_type": "stream",
     "text": [
      " 29%|██▉       | 1438/5000 [00:36<01:48, 32.83it/s]"
     ]
    },
    {
     "name": "stdout",
     "output_type": "stream",
     "text": [
      "[-0.13 -0.00 0.99]\n",
      "[0.12 -0.00 0.99]\n",
      "[0.10 -0.02 1.00]\n",
      "[0.07 0.07 1.00]\n",
      "[0.03 0.09 1.00]\n",
      "[0.03 -0.05 1.00]\n",
      "[-0.01 0.05 1.00]\n"
     ]
    },
    {
     "name": "stderr",
     "output_type": "stream",
     "text": [
      " 29%|██▉       | 1446/5000 [00:37<01:48, 32.73it/s]"
     ]
    },
    {
     "name": "stdout",
     "output_type": "stream",
     "text": [
      "[-0.11 0.01 0.99]\n",
      "[0.00 0.01 1.00]\n",
      "[0.03 -0.02 1.00]\n",
      "[0.08 -0.01 1.00]\n",
      "[0.06 -0.02 1.00]\n",
      "[0.15 -0.06 0.99]\n",
      "[0.08 0.01 1.00]\n"
     ]
    },
    {
     "name": "stderr",
     "output_type": "stream",
     "text": [
      " 29%|██▉       | 1454/5000 [00:37<01:44, 33.86it/s]"
     ]
    },
    {
     "name": "stdout",
     "output_type": "stream",
     "text": [
      "[0.09 0.01 1.00]\n",
      "[0.02 0.01 1.00]\n",
      "[0.09 -0.02 1.00]\n",
      "[0.10 0.01 0.99]\n",
      "[0.03 -0.01 1.00]\n",
      "[0.06 -0.01 1.00]\n",
      "[0.09 0.03 1.00]\n"
     ]
    },
    {
     "name": "stderr",
     "output_type": "stream",
     "text": [
      "\r",
      " 29%|██▉       | 1458/5000 [00:37<01:43, 34.23it/s]"
     ]
    },
    {
     "name": "stdout",
     "output_type": "stream",
     "text": [
      "[0.04 -0.00 1.00]\n",
      "[0.05 -0.08 1.00]\n",
      "[-0.01 -0.00 1.00]\n",
      "[0.26 -0.00 0.97]\n",
      "[0.06 -0.01 1.00]\n",
      "[0.14 0.05 0.99]\n",
      "[0.07 0.02 1.00]\n"
     ]
    },
    {
     "name": "stderr",
     "output_type": "stream",
     "text": [
      " 29%|██▉       | 1466/5000 [00:37<01:44, 33.81it/s]"
     ]
    },
    {
     "name": "stdout",
     "output_type": "stream",
     "text": [
      "[0.02 0.02 1.00]\n",
      "[0.10 -0.07 0.99]\n",
      "[0.05 -0.01 1.00]\n",
      "[0.04 -0.00 1.00]\n",
      "[0.09 0.01 1.00]\n",
      "[0.10 0.03 0.99]\n",
      "[-0.17 -0.00 0.99]\n"
     ]
    },
    {
     "name": "stderr",
     "output_type": "stream",
     "text": [
      " 29%|██▉       | 1474/5000 [00:37<01:45, 33.53it/s]"
     ]
    },
    {
     "name": "stdout",
     "output_type": "stream",
     "text": [
      "[-0.03 0.03 1.00]\n",
      "[0.07 -0.02 1.00]\n",
      "[0.02 0.01 1.00]\n",
      "[0.08 -0.02 1.00]\n",
      "[-0.34 -0.11 0.93]\n",
      "[0.10 0.04 0.99]\n",
      "[0.12 -0.01 0.99]\n"
     ]
    },
    {
     "name": "stderr",
     "output_type": "stream",
     "text": [
      " 30%|██▉       | 1482/5000 [00:38<01:45, 33.29it/s]"
     ]
    },
    {
     "name": "stdout",
     "output_type": "stream",
     "text": [
      "[0.12 0.01 0.99]\n",
      "[0.21 -0.08 0.97]\n",
      "[-0.02 -0.08 1.00]\n",
      "[-0.11 -0.05 0.99]\n",
      "[0.11 0.03 0.99]\n",
      "[-0.00 -0.01 1.00]\n",
      "[0.07 0.01 1.00]\n"
     ]
    },
    {
     "name": "stderr",
     "output_type": "stream",
     "text": [
      "\r",
      " 30%|██▉       | 1486/5000 [00:38<01:44, 33.62it/s]"
     ]
    },
    {
     "name": "stdout",
     "output_type": "stream",
     "text": [
      "[0.14 0.02 0.99]\n",
      "[-0.11 -0.04 0.99]\n",
      "[0.08 0.05 1.00]\n",
      "[0.18 0.08 0.98]\n",
      "[0.04 -0.03 1.00]\n",
      "[-0.15 -0.07 0.99]\n",
      "[0.03 0.02 1.00]\n"
     ]
    },
    {
     "name": "stderr",
     "output_type": "stream",
     "text": [
      " 30%|██▉       | 1494/5000 [00:38<01:45, 33.39it/s]"
     ]
    },
    {
     "name": "stdout",
     "output_type": "stream",
     "text": [
      "[0.19 -0.01 0.98]\n",
      "[0.00 -0.01 1.00]\n",
      "[0.04 0.02 1.00]\n",
      "[0.02 -0.01 1.00]\n",
      "[0.21 -0.05 0.98]\n",
      "[0.11 0.03 0.99]\n",
      "[-0.02 -0.01 1.00]\n"
     ]
    },
    {
     "name": "stderr",
     "output_type": "stream",
     "text": [
      " 30%|███       | 1503/5000 [00:38<01:44, 33.62it/s]"
     ]
    },
    {
     "name": "stdout",
     "output_type": "stream",
     "text": [
      "[0.10 0.00 0.99]\n",
      "[0.04 -0.02 1.00]\n",
      "[0.01 -0.03 1.00]\n",
      "[0.21 -0.04 0.98]\n",
      "[0.13 -0.01 0.99]\n",
      "[0.05 0.02 1.00]\n",
      "[0.03 -0.06 1.00]\n",
      "[0.04 -0.01 1.00]\n"
     ]
    },
    {
     "name": "stderr",
     "output_type": "stream",
     "text": [
      " 30%|███       | 1511/5000 [00:38<01:43, 33.77it/s]"
     ]
    },
    {
     "name": "stdout",
     "output_type": "stream",
     "text": [
      "[0.05 -0.04 1.00]\n",
      "[0.03 0.02 1.00]\n",
      "[-0.03 0.02 1.00]\n",
      "[-0.02 0.00 1.00]\n",
      "[0.11 -0.04 0.99]\n",
      "[0.17 -0.01 0.99]\n",
      "[0.02 -0.02 1.00]\n"
     ]
    },
    {
     "name": "stderr",
     "output_type": "stream",
     "text": [
      "\r",
      " 30%|███       | 1515/5000 [00:39<01:43, 33.59it/s]"
     ]
    },
    {
     "name": "stdout",
     "output_type": "stream",
     "text": [
      "[0.04 0.01 1.00]\n",
      "[0.00 0.07 1.00]\n",
      "[0.20 0.12 0.97]\n",
      "[0.21 0.08 0.97]\n",
      "[-0.08 0.04 1.00]\n",
      "[0.09 0.05 0.99]\n",
      "[0.18 0.03 0.98]\n"
     ]
    },
    {
     "name": "stderr",
     "output_type": "stream",
     "text": [
      " 30%|███       | 1523/5000 [00:39<01:45, 33.07it/s]"
     ]
    },
    {
     "name": "stdout",
     "output_type": "stream",
     "text": [
      "[-0.06 0.07 1.00]\n",
      "[-0.08 0.07 0.99]\n",
      "[0.00 0.02 1.00]\n",
      "[0.10 -0.06 0.99]\n",
      "[0.03 -0.04 1.00]\n",
      "[0.08 -0.01 1.00]\n",
      "[0.18 -0.01 0.98]\n"
     ]
    },
    {
     "name": "stderr",
     "output_type": "stream",
     "text": [
      " 31%|███       | 1531/5000 [00:39<01:45, 32.83it/s]"
     ]
    },
    {
     "name": "stdout",
     "output_type": "stream",
     "text": [
      "[0.05 -0.03 1.00]\n",
      "[0.06 -0.05 1.00]\n",
      "[0.14 0.00 0.99]\n",
      "[0.12 0.02 0.99]\n",
      "[-0.76 0.28 0.58]\n",
      "[0.02 -0.05 1.00]\n",
      "[0.02 -0.06 1.00]\n"
     ]
    },
    {
     "name": "stderr",
     "output_type": "stream",
     "text": [
      " 31%|███       | 1539/5000 [00:39<01:44, 33.04it/s]"
     ]
    },
    {
     "name": "stdout",
     "output_type": "stream",
     "text": [
      "[0.10 -0.02 1.00]\n",
      "[0.35 0.04 0.94]\n",
      "[0.14 0.14 0.98]\n",
      "[0.14 0.07 0.99]\n",
      "[0.01 -0.03 1.00]\n",
      "[-0.02 -0.02 1.00]\n",
      "[-0.22 0.01 0.98]\n"
     ]
    },
    {
     "name": "stderr",
     "output_type": "stream",
     "text": [
      "\r",
      " 31%|███       | 1543/5000 [00:39<01:42, 33.81it/s]"
     ]
    },
    {
     "name": "stdout",
     "output_type": "stream",
     "text": [
      "[0.11 -0.00 0.99]\n",
      "[-0.08 -0.02 1.00]\n",
      "[-0.20 0.08 0.98]\n",
      "[0.02 0.08 1.00]\n",
      "[0.04 0.02 1.00]\n",
      "[-0.06 0.01 1.00]\n",
      "[-0.02 0.01 1.00]\n"
     ]
    },
    {
     "name": "stderr",
     "output_type": "stream",
     "text": [
      " 31%|███       | 1551/5000 [00:40<01:46, 32.24it/s]"
     ]
    },
    {
     "name": "stdout",
     "output_type": "stream",
     "text": [
      "[-0.11 0.00 0.99]\n",
      "[0.26 0.09 0.96]\n",
      "[-0.22 0.06 0.97]\n",
      "[-0.10 0.06 0.99]\n",
      "[0.02 -0.03 1.00]\n",
      "[0.11 -0.03 0.99]\n",
      "[0.09 0.02 1.00]\n"
     ]
    },
    {
     "name": "stderr",
     "output_type": "stream",
     "text": [
      " 31%|███       | 1559/5000 [00:40<01:42, 33.44it/s]"
     ]
    },
    {
     "name": "stdout",
     "output_type": "stream",
     "text": [
      "[-0.01 0.04 1.00]\n",
      "[0.03 0.01 1.00]\n",
      "[0.03 -0.01 1.00]\n",
      "[-0.15 0.07 0.99]\n",
      "[-0.09 0.03 1.00]\n",
      "[0.00 0.00 1.00]\n",
      "[0.05 0.02 1.00]\n"
     ]
    },
    {
     "name": "stderr",
     "output_type": "stream",
     "text": [
      " 31%|███▏      | 1567/5000 [00:40<01:47, 32.01it/s]"
     ]
    },
    {
     "name": "stdout",
     "output_type": "stream",
     "text": [
      "[-0.03 -0.04 1.00]\n",
      "[-0.18 -0.06 0.98]\n",
      "[-0.06 0.02 1.00]\n",
      "[0.02 -0.03 1.00]\n",
      "[0.06 -0.04 1.00]\n",
      "[0.01 -0.01 1.00]\n",
      "[-0.23 -0.04 0.97]\n"
     ]
    },
    {
     "name": "stderr",
     "output_type": "stream",
     "text": [
      " 31%|███▏      | 1572/5000 [00:40<01:28, 38.52it/s]"
     ]
    },
    {
     "name": "stdout",
     "output_type": "stream",
     "text": [
      "[0.04 0.00 1.00]\n",
      "[-0.03 0.05 1.00]\n",
      "[-0.05 -0.03 1.00]\n",
      "[-0.24 0.04 0.97]\n",
      "[-0.12 0.04 0.99]\n"
     ]
    },
    {
     "name": "stderr",
     "output_type": "stream",
     "text": [
      "\n"
     ]
    },
    {
     "ename": "KeyboardInterrupt",
     "evalue": "",
     "output_type": "error",
     "traceback": [
      "\u001b[0;31m---------------------------------------------------------------------------\u001b[0m",
      "\u001b[0;31mKeyboardInterrupt\u001b[0m                         Traceback (most recent call last)",
      "\u001b[0;32m<ipython-input-30-8c82843d607d>\u001b[0m in \u001b[0;36m<module>\u001b[0;34m\u001b[0m\n\u001b[1;32m      4\u001b[0m         \u001b[0;32mif\u001b[0m \u001b[0mmsg\u001b[0m \u001b[0;32mis\u001b[0m \u001b[0;32mNone\u001b[0m\u001b[0;34m:\u001b[0m\u001b[0;34m\u001b[0m\u001b[0;34m\u001b[0m\u001b[0m\n\u001b[1;32m      5\u001b[0m             \u001b[0;32mbreak\u001b[0m\u001b[0;34m\u001b[0m\u001b[0;34m\u001b[0m\u001b[0m\n\u001b[0;32m----> 6\u001b[0;31m         \u001b[0mmeas\u001b[0m \u001b[0;34m=\u001b[0m \u001b[0mip\u001b[0m\u001b[0;34m.\u001b[0m\u001b[0mcamera_callback\u001b[0m\u001b[0;34m(\u001b[0m\u001b[0mmsg\u001b[0m\u001b[0;34m)\u001b[0m\u001b[0;34m\u001b[0m\u001b[0;34m\u001b[0m\u001b[0m\n\u001b[0m\u001b[1;32m      7\u001b[0m         \u001b[0modom\u001b[0m \u001b[0;34m=\u001b[0m \u001b[0msolver\u001b[0m\u001b[0;34m.\u001b[0m\u001b[0mfeature_callback\u001b[0m\u001b[0;34m(\u001b[0m\u001b[0mmeas\u001b[0m\u001b[0;34m)\u001b[0m\u001b[0;34m\u001b[0m\u001b[0;34m\u001b[0m\u001b[0m\n\u001b[1;32m      8\u001b[0m         \u001b[0mtraj\u001b[0m\u001b[0;34m.\u001b[0m\u001b[0madd_point\u001b[0m\u001b[0;34m(\u001b[0m\u001b[0modom\u001b[0m\u001b[0;34m)\u001b[0m\u001b[0;34m\u001b[0m\u001b[0;34m\u001b[0m\u001b[0m\n",
      "\u001b[0;32m~/Codes/KITTI360_Processing/notebooks/../image_processing.py\u001b[0m in \u001b[0;36mcamera_callback\u001b[0;34m(self, camera_msg)\u001b[0m\n\u001b[1;32m     78\u001b[0m             \u001b[0;31m# Track the feature in the previous image.\u001b[0m\u001b[0;34m\u001b[0m\u001b[0;34m\u001b[0m\u001b[0;34m\u001b[0m\u001b[0m\n\u001b[1;32m     79\u001b[0m             \u001b[0mt\u001b[0m \u001b[0;34m=\u001b[0m \u001b[0mtime\u001b[0m\u001b[0;34m.\u001b[0m\u001b[0mtime\u001b[0m\u001b[0;34m(\u001b[0m\u001b[0;34m)\u001b[0m\u001b[0;34m\u001b[0m\u001b[0;34m\u001b[0m\u001b[0m\n\u001b[0;32m---> 80\u001b[0;31m             \u001b[0mself\u001b[0m\u001b[0;34m.\u001b[0m\u001b[0mtrack_features\u001b[0m\u001b[0;34m(\u001b[0m\u001b[0;34m)\u001b[0m\u001b[0;34m\u001b[0m\u001b[0;34m\u001b[0m\u001b[0m\n\u001b[0m\u001b[1;32m     81\u001b[0m             \u001b[0;32mif\u001b[0m \u001b[0mself\u001b[0m\u001b[0;34m.\u001b[0m\u001b[0mverbose\u001b[0m\u001b[0;34m:\u001b[0m\u001b[0;34m\u001b[0m\u001b[0;34m\u001b[0m\u001b[0m\n\u001b[1;32m     82\u001b[0m                 \u001b[0mprint\u001b[0m\u001b[0;34m(\u001b[0m\u001b[0;34m'___track_features:'\u001b[0m\u001b[0;34m,\u001b[0m \u001b[0mtime\u001b[0m\u001b[0;34m.\u001b[0m\u001b[0mtime\u001b[0m\u001b[0;34m(\u001b[0m\u001b[0;34m)\u001b[0m \u001b[0;34m-\u001b[0m \u001b[0mt\u001b[0m\u001b[0;34m)\u001b[0m\u001b[0;34m\u001b[0m\u001b[0;34m\u001b[0m\u001b[0m\n",
      "\u001b[0;32m~/Codes/KITTI360_Processing/notebooks/../image_processing.py\u001b[0m in \u001b[0;36mtrack_features\u001b[0;34m(self, img)\u001b[0m\n\u001b[1;32m    182\u001b[0m             prev_cam0_points, cam0_R_p_c, self.cam0_intrinsics)\n\u001b[1;32m    183\u001b[0m \u001b[0;34m\u001b[0m\u001b[0m\n\u001b[0;32m--> 184\u001b[0;31m         curr_cam0_points, track_inliers, _ = cv2.calcOpticalFlowPyrLK(\n\u001b[0m\u001b[1;32m    185\u001b[0m             \u001b[0mself\u001b[0m\u001b[0;34m.\u001b[0m\u001b[0mcam0_prev_img_msg\u001b[0m\u001b[0;34m.\u001b[0m\u001b[0mimage\u001b[0m\u001b[0;34m,\u001b[0m \u001b[0mself\u001b[0m\u001b[0;34m.\u001b[0m\u001b[0mcam0_curr_img_msg\u001b[0m\u001b[0;34m.\u001b[0m\u001b[0mimage\u001b[0m\u001b[0;34m,\u001b[0m\u001b[0;34m\u001b[0m\u001b[0;34m\u001b[0m\u001b[0m\n\u001b[1;32m    186\u001b[0m             \u001b[0mprev_cam0_points\u001b[0m\u001b[0;34m.\u001b[0m\u001b[0mastype\u001b[0m\u001b[0;34m(\u001b[0m\u001b[0mnp\u001b[0m\u001b[0;34m.\u001b[0m\u001b[0mfloat32\u001b[0m\u001b[0;34m)\u001b[0m\u001b[0;34m,\u001b[0m\u001b[0;34m\u001b[0m\u001b[0;34m\u001b[0m\u001b[0m\n",
      "\u001b[0;31mKeyboardInterrupt\u001b[0m: "
     ]
    }
   ],
   "source": [
    "try:\n",
    "    for i in tqdm(range(5000)):\n",
    "        msg = img_queue.get()\n",
    "        if msg is None:\n",
    "            break\n",
    "        meas = ip.camera_callback(msg)\n",
    "        odom = solver.feature_callback(meas)\n",
    "        traj.add_point(odom)\n",
    "except Exception as e:\n",
    "    print(e)\n",
    "img_publisher.stop()"
   ]
  },
  {
   "cell_type": "code",
   "execution_count": 21,
   "id": "9a46125e",
   "metadata": {},
   "outputs": [
    {
     "name": "stderr",
     "output_type": "stream",
     "text": [
      "100%|██████████| 682/682 [00:00<00:00, 92594.29it/s]\n"
     ]
    },
    {
     "data": {
      "image/png": "[encoded data removed]",
      "text/plain": [
       "<Figure size 432x288 with 1 Axes>"
      ]
     },
     "metadata": {
      "needs_background": "light"
     },
     "output_type": "display_data"
    }
   ],
   "source": [
    "traj.create_plot()"
   ]
  },
  {
   "cell_type": "code",
   "execution_count": null,
   "id": "a16887c1",
   "metadata": {},
   "outputs": [],
   "source": [
    "traj.create_plot()"
   ]
  }
 ],
 "metadata": {
  "kernelspec": {
   "display_name": "Python 3 (ipykernel)",
   "language": "python",
   "name": "python3"
  },
  "language_info": {
   "codemirror_mode": {
    "name": "ipython",
    "version": 3
   },
   "file_extension": ".py",
   "mimetype": "text/x-python",
   "name": "python",
   "nbconvert_exporter": "python",
   "pygments_lexer": "ipython3",
   "version": "3.8.10"
  }
 },
 "nbformat": 4,
 "nbformat_minor": 5
}
