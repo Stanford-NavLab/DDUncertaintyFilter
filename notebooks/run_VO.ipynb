{
 "cells": [
  {
   "cell_type": "code",
   "execution_count": 1,
   "id": "44ad286b",
   "metadata": {},
   "outputs": [],
   "source": [
    "%matplotlib inline\n",
    "import pandas as pd\n",
    "import numpy as np\n",
    "from threading import Thread\n",
    "import cv2\n",
    "import os, sys\n",
    "import time\n",
    "import glob\n",
    "from collections import defaultdict, namedtuple\n",
    "import matplotlib.pyplot as plt\n",
    "from mpl_toolkits.mplot3d import Axes3D\n",
    "import matplotlib.animation as animation\n",
    "from itertools import chain, compress\n",
    "from queue import Queue\n",
    "from scipy.stats import chi2\n",
    "import pytransform3d.transformations as pt\n",
    "import pytransform3d.rotations as pr\n",
    "from pytransform3d.plot_utils import make_3d_axis\n",
    "from tqdm import tqdm"
   ]
  },
  {
   "cell_type": "code",
   "execution_count": 2,
   "id": "444a306a",
   "metadata": {},
   "outputs": [],
   "source": [
    "from config import *\n",
    "from image_processing import *\n",
    "from image_reader import *\n",
    "from online_testing import *\n",
    "from utils import *\n",
    "from states import *\n",
    "from feature import *"
   ]
  },
  {
   "cell_type": "code",
   "execution_count": 3,
   "id": "0fad44f8",
   "metadata": {},
   "outputs": [],
   "source": [
    "\"\"\"\n",
    "Snapshot PnP VO solver\n",
    "\"\"\"\n",
    "class SnapshotPnPSolver(object):\n",
    "    def __init__(self, config, verbose=True):\n",
    "        self.config = config\n",
    "        self.optimization_config = config.optimization_config\n",
    "        self.map_server = dict()   # <FeatureID, Feature>\n",
    "        self.state = None\n",
    "        self.prev_state = CAMState()\n",
    "        self.verbose = verbose\n",
    "\n",
    "        self.K = self.to_K(config.cam0_intrinsics)\n",
    "        self.T_cam_w = Isometry3d(config.T_cam0_imu[:3, :3], config.T_cam0_imu[:3, 3])\n",
    "\n",
    "        CAMState.next_id = 0\n",
    "\n",
    "        # Tracking rate.\n",
    "        self.tracking_rate = None\n",
    "\n",
    "        # Indicate if the received image is the first one. The system will \n",
    "        # start after receiving the first image.\n",
    "        self.is_first_img = True\n",
    "\n",
    "    def to_K(self, params):\n",
    "        \n",
    "        K = np.zeros((3,3))\n",
    "        K[0, 0] = params[0]\n",
    "        K[0, 2] = params[2]\n",
    "        K[1, 1] = params[1]\n",
    "        K[1, 2] = params[3]\n",
    "        K[2, 2] = 1\n",
    "        return K\n",
    "    \n",
    "    def feature_callback(self, feature_msg):\n",
    "        \"\"\"\n",
    "        Callback function for feature measurements.\n",
    "        \"\"\"\n",
    "        start = time.time()\n",
    "        self.state = CAMState(CAMState.next_id)\n",
    "        self.state.timestamp = feature_msg.timestamp\n",
    "        \n",
    "        t = time.time()\n",
    "\n",
    "        # Add new observations for existing features or new features \n",
    "        # in the map server.\n",
    "        self.add_feature_observations(feature_msg)\n",
    "\n",
    "        if self.verbose:\n",
    "            print('___add_feature_observations', time.time() - t)\n",
    "\n",
    "        # Start the system if the first image is received.\n",
    "        # The frame where the first image is received will be the origin.\n",
    "        if self.is_first_img:\n",
    "            self.is_first_img = False\n",
    "            self.state.position = self.prev_state.position\n",
    "            self.state.orientation = self.prev_state.orientation\n",
    "        else:\n",
    "            t = time.time()\n",
    "            # Track state using visual odometry\n",
    "            self.track_state(feature_msg)\n",
    "\n",
    "            if self.verbose:\n",
    "                print('___track_state', time.time() - t)\n",
    "        if self.verbose:\n",
    "            print('===snapshot PnP VO elapsed:          ', time.time() - start, f'({feature_msg.timestamp})')\n",
    "\n",
    "        try:\n",
    "            # Publish the odometry.\n",
    "            return self.publish(feature_msg.timestamp)\n",
    "        finally:\n",
    "            # Reset the system if necessary.\n",
    "            self.prev_state = self.state\n",
    "            CAMState.next_id += 1\n",
    "\n",
    "    def add_feature_observations(self, feature_msg):\n",
    "        tracked_feature_num = 0\n",
    "        curr_feature_num = len(self.map_server)\n",
    "        for feature in feature_msg.features:\n",
    "            if feature.id not in self.map_server:\n",
    "                # This is a new feature.\n",
    "                map_feature = Feature(feature.id, self.optimization_config)\n",
    "                map_feature.observations[self.state.id] = np.array([\n",
    "                    feature.u0, feature.v0])\n",
    "                self.map_server[feature.id] = map_feature\n",
    "            else:\n",
    "                # This is an old feature.\n",
    "                self.map_server[feature.id].observations[self.state.id] = np.array([\n",
    "                    feature.u0, feature.v0])\n",
    "                tracked_feature_num += 1\n",
    "\n",
    "        self.tracking_rate = tracked_feature_num / (curr_feature_num+1e-5)\n",
    "\n",
    "    def track_state(self, feature_msg):\n",
    "        prev_id = self.prev_state.id\n",
    "        curr_id = self.state.id\n",
    "\n",
    "        prev_points = []\n",
    "        curr_points = []\n",
    "        for feature in feature_msg.features:\n",
    "            map_feature = self.map_server[feature.id]\n",
    "            if prev_id in map_feature.observations.keys():\n",
    "                curr_points.append(map_feature.observations[curr_id])\n",
    "                prev_points.append(map_feature.observations[prev_id])\n",
    "\n",
    "        # print('Features for VO: ', list(zip(curr_points, prev_points)))\n",
    "\n",
    "        prev_points = np.array(prev_points)\n",
    "        curr_points = np.array(curr_points)\n",
    "\n",
    "        # print('points shape ', prev_points.shape, curr_points.shape)\n",
    "\n",
    "        R, T, _ = self.recover_pose(prev_points, curr_points)\n",
    "        \n",
    "        R_p_w = to_rotation(self.prev_state.orientation)\n",
    "        T_p_w = self.prev_state.position\n",
    "\n",
    "        H_p_w = Isometry3d(R_p_w, T_p_w)\n",
    "#         H_c_p = Isometry3d(R, T)\n",
    "#         print(\"Before \", R[:2, :2], T[:2])\n",
    "        flip = np.array([\n",
    "            [1.0, 0.0, 0.0],\n",
    "            [0.0, 1.0, 0.0],\n",
    "            [0.0, 0.0, -1.0]\n",
    "        ])\n",
    "        H_c_p = Isometry3d(R, np.squeeze(T))\n",
    "#         print(\"After\")\n",
    "#         print(T)\n",
    "        # print(\"H_p_w \", H_p_w.R, H_p_w.t)\n",
    "        # print(\"H_c_p \", H_c_p.R, H_c_p.t)\n",
    "\n",
    "        H_c_w = H_p_w * H_c_p\n",
    "        self.state.orientation = to_quaternion(H_c_w.R)\n",
    "        self.state.position = H_c_w.t        \n",
    "\n",
    "    def recover_pose(self, prev_points, curr_points, mask=None):\n",
    "        E, mask = cv2.findEssentialMat(curr_points, prev_points, self.K, cv2.RANSAC, 0.9, 1.0, mask)\n",
    "        \n",
    "        _, R, T, mask = cv2.recoverPose(E, curr_points, prev_points, self.K, mask=mask)\n",
    "\n",
    "        return R, T, mask\n",
    "    \n",
    "    def publish(self, time):\n",
    "        state = self.state\n",
    "        if self.verbose:\n",
    "            print('+++publish:')\n",
    "            print('   timestamp:', state.timestamp)\n",
    "            print('   orientation:', state.orientation)\n",
    "            print('   position:', state.position)\n",
    "            print()\n",
    "        \n",
    "        H_c_w = Isometry3d(\n",
    "            to_rotation(state.orientation),\n",
    "            state.position)\n",
    "        \n",
    "        return namedtuple('vo_result', ['timestamp', 'pose'])(\n",
    "            time, H_c_w)"
   ]
  },
  {
   "cell_type": "code",
   "execution_count": 4,
   "id": "e9db6a5a",
   "metadata": {},
   "outputs": [],
   "source": [
    "class Trajectory(object):\n",
    "    def __init__(self):\n",
    "        self.times = []\n",
    "        self.transforms = []\n",
    "        self.max_s = np.zeros(3)\n",
    "        self.min_s = np.zeros(3)\n",
    "        \n",
    "    def add_point(self, msg, origin=\"world\"):\n",
    "        if origin==\"world\":\n",
    "            H_c_w = msg.pose\n",
    "        elif origin==\"cam\":\n",
    "            H_w_c = msg.pose\n",
    "            H_c_w = H_w_c.inverse()\n",
    "        self.times.append(msg.timestamp)\n",
    "        self.transforms.append(H_c_w)\n",
    "        t = H_c_w.t\n",
    "        if len(self.times)==1 and (np.all(self.max_s==0) and np.all(self.min_s==0)):\n",
    "            self.max_s = t.copy()\n",
    "            self.min_s = t.copy()\n",
    "        else:\n",
    "            for j in range(3):\n",
    "                self.max_s[j] = max(self.max_s[j], t[j]) \n",
    "                self.min_s[j] = min(self.min_s[j], t[j]) \n",
    "        \n",
    "    def __len__(self):\n",
    "        return len(self.times)\n",
    "\n",
    "    def pytf_pose(self, num):\n",
    "        r = self.transforms[num].R\n",
    "        t = self.transforms[num].t\n",
    "        r = pr.matrix_from_quaternion(pr.quaternion_from_matrix(r, strict_check=False))\n",
    "        return r, t\n",
    "    \n",
    "    def create_plot(self, n=100000, mode=\"trajectory\"):\n",
    "        ax = make_3d_axis(ax_s=1, unit=\"m\", n_ticks=6)\n",
    "\n",
    "        scale = 1e-5 + max([i-j for i, j in zip(self.max_s, self.min_s)])/1.5\n",
    "        center = [(i+j)/2.0 for i, j in zip(self.max_s, self.min_s)]\n",
    "\n",
    "        ax.set_xlim((center[0]-scale, center[0]+scale))\n",
    "        ax.set_ylim((center[1]-scale, center[1]+scale))\n",
    "        ax.set_zlim((center[2]-scale, center[2]+scale))\n",
    "\n",
    "        ax.view_init(azim=0, elev=90)\n",
    "        \n",
    "        last_n = min(len(self.times), n)\n",
    "        t0 = self.transforms[0].t\n",
    "        ax.scatter(t0[0], t0[1], t0[2], s=100, marker='o', color=\"lightgreen\")\n",
    "        tn = self.transforms[last_n-1].t\n",
    "        ax.scatter(tn[0], tn[1], tn[2], s=100, marker='o', color=\"lightsalmon\")\n",
    "        if mode==\"trajectory\":\n",
    "            t_x, t_y, t_z = [], [], []\n",
    "            for num in tqdm(range(last_n)):\n",
    "                t = self.transforms[num].t\n",
    "                t_x.append(t[0])\n",
    "                t_y.append(t[1])\n",
    "                t_z.append(t[2])\n",
    "            ax.scatter(t_x, t_y, t_z, s=0.1, color=\"gray\")\n",
    "        elif mode==\"poses\":\n",
    "            for num in tqdm(range(last_n)):\n",
    "                r, t = self.pytf_pose(num)\n",
    "                pt.plot_transform(ax=ax, A2B=pt.transform_from(r, t))\n",
    "        plt.tight_layout()"
   ]
  },
  {
   "cell_type": "code",
   "execution_count": 8,
   "id": "1118e671",
   "metadata": {},
   "outputs": [],
   "source": [
    "def ground_truth_load(times, file='/content/00.txt', start_idx=0):\n",
    "    traj = Trajectory()\n",
    "    with open(file) as f:\n",
    "        lines = f.readlines()\n",
    "        for i in tqdm(range(start_idx, min(len(times), len(lines)))):\n",
    "            tmp44 = np.array(lines[i].rstrip().split(\" \")[1:], dtype=np.float64).reshape((4, 4))\n",
    "            H_curr = Isometry3d(tmp44[:3, :3], tmp44[:3, 3])\n",
    "            timestamp = times[i]\n",
    "            # print(timestamp, ' : ', H_curr)\n",
    "            msg = namedtuple('ground_truth', ['timestamp', 'pose'])(\n",
    "                    timestamp, H_curr)\n",
    "            traj.add_point(msg, origin=\"world\")\n",
    "    return traj"
   ]
  },
  {
   "cell_type": "code",
   "execution_count": 17,
   "id": "182e0e7c",
   "metadata": {},
   "outputs": [],
   "source": [
    "# Pretty printing\n",
    "np.set_printoptions(formatter={'float': lambda x: \"{0:0.2f}\".format(x)})"
   ]
  },
  {
   "cell_type": "code",
   "execution_count": 39,
   "id": "8ac888a2",
   "metadata": {},
   "outputs": [],
   "source": [
    "# Paths\n",
    "start_idx = 8017 - 5000\n",
    "ids = sorted(glob.glob(\"/oak/stanford/groups/gracegao/KITTI360/KITTI-360/data_2d_raw/2013_05_28_drive_0000_sync/image_00/data_rect/*.png\"))\n",
    "ids = ids[start_idx:]\n",
    "now = time.time()\n",
    "timestamps = now + 0.03*np.arange(0, len(ids))\n",
    "assert(len(ids) == len(timestamps))"
   ]
  },
  {
   "cell_type": "code",
   "execution_count": 40,
   "id": "1b8a922c",
   "metadata": {},
   "outputs": [],
   "source": [
    "cam0 = MonoCamera(ImageReader(ids, timestamps))\n",
    "cam0.set_starttime(now)\n",
    "img_queue = Queue()\n",
    "img_publisher = DataPublisher(\n",
    "        cam0, img_queue)"
   ]
  },
  {
   "cell_type": "code",
   "execution_count": 41,
   "id": "b43c8e8b",
   "metadata": {},
   "outputs": [],
   "source": [
    "ip = ImageProcessor(ConfigKITTI360(), verbose=False)\n",
    "solver = SnapshotPnPSolver(ConfigKITTI360(), verbose=False)\n",
    "traj = Trajectory()"
   ]
  },
  {
   "cell_type": "code",
   "execution_count": 42,
   "id": "d9b42a8d",
   "metadata": {},
   "outputs": [
    {
     "name": "stderr",
     "output_type": "stream",
     "text": [
      "100%|██████████| 5484/5484 [00:00<00:00, 9055.71it/s]\n"
     ]
    }
   ],
   "source": [
    "gt_traj = ground_truth_load(timestamps, file=\"/oak/stanford/groups/gracegao/KITTI360/data_poses/2013_05_28_drive_0000_sync/cam0_to_world.txt\", start_idx=start_idx)\n",
    "solver.prev_state.position = gt_traj.transforms[0].t\n",
    "solver.prev_state.orientation = to_quaternion(gt_traj.transforms[0].R)\n",
    "traj.max_s = gt_traj.max_s.copy()\n",
    "traj.min_s = gt_traj.min_s.copy()"
   ]
  },
  {
   "cell_type": "code",
   "execution_count": 43,
   "id": "7d5bb0e1",
   "metadata": {},
   "outputs": [
    {
     "name": "stderr",
     "output_type": "stream",
     "text": [
      "100%|██████████| 5000/5000 [00:00<00:00, 600799.86it/s]\n"
     ]
    },
    {
     "data": {
      "image/png": "[encoded data removed]",
      "text/plain": [
       "<Figure size 432x288 with 1 Axes>"
      ]
     },
     "metadata": {
      "needs_background": "light"
     },
     "output_type": "display_data"
    }
   ],
   "source": [
    "gt_traj.create_plot(n=5000)"
   ]
  },
  {
   "cell_type": "code",
   "execution_count": 44,
   "id": "ad118b5f",
   "metadata": {},
   "outputs": [],
   "source": [
    "img_publisher.start(now)"
   ]
  },
  {
   "cell_type": "code",
   "execution_count": 45,
   "id": "33f80178",
   "metadata": {},
   "outputs": [
    {
     "name": "stderr",
     "output_type": "stream",
     "text": [
      "100%|██████████| 5000/5000 [03:00<00:00, 27.78it/s]\n"
     ]
    }
   ],
   "source": [
    "try:\n",
    "    for i in tqdm(range(5000)):\n",
    "        msg = img_queue.get()\n",
    "        if msg is None:\n",
    "            break\n",
    "        meas = ip.camera_callback(msg)\n",
    "        odom = solver.feature_callback(meas)\n",
    "        traj.add_point(odom)\n",
    "except Exception as e:\n",
    "    print(e)\n",
    "img_publisher.stop()"
   ]
  },
  {
   "cell_type": "code",
   "execution_count": 46,
   "id": "9a46125e",
   "metadata": {},
   "outputs": [
    {
     "name": "stderr",
     "output_type": "stream",
     "text": [
      "100%|██████████| 5000/5000 [00:00<00:00, 427196.84it/s]\n"
     ]
    },
    {
     "data": {
      "image/png": "[encoded data removed]",
      "text/plain": [
       "<Figure size 432x288 with 1 Axes>"
      ]
     },
     "metadata": {
      "needs_background": "light"
     },
     "output_type": "display_data"
    }
   ],
   "source": [
    "traj.create_plot()"
   ]
  },
  {
   "cell_type": "code",
   "execution_count": 26,
   "id": "a16887c1",
   "metadata": {},
   "outputs": [
    {
     "name": "stderr",
     "output_type": "stream",
     "text": [
      "100%|██████████| 1000/1000 [00:00<00:00, 497367.96it/s]\n"
     ]
    },
    {
     "data": {
      "image/png": "[encoded data removed]",
      "text/plain": [
       "<Figure size 432x288 with 1 Axes>"
      ]
     },
     "metadata": {
      "needs_background": "light"
     },
     "output_type": "display_data"
    }
   ],
   "source": [
    "traj.create_plot()"
   ]
  }
 ],
 "metadata": {
  "kernelspec": {
   "display_name": "Python 3",
   "language": "python",
   "name": "python3"
  },
  "language_info": {
   "codemirror_mode": {
    "name": "ipython",
    "version": 3
   },
   "file_extension": ".py",
   "mimetype": "text/x-python",
   "name": "python",
   "nbconvert_exporter": "python",
   "pygments_lexer": "ipython3",
   "version": "3.8.10"
  }
 },
 "nbformat": 4,
 "nbformat_minor": 5
}
