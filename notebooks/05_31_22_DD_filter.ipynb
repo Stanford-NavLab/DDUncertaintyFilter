{
 "cells": [
  {
   "cell_type": "code",
   "execution_count": 1,
   "id": "5d16c5aa",
   "metadata": {},
   "outputs": [
    {
     "name": "stderr",
     "output_type": "stream",
     "text": [
      "/home/groups/gracegao/conda_envs/deep_gnss/lib/python3.8/site-packages/xarray/backends/cfgrib_.py:27: UserWarning: Failed to load cfgrib - most likely there is a problem accessing the ecCodes library. Try `import cfgrib` to get the full error message\n",
      "  warnings.warn(\n"
     ]
    }
   ],
   "source": [
    "%matplotlib inline\n",
    "import torchfilter as tfilter\n",
    "import torch.autograd.functional as F\n",
    "import numpy as np\n",
    "import pandas as pd\n",
    "import pymap3d as pm\n",
    "from matplotlib import pyplot as plt\n",
    "import plotly.express as px\n",
    "import torch\n",
    "import torch.optim as optim\n",
    "from tqdm.notebook import tqdm\n",
    "from collections import namedtuple\n",
    "import pytorch3d.transforms as tf\n",
    "import xarray as xr\n",
    "from torch.distributions.multivariate_normal import MultivariateNormal"
   ]
  },
  {
   "cell_type": "code",
   "execution_count": 2,
   "id": "b38feb38",
   "metadata": {},
   "outputs": [],
   "source": [
    "import os, sys\n",
    "sys.path.append('/scratch/users/shubhgup/1_18_winter/DDUncertaintyFilter/')\n",
    "# sys.path.append('..')\n",
    "\n",
    "from dynamics_models import *\n",
    "from kf_measurement_models import *\n",
    "from pf_measurement_models import *\n",
    "from virtual_sensor_models import *\n",
    "from utils import *\n",
    "from filter_models import *\n",
    "\n",
    "%load_ext autoreload\n",
    "%autoreload 2"
   ]
  },
  {
   "cell_type": "code",
   "execution_count": 3,
   "id": "a1c40948",
   "metadata": {},
   "outputs": [],
   "source": [
    "# Set origin position, orientation and timestamp\n",
    "origin_lla, origin_ecef = get_reference_from_gt(\"22 18 04.31949  114 10 44.60559        3.472\")   \n",
    "origin_rpy = get_reference_rot(\"-1.7398149928   0.4409540487 -132.534729738\")\n",
    "origin_time = 1621218775.00\n",
    "\n",
    "# origin_lla, origin_ecef = get_reference_from_gt(\"22 18 00.25350  114 10 47.25217        3.189\") \n",
    "# origin_rpy = get_reference_rot(\"-0.6671978933   0.4780759843 137.9359508957\")\n",
    "# origin_time = 1621218838.00\n",
    "\n",
    "\n",
    "# origin_lla, origin_ecef = get_reference_from_gt(\"22 17 51.54462  114 10 37.53472        2.433\")  \n",
    "# origin_rpy = get_reference_rot(\"-0.7491022101  -0.4393383077 -133.811686506\")\n",
    "# origin_time = 1621218900.00\n",
    "\n",
    "# origin_lla, origin_ecef = get_reference_from_gt(\"22 17 49.70559  114 10 33.84846        3.084\") \n",
    "# origin_rpy = get_reference_rot(\"1.5505269260   0.5986893297 -84.4024418600\")\n",
    "# origin_time = 1621218930.00\n",
    "\n",
    "# Set endtime\n",
    "end_time = origin_time + 400 #+ 777.0"
   ]
  },
  {
   "cell_type": "code",
   "execution_count": 4,
   "id": "e59bb819",
   "metadata": {},
   "outputs": [],
   "source": [
    "# 1. Load ground truth data\n",
    "gt_pos, gt_vel, gt_acc, gt_rot, gt_len = load_ground_truth_select(\"/oak/stanford/groups/gracegao/HKdataset/data_06_22_22/UrbanNav_TST_GT_raw.txt\", origin_lla)\n",
    "# 2. Load dd data\n",
    "dd_data = load_dd_data(origin_lla, origin_ecef, \"/oak/stanford/groups/gracegao/Shubh/10_6_cleanup/KITTI360_Processing/TRI_KF/save_data/\")\n",
    "# 3. Load IMU data\n",
    "imu_data = xr.DataArray(pd.read_csv(\"/oak/stanford/groups/gracegao/HKdataset/data_06_22_22/xsense_imu_medium_urban1.csv\"))\n",
    "# 4. Parse IMU data\n",
    "timestamp, or_quat, or_cov, ang_vel, ang_vel_cov, lin_acc, lin_acc_cov = parse_imu_data(imu_data)\n",
    "# 5. Load VO data\n",
    "vo_data = prepare_vo_data(\"/scratch/users/shubhgup/1_18_winter/Left_features/2d3dmatches\")\n",
    "# 6. Load GPS Ambiguity and cycle slip data\n",
    "# ints_data = get_ints_data()\n",
    "# mixed_data = get_cycle_slip_data()"
   ]
  },
  {
   "cell_type": "code",
   "execution_count": 5,
   "id": "58784d42",
   "metadata": {},
   "outputs": [],
   "source": [
    "# Generate index converters\n",
    "imu_to_gt_idx, imu_to_gnss_idx, utc_to_imu_idx, gt_to_imu_idx, utc_to_gt_idx, utc_to_gnss_idx, gt_idx_to_utc, gnss_idx_to_utc = gen_idx_converters(timestamp)\n",
    "imu_to_vo_idx, vo_to_imu_idx = imu_to_vo_idx_from_timestamp(timestamp, vo_data)"
   ]
  },
  {
   "cell_type": "code",
   "execution_count": 6,
   "id": "8d03debe",
   "metadata": {},
   "outputs": [],
   "source": [
    "# Generate ground truth deltas\n",
    "gt_pos_delta, gt_rot_delta = gen_gt_deltas(gt_pos, gt_rot, imu_to_gt_idx, vo_to_imu_idx)"
   ]
  },
  {
   "cell_type": "markdown",
   "id": "86605fce",
   "metadata": {},
   "source": [
    "# Filter Code"
   ]
  },
  {
   "cell_type": "code",
   "execution_count": 7,
   "id": "7537db2c",
   "metadata": {},
   "outputs": [
    {
     "data": {
      "text/plain": [
       "AsyncExtendedKalmanFilter(\n",
       "  (dynamics_model): PosVelQuatBiasModel(\n",
       "    (pos_vel_model): PosVelModel(\n",
       "      (pos_model): XYZModel()\n",
       "      (vel_model): XYZModel()\n",
       "    )\n",
       "    (quat_model): QuaternionOrientationModel()\n",
       "    (imu_bias_model): IMUBiasModel()\n",
       "  )\n",
       "  (measurement_model): IMU_VO_DD_MeasurementModel(\n",
       "    (imu_model): IMUMeasurementModel()\n",
       "    (vo_base_model): VOMeasurementModel()\n",
       "    (vo_model): VOLandmarkMeasurementModel()\n",
       "    (gnss_model): GNSSDDKFMeasurementModel()\n",
       "  )\n",
       ")"
      ]
     },
     "execution_count": 7,
     "metadata": {},
     "output_type": "execute_result"
    }
   ],
   "source": [
    "N_dim, state_dim = create_state_dim(0, 16)\n",
    "\n",
    "T_start, T, IMU_rate_div = get_imu_idx(origin_time, end_time, utc_to_imu_idx, 100)\n",
    "\n",
    "dynamics_model = PosVelQuatBiasModel()\n",
    "\n",
    "inter_const_bias = inter_const_bias_tensor(dd_data)\n",
    "\n",
    "kf_measurement_model = init_filter_measurement_model(dd_data, N_dim, IMU_VO_DD_MeasurementModel)\n",
    "# pf_measurement_model = init_filter_measurement_model(dd_data, N_dim, GNSSPFMeasurementModel_IMU_DD_VO)\n",
    "\n",
    "reset_filter = gen_reset_function(state_dim, timestamp, gt_pos, gt_vel, gt_rot, imu_to_gt_idx, IMU_rate_div, T_start)\n",
    "\n",
    "test_filter = AsyncExtendedKalmanFilter(\n",
    "    dynamics_model=dynamics_model, # Initialise the filter with the dynamic model\n",
    "    measurement_model=kf_measurement_model, # Initialise the filter with the measurement model\n",
    "    )\n",
    "\n",
    "test_filter"
   ]
  },
  {
   "cell_type": "code",
   "execution_count": 8,
   "id": "4847343e",
   "metadata": {},
   "outputs": [
    {
     "data": {
      "text/plain": [
       "{'dynamics_parameters': [{'pos_x_std': 11.43,\n",
       "   'pos_y_std': 11.13,\n",
       "   'pos_z_std': 0.001,\n",
       "   'vel_x_std': 17.02,\n",
       "   'vel_y_std': 17.33,\n",
       "   'vel_z_std': 0.0001,\n",
       "   'r_std': 0.017453292519943295,\n",
       "   'p_std': 0.017453292519943295,\n",
       "   'y_std': 0.2617993877991494,\n",
       "   'acc_bias_std': 0.01,\n",
       "   'gyr_bias_std': 0.05235987755982989}],\n",
       " 'observation_parameters': [{'r_std': 0.017453292519943295,\n",
       "   'p_std': 0.017453292519943295,\n",
       "   'y_std': 0.017453292519943295,\n",
       "   'imu_robust_threshold': 0.7,\n",
       "   'speed_std': 3.02,\n",
       "   'landmark_std': 2.42,\n",
       "   'speed_scale': 0.2,\n",
       "   'speed_robust_threshold': 5.0,\n",
       "   'prange_std': 5.04,\n",
       "   'prange_robust_threshold': 3.0,\n",
       "   'carrier_std': 10.0}],\n",
       " 'controls': [],\n",
       " 'imu_observation': [],\n",
       " 'gnss_observation': [],\n",
       " 'gnss_observation_context': [],\n",
       " 'last_update_timestamp': 1621218775.302105,\n",
       " 'last_update_imu': -1,\n",
       " 'last_update_vo': -1,\n",
       " 'last_update_gnss': -1,\n",
       " 'last_update_gt': -1,\n",
       " 'estimated_states': [],\n",
       " 'estimated_covariance': [],\n",
       " 'estimated_states_vo': [],\n",
       " 'estimated_covariance_vo': []}"
      ]
     },
     "execution_count": 8,
     "metadata": {},
     "output_type": "execute_result"
    }
   ],
   "source": [
    "# Reset filter\n",
    "t = T_start + IMU_rate_div\n",
    "recorded_data = reset_filter(test_filter, t - IMU_rate_div)\n",
    "recorded_data"
   ]
  },
  {
   "cell_type": "code",
   "execution_count": 13,
   "id": "8f45ba0f",
   "metadata": {},
   "outputs": [
    {
     "data": {
      "text/plain": [
       "torch.Size([1, 16, 16])"
      ]
     },
     "execution_count": 13,
     "metadata": {},
     "output_type": "execute_result"
    }
   ],
   "source": [
    "test_filter.belief_covariance.shape"
   ]
  },
  {
   "cell_type": "code",
   "execution_count": 238,
   "id": "73e32e05",
   "metadata": {},
   "outputs": [],
   "source": [
    "def run_timestep(t, recorded_data):\n",
    "    \n",
    "    dyn_parameters = recorded_data['dynamics_parameters'][-1]\n",
    "    obs_parameters = recorded_data['observation_parameters'][-1]\n",
    "    \n",
    "    # Load IMU data\n",
    "    timestamp_t, or_quat_t, or_cov_t, ang_vel_t, ang_vel_cov_t, lin_acc_t, lin_acc_cov_t = timestamp[t], or_quat[t], or_cov[t], ang_vel[t], ang_vel_cov[t], lin_acc[t], lin_acc_cov[t]\n",
    "\n",
    "    # Compute time difference\n",
    "    prev_timestamp = recorded_data['last_update_timestamp']\n",
    "    dt = (timestamp_t - prev_timestamp)\n",
    "    prev_timestamp = timestamp_t\n",
    "\n",
    "    test_filter.update_dynamics(\n",
    "            dt=dt, \n",
    "            pos_x_std=torch.tensor(dyn_parameters['pos_x_std']), \n",
    "            pos_y_std=torch.tensor(dyn_parameters['pos_y_std']), \n",
    "            pos_z_std=torch.tensor(dyn_parameters['pos_z_std']), \n",
    "            vel_x_std=torch.tensor(dyn_parameters['vel_x_std']), \n",
    "            vel_y_std=torch.tensor(dyn_parameters['vel_y_std']), \n",
    "            vel_z_std=torch.tensor(dyn_parameters['vel_z_std']), \n",
    "            r_std=torch.tensor(dyn_parameters['r_std']), \n",
    "            p_std=torch.tensor(dyn_parameters['p_std']), \n",
    "            y_std=torch.tensor(dyn_parameters['y_std']), \n",
    "            acc_bias_std=torch.tensor(dyn_parameters['acc_bias_std']), \n",
    "            gyr_bias_std=torch.tensor(dyn_parameters['gyr_bias_std'])\n",
    "        )\n",
    "\n",
    "\n",
    "    estimated_state = imu_predict_and_update(\n",
    "        test_filter, \n",
    "        lin_acc_t, ang_vel_t, or_quat_t, \n",
    "        torch.tensor(obs_parameters['r_std']), torch.tensor(obs_parameters['p_std']), torch.tensor(obs_parameters['y_std']),\n",
    "        torch.tensor(obs_parameters['imu_robust_threshold']),\n",
    "        m_estimation=False\n",
    "        )\n",
    "    \n",
    "    # VO data\n",
    "    vo_idx = recorded_data['last_update_vo']\n",
    "    new_vo_idx = imu_to_vo_idx(t)\n",
    "    if new_vo_idx > vo_idx:\n",
    "        vo_idx = new_vo_idx\n",
    "\n",
    "        # Load VO data\n",
    "        landmark_3d, pixel_2d, K, ransac_R, ransac_t = load_vo_data(vo_idx, vo_data, size=50)\n",
    "        \n",
    "#         print(\"ransac_t: \", ransac_t)\n",
    "        estimated_state = vo_update(\n",
    "            test_filter, estimated_state,\n",
    "            landmark_3d, pixel_2d, K, ransac_R, ransac_t, \n",
    "            torch.tensor(obs_parameters['speed_std']), torch.tensor(obs_parameters['speed_scale']),\n",
    "            torch.tensor(obs_parameters['speed_robust_threshold']),\n",
    "            vel_scaling_factor=IMU_rate_div/27/dt,\n",
    "            m_estimation=False\n",
    "            )\n",
    "        if len(recorded_data['estimated_states_vo']) > 0:\n",
    "            estimated_state = vo_tight_update(\n",
    "                test_filter, estimated_state,\n",
    "                recorded_data['estimated_states_vo'][-1],\n",
    "                landmark_3d, pixel_2d, K, \n",
    "                torch.tensor(obs_parameters['landmark_std']), torch.tensor(obs_parameters['speed_scale']),\n",
    "                torch.tensor(obs_parameters['speed_robust_threshold']),\n",
    "                vel_scaling_factor=IMU_rate_div/27/dt,\n",
    "                m_estimation=False\n",
    "                )\n",
    "    \n",
    "    # GNSS data\n",
    "    dd_idx = recorded_data['last_update_gnss']\n",
    "    new_dd_idx = imu_to_gnss_idx(t)\n",
    "    if new_dd_idx > dd_idx:\n",
    "        dd_idx = new_dd_idx\n",
    "\n",
    "        # Load GNSS observables\n",
    "        rover_code, base_code, rover_carr, base_carr, rover_cnos, satpos, idx_code_mask, idx_carr_mask = to_tensor(read_gnss_data(dd_data, dd_idx, 'mixed'))\n",
    "\n",
    "        gnss_observation, idx_code_mask, idx_carr_mask, ref = calc_gnss_observation(rover_code, base_code, rover_carr, base_carr, satpos, idx_code_mask, idx_carr_mask, ref=None, include_carrier=False)\n",
    "\n",
    "        estimated_state = gnss_update(\n",
    "            test_filter, estimated_state, \n",
    "            gnss_observation, satpos, ref, inter_const_bias, idx_code_mask, idx_carr_mask, \n",
    "            torch.tensor(obs_parameters['prange_std']), torch.tensor(obs_parameters['carrier_std']), \n",
    "            torch.tensor(obs_parameters['prange_robust_threshold']),\n",
    "            m_estimation=True\n",
    "            )\n",
    "    \n",
    "    # Update context\n",
    "    recorded_data['last_update_timestamp'] = prev_timestamp\n",
    "    recorded_data['last_update_imu'] = t\n",
    "    if not recorded_data['last_update_vo'] == vo_idx:\n",
    "        recorded_data['last_update_vo'] = vo_idx\n",
    "        recorded_data['estimated_states_vo'].append(estimated_state)\n",
    "    recorded_data['estimated_states'].append(estimated_state)\n",
    "    \n",
    "    return recorded_data\n",
    "# estimated_state[:, 3:6].detach().numpy() - gt_pos_delta(vo_idx), gt_pos[imu_to_gt_idx(t)] - estimated_state[0, :3].detach().numpy(), eul2quat(torch.tensor(gt_rot[imu_to_gt_idx(t)])) - estimated_state[0, 6:10].detach().numpy()"
   ]
  },
  {
   "cell_type": "code",
   "execution_count": 239,
   "id": "dd15830f",
   "metadata": {
    "scrolled": true
   },
   "outputs": [
    {
     "data": {
      "application/vnd.jupyter.widget-view+json": {
       "model_id": "45c2a376b8c94b069c26d6d727e25250",
       "version_major": 2,
       "version_minor": 0
      },
      "text/plain": [
       "  0%|          | 0/1597 [00:00<?, ?it/s]"
      ]
     },
     "metadata": {},
     "output_type": "display_data"
    }
   ],
   "source": [
    "recorded_data = reset_filter(test_filter, T_start)\n",
    "with torch.no_grad():\n",
    "    for t in tqdm(range(T_start+IMU_rate_div, T, IMU_rate_div)):\n",
    "        recorded_data = run_timestep(t, recorded_data)"
   ]
  },
  {
   "cell_type": "markdown",
   "id": "a6bd8513",
   "metadata": {},
   "source": [
    "## Gradient descent"
   ]
  },
  {
   "cell_type": "code",
   "execution_count": 100,
   "id": "694a7f81",
   "metadata": {},
   "outputs": [
    {
     "data": {
      "image/png": "[encoded data removed]",
      "text/plain": [
       "<Figure size 1440x720 with 1 Axes>"
      ]
     },
     "metadata": {
      "needs_background": "light"
     },
     "output_type": "display_data"
    }
   ],
   "source": [
    "plot_parameters(opt_state_dict_list, names=param_dict.keys(), window_size=500)"
   ]
  },
  {
   "cell_type": "code",
   "execution_count": 103,
   "id": "8fa8f14a",
   "metadata": {},
   "outputs": [
    {
     "data": {
      "image/png": "[encoded data removed]",
      "text/plain": [
       "<Figure size 1440x360 with 1 Axes>"
      ]
     },
     "metadata": {
      "needs_background": "light"
     },
     "output_type": "display_data"
    }
   ],
   "source": [
    "plot_loss(opt_state_dict_list, window_size=500)"
   ]
  },
  {
   "cell_type": "markdown",
   "id": "3ed7a564",
   "metadata": {},
   "source": [
    "## Evaluate and Visualize"
   ]
  },
  {
   "cell_type": "code",
   "execution_count": 240,
   "id": "5f2e508b",
   "metadata": {},
   "outputs": [
    {
     "data": {
      "application/vnd.jupyter.widget-view+json": {
       "model_id": "e3969ca253b747baa653d46ead682b30",
       "version_major": 2,
       "version_minor": 0
      },
      "text/plain": [
       "0it [00:00, ?it/s]"
      ]
     },
     "metadata": {},
     "output_type": "display_data"
    }
   ],
   "source": [
    "estimated_states = torch.zeros(T, state_dim)\n",
    "for i, t in tqdm(enumerate(range(T_start+IMU_rate_div, T, IMU_rate_div))):\n",
    "    estimated_states[t, :] = recorded_data['estimated_states'][i][0, :]"
   ]
  },
  {
   "cell_type": "code",
   "execution_count": 241,
   "id": "c6d375e4",
   "metadata": {},
   "outputs": [
    {
     "data": {
      "image/png": "[encoded data removed]",
      "text/plain": [
       "<Figure size 432x288 with 1 Axes>"
      ]
     },
     "metadata": {
      "needs_background": "light"
     },
     "output_type": "display_data"
    }
   ],
   "source": [
    "tmax = t-1\n",
    "\n",
    "state_range = range(T_start, tmax, IMU_rate_div)\n",
    "gt_range = [imu_to_gt_idx(t) for t in state_range]\n",
    "\n",
    "plot_position_estimates(estimated_states, gt_pos, T_start, tmax, imu_to_gt_idx, IMU_rate_div)"
   ]
  },
  {
   "cell_type": "code",
   "execution_count": 242,
   "id": "18c23e7d",
   "metadata": {},
   "outputs": [
    {
     "name": "stdout",
     "output_type": "stream",
     "text": [
      "Mean tracking error:  tensor(113.9396, dtype=torch.float64)\n"
     ]
    },
    {
     "data": {
      "image/png": "[encoded data removed]",
      "text/plain": [
       "<Figure size 432x288 with 1 Axes>"
      ]
     },
     "metadata": {
      "needs_background": "light"
     },
     "output_type": "display_data"
    },
    {
     "data": {
      "image/png": "[encoded data removed]",
      "text/plain": [
       "<Figure size 432x288 with 1 Axes>"
      ]
     },
     "metadata": {
      "needs_background": "light"
     },
     "output_type": "display_data"
    }
   ],
   "source": [
    "plot_tracking_error(estimated_states, gt_pos, state_range, imu_to_gt_idx)"
   ]
  },
  {
   "cell_type": "code",
   "execution_count": 46,
   "id": "affcff8d",
   "metadata": {},
   "outputs": [
    {
     "data": {
      "image/png": "[encoded data removed]",
      "text/plain": [
       "<Figure size 432x288 with 2 Axes>"
      ]
     },
     "metadata": {
      "needs_background": "light"
     },
     "output_type": "display_data"
    }
   ],
   "source": [
    "visualize_ekf_covariance(test_filter, names=['x', 'y', 'z', 'vx', 'vy', 'vz', 'qw', 'qx', 'qy', 'qz', 'ba_x', 'ba_y', 'ba_z', 'bg_x', 'bg_y', 'bg_z'])"
   ]
  },
  {
   "cell_type": "code",
   "execution_count": 112,
   "id": "bba73bc7",
   "metadata": {},
   "outputs": [
    {
     "data": {
      "image/png": "[encoded data removed]",
      "text/plain": [
       "<Figure size 432x288 with 1 Axes>"
      ]
     },
     "metadata": {
      "needs_background": "light"
     },
     "output_type": "display_data"
    }
   ],
   "source": [
    "plot_orientation_estimates(estimated_states, state_range, gt_rot, gt_range)"
   ]
  },
  {
   "cell_type": "code",
   "execution_count": 113,
   "id": "79cbd99a",
   "metadata": {},
   "outputs": [
    {
     "data": {
      "image/png": "[encoded data removed]",
      "text/plain": [
       "<Figure size 432x288 with 1 Axes>"
      ]
     },
     "metadata": {
      "needs_background": "light"
     },
     "output_type": "display_data"
    }
   ],
   "source": [
    "plot_velocity_estimates(estimated_states, state_range, gt_pos, gt_range)"
   ]
  },
  {
   "cell_type": "code",
   "execution_count": 114,
   "id": "87da164a",
   "metadata": {},
   "outputs": [
    {
     "data": {
      "image/png": "[encoded data removed]",
      "text/plain": [
       "<Figure size 432x288 with 1 Axes>"
      ]
     },
     "metadata": {
      "needs_background": "light"
     },
     "output_type": "display_data"
    }
   ],
   "source": [
    "plot_trajectory(estimated_states, state_range, gt_pos, gt_range)"
   ]
  },
  {
   "cell_type": "code",
   "execution_count": null,
   "id": "d8c36002",
   "metadata": {},
   "outputs": [],
   "source": [
    "# VO stuff\n",
    "\n",
    "# VO data\n",
    "    vo_idx = recorded_data['last_update_vo']\n",
    "    new_vo_idx = imu_to_vo_idx(t)\n",
    "    if new_vo_idx > vo_idx:\n",
    "    # if True:\n",
    "        vo_idx = new_vo_idx\n",
    "\n",
    "        # Load VO data\n",
    "        landmark_3d, pixel_2d, K, ransac_R, ransac_t = load_vo_data(vo_idx, vo_data, size=50)\n",
    "    #     # Load quaternion corresponding to previous image frame\n",
    "    #     prev_frame_quat = or_quat[vo_to_imu_idx(vo_idx-1)].detach().clone()\n",
    "    #     prev_frame_quat[[1, 2]] = prev_frame_quat[[2, 1]]\n",
    "        # Compute change in orientation since previous frame\n",
    "    #         delta_quat = tf.matrix_to_quaternion(torch.tensor(cv2.Rodrigues(ransac_R)[0]))\n",
    "        delta_quat = tf.matrix_to_quaternion(torch.tensor(cv2.Rodrigues(np.zeros(3))[0]))\n",
    "        # Update VO base model\n",
    "        vel_meas = torch.tensor([0.0, np.linalg.norm(ransac_t), 0.0]).float().reshape(1, -1)\n",
    "\n",
    "        if vel_meas[0, 1] < 0.05:\n",
    "            vel_meas = torch.zeros(1, 3).float()\n",
    "            vel_std = 1e-5\n",
    "        else:\n",
    "            vel_std = 2.0\n",
    "\n",
    "        test_filter.update_vo_base(std=vel_std)\n",
    "        estimated_state = test_filter(controls=None, observations=vel_meas)\n",
    "\n",
    "#         # Update VO landmark model\n",
    "#         test_filter.update_vo(landmarks=landmark_3d, delta_quat=delta_quat, intrinsic=K)\n",
    "#         # Run filter\n",
    "#         print(\"VO: \", vo_idx)\n",
    "#         estimated_state = test_filter(controls=None, observations=pixel_2d.reshape(1, -1))\n",
    "        print(\"Est_pos: \", estimated_state[:, :3])\n",
    "        print(\"Est_vel: \", estimated_state[:, 3:6])\n",
    "        print(\"Est_quat: \", estimated_state[:, 6:10])\n",
    "        print(\"Est_bias: \", estimated_state[:, 10:13])"
   ]
  },
  {
   "cell_type": "code",
   "execution_count": null,
   "id": "ece933b8",
   "metadata": {},
   "outputs": [],
   "source": [
    "# m_model_params = list(pf_measurement_model.parameters())\n",
    "# d_model_params = list(dynamics_model.parameters())\n",
    "# m_model_params, d_model_params"
   ]
  },
  {
   "cell_type": "code",
   "execution_count": null,
   "id": "ba353006",
   "metadata": {},
   "outputs": [],
   "source": [
    "# tmp_a = torch.ones(1, 10)\n",
    "\n",
    "# for _ in range(10):\n",
    "#     tmp_a, Q = dynamics_model(tmp_a, torch.ones(1, 6))\n",
    "# tmp_obj = nll_objective(torch.tensor([1.0, 1.0, 1.0]).reshape(1, -1), tmp_a[:, :3], torch.diagonal(Q, dim1=-2, dim2=-1)[:, :3])\n",
    "# print(tmp_obj)\n",
    "# torch.autograd.grad(outputs=tmp_obj, inputs=d_model_params, allow_unused=True, retain_graph=True)"
   ]
  },
  {
   "cell_type": "code",
   "execution_count": null,
   "id": "e544aa82",
   "metadata": {},
   "outputs": [],
   "source": [
    "# optimizer = torch.optim.SGD(test_filter.parameters(), lr=0.01, momentum=0.9)\n",
    "# optimizer.zero_grad()\n",
    "# loss_fn = torch.nn.MSELoss()\n",
    "# nll_objective = torch.nn.GaussianNLLLoss()"
   ]
  },
  {
   "cell_type": "code",
   "execution_count": null,
   "id": "398df0d0",
   "metadata": {},
   "outputs": [],
   "source": [
    "test_filter.measurement_model.mode"
   ]
  },
  {
   "cell_type": "code",
   "execution_count": null,
   "id": "fbf0d30e",
   "metadata": {},
   "outputs": [],
   "source": [
    "# gt_rot_to_imu_quat(gt_rot[imu_to_gt_idx(t)]), estimated_state[0, 6:10].detach().numpy(), imu_observation\n",
    "# plt.plot([gt_pos_delta(i) for i in range(5000)])\n",
    "tmp_state = estimated_state.detach()\n",
    "tmp_state[:, 3:6] = torch.tensor(gt_pos_delta(vo_idx))\n",
    "plt.hist((test_filter.measurement_model(tmp_state)[0] - pixel_2d.reshape(1, -1)).numpy().flatten())"
   ]
  },
  {
   "cell_type": "code",
   "execution_count": null,
   "id": "f9922f52",
   "metadata": {},
   "outputs": [],
   "source": [
    "plt.plot([gt_pos_delta(imu_to_vo_idx(t)) for t in range(T_start, T, 10)])"
   ]
  },
  {
   "cell_type": "code",
   "execution_count": null,
   "id": "5b27f91d",
   "metadata": {},
   "outputs": [],
   "source": [
    "gt_pos_delta(vo_idx)"
   ]
  },
  {
   "cell_type": "code",
   "execution_count": null,
   "id": "de286000",
   "metadata": {},
   "outputs": [],
   "source": [
    "tmp_gt_delta = gt_pos_delta(vo_idx)\n",
    "tf.quaternion_apply(tf.quaternion_invert(gt_rot_to_imu_quat(gt_rot[imu_to_gt_idx(vo_to_imu_idx(vo_idx)), :])), torch.tensor([tmp_gt_delta[0], tmp_gt_delta[1], tmp_gt_delta[2]]))"
   ]
  },
  {
   "cell_type": "code",
   "execution_count": null,
   "id": "e351a7d7",
   "metadata": {},
   "outputs": [],
   "source": [
    "rmat, _ = cv2.Rodrigues(ransac_R)\n",
    "rmat = torch.from_numpy(rmat).float()\n",
    "print(rmat)\n",
    "rmat = tf.quaternion_to_matrix(delta_quat).float()\n",
    "print(rmat)"
   ]
  },
  {
   "cell_type": "code",
   "execution_count": null,
   "id": "60269c2f",
   "metadata": {},
   "outputs": [],
   "source": [
    "tf.quaternion_apply(tmp_quat, torch.tensor(tmp_gt_delta)), torch.tensor(ransac_t.flatten())"
   ]
  },
  {
   "cell_type": "code",
   "execution_count": null,
   "id": "2bcbac70",
   "metadata": {},
   "outputs": [],
   "source": [
    "# imu_to_gt_idx(vo_to_imu_idx(vo_idx))\n",
    "tmp_quat = eul2quat(torch.tensor(gt_rot[imu_to_gt_idx(vo_to_imu_idx(vo_idx)), :]))\n",
    "tmp_gt_delta = gt_pos_delta(vo_idx)*0.5\n",
    "tmp_body_vel = tf.quaternion_apply(tmp_quat, torch.tensor(tmp_gt_delta))\n",
    "tmp_body_vel[[0, 2, 1]]"
   ]
  },
  {
   "cell_type": "code",
   "execution_count": null,
   "id": "2645d325",
   "metadata": {},
   "outputs": [],
   "source": [
    "tmp_ls = []\n",
    "quat_body_to_cam = torch.tensor([ 0.05217445, -0.51712999,  0.0117416 , -0.74978414])\n",
    "for traj_idx in tqdm(range(787)):\n",
    "    vo_idx = imu_to_vo_idx(gt_to_imu_idx(traj_idx))\n",
    "\n",
    "    tmp_gt_delta = gt_pos_delta(vo_idx)\n",
    "    if np.linalg.norm(tmp_gt_delta)>0.7:\n",
    "        landmark_3d, pixel_2d, K, ransac_R, ransac_t = load_vo_data(vo_idx, vo_data)\n",
    "        tmp_quat = eul2quat(torch.tensor(gt_rot[imu_to_gt_idx(vo_to_imu_idx(vo_idx)), :]))\n",
    "        body_vel_gt = tf.quaternion_apply(tmp_quat, torch.tensor(tmp_gt_delta)).numpy()\n",
    "#         body_vel_gt[1] = -body_vel_gt[1]\n",
    "        \n",
    "        est_quat = quat_between(body_vel_gt, ransac_t.flatten())\n",
    "#         tmp_ls.append(est_quat)\n",
    "        print(traj_idx, body_vel_gt, ransac_t.flatten())"
   ]
  },
  {
   "cell_type": "code",
   "execution_count": null,
   "id": "fb7788d5",
   "metadata": {},
   "outputs": [],
   "source": [
    "# np.mean(tmp_ls, axis=0)\n",
    "tmp_ls"
   ]
  },
  {
   "cell_type": "code",
   "execution_count": 123,
   "id": "af3d0e6d",
   "metadata": {},
   "outputs": [
    {
     "ename": "KeyboardInterrupt",
     "evalue": "",
     "output_type": "error",
     "traceback": [
      "\u001b[0;31m---------------------------------------------------------------------------\u001b[0m",
      "\u001b[0;31mKeyboardInterrupt\u001b[0m                         Traceback (most recent call last)",
      "\u001b[0;32m<ipython-input-123-30930f8dd93d>\u001b[0m in \u001b[0;36m<module>\u001b[0;34m\u001b[0m\n\u001b[1;32m      1\u001b[0m \u001b[0mtraj_idx\u001b[0m \u001b[0;34m=\u001b[0m \u001b[0;36m0\u001b[0m\u001b[0;34m\u001b[0m\u001b[0;34m\u001b[0m\u001b[0m\n\u001b[1;32m      2\u001b[0m \u001b[0mplt\u001b[0m\u001b[0;34m.\u001b[0m\u001b[0mplot\u001b[0m\u001b[0;34m(\u001b[0m\u001b[0;34m[\u001b[0m\u001b[0mgt_pos_delta\u001b[0m\u001b[0;34m(\u001b[0m\u001b[0mimu_to_vo_idx\u001b[0m\u001b[0;34m(\u001b[0m\u001b[0mgt_to_imu_idx\u001b[0m\u001b[0;34m(\u001b[0m\u001b[0mt\u001b[0m\u001b[0;34m)\u001b[0m\u001b[0;34m)\u001b[0m\u001b[0;34m)\u001b[0m\u001b[0;34m[\u001b[0m\u001b[0;36m0\u001b[0m\u001b[0;34m]\u001b[0m \u001b[0;32mfor\u001b[0m \u001b[0mt\u001b[0m \u001b[0;32min\u001b[0m \u001b[0mrange\u001b[0m\u001b[0;34m(\u001b[0m\u001b[0mtraj_idx\u001b[0m\u001b[0;34m,\u001b[0m \u001b[0mtraj_idx\u001b[0m \u001b[0;34m+\u001b[0m \u001b[0;36m200\u001b[0m\u001b[0;34m)\u001b[0m\u001b[0;34m]\u001b[0m\u001b[0;34m,\u001b[0m \u001b[0mlabel\u001b[0m\u001b[0;34m=\u001b[0m\u001b[0;34m'East'\u001b[0m\u001b[0;34m)\u001b[0m\u001b[0;34m\u001b[0m\u001b[0;34m\u001b[0m\u001b[0m\n\u001b[0;32m----> 3\u001b[0;31m \u001b[0mplt\u001b[0m\u001b[0;34m.\u001b[0m\u001b[0mplot\u001b[0m\u001b[0;34m(\u001b[0m\u001b[0;34m[\u001b[0m\u001b[0mgt_pos_delta\u001b[0m\u001b[0;34m(\u001b[0m\u001b[0mimu_to_vo_idx\u001b[0m\u001b[0;34m(\u001b[0m\u001b[0mgt_to_imu_idx\u001b[0m\u001b[0;34m(\u001b[0m\u001b[0mt\u001b[0m\u001b[0;34m)\u001b[0m\u001b[0;34m)\u001b[0m\u001b[0;34m)\u001b[0m\u001b[0;34m[\u001b[0m\u001b[0;36m1\u001b[0m\u001b[0;34m]\u001b[0m \u001b[0;32mfor\u001b[0m \u001b[0mt\u001b[0m \u001b[0;32min\u001b[0m \u001b[0mrange\u001b[0m\u001b[0;34m(\u001b[0m\u001b[0mtraj_idx\u001b[0m\u001b[0;34m,\u001b[0m \u001b[0mtraj_idx\u001b[0m \u001b[0;34m+\u001b[0m \u001b[0;36m200\u001b[0m\u001b[0;34m)\u001b[0m\u001b[0;34m]\u001b[0m\u001b[0;34m,\u001b[0m \u001b[0mlabel\u001b[0m\u001b[0;34m=\u001b[0m\u001b[0;34m'North'\u001b[0m\u001b[0;34m)\u001b[0m\u001b[0;34m\u001b[0m\u001b[0;34m\u001b[0m\u001b[0m\n\u001b[0m\u001b[1;32m      4\u001b[0m \u001b[0mplt\u001b[0m\u001b[0;34m.\u001b[0m\u001b[0mlegend\u001b[0m\u001b[0;34m(\u001b[0m\u001b[0;34m)\u001b[0m\u001b[0;34m\u001b[0m\u001b[0;34m\u001b[0m\u001b[0m\n",
      "\u001b[0;32m<ipython-input-123-30930f8dd93d>\u001b[0m in \u001b[0;36m<listcomp>\u001b[0;34m(.0)\u001b[0m\n\u001b[1;32m      1\u001b[0m \u001b[0mtraj_idx\u001b[0m \u001b[0;34m=\u001b[0m \u001b[0;36m0\u001b[0m\u001b[0;34m\u001b[0m\u001b[0;34m\u001b[0m\u001b[0m\n\u001b[1;32m      2\u001b[0m \u001b[0mplt\u001b[0m\u001b[0;34m.\u001b[0m\u001b[0mplot\u001b[0m\u001b[0;34m(\u001b[0m\u001b[0;34m[\u001b[0m\u001b[0mgt_pos_delta\u001b[0m\u001b[0;34m(\u001b[0m\u001b[0mimu_to_vo_idx\u001b[0m\u001b[0;34m(\u001b[0m\u001b[0mgt_to_imu_idx\u001b[0m\u001b[0;34m(\u001b[0m\u001b[0mt\u001b[0m\u001b[0;34m)\u001b[0m\u001b[0;34m)\u001b[0m\u001b[0;34m)\u001b[0m\u001b[0;34m[\u001b[0m\u001b[0;36m0\u001b[0m\u001b[0;34m]\u001b[0m \u001b[0;32mfor\u001b[0m \u001b[0mt\u001b[0m \u001b[0;32min\u001b[0m \u001b[0mrange\u001b[0m\u001b[0;34m(\u001b[0m\u001b[0mtraj_idx\u001b[0m\u001b[0;34m,\u001b[0m \u001b[0mtraj_idx\u001b[0m \u001b[0;34m+\u001b[0m \u001b[0;36m200\u001b[0m\u001b[0;34m)\u001b[0m\u001b[0;34m]\u001b[0m\u001b[0;34m,\u001b[0m \u001b[0mlabel\u001b[0m\u001b[0;34m=\u001b[0m\u001b[0;34m'East'\u001b[0m\u001b[0;34m)\u001b[0m\u001b[0;34m\u001b[0m\u001b[0;34m\u001b[0m\u001b[0m\n\u001b[0;32m----> 3\u001b[0;31m \u001b[0mplt\u001b[0m\u001b[0;34m.\u001b[0m\u001b[0mplot\u001b[0m\u001b[0;34m(\u001b[0m\u001b[0;34m[\u001b[0m\u001b[0mgt_pos_delta\u001b[0m\u001b[0;34m(\u001b[0m\u001b[0mimu_to_vo_idx\u001b[0m\u001b[0;34m(\u001b[0m\u001b[0mgt_to_imu_idx\u001b[0m\u001b[0;34m(\u001b[0m\u001b[0mt\u001b[0m\u001b[0;34m)\u001b[0m\u001b[0;34m)\u001b[0m\u001b[0;34m)\u001b[0m\u001b[0;34m[\u001b[0m\u001b[0;36m1\u001b[0m\u001b[0;34m]\u001b[0m \u001b[0;32mfor\u001b[0m \u001b[0mt\u001b[0m \u001b[0;32min\u001b[0m \u001b[0mrange\u001b[0m\u001b[0;34m(\u001b[0m\u001b[0mtraj_idx\u001b[0m\u001b[0;34m,\u001b[0m \u001b[0mtraj_idx\u001b[0m \u001b[0;34m+\u001b[0m \u001b[0;36m200\u001b[0m\u001b[0;34m)\u001b[0m\u001b[0;34m]\u001b[0m\u001b[0;34m,\u001b[0m \u001b[0mlabel\u001b[0m\u001b[0;34m=\u001b[0m\u001b[0;34m'North'\u001b[0m\u001b[0;34m)\u001b[0m\u001b[0;34m\u001b[0m\u001b[0;34m\u001b[0m\u001b[0m\n\u001b[0m\u001b[1;32m      4\u001b[0m \u001b[0mplt\u001b[0m\u001b[0;34m.\u001b[0m\u001b[0mlegend\u001b[0m\u001b[0;34m(\u001b[0m\u001b[0;34m)\u001b[0m\u001b[0;34m\u001b[0m\u001b[0;34m\u001b[0m\u001b[0m\n",
      "\u001b[0;32m/scratch/users/shubhgup/1_18_winter/DDUncertaintyFilter/utils.py\u001b[0m in \u001b[0;36mgt_to_imu_idx\u001b[0;34m(x)\u001b[0m\n\u001b[1;32m    983\u001b[0m \u001b[0;34m\u001b[0m\u001b[0m\n\u001b[1;32m    984\u001b[0m     \u001b[0;32mdef\u001b[0m \u001b[0mgt_to_imu_idx\u001b[0m\u001b[0;34m(\u001b[0m\u001b[0mx\u001b[0m\u001b[0;34m)\u001b[0m\u001b[0;34m:\u001b[0m\u001b[0;34m\u001b[0m\u001b[0;34m\u001b[0m\u001b[0m\n\u001b[0;32m--> 985\u001b[0;31m         \u001b[0;32mreturn\u001b[0m \u001b[0mutc_to_imu_idx\u001b[0m\u001b[0;34m(\u001b[0m\u001b[0mgt_idx_to_utc\u001b[0m\u001b[0;34m(\u001b[0m\u001b[0mx\u001b[0m\u001b[0;34m)\u001b[0m\u001b[0;34m)\u001b[0m\u001b[0;34m\u001b[0m\u001b[0;34m\u001b[0m\u001b[0m\n\u001b[0m\u001b[1;32m    986\u001b[0m \u001b[0;34m\u001b[0m\u001b[0m\n\u001b[1;32m    987\u001b[0m     \u001b[0;32mreturn\u001b[0m \u001b[0mimu_to_gt_idx\u001b[0m\u001b[0;34m,\u001b[0m \u001b[0mimu_to_gnss_idx\u001b[0m\u001b[0;34m,\u001b[0m \u001b[0mutc_to_imu_idx\u001b[0m\u001b[0;34m,\u001b[0m \u001b[0mgt_to_imu_idx\u001b[0m\u001b[0;34m,\u001b[0m \u001b[0mutc_to_gt_idx\u001b[0m\u001b[0;34m,\u001b[0m \u001b[0mutc_to_gnss_idx\u001b[0m\u001b[0;34m,\u001b[0m \u001b[0mgt_idx_to_utc\u001b[0m\u001b[0;34m,\u001b[0m \u001b[0mgnss_idx_to_utc\u001b[0m\u001b[0;34m\u001b[0m\u001b[0;34m\u001b[0m\u001b[0m\n",
      "\u001b[0;32m/scratch/users/shubhgup/1_18_winter/DDUncertaintyFilter/utils.py\u001b[0m in \u001b[0;36mutc_to_imu_idx\u001b[0;34m(utc)\u001b[0m\n\u001b[1;32m    980\u001b[0m \u001b[0;34m\u001b[0m\u001b[0m\n\u001b[1;32m    981\u001b[0m     \u001b[0;32mdef\u001b[0m \u001b[0mutc_to_imu_idx\u001b[0m\u001b[0;34m(\u001b[0m\u001b[0mutc\u001b[0m\u001b[0;34m)\u001b[0m\u001b[0;34m:\u001b[0m\u001b[0;34m\u001b[0m\u001b[0;34m\u001b[0m\u001b[0m\n\u001b[0;32m--> 982\u001b[0;31m         \u001b[0;32mreturn\u001b[0m \u001b[0mgen_utc_to_imu_idx\u001b[0m\u001b[0;34m(\u001b[0m\u001b[0mtimestamp\u001b[0m\u001b[0;34m)\u001b[0m\u001b[0;34m(\u001b[0m\u001b[0mutc\u001b[0m\u001b[0;34m)\u001b[0m\u001b[0;34m\u001b[0m\u001b[0;34m\u001b[0m\u001b[0m\n\u001b[0m\u001b[1;32m    983\u001b[0m \u001b[0;34m\u001b[0m\u001b[0m\n\u001b[1;32m    984\u001b[0m     \u001b[0;32mdef\u001b[0m \u001b[0mgt_to_imu_idx\u001b[0m\u001b[0;34m(\u001b[0m\u001b[0mx\u001b[0m\u001b[0;34m)\u001b[0m\u001b[0;34m:\u001b[0m\u001b[0;34m\u001b[0m\u001b[0;34m\u001b[0m\u001b[0m\n",
      "\u001b[0;32m/scratch/users/shubhgup/1_18_winter/DDUncertaintyFilter/utils.py\u001b[0m in \u001b[0;36mgen_utc_to_imu_idx\u001b[0;34m(timestamp)\u001b[0m\n\u001b[1;32m    955\u001b[0m     \u001b[0mls_utc_to_imu_idx\u001b[0m \u001b[0;34m=\u001b[0m \u001b[0mnp\u001b[0m\u001b[0;34m.\u001b[0m\u001b[0mzeros\u001b[0m\u001b[0;34m(\u001b[0m\u001b[0mint\u001b[0m\u001b[0;34m(\u001b[0m\u001b[0mmax_utc\u001b[0m\u001b[0;34m)\u001b[0m\u001b[0;34m+\u001b[0m\u001b[0;36m1\u001b[0m\u001b[0;34m-\u001b[0m\u001b[0mint\u001b[0m\u001b[0;34m(\u001b[0m\u001b[0mmin_utc\u001b[0m\u001b[0;34m)\u001b[0m\u001b[0;34m,\u001b[0m \u001b[0mdtype\u001b[0m\u001b[0;34m=\u001b[0m\u001b[0mnp\u001b[0m\u001b[0;34m.\u001b[0m\u001b[0mint32\u001b[0m\u001b[0;34m)\u001b[0m\u001b[0;34m\u001b[0m\u001b[0;34m\u001b[0m\u001b[0m\n\u001b[1;32m    956\u001b[0m     \u001b[0;32mfor\u001b[0m \u001b[0mi\u001b[0m \u001b[0;32min\u001b[0m \u001b[0mrange\u001b[0m\u001b[0;34m(\u001b[0m\u001b[0mlen\u001b[0m\u001b[0;34m(\u001b[0m\u001b[0mtimestamp\u001b[0m\u001b[0;34m)\u001b[0m\u001b[0;34m-\u001b[0m\u001b[0;36m1\u001b[0m\u001b[0;34m,\u001b[0m \u001b[0;36m0\u001b[0m\u001b[0;34m,\u001b[0m \u001b[0;34m-\u001b[0m\u001b[0;36m1\u001b[0m\u001b[0;34m)\u001b[0m\u001b[0;34m:\u001b[0m\u001b[0;34m\u001b[0m\u001b[0;34m\u001b[0m\u001b[0m\n\u001b[0;32m--> 957\u001b[0;31m         \u001b[0mls_utc_to_imu_idx\u001b[0m\u001b[0;34m[\u001b[0m\u001b[0mint\u001b[0m\u001b[0;34m(\u001b[0m\u001b[0mtimestamp\u001b[0m\u001b[0;34m[\u001b[0m\u001b[0mi\u001b[0m\u001b[0;34m]\u001b[0m\u001b[0;34m)\u001b[0m\u001b[0;34m-\u001b[0m\u001b[0mint\u001b[0m\u001b[0;34m(\u001b[0m\u001b[0mmin_utc\u001b[0m\u001b[0;34m)\u001b[0m\u001b[0;34m]\u001b[0m \u001b[0;34m=\u001b[0m \u001b[0mi\u001b[0m\u001b[0;34m\u001b[0m\u001b[0;34m\u001b[0m\u001b[0m\n\u001b[0m\u001b[1;32m    958\u001b[0m     \u001b[0;32mdef\u001b[0m \u001b[0mutc_to_imu_idx\u001b[0m\u001b[0;34m(\u001b[0m\u001b[0mx\u001b[0m\u001b[0;34m)\u001b[0m\u001b[0;34m:\u001b[0m\u001b[0;34m\u001b[0m\u001b[0;34m\u001b[0m\u001b[0m\n\u001b[1;32m    959\u001b[0m         \u001b[0;32mreturn\u001b[0m \u001b[0mls_utc_to_imu_idx\u001b[0m\u001b[0;34m[\u001b[0m\u001b[0mint\u001b[0m\u001b[0;34m(\u001b[0m\u001b[0mx\u001b[0m\u001b[0;34m)\u001b[0m\u001b[0;34m-\u001b[0m\u001b[0mint\u001b[0m\u001b[0;34m(\u001b[0m\u001b[0mmin_utc\u001b[0m\u001b[0;34m)\u001b[0m\u001b[0;34m]\u001b[0m\u001b[0;34m\u001b[0m\u001b[0;34m\u001b[0m\u001b[0m\n",
      "\u001b[0;31mKeyboardInterrupt\u001b[0m: "
     ]
    },
    {
     "data": {
      "image/png": "[encoded data removed]",
      "text/plain": [
       "<Figure size 432x288 with 1 Axes>"
      ]
     },
     "metadata": {
      "needs_background": "light"
     },
     "output_type": "display_data"
    }
   ],
   "source": [
    "traj_idx = 0\n",
    "plt.plot([gt_pos_delta(imu_to_vo_idx(gt_to_imu_idx(t)))[0] for t in range(traj_idx, traj_idx + 200)], label='East')\n",
    "plt.plot([gt_pos_delta(imu_to_vo_idx(gt_to_imu_idx(t)))[1] for t in range(traj_idx, traj_idx + 200)], label='North')\n",
    "plt.legend()"
   ]
  },
  {
   "cell_type": "code",
   "execution_count": null,
   "id": "b1d2d28c",
   "metadata": {},
   "outputs": [],
   "source": [
    "def scale_line_search(vel):\n",
    "    # Project 3D points to image plane\n",
    "    img_pts, _ = cv2.projectPoints(landmark_3d.numpy(), np.zeros((3, 1)), vel.reshape(3, 1), K.numpy(), np.zeros((4, 1)))\n",
    "    img_pts = img_pts.reshape(-1, 2)\n",
    "    # Calculate reprojection error\n",
    "    error = np.linalg.norm(pixel_2d.numpy() - img_pts, axis=1)\n",
    "    # plt.hist(error.flatten(), alpha=0.5)\n",
    "    return error.mean() + error.std() \n",
    "\n",
    "scales = np.arange(0.0, 0.2, 0.01)\n",
    "plt.plot([scale for scale in scales], [scale_line_search(np.array([-scale, 0.0, -0.215])) for scale in scales])"
   ]
  },
  {
   "cell_type": "code",
   "execution_count": 208,
   "id": "97de96f9",
   "metadata": {},
   "outputs": [
    {
     "name": "stdout",
     "output_type": "stream",
     "text": [
      "tensor([[-1.7657e-01, -8.8686e-02,  5.0332e-02,  0.0000e+00,  0.0000e+00,\n",
      "          0.0000e+00, -7.6810e-03,  1.4974e-03, -3.2191e-05, -3.3420e-03,\n",
      "          0.0000e+00,  0.0000e+00,  0.0000e+00,  0.0000e+00,  0.0000e+00,\n",
      "          0.0000e+00]])\n",
      "tensor([[-2.3275e-01, -2.1034e-01, -4.7031e-05,  0.0000e+00,  0.0000e+00,\n",
      "          0.0000e+00, -7.6810e-03,  1.4974e-03, -3.2191e-05, -3.3420e-03,\n",
      "          0.0000e+00,  0.0000e+00,  0.0000e+00,  0.0000e+00,  0.0000e+00,\n",
      "          0.0000e+00]])\n",
      "tensor([[ 0.0000e+00,  0.0000e+00,  0.0000e+00,  0.0000e+00,  0.0000e+00,\n",
      "          0.0000e+00, -7.6810e-03,  1.4974e-03, -3.2191e-05, -3.3420e-03,\n",
      "          0.0000e+00,  0.0000e+00,  0.0000e+00,  0.0000e+00,  0.0000e+00,\n",
      "          0.0000e+00]])\n",
      "CPU times: user 718 ms, sys: 1.72 s, total: 2.43 s\n",
      "Wall time: 1.01 s\n"
     ]
    },
    {
     "data": {
      "text/plain": [
       "23507.232"
      ]
     },
     "execution_count": 208,
     "metadata": {},
     "output_type": "execute_result"
    },
    {
     "data": {
      "image/png": "[encoded data removed]",
      "text/plain": [
       "<Figure size 432x288 with 1 Axes>"
      ]
     },
     "metadata": {
      "needs_background": "light"
     },
     "output_type": "display_data"
    }
   ],
   "source": [
    "%%time\n",
    "\n",
    "# UNITTEST: Experiments for debugging visual odometry landmarks\n",
    "\n",
    "vo_idx = imu_to_vo_idx(gt_to_imu_idx(traj_idx + 110))\n",
    "\n",
    "landmark_3d, pixel_2d, K, ransac_R, ransac_t = load_vo_data(vo_idx, vo_data, size=1000, error_level=100.0)\n",
    "\n",
    "def scale_line_search(scale):\n",
    "    tmp_gt_delta = gt_pos_delta(vo_idx)\n",
    "    tmp_quat = eul2quat(torch.tensor(gt_rot[imu_to_gt_idx(vo_to_imu_idx(vo_idx)), :]))\n",
    "#     tmp_state = estimated_state.detach().clone()\n",
    "    tmp_state = torch.zeros(1, 16)\n",
    "    tmp_state[:, 6:10] = tmp_quat\n",
    "    \n",
    "    prev_state = torch.zeros(1, 16)\n",
    "    prev_state[:, 6:10] = eul2quat(torch.tensor(gt_rot[imu_to_gt_idx(vo_to_imu_idx(vo_idx-1)), :]))  \n",
    "    \n",
    "#     delta_quat = tf.matrix_to_quaternion(torch.tensor(cv2.Rodrigues(ransac_R)[0]))\n",
    "    delta_quat = torch.zeros(1, 4)\n",
    "#     prev_frame_quat = or_quat[vo_to_imu_idx(vo_idx-1)].detach().clone()\n",
    "#     prev_frame_quat[[1, 2]] = prev_frame_quat[[2, 1]]\n",
    "#     cur_frame_quat = or_quat[vo_to_imu_idx(vo_idx)].detach().clone()\n",
    "#     cur_frame_quat[[1, 2]] = cur_frame_quat[[2, 1]]\n",
    "#     delta_quat = quat_delta(prev_frame_quat, cur_frame_quat)\n",
    "    \n",
    "    tmp_t = torch.tensor(ransac_t.flatten())\n",
    "    tmp_t[2] = -tmp_t[2]\n",
    "    tmp_t  = tmp_t[[0, 2, 1]]\n",
    "    tmp_t = tf.quaternion_apply(tf.quaternion_invert(tmp_quat), tmp_t)\n",
    "    tmp_state[:, :3] = tmp_t\n",
    "    print(tmp_state-prev_state)\n",
    "    \n",
    "#     fname_ransac = f'tmp_res_ransac_{vo_idx}'\n",
    "    \n",
    "    test_filter.update_vo(landmark_std=100.0, landmarks=landmark_3d, intrinsic=K, scale=1.0, prev_state=prev_state, linearization_point=pixel_2d.reshape(1, -1))\n",
    "    expected_observation, R = test_filter.measurement_model(tmp_state)\n",
    "    abs_res_ransac = (expected_observation - pixel_2d.reshape(1, -1)).numpy()\n",
    "    \n",
    "    tmp_state[:, :3] = torch.tensor(tmp_gt_delta)*scale\n",
    "    print(tmp_state-prev_state)\n",
    "#     fname_gt = f'tmp_res_gt_{vo_idx}'\n",
    "    \n",
    "    test_filter.update_vo(landmark_std=100.0, landmarks=landmark_3d, intrinsic=K, scale=1.0, prev_state=prev_state, linearization_point=pixel_2d.reshape(1, -1))\n",
    "    expected_observation, R = test_filter.measurement_model(tmp_state)\n",
    "    abs_res_gt = (expected_observation - pixel_2d.reshape(1, -1)).numpy()\n",
    "    \n",
    "    estimated_state = test_filter(controls=None, observations=pixel_2d.reshape(1, -1))\n",
    "    \n",
    "    tmp_state[:, :3] = torch.zeros(3)\n",
    "    print(tmp_state-prev_state)\n",
    "#     fname_gt = f'tmp_res_gt_{vo_idx}'\n",
    "    \n",
    "    test_filter.update_vo(landmark_std=100.0, landmarks=landmark_3d, intrinsic=K, scale=1.0, prev_state=prev_state, linearization_point=pixel_2d.reshape(1, -1))\n",
    "    expected_observation, R = test_filter.measurement_model(tmp_state)\n",
    "    abs_res_zero = (expected_observation - pixel_2d.reshape(1, -1)).numpy()\n",
    "    \n",
    "#     abs_res[abs_res > 5] = 0.0\n",
    "    plt.hist(abs_res_ransac.flatten(), alpha=0.5, label='ransac', color='red', bins=100)\n",
    "    plt.hist(abs_res_gt.flatten(), alpha=0.5, label='gt', color='blue', bins=100)\n",
    "    plt.hist(abs_res_zero.flatten(), alpha=0.5, label='zero', color='green', bins=100)\n",
    "    plt.legend()\n",
    "    \n",
    "#     np.save(fname_ransac, abs_res_ransac.flatten())\n",
    "#     np.save(fname_gt, abs_res_gt.flatten())\n",
    "    \n",
    "    \n",
    "#     val = np.square(abs_res_gt).sum() - np.square(abs_res_ransac).sum()\n",
    "    val = np.square(abs_res_ransac).sum()\n",
    "    return val\n",
    "\n",
    "# plt.plot([scale_line_search(0.5 + i/10) for i in tqdm(range(100))])\n",
    "scale_line_search(0.5)"
   ]
  },
  {
   "cell_type": "code",
   "execution_count": 215,
   "id": "235bf96a",
   "metadata": {},
   "outputs": [
    {
     "data": {
      "text/plain": [
       "Text(0, 0.5, 'per iteration computation time [ms]')"
      ]
     },
     "execution_count": 215,
     "metadata": {},
     "output_type": "execute_result"
    },
    {
     "data": {
      "image/png": "[encoded data removed]",
      "text/plain": [
       "<Figure size 432x288 with 1 Axes>"
      ]
     },
     "metadata": {
      "needs_background": "light"
     },
     "output_type": "display_data"
    }
   ],
   "source": [
    "# create python dictionary with above values\n",
    "d = {\n",
    "    10: [255, 254, 369, 254, 368, 255],\n",
    "    50: [257, 368, 258, 252, 258, 261],\n",
    "    100: [266, 263, 257, 367, 262, 371],\n",
    "    200: [413, 302, 417, 299, 303, 303],\n",
    "    500: [798, 796, 795, 794, 789, 783],\n",
    "    1000: [1130, 1030, 1150, 1050, 1130, 1010],\n",
    "    }\n",
    "\n",
    "# plot error bars\n",
    "plt.errorbar(d.keys(), [np.mean(v) for v in d.values()], yerr=[np.std(v) for v in d.values()], fmt='o')\n",
    "plt.plot(d.keys(), [np.mean(v) for v in d.values()], 'k-')\n",
    "plt.xscale('log')\n",
    "\n",
    "plt.xlabel('Number of features')\n",
    "plt.ylabel('per iteration computation time [ms]')"
   ]
  },
  {
   "cell_type": "code",
   "execution_count": 217,
   "id": "6ad4811a",
   "metadata": {
    "scrolled": true
   },
   "outputs": [
    {
     "name": "stdout",
     "output_type": "stream",
     "text": [
      "\u001b[33mWARNING: Ignoring invalid distribution -orch (/home/groups/gracegao/conda_envs/deep_gnss/lib/python3.8/site-packages)\u001b[0m\n",
      "Note: you may need to restart the kernel to use updated packages.\n"
     ]
    }
   ],
   "source": [
    "%pip freeze > requirements.txt"
   ]
  },
  {
   "cell_type": "code",
   "execution_count": null,
   "id": "5e513ba3",
   "metadata": {},
   "outputs": [],
   "source": [
    "# estimated_state, tf.quaternion_invert(imu_observation)\n",
    "new_vo_idx"
   ]
  },
  {
   "cell_type": "code",
   "execution_count": null,
   "id": "bff830e6",
   "metadata": {},
   "outputs": [],
   "source": [
    "# For RBPF\n",
    "\n",
    "def run_timestep(t, context):\n",
    "    prev_timestamp, dd_idx, vo_idx, recorded_data = context\n",
    "    \n",
    "    # Load IMU data\n",
    "    timestamp_t, or_quat_t, or_cov_t, ang_vel_t, ang_vel_cov_t, lin_acc_t, lin_acc_cov_t = timestamp[t], or_quat[t], or_cov[t], ang_vel[t], ang_vel_cov[t], lin_acc[t], lin_acc_cov[t]\n",
    "\n",
    "    # Compute time difference \n",
    "    dt = (timestamp_t - prev_timestamp)\n",
    "    prev_timestamp = timestamp_t\n",
    "    test_filter.update_dt_cov(dt, xy_std, z_std, q_std, v_std)\n",
    "\n",
    "    # Orientation (world -> body) to (body -> world)\n",
    "#     or_quat_t[3] *= -1     # fix for ENU consistency\n",
    "\n",
    "    # Predict step\n",
    "    controls = torch.cat((lin_acc_t, ang_vel_t)).float()\n",
    "    imu_observation = or_quat_t.float()\n",
    "    imu_observation[[1, 2]] = imu_observation[[2, 1]]\n",
    "    test_filter.update_imu_std(or_cov_t.float())\n",
    "    estimated_state = test_filter(controls=controls[None, :], observations=imu_observation[None, :])\n",
    "#     print(\"Heading: \", estimated_state[:, 3:7], tf.quaternion_invert(imu_observation))\n",
    "    \n",
    "    tmp_outs_1 = test_filter.tmp_outs\n",
    "    tmp_outs_2 = test_filter.tmp_outs\n",
    "    tmp_outs_2['corrected state'] = tmp_outs_2['predicted state']\n",
    "    tmp_outs_2['corrected logwt'] = tmp_outs_2['predicted logwt']\n",
    "    tmp_outs_2['corrected cov'] = tmp_outs_2['predicted cov']\n",
    "    \n",
    "    # Null corrected state and observation data\n",
    "    corrected_state = None\n",
    "    gnss_observation = None\n",
    "    gnss_observation_context = None\n",
    "    \n",
    "    new_vo_idx = imu_to_vo_idx(t)\n",
    "    if new_vo_idx > vo_idx:\n",
    "#         print(\"VO update: \", t)\n",
    "        vo_idx = new_vo_idx\n",
    "        \n",
    "        # VO does better at predicting low velocities\n",
    "        vo_val = np.linalg.norm(vo_data['vo'][vo_idx, :])/1.5              # VO velocity\n",
    "#         vo_val = gt_vel[imu_to_gt_idx(t), 1]           # Ground truth velocity\n",
    "        vo_observation = torch.zeros(1, 3)\n",
    "        vo_observation[0, 1] = vo_val\n",
    "#         if vo_val<3:\n",
    "#             test_filter.update_vo_std(1e-4)\n",
    "#         else:\n",
    "        test_filter.update_vo_std(1e-3)\n",
    "            \n",
    "        \n",
    "        \n",
    "        estimated_state = test_filter(controls=None, observations=vo_observation)\n",
    "        expected_observation, R = test_filter.measurement_model.kalman_filter_measurement_model(estimated_state)\n",
    "#         print(\"Vel: \", estimated_state[0, 7:10], expected_observation, vo_observation)\n",
    "        \n",
    "\n",
    "    new_dd_idx = imu_to_gnss_idx(t)\n",
    "    if new_dd_idx > dd_idx:\n",
    "#         print(\"GNSS update: \", t)\n",
    "        dd_idx = new_dd_idx\n",
    "\n",
    "        # Load GNSS observables\n",
    "        rover_code, base_code, rover_carr, base_carr, rover_cnos, satpos, idx_code_mask, idx_carr_mask = to_tensor(read_gnss_data(dd_data, dd_idx, 'mixed'))\n",
    "\n",
    "        # Load Integer hypotheses\n",
    "        ref, N_hypo_dict = None, None\n",
    "#         ref, N_hypo_dict = get_N_hypotheses(timestamp_t, ints_data)\n",
    "\n",
    "        gnss_observation, idx_code_mask, idx_carr_mask, ref = calc_gnss_observation(rover_code, base_code, rover_carr, base_carr, satpos, idx_code_mask, idx_carr_mask, ref=ref)\n",
    "        \n",
    "        if gnss_observation is not None:\n",
    "            \n",
    "            # Cycle slip detection\n",
    "            cs_data = mixed_data[dd_idx, :]\n",
    "        \n",
    "            # Dynamic covariances\n",
    "            cov_observation = calc_gnss_cov(rover_cnos, satpos, estimated_state[0, :3])\n",
    "            \n",
    "            cov_ambiguity = calc_ambiguity_cov(cs_data, idx_carr_mask)\n",
    "            \n",
    "            test_filter.update_ambiguity_cov(cov_ambiguity)\n",
    "#             visible_sats = sum(idx_code_mask)\n",
    "#             prange_std = 20.0/visible_sats\n",
    "#             carrier_std = 20.0/visible_sats if visible_sats<3 else 1.0/visible_sats\n",
    "            \n",
    "            # Update satellite and other context data in the measurement model\n",
    "            test_filter.update_sats(satpos, idx_code_mask, idx_carr_mask, ref, inter_const_bias=inter_const_bias, N_hypo_dict=N_hypo_dict, pf_std=(cov_observation*jitter_measurement, cov_observation*jitter_measurement, cov_observation*0.1*jitter_measurement), kf_std=(cov_observation, cov_observation, cov_observation*0.1))\n",
    "            gnss_observation_context = (satpos, idx_code_mask, idx_carr_mask, ref, inter_const_bias)\n",
    "\n",
    "            # Debug\n",
    "            tmp_state = torch.zeros(1, 10)\n",
    "            tmp_state[0, :3] = torch.tensor(gt_pos[imu_to_gt_idx(t), :])\n",
    "    #             expected_observation, R = test_filter.measurement_model.kalman_filter_measurement_model(tmp_state)\n",
    "\n",
    "    #             if N_hypo_dict is not None:\n",
    "    #                 print(expected_observation, gnss_observation)\n",
    "\n",
    "            # Update step\n",
    "            corrected_state = test_filter(observations=gnss_observation[None, :], controls=None)\n",
    "            \n",
    "            print(\"Current err: \", torch.norm(corrected_state[0, :3] - tmp_state[0, :3]))\n",
    "\n",
    "            tmp_outs_2 = test_filter.tmp_outs\n",
    "            \n",
    "    # Ensure no NaN's so far\n",
    "    assert not (torch.any(torch.isnan(estimated_states[t-T_start, :])))\n",
    "    \n",
    "#     recorded_data['controls'].append(controls)\n",
    "#     recorded_data['imu_observation'].append(imu_observation)\n",
    "#     recorded_data['gnss_observation'].append(gnss_observation)\n",
    "#     recorded_data['gnss_observation_context'].append(gnss_observation_context)\n",
    "    \n",
    "    return estimated_state, corrected_state, (prev_timestamp, dd_idx, vo_idx, recorded_data), (tmp_outs_1, tmp_outs_2, prev_timestamp)"
   ]
  },
  {
   "cell_type": "markdown",
   "id": "e1f7cbde",
   "metadata": {},
   "source": [
    "Debugging---"
   ]
  },
  {
   "cell_type": "code",
   "execution_count": null,
   "id": "aceb3930",
   "metadata": {
    "scrolled": true
   },
   "outputs": [],
   "source": [
    "tmp_outs = []\n",
    "sync_gt = []\n",
    "\n",
    "prev_gt_idx = -1\n",
    "\n",
    "with torch.no_grad():\n",
    "    for t in tqdm(range(T_start, T, IMU_rate_div)):\n",
    "        estimated_state, corrected_state, context, _tmp_outs = run_timestep(t, context)\n",
    "        if imu_to_gt_idx(t) != prev_gt_idx:\n",
    "            prev_gt_idx = imu_to_gt_idx(t)\n",
    "            tmp_outs.append(_tmp_outs)\n",
    "            sync_gt.append(torch.tensor(gt_pos[prev_gt_idx, :]))\n",
    "        \n",
    "        if corrected_state is None:\n",
    "            estimated_states[t, :] = estimated_state\n",
    "        else:\n",
    "            estimated_states[t, :] = corrected_state\n",
    "#             print(\"GT idx: \", prev_gt_idx)\n",
    "#             # Update filter parameters\n",
    "#             with torch.enable_grad():\n",
    "                \n",
    "#                 dynamics_objective = nll_objective(corrected_state.detach(), , torch.diagonal(Q, dim1=-2, dim2=-1)[:, :3])"
   ]
  },
  {
   "cell_type": "code",
   "execution_count": null,
   "id": "55772253",
   "metadata": {},
   "outputs": [],
   "source": [
    "save_data['weights'].shape"
   ]
  },
  {
   "cell_type": "code",
   "execution_count": null,
   "id": "dd736f38",
   "metadata": {},
   "outputs": [],
   "source": [
    "save_data = {\n",
    "    'states': np.array([tmp_outs[timestep][1]['corrected state'][0].numpy() for timestep in tqdm(range(len(tmp_outs)))]),\n",
    "    'weights': np.array([torch.exp(tmp_outs[timestep][1]['corrected logwt'][0]).numpy() for timestep in tqdm(range(len(tmp_outs)))]),\n",
    "    'cov': np.array([tmp_outs[timestep][1]['corrected cov'].numpy() for timestep in tqdm(range(len(tmp_outs)))]),\n",
    "    'UTCtime': np.array([tmp_outs[timestep][2] for timestep in tqdm(range(len(tmp_outs)))]),\n",
    "    'gt': np.array([sync_gt[timestep].numpy() for timestep in tqdm(range(len(tmp_outs)))]),\n",
    "}\n",
    "np.save(os.path.abspath('/oak/stanford/groups/gracegao/HKdataset/data_06_22_22/Filter_data/rbpf_det_20p_9_4_1210_loop1.npy'), save_data)\n",
    "# np.save(os.path.abspath('/oak/stanford/groups/gracegao/HKdataset/data_06_22_22/Filter_data/ekf_9_4_1130_loop1.npy'), save_data)"
   ]
  },
  {
   "cell_type": "code",
   "execution_count": null,
   "id": "12720431",
   "metadata": {},
   "outputs": [],
   "source": [
    "# # with open(, 'wb') as f:\n",
    "    \n",
    "# save_data = {\n",
    "#     'states': np.array([tmp_outs[timestep][0]['predicted state'][0].numpy() for timestep in tqdm(range(len(tmp_outs)))]),\n",
    "#     'weights': np.array([torch.exp(tmp_outs[timestep][0]['predicted logwt'][0]).numpy() for timestep in tqdm(range(len(tmp_outs)))]),\n",
    "#     'cov': np.array([tmp_outs[timestep][0]['predicted cov'][0].numpy() for timestep in tqdm(range(len(tmp_outs)))]),\n",
    "#     'UTCtime': np.array([tmp_outs[timestep][2] for timestep in tqdm(range(len(tmp_outs)))]),\n",
    "#     'gt': np.array([sync_gt[timestep].numpy() for timestep in tqdm(range(len(tmp_outs)))]),\n",
    "# }\n",
    "# np.save(os.path.abspath('/oak/stanford/groups/gracegao/HKdataset/data_06_22_22/Filter_data/full_8_26_1830_1.npy'), save_data)"
   ]
  },
  {
   "cell_type": "code",
   "execution_count": null,
   "id": "9fac4120",
   "metadata": {},
   "outputs": [],
   "source": [
    "save_data = np.load(os.path.abspath('/oak/stanford/groups/gracegao/HKdataset/data_06_22_22/Filter_data/full_8_17_1515_1.npy'), allow_pickle=True).item()"
   ]
  },
  {
   "cell_type": "code",
   "execution_count": null,
   "id": "dd2bf293",
   "metadata": {},
   "outputs": [],
   "source": [
    "def compute_tau_bisection(epsilon, diff_xh_xi, weights, init_tau=30.0):\n",
    "    tau = init_tau\n",
    "    \n",
    "    for _ in range(20): \n",
    "        is_inside = diff_xh_xi < tau\n",
    "        filter_integral = torch.sum(weights[is_inside])\n",
    "        if filter_integral < 1 - epsilon:\n",
    "            tau = 3/2 * tau\n",
    "        else:\n",
    "            tau = 1/2 * tau\n",
    "            \n",
    "    return tau\n",
    "\n",
    "def compute_tau_empirical_sigma(epsilon, diff_xh_xi, weights):\n",
    "    sigma = torch.sqrt(torch.sum(weights * torch.square(diff_xh_xi))) + 1e-6\n",
    "    return torch.distributions.normal.Normal(loc=0.0, scale=sigma).icdf(torch.tensor(1-epsilon))\n",
    "\n",
    "def compute_tau_sigma(epsilon, var, weights):\n",
    "    sigma = torch.sqrt(torch.sum(weights * var)) + 1e-6\n",
    "    return torch.distributions.normal.Normal(loc=0.0, scale=sigma).icdf(torch.tensor(1-epsilon))\n",
    "\n",
    "def integrate_beliefs_1d(estimated_state, all_hypo_log_weights, all_hypo_states, all_hypo_cov, epsilon=0.01, dim=0):\n",
    "    if len(all_hypo_states.shape)==2:\n",
    "        all_hypo_states = all_hypo_states[None, :, :]\n",
    "        all_hypo_log_weights = all_hypo_log_weights[None, :]\n",
    "        all_hypo_cov = all_hypo_cov[None, :, :, :]\n",
    "    \n",
    "    num_hypo = all_hypo_log_weights.shape[0]\n",
    "    \n",
    "#     diff_xh_xi = torch.abs(estimated_state[dim] - all_hypo_states[:, :, dim])\n",
    "    all_hypo_tau = torch.tensor([compute_tau_sigma(epsilon, all_hypo_cov[0, i, dim, dim], 1.0) for i in range(all_hypo_states.shape[1])])\n",
    "    diff_xh_xi = torch.abs(estimated_state[dim] - all_hypo_states[:, :, dim]) + all_hypo_tau[None, :]\n",
    "    print(all_hypo_tau, torch.sqrt(all_hypo_cov[:, :, dim, dim]))\n",
    "#     diff_xh_xi = torch.abs(estimated_state[dim] - all_hypo_states[:, :, dim]) + torch.sqrt(all_hypo_cov[:, :, dim, dim])\n",
    "    \n",
    "    weights = torch.exp(all_hypo_log_weights)\n",
    "    \n",
    "#     diff_atau_xi = torch.abs(estimated_state[dim] + tau - all_hypo_states[:, :, dim])\n",
    "#     diff_btau_xi = torch.abs(estimated_state[dim] - tau - all_hypo_states[:, :, dim])\n",
    "    \n",
    "#     diff_ptau_xi = torch.maximum(diff_atau_xi, diff_btau_xi)\n",
    "#     diff_mtau_xi = torch.minimum(diff_atau_xi, diff_btau_xi)\n",
    "    \n",
    "    tau = compute_tau_empirical_sigma(epsilon, diff_xh_xi, weights)\n",
    "#     tau = compute_tau_sigma(epsilon, all_hypo_cov[:, :, dim, dim], weights)\n",
    "\n",
    "    #     sigma = 5.0 # all_hypo_cov[:, :, dim, dim]\n",
    "    #     integral_xh_xi = torch.erf(diff_xh_xi/sigma)\n",
    "    #     integral_ptau_xi = torch.erf(diff_ptau_xi/sigma)\n",
    "    #     integral_mtau_xi = torch.erf(diff_mtau_xi/sigma)\n",
    "\n",
    "    return tau\n",
    "    "
   ]
  },
  {
   "cell_type": "code",
   "execution_count": null,
   "id": "89bd5bf6",
   "metadata": {},
   "outputs": [],
   "source": [
    "# plt.bar((torch.tensor(_init_particles[:, 0]) - estimated_state[0]).numpy(), _init_weights, alpha=0.3)"
   ]
  },
  {
   "cell_type": "code",
   "execution_count": null,
   "id": "7f12eb45",
   "metadata": {},
   "outputs": [],
   "source": [
    "# for h in tqdm(range(all_hypo_states.shape[0])):\n",
    "#     plt.bar((all_hypo_states[h, :, 0] - estimated_state[0]).numpy(), torch.exp(all_hypo_log_weights[h, :]).numpy(), width=0.8, alpha=0.2)"
   ]
  },
  {
   "cell_type": "code",
   "execution_count": null,
   "id": "15e36821",
   "metadata": {},
   "outputs": [],
   "source": [
    "# metric_times = []\n",
    "\n",
    "# T = len(save_data['UTCtime'])\n",
    "# gnss_times = dd_data['time_gt'].to_numpy()\n",
    "\n",
    "# i = 0\n",
    "# i_N = 1\n",
    "\n",
    "# for timestep in tqdm(range(i*int(T/i_N), (i+1)*int(T/i_N))):\n",
    "#     _utctime = save_data['UTCtime'][timestep]\n",
    "#     dd_tidx = np.argmin(np.abs(gnss_times - _utctime))\n",
    "#     if np.abs(gnss_times[dd_tidx]-_utctime) > 1/40:\n",
    "#         continue\n",
    "    \n",
    "#     # Load GNSS observables\n",
    "#     rover_code, base_code, rover_carr, base_carr, satpos, idx_code_mask, idx_carr_mask = to_tensor(read_gnss_data(dd_data, dd_tidx, 'mixed'))\n",
    "\n",
    "#     gnss_observation, idx_code_mask, idx_carr_mask, ref = calc_gnss_observation(rover_code, base_code, rover_carr, base_carr, satpos, idx_code_mask, idx_carr_mask, ref=None)\n",
    "\n",
    "#     if gnss_observation is None:\n",
    "#         continue\n",
    "    \n",
    "#     metric_times.append(gnss_times[dd_tidx])\n",
    "# # print(len(metric_times))\n",
    "# np.save('/home/users/shubhgup/Codes/KITTI360_Processing/TRI_KF/Filter_data/8_17_1000_times.npy', np.array(metric_times))"
   ]
  },
  {
   "cell_type": "code",
   "execution_count": null,
   "id": "16dc0640",
   "metadata": {},
   "outputs": [],
   "source": [
    "def single_hypo_update(_init_particles, _init_cov, _init_weights, gnss_observation, satpos, idx_code_mask, idx_carr_mask, ref, inter_const_bias, N_hypo_dict=None):\n",
    "    M, state_dim = _init_particles.shape\n",
    "    obs_dim = len(gnss_observation)\n",
    "    \n",
    "    test_filter.update_sats(satpos, idx_code_mask, idx_carr_mask, ref, inter_const_bias=inter_const_bias, N_hypo_dict=N_hypo_dict)\n",
    "\n",
    "    # Run EKF correct\n",
    "    test_filter.ekf._belief_mean = torch.tensor(_init_particles)\n",
    "    test_filter.ekf._belief_covariance = torch.tensor(_init_cov)\n",
    "\n",
    "    ekf_correct_particles = test_filter.ekf(controls=None, observations=gnss_observation.expand(M, obs_dim))\n",
    "\n",
    "    _meas_log_weights = test_filter.measurement_model(\n",
    "                    states=ekf_correct_particles[None, :, :],\n",
    "                    observations=gnss_observation[None, :],\n",
    "                )\n",
    "\n",
    "    _update_log_weights = torch.log(torch.tensor(_init_weights[None, :])) + _meas_log_weights\n",
    "    _update_log_weights -= torch.logsumexp(_update_log_weights, dim=1)\n",
    "    \n",
    "    return ekf_correct_particles.detach()[:, :3], test_filter.ekf._belief_covariance.detach()[:, :3, :3], _update_log_weights.detach()[0, :]"
   ]
  },
  {
   "cell_type": "code",
   "execution_count": null,
   "id": "63345e47",
   "metadata": {
    "scrolled": true
   },
   "outputs": [],
   "source": [
    "def get_uls():\n",
    "#     gnss_times = dd_data['time_gt'].to_numpy()\n",
    "#     test_filter.measurement_model.kalman_filter_measurement_model.gnss_model.carrier_N_std = 2.0\n",
    "#     test_filter.ekf.measurement_model.gnss_model.carrier_N_std = 2.0\n",
    "\n",
    "    ret_data = {\n",
    "        'eul': [],\n",
    "        'nul': [],\n",
    "        'xh': [],\n",
    "        'gt': []\n",
    "    }\n",
    "\n",
    "    T = len(save_data['UTCtime'])\n",
    "    \n",
    "    i = 0\n",
    "    i_N = 1\n",
    "\n",
    "    for timestep in tqdm(range(i*int(T/i_N), (i+1)*int(T/i_N))):\n",
    "        _utctime = save_data['UTCtime'][timestep]\n",
    "#         dd_tidx = np.argmin(np.abs(gnss_times - _utctime))\n",
    "#         if np.abs(gnss_times[dd_tidx]-_utctime) > 1/40:\n",
    "#             continue\n",
    "\n",
    "#         # Load GNSS observables\n",
    "#         rover_code, base_code, rover_carr, base_carr, satpos, idx_code_mask, idx_carr_mask = to_tensor(read_gnss_data(dd_data, dd_tidx, 'mixed'))\n",
    "\n",
    "        _init_particles = None\n",
    "        _init_weights = None\n",
    "#         all_hypo_states = torch.tensor(save_data['states'][timestep])[None, None, :]\n",
    "        all_hypo_states = torch.tensor(save_data['states'][timestep])[None, :, :]\n",
    "        \n",
    "        state_dim = all_hypo_states.shape[-1]\n",
    "\n",
    "#         all_hypo_log_weights = torch.zeros((1, 1, 1))\n",
    "        all_hypo_log_weights = torch.log(torch.tensor(save_data['weights'][timestep]))[None, :]\n",
    "        _gt = torch.tensor(save_data['gt'][timestep])\n",
    "\n",
    "#         M, state_dim = _init_particles.shape\n",
    "\n",
    "        _init_cov = None\n",
    "#         all_hypo_cov = torch.tensor(save_data['cov'][timestep])[None, None, :, :] # 1.0*torch.eye(state_dim).expand(M, state_dim, state_dim)\n",
    "        all_hypo_cov = torch.tensor(save_data['cov'][timestep])[None, :, :, :]\n",
    "#         ref, N_hypo_dict_all = get_N_hypotheses(_utctime, ints_data)\n",
    "\n",
    "#         gnss_observation, idx_code_mask, idx_carr_mask, ref = calc_gnss_observation(rover_code, base_code, rover_carr, base_carr, satpos, idx_code_mask, idx_carr_mask, ref=ref)\n",
    "\n",
    "#         if gnss_observation is None:\n",
    "#             continue\n",
    "        \n",
    "#         if N_hypo_dict_all is None:\n",
    "#             _hypo_states, _hypo_cov, _hypo_log_weights = single_hypo_update(_init_particles, _init_cov, _init_weights, gnss_observation, satpos, idx_code_mask, idx_carr_mask, ref, inter_const_bias, N_hypo_dict=None)\n",
    "            \n",
    "#             all_hypo_states = _hypo_states.unsqueeze(0)\n",
    "#             all_hypo_cov = _hypo_cov.unsqueeze(0)\n",
    "#             all_hypo_log_weights = _hypo_log_weights.unsqueeze(0)\n",
    "#         else:\n",
    "#             avail_sat_idx = list(N_hypo_dict_all.keys())\n",
    "\n",
    "#             num_hypo = len(N_hypo_dict_all[avail_sat_idx[0]])\n",
    "\n",
    "#             all_hypo_states = []\n",
    "#             all_hypo_cov = []\n",
    "#             all_hypo_log_weights = []    \n",
    "        \n",
    "\n",
    "# #             tmp_state = torch.zeros(1, 10)\n",
    "# #             tmp_state[0, :3] = torch.tensor(_gt)\n",
    "# #             test_filter.update_sats(satpos, idx_code_mask, idx_carr_mask, ref, inter_const_bias=inter_const_bias, N_hypo_dict=None)\n",
    "# #             expected_observation_gt, _ = test_filter.measurement_model.kalman_filter_measurement_model(tmp_state)\n",
    "\n",
    "#             for hypo_idx in range(num_hypo):\n",
    "#                 N_hypo_dict = {key: N_hypo_dict_all[key][hypo_idx] for key in avail_sat_idx}\n",
    "\n",
    "#                 _hypo_states, _hypo_cov, _hypo_log_weights = single_hypo_update(_init_particles, _init_cov, _init_weights, gnss_observation, satpos, idx_code_mask, idx_carr_mask, ref, inter_const_bias, N_hypo_dict=N_hypo_dict)\n",
    "\n",
    "#                 all_hypo_states.append(_hypo_states)\n",
    "#                 all_hypo_cov.append(_hypo_cov)\n",
    "#                 all_hypo_log_weights.append(_hypo_log_weights)\n",
    "\n",
    "#             all_hypo_states = torch.stack(all_hypo_states)\n",
    "#             all_hypo_cov = torch.stack(all_hypo_cov)\n",
    "#             all_hypo_log_weights = torch.stack(all_hypo_log_weights) - np.log(num_hypo)\n",
    "\n",
    "        estimated_state = torch.sum(\n",
    "                    torch.exp(all_hypo_log_weights).reshape(-1)[:, None]\n",
    "                    * all_hypo_states.reshape(-1, state_dim),\n",
    "                    dim=0,\n",
    "                )\n",
    "    \n",
    "        ret_data['eul'].append(integrate_beliefs_1d(estimated_state, all_hypo_log_weights, all_hypo_states, all_hypo_cov, dim=0))\n",
    "        ret_data['nul'].append(integrate_beliefs_1d(estimated_state, all_hypo_log_weights, all_hypo_states, all_hypo_cov, dim=1))\n",
    "\n",
    "        ret_data['xh'].append(estimated_state)\n",
    "        ret_data['gt'].append(torch.tensor(_gt))\n",
    "\n",
    "#         if timestep > i*int(T/10) + 0:\n",
    "#             break\n",
    "        \n",
    "#         print(_utctime)\n",
    "        \n",
    "    return ret_data, (all_hypo_states, all_hypo_log_weights, estimated_state, torch.tensor(_gt), _init_particles, _init_weights)\n",
    "\n",
    "ret_data, (all_hypo_states, all_hypo_log_weights, estimated_state, _gt, _init_particles, _init_weights) = get_uls()"
   ]
  },
  {
   "cell_type": "code",
   "execution_count": null,
   "id": "cbec0805",
   "metadata": {},
   "outputs": [],
   "source": [
    "run_x_hat = torch.stack(ret_data['xh'])\n",
    "run_gt = torch.stack(ret_data['gt'])\n",
    "\n",
    "overall_pe = torch.norm((run_x_hat[:, :2]-run_gt[:, :2]), dim=1)\n",
    "overall_ul = torch.maximum(torch.stack(ret_data['nul']), torch.stack(ret_data['eul']))\n",
    "\n",
    "# mask = overall_ul>50.0\n",
    "\n",
    "# run_x_hat[mask] = np.nan\n",
    "# run_gt[mask] = np.nan\n",
    "# overall_pe[mask] = np.nan\n",
    "# overall_ul[mask] = 50.0\n",
    "\n",
    "# print(torch.sum((overall_ul<overall_pe)&(overall_pe>15.0))/len(overall_pe))\n",
    "\n",
    "plt.figure(figsize=(8, 8))\n",
    "plt.scatter(overall_pe, overall_ul, color='k', s=3)\n",
    "plt.plot([0, 50], [0, 50], 'r--')\n",
    "plt.xlim([0, 50])\n",
    "plt.ylim([0, 50])"
   ]
  },
  {
   "cell_type": "code",
   "execution_count": null,
   "id": "215a7f12",
   "metadata": {},
   "outputs": [],
   "source": [
    "dim = 1\n",
    "\n",
    "plt.fill_between(range(len(run_gt)), run_x_hat[:, dim] - overall_ul, run_x_hat[:, dim] + overall_ul, color='g', alpha=0.5, label='Uncertainty Level')\n",
    "# plt.plot(run_x_hat[:, dim], 'r', label='State Estimate')\n",
    "plt.plot(run_gt[:, dim], 'r--', label='Ground Truth')\n",
    "plt.legend()"
   ]
  },
  {
   "cell_type": "code",
   "execution_count": null,
   "id": "5636e499",
   "metadata": {},
   "outputs": [],
   "source": [
    "metric_data = pd.DataFrame({'x_hat_e': run_x_hat.numpy()[:, 0], 'x_hat_n': run_x_hat.numpy()[:, 1], 'gt_e': run_gt.numpy()[:, 0], 'gt_n': run_gt.numpy()[:, 1], 'pe': overall_pe, 'ul': overall_ul})\n",
    "metric_data.to_csv('/home/users/shubhgup/Codes/KITTI360_Processing/TRI_KF/Filter_data/8_17_1430_half2_ekf.csv')"
   ]
  },
  {
   "cell_type": "code",
   "execution_count": null,
   "id": "b9bef160",
   "metadata": {},
   "outputs": [],
   "source": [
    "# observation_dim = test_filter.measurement_model.observation_dim\n",
    "\n",
    "# def temp_f(states, satXYZb, base_pos, ref_idx, idx_code_mask, idx_carr_mask):\n",
    "#     N, state_dim = states.shape\n",
    "#     pos = states[:, :3]\n",
    "# #         bias = states[:, self.idx_b_mask]\n",
    "\n",
    "#     # ROVER\n",
    "#     expected_observation_code = torch.linalg.norm(satXYZb[None, idx_code_mask, :3] - pos[:, None, :], dim=-1)\n",
    "#     expected_observation_carr = torch.linalg.norm(satXYZb[None, idx_carr_mask, :3] - pos[:, None, :], dim=-1)\n",
    "\n",
    "\n",
    "#     # ROVER - BASE\n",
    "#     expected_observation_code -= torch.linalg.norm(satXYZb[None, idx_code_mask, :3] - base_pos[None, None, :], dim=-1)\n",
    "#     expected_observation_carr -= torch.linalg.norm(satXYZb[None, idx_carr_mask, :3] - base_pos[None, None, :], dim=-1)\n",
    "\n",
    "    \n",
    "#     ## REFERENCE\n",
    "    \n",
    "#     # ROVER\n",
    "#     expected_observation_code_ref = torch.linalg.norm(satXYZb[None, ref_idx, :3] - pos[:, :], dim=-1)\n",
    "#     expected_observation_carr_ref = torch.linalg.norm(satXYZb[None, ref_idx, :3] - pos[:, :], dim=-1)\n",
    "\n",
    "\n",
    "#     # ROVER - BASE\n",
    "#     expected_observation_code_ref -= torch.linalg.norm(satXYZb[None, ref_idx, :3] - base_pos[None, :], dim=-1)\n",
    "#     expected_observation_carr_ref -= torch.linalg.norm(satXYZb[None, ref_idx, :3] - base_pos[None, :], dim=-1)\n",
    "    \n",
    "    \n",
    "#     # DOUBLE DIFFERENCE\n",
    "#     expected_observation_code = expected_observation_code - expected_observation_code_ref[:, None]\n",
    "#     expected_observation_carr = expected_observation_carr - expected_observation_carr_ref[:, None]\n",
    "\n",
    "#     expected_observation = torch.cat((expected_observation_code, expected_observation_carr), -1)\n",
    "\n",
    "#     return expected_observation.float()\n",
    "\n",
    "# with torch.enable_grad():\n",
    "#     x = pred_mean.detach().clone()\n",
    "\n",
    "#     N, ndim = x.shape\n",
    "    \n",
    "#     x = x[:, None, :].expand((N, observation_dim, ndim))\n",
    "#     x.requires_grad_(True)\n",
    "#     y = test_filter.measurement_model(x.reshape((-1, ndim)))[0].reshape((N, -1, observation_dim))\n",
    "#     mask = torch.eye(observation_dim, device=x.device).repeat(N, 1, 1)\n",
    "#     jac = torch.autograd.grad(y, x, mask, create_graph=True)\n",
    "# jac[0]"
   ]
  },
  {
   "cell_type": "code",
   "execution_count": null,
   "id": "2424d548",
   "metadata": {},
   "outputs": [],
   "source": [
    "# ## Fiter\n",
    "\n",
    "# t = 1\n",
    "# timestamp, or_quat, or_cov, ang_vel, ang_vel_cov, lin_acc, lin_acc_cov = parse_imu_data(imu_data[t-1])\n",
    "# dt = (timestamp - prev_timestamp)\n",
    "# prev_timestamp = timestamp\n",
    "# or_quat = tf.quaternion_invert(or_quat)\n",
    "# controls = torch.cat((lin_acc, ang_vel, or_quat)).float()\n",
    "\n",
    "# prev_mean = test_filter._belief_mean\n",
    "# prev_covariance = test_filter._belief_covariance\n",
    "# N, state_dim = prev_mean.shape\n",
    "\n",
    "# # Compute mu_{t+1|t}, covariance, and Jacobian\n",
    "# pred_mean, dynamics_tril = test_filter.dynamics_model(\n",
    "#     initial_states=prev_mean, controls=controls[None, :]\n",
    "# )\n",
    "\n",
    "# dynamics_covariance = dynamics_tril @ dynamics_tril.transpose(-1, -2)\n",
    "# dynamics_A_matrix = test_filter.dynamics_model.jacobian(\n",
    "#     initial_states=prev_mean, controls=controls[None, :]\n",
    "# )\n",
    "\n",
    "# # Calculate Sigma_{t+1|t}\n",
    "# pred_covariance = (\n",
    "#     dynamics_A_matrix @ prev_covariance @ dynamics_A_matrix.transpose(-1, -2)\n",
    "#     + dynamics_covariance\n",
    "# )\n",
    "\n",
    "# test_filter.measurement_model.update_sats(satpos, idx_code_mask, idx_carr_mask, ref)\n",
    "\n",
    "# observations = observation[None, :]\n",
    "# # Measurement model forward pass, Jacobian\n",
    "# observations_mean = observations\n",
    "# pred_observations, observations_tril = test_filter.measurement_model(states=pred_mean)\n",
    "# observations_covariance = observations_tril @ observations_tril.transpose(\n",
    "#     -1, -2\n",
    "# )\n",
    "\n",
    "# print(pred_mean)\n",
    "\n",
    "# C_matrix = test_filter.measurement_model.jacobian(states=pred_mean)\n",
    "# # Compute Kalman Gain, innovation\n",
    "# innovation = observations_mean - pred_observations\n",
    "# innovation_covariance = (\n",
    "#     C_matrix @ pred_covariance @ C_matrix.transpose(-1, -2)\n",
    "#     + observations_covariance\n",
    "# )\n",
    "# kalman_gain = (\n",
    "#     pred_covariance\n",
    "#     @ C_matrix.transpose(-1, -2)\n",
    "#     @ torch.inverse(innovation_covariance)\n",
    "# )\n",
    "\n",
    "# # Get mu_{t+1|t+1}, Sigma_{t+1|t+1}\n",
    "# corrected_mean = pred_mean + (kalman_gain @ innovation[:, :, None]).squeeze(-1)\n",
    "\n",
    "# identity = torch.eye(test_filter.state_dim, device=kalman_gain.device)\n",
    "# corrected_covariance = (identity - kalman_gain @ C_matrix) @ pred_covariance"
   ]
  },
  {
   "cell_type": "code",
   "execution_count": null,
   "id": "a4ac7371",
   "metadata": {},
   "outputs": [],
   "source": [
    "# ## DEBUG\n",
    "\n",
    "# rover_code = dd_data[constellation+'_rover_measurements_code'][dd_tidx].to_numpy()\n",
    "# base_code = dd_data[constellation+'_base_measurements_code'][dd_tidx].to_numpy()\n",
    "\n",
    "# rover_carr = dd_data[constellation+'_rover_measurements_carr'][dd_tidx].to_numpy()\n",
    "# base_carr = dd_data[constellation+'_base_measurements_carr'][dd_tidx].to_numpy()\n",
    "\n",
    "# idx_code_mask = np.logical_not(np.isnan(rover_code))\n",
    "# idx_carr_mask = np.logical_not(np.isnan(rover_carr))\n",
    "\n",
    "# satpos = torch.tensor(dd_data[constellation+'_ecef_svs'][dd_tidx].to_numpy())\n",
    "# ref = np.where(idx_code_mask & idx_carr_mask)[0][0]\n",
    "\n",
    "# sd_code = rover_code - base_code\n",
    "# dd_code = sd_code - sd_code[ref]\n",
    "\n",
    "# sd_carr = rover_carr - base_carr\n",
    "# dd_carr = sd_carr - sd_carr[ref]\n",
    "\n",
    "# # Dont include reference\n",
    "# idx_code_mask[ref] = False\n",
    "# idx_carr_mask[ref] = False\n",
    "\n",
    "# observation = torch.tensor(np.concatenate((dd_code[idx_code_mask], dd_carr[idx_carr_mask]), -1), dtype=torch.float32)\n",
    "\n",
    "# kf_measurement_model.update_sats(satpos, idx_code_mask, idx_carr_mask, ref)\n",
    "\n",
    "# print(\"expected: \", kf_measurement_model(estimated_states[0, :][None, :])[0])\n",
    "# print(\"measured: \", observation)"
   ]
  },
  {
   "cell_type": "markdown",
   "id": "0ca63a4d",
   "metadata": {},
   "source": [
    "# Residual Computation"
   ]
  },
  {
   "cell_type": "code",
   "execution_count": null,
   "id": "7bd446d5",
   "metadata": {},
   "outputs": [],
   "source": [
    "# # Print number of measurements at each time\n",
    "# sum(~np.isnan(dd_data.beidou_base_measurements_carr).T)"
   ]
  },
  {
   "cell_type": "code",
   "execution_count": null,
   "id": "afc70edb",
   "metadata": {},
   "outputs": [],
   "source": [
    "inter_const_bias = torch.tensor(dd_data['inter_const_bias'].to_numpy()).float()"
   ]
  },
  {
   "cell_type": "code",
   "execution_count": null,
   "id": "063c6e4b",
   "metadata": {},
   "outputs": [],
   "source": [
    "lda_scale = torch.ones(31+32)\n",
    "lda_scale[:31] = 0.1902\n",
    "lda_scale[31:] = 0.1920"
   ]
  },
  {
   "cell_type": "code",
   "execution_count": null,
   "id": "24559386",
   "metadata": {},
   "outputs": [],
   "source": [
    "utc2gps(dd_data['time_gt'][0].to_numpy())"
   ]
  },
  {
   "cell_type": "code",
   "execution_count": null,
   "id": "87f5c2b2",
   "metadata": {},
   "outputs": [],
   "source": [
    "# Residual computation\n",
    "T = len(dd_data['time_gt'])\n",
    "code_sd_residuals = torch.zeros(T, 32+31).float()\n",
    "code_sd_residuals[...] = float('nan') \n",
    "carr_sd_residuals = torch.zeros(T, 32+31).float()\n",
    "carr_sd_residuals[...] = float('nan')\n",
    "base_pose = torch.tensor(dd_data['base_station_enu'].to_numpy())[None, :]\n",
    "\n",
    "\n",
    "for dd_tidx in tqdm(range(T)):\n",
    "    rover_code, base_code, rover_carr, base_carr, rover_cnos, satpos, idx_code_mask, idx_carr_mask = to_tensor(read_gnss_data(dd_data, dd_tidx, 'mixed'))\n",
    "    if sum(idx_code_mask) > 1 and sum(idx_carr_mask) > 1:\n",
    "        dd_code, dd_carr = compute_s_diff(rover_code, base_code, rover_carr, base_carr, idx_code_mask=idx_code_mask, idx_carr_mask=idx_carr_mask)\n",
    "#         print(\"time: \", utc2gps(dd_data['time_gt'].to_numpy()[dd_tidx]))\n",
    "#         print(\"rover_carr: \", rover_carr)\n",
    "#         print(\"base_carr: \", base_carr)\n",
    "#         print(\"sv idx: \", torch.where(idx_carr_mask))\n",
    "#         print(\"SD carr: \", dd_carr)\n",
    "        dd_code_expec, dd_carr_expec = expected_s_diff(satpos, torch.tensor(gt_pos[None, dd_tidx+10, :3]), base_pose, idx_code_mask=idx_code_mask, idx_carr_mask=idx_carr_mask)\n",
    "#         code_sd_residuals[dd_tidx, idx_code_mask] = torch.round(torch.divide(dd_code.float() - dd_code_expec[0, :].float() - inter_const_bias[idx_code_mask], lda_scale[idx_code_mask]))\n",
    "#         carr_sd_residuals[dd_tidx, idx_carr_mask] = torch.round(torch.divide(dd_carr.float() - dd_carr_expec[0, :].float() - inter_const_bias[idx_carr_mask], lda_scale[idx_carr_mask]))\n",
    "        code_sd_residuals[dd_tidx, idx_code_mask] = torch.round(torch.divide(dd_code.float() - inter_const_bias[idx_code_mask], lda_scale[idx_code_mask]))\n",
    "        carr_sd_residuals[dd_tidx, idx_carr_mask] = torch.round(torch.divide(dd_carr.float() - inter_const_bias[idx_carr_mask], lda_scale[idx_carr_mask]))\n",
    "\n"
   ]
  },
  {
   "cell_type": "code",
   "execution_count": null,
   "id": "76780368",
   "metadata": {},
   "outputs": [],
   "source": [
    "# plt.plot(np.diff(carr_sd_residuals[:, :] - carr_sd_residuals[:, 19:20], axis=0))\n",
    "plt.plot(np.diff(carr_sd_residuals[:, 0] - carr_sd_residuals[:, 19], axis=0))\n",
    "plt.xlim((0, 777))"
   ]
  },
  {
   "cell_type": "code",
   "execution_count": null,
   "id": "ee0d9d68",
   "metadata": {
    "scrolled": true
   },
   "outputs": [],
   "source": [
    "true_gps_ints = {key: dict() for key in ref_gps.keys()}\n",
    "true_mixed_ints = {key: dict() for key in ref_gps.keys()}\n",
    "for key in N_hypo_data.keys():\n",
    "    ref_idx = int(ref_gps[key])\n",
    "    t = int(float(key)) - 95603\n",
    "    DD_N_vec = carr_sd_residuals[t, :] - carr_sd_residuals[t, ref_idx:ref_idx+1]\n",
    "    for i, N_val in enumerate(DD_N_vec):\n",
    "        if ~(np.isnan(N_val.item()) or torch.abs(N_val)<1e-5):\n",
    "            if i<31:\n",
    "                true_gps_ints[key]['['+str(i)+']'] = N_val.item()\n",
    "            else:\n",
    "                true_mixed_ints[key]['['+str(i-31)+']'] = N_val.item()"
   ]
  },
  {
   "cell_type": "code",
   "execution_count": null,
   "id": "94524a86",
   "metadata": {},
   "outputs": [],
   "source": [
    "true_gps_ints"
   ]
  },
  {
   "cell_type": "code",
   "execution_count": null,
   "id": "dddb7909",
   "metadata": {},
   "outputs": [],
   "source": [
    "np.save(os.path.join(int_hypo_path, 'true_mixed_ints.npy'), true_mixed_ints)\n",
    "np.save(os.path.join(int_hypo_path, 'true_gps_ints.npy'), true_gps_ints)"
   ]
  },
  {
   "cell_type": "code",
   "execution_count": null,
   "id": "bd939a43",
   "metadata": {},
   "outputs": [],
   "source": [
    "plt.plot(carr_sd_residuals - carr_sd_residuals[:, 19:20])"
   ]
  },
  {
   "cell_type": "code",
   "execution_count": null,
   "id": "37a59483",
   "metadata": {},
   "outputs": [],
   "source": [
    "# Possible references\n",
    "torch.where(torch.sum(~torch.isnan(code_sd_residuals), dim=0)>0)"
   ]
  },
  {
   "cell_type": "code",
   "execution_count": null,
   "id": "37444168",
   "metadata": {},
   "outputs": [],
   "source": [
    "def calc_icb(residuals, ref=-1, const1_max_idx=31, plot=True):\n",
    "    max_idx = residuals.shape[1]\n",
    "    \n",
    "    if plot:\n",
    "        for idx in range(const1_max_idx):\n",
    "            if idx==ref:\n",
    "                continue\n",
    "            plt.plot(residuals[:, idx], 'c')\n",
    "\n",
    "        for idx in range(const1_max_idx, max_idx):\n",
    "            if idx==ref:\n",
    "                continue\n",
    "            plt.plot(residuals[:, idx], 'y')\n",
    "\n",
    "    tmp_mask = torch.ones(max_idx, dtype=torch.bool)\n",
    "    tmp_mask[const1_max_idx:] = False\n",
    "    if ref>=0:\n",
    "        tmp_mask[ref] = False\n",
    "    icb1_res = residuals[:, tmp_mask]\n",
    "    if plot:\n",
    "        plt.plot(torch.ones(len(residuals))*torch.nanmean(icb1_res), 'c--')\n",
    "\n",
    "    tmp_mask = torch.ones(max_idx, dtype=torch.bool)\n",
    "    tmp_mask[:const1_max_idx] = False\n",
    "    if ref>=0:\n",
    "        tmp_mask[ref] = False\n",
    "    icb2_res = residuals[:, tmp_mask]\n",
    "    if plot:\n",
    "        plt.plot(torch.ones(len(residuals))*torch.nanmean(icb2_res), 'y--')\n",
    "    return icb1_res, icb2_res\n",
    "\n",
    "all_icb1_res = []\n",
    "all_icb2_res = []\n",
    "for ref in [0,  3,  6,  7,  8, 14, 19, 25]:\n",
    "    code_dd_residuals = code_sd_residuals - code_sd_residuals[:, [ref]]\n",
    "    carr_dd_residuals = carr_sd_residuals - carr_sd_residuals[:, [ref]]\n",
    "    icb1_res, icb2_res = calc_icb(code_dd_residuals, ref=ref)\n",
    "    all_icb1_res.append(icb1_res)\n",
    "    all_icb2_res.append(icb2_res)\n",
    "all_icb1_res = torch.stack(all_icb1_res)\n",
    "all_icb2_res = torch.stack(all_icb2_res)\n",
    "\n",
    "print(torch.nanmean(all_icb1_res), torch.nanmean(all_icb2_res))"
   ]
  },
  {
   "cell_type": "markdown",
   "id": "910dce16",
   "metadata": {},
   "source": [
    "# Run filter step-by-step"
   ]
  },
  {
   "cell_type": "code",
   "execution_count": null,
   "id": "c98bffc0",
   "metadata": {
    "scrolled": true
   },
   "outputs": [],
   "source": [
    "# plt.imshow(torch.log(test_filter.belief_covariance.detach()[0, :, :]))\n",
    "t = T_start\n",
    "fig, ax = plt.subplots(nrows=3)\n",
    "t"
   ]
  },
  {
   "cell_type": "code",
   "execution_count": null,
   "id": "f259d0e2",
   "metadata": {},
   "outputs": [],
   "source": [
    "for idx in tqdm(range(5000)):\n",
    "    prev_context = context\n",
    "#     while context[-1] == prev_context[-1]:\n",
    "    estimated_state, context = run_timestep(t, context)\n",
    "    t += 1\n",
    "\n",
    "    for i in range(3):\n",
    "        if context[-1] != prev_context[-1]:\n",
    "            ax[i].plot([t-T_start]*2, [-50, 50], color='g')\n",
    "    \n",
    "    if idx%50 != 0:\n",
    "        continue\n",
    "        \n",
    "    for i in range(3): \n",
    "        ax[i].scatter([t-T_start]*100, test_filter.particle_states[0, :, i].detach(), s=1, color='b')\n",
    "        ax[i].scatter([t-T_start], gt_pos[context[-1], i], color='r', s=4)\n",
    "    \n",
    "fig"
   ]
  },
  {
   "cell_type": "markdown",
   "id": "648b659b",
   "metadata": {},
   "source": [
    "# Dataset and IMU Analysis"
   ]
  },
  {
   "cell_type": "code",
   "execution_count": null,
   "id": "d681fd4c",
   "metadata": {},
   "outputs": [],
   "source": [
    "plt.plot(gt_pos[0:100, 0], gt_pos[0:100, 1], 'k')\n",
    "plt.plot(gt_pos[100:200, 0], gt_pos[100:200, 1], 'r')\n",
    "plt.plot(gt_pos[200:300, 0], gt_pos[200:300, 1], 'g')\n",
    "plt.plot(gt_pos[300:400, 0], gt_pos[300:400, 1], 'b')"
   ]
  },
  {
   "cell_type": "code",
   "execution_count": null,
   "id": "e10ae0a4",
   "metadata": {},
   "outputs": [],
   "source": [
    "viz_block = range(0, 100)\n",
    "plt.plot(gt_pos[viz_block, 0])\n",
    "plt.plot(gt_pos[viz_block, 1])\n",
    "plt.plot(gt_pos[viz_block, 2])"
   ]
  },
  {
   "cell_type": "code",
   "execution_count": null,
   "id": "0ef527ef",
   "metadata": {},
   "outputs": [],
   "source": [
    "viz_block = range(0, 777)\n",
    "plt.plot(gt_rot[viz_block, 0])\n",
    "plt.plot(gt_rot[viz_block, 1])\n",
    "plt.plot(gt_rot[viz_block, 2])"
   ]
  },
  {
   "cell_type": "code",
   "execution_count": null,
   "id": "4b3fcaa4",
   "metadata": {},
   "outputs": [],
   "source": [
    "viz_block = range(0, 400*777)\n",
    "\n",
    "or_eul = np.stack(list(quaternion_to_euler_angle_vectorized(or_quat[:, 0], or_quat[:, 1], or_quat[:, 2], or_quat[:, 3])), -1)\n",
    "plt.plot(or_eul[viz_block, 0])\n",
    "plt.plot(or_eul[viz_block, 1])\n",
    "plt.plot(or_eul[viz_block, 2])"
   ]
  },
  {
   "cell_type": "code",
   "execution_count": null,
   "id": "3ab61fe1",
   "metadata": {},
   "outputs": [],
   "source": [
    "viz_block = range(0, 100)\n",
    "plt.plot(gt_vel[viz_block, 0])\n",
    "plt.plot(gt_vel[viz_block, 1])\n",
    "plt.plot(gt_vel[viz_block, 2])"
   ]
  },
  {
   "cell_type": "code",
   "execution_count": null,
   "id": "a9287b15",
   "metadata": {},
   "outputs": [],
   "source": [
    "viz_block = range(0, 100)\n",
    "plt.plot(np.ediff1d(gt_pos[viz_block, 0]))\n",
    "plt.plot(np.ediff1d(gt_pos[viz_block, 1]))\n",
    "plt.plot(np.ediff1d(gt_pos[viz_block, 2]))"
   ]
  },
  {
   "cell_type": "code",
   "execution_count": null,
   "id": "3697947a",
   "metadata": {},
   "outputs": [],
   "source": [
    "tmp_or_quat = or_quat[range(0, 400*100, 400)]\n",
    "tmp_or_quat[:, 3] *= -1\n",
    "or_quat_inv = tf.quaternion_invert(tmp_or_quat)\n",
    "gt_vel_enu = tf.quaternion_apply(or_quat_inv, torch.tensor(gt_vel[:100]).reshape(-1, 3))\n",
    "\n",
    "viz_block = range(0, 100)\n",
    "plt.plot(gt_vel_enu[viz_block, 0])\n",
    "plt.plot(gt_vel_enu[viz_block, 1])\n",
    "plt.plot(gt_vel_enu[viz_block, 2])"
   ]
  },
  {
   "cell_type": "code",
   "execution_count": null,
   "id": "0b2b3a35",
   "metadata": {},
   "outputs": [],
   "source": [
    "viz_block = range(0, 100)\n",
    "plt.plot(np.ediff1d(np.ediff1d(gt_pos[viz_block, 0])))\n",
    "plt.plot(np.ediff1d(np.ediff1d(gt_pos[viz_block, 1])))\n",
    "plt.plot(np.ediff1d(np.ediff1d(gt_pos[viz_block, 2])))"
   ]
  },
  {
   "cell_type": "code",
   "execution_count": null,
   "id": "e07d9f3d",
   "metadata": {},
   "outputs": [],
   "source": [
    "tmp_or_quat = or_quat[range(0, 400*100, 400)]\n",
    "tmp_or_quat[:, 3] *= -1\n",
    "or_quat_inv = tf.quaternion_invert(tmp_or_quat)\n",
    "gt_acc_enu = tf.quaternion_apply(or_quat_inv, torch.tensor(gt_acc[:100]).reshape(-1, 3))\n",
    "\n",
    "viz_block = range(0, 100)\n",
    "plt.plot(gt_acc_enu[viz_block, 0])\n",
    "plt.plot(gt_acc_enu[viz_block, 1])\n",
    "plt.plot(gt_acc_enu[viz_block, 2])"
   ]
  },
  {
   "cell_type": "code",
   "execution_count": null,
   "id": "f5e816a8",
   "metadata": {},
   "outputs": [],
   "source": [
    "viz_block = range(0, 400*100, 400)\n",
    "tmp_or_quat = or_quat[viz_block]\n",
    "tmp_or_quat[:, 3] *= -1\n",
    "or_quat_inv = tf.quaternion_invert(tmp_or_quat)\n",
    "gt_acc_enu = tf.quaternion_apply(or_quat_inv, lin_acc[viz_block].reshape(-1, 3))\n",
    "gt_acc_enu -= torch.tensor([0.0, 0.0, 9.81])\n",
    "\n",
    "viz_block = range(0, 100)\n",
    "plt.plot(gt_acc_enu[viz_block, 0])\n",
    "plt.plot(gt_acc_enu[viz_block, 1])\n",
    "plt.plot(gt_acc_enu[viz_block, 2])"
   ]
  },
  {
   "cell_type": "code",
   "execution_count": null,
   "id": "81c57d6e",
   "metadata": {},
   "outputs": [],
   "source": [
    "viz_block_1hz = range(0, 100)\n",
    "viz_block_400hz = range(0, 400*100, 400)\n",
    "tmp_diff = torch.tensor(gt_acc[viz_block_1hz]) - lin_acc[viz_block_400hz] + torch.tensor([0.0, 0.0, 9.81]).reshape(1, -1)\n",
    "\n",
    "plt.plot(tmp_diff[viz_block_1hz, 0])\n",
    "plt.plot(tmp_diff[viz_block_1hz, 1])\n",
    "plt.plot(tmp_diff[viz_block_1hz, 2])"
   ]
  }
 ],
 "metadata": {
  "kernelspec": {
   "display_name": "Python 3",
   "language": "python",
   "name": "python3"
  },
  "language_info": {
   "codemirror_mode": {
    "name": "ipython",
    "version": 3
   },
   "file_extension": ".py",
   "mimetype": "text/x-python",
   "name": "python",
   "nbconvert_exporter": "python",
   "pygments_lexer": "ipython3",
   "version": "3.8.10"
  }
 },
 "nbformat": 4,
 "nbformat_minor": 5
}
