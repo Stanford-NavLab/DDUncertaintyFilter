{
 "cells": [
  {
   "cell_type": "code",
   "execution_count": 3,
   "id": "c8e70c15",
   "metadata": {},
   "outputs": [],
   "source": [
    "%matplotlib inline\n",
    "import torchfilter as tfilter\n",
    "import numpy as np\n",
    "import pandas as pd\n",
    "from matplotlib import pyplot as plt\n",
    "import plotly.express as px\n",
    "import torch\n",
    "from collections import namedtuple"
   ]
  },
  {
   "cell_type": "code",
   "execution_count": 4,
   "id": "ddd0e10d",
   "metadata": {},
   "outputs": [
    {
     "name": "stdout",
     "output_type": "stream",
     "text": [
      "The autoreload extension is already loaded. To reload it, use:\n",
      "  %reload_ext autoreload\n"
     ]
    }
   ],
   "source": [
    "import os, sys\n",
    "sys.path.append('.')\n",
    "\n",
    "from dynamics_models import *\n",
    "from kf_measurement_models import *\n",
    "from pf_measurement_models import *\n",
    "from virtual_sensor_models import *\n",
    "from utils import *\n",
    "\n",
    "%load_ext autoreload\n",
    "%autoreload 2"
   ]
  },
  {
   "cell_type": "code",
   "execution_count": 5,
   "id": "a9d08a01",
   "metadata": {},
   "outputs": [],
   "source": [
    "# Configuration parameters wrapped into a named tuple\n",
    "\n",
    "Config = namedtuple(\"Config\", \"state_dim observation_dim control_dim A B Q pr_std idx\")\n",
    "Index = namedtuple(\"Index\", \"x y z b\")\n",
    "\n",
    "def create_config():\n",
    "    state_dim = 8\n",
    "    observation_dim = 10\n",
    "    control_dim = 3\n",
    "    idx = Index(0, 1, 2, 3)\n",
    "\n",
    "    A = torch.eye(state_dim)\n",
    "    \n",
    "    for i in range(4):\n",
    "        A[i, 4+i] = 0.1\n",
    "    Q = torch.eye(state_dim) * 0.1\n",
    "    \n",
    "    B = torch.zeros(state_dim, control_dim)\n",
    "    B[4:7, :] = torch.eye(control_dim)\n",
    "\n",
    "    pr_std = 1.0\n",
    "    \n",
    "    return Config(state_dim, observation_dim, control_dim, A, B, Q, pr_std, idx)\n",
    "\n",
    "config = create_config()"
   ]
  },
  {
   "cell_type": "code",
   "execution_count": 6,
   "id": "13d99969",
   "metadata": {},
   "outputs": [],
   "source": [
    "dynamics_model = MyDynamicsModel(config)\n",
    "kf_measurement_model = GNSSKFMeasurementModel(config)\n",
    "vsensor_model = GNSSVirtualSensorModel(config, iterations=10, convergence=1e-3)\n",
    "pf_measurement_model = GNSSPFMeasurementModelA(config)"
   ]
  },
  {
   "cell_type": "code",
   "execution_count": 9,
   "id": "b84305b1",
   "metadata": {},
   "outputs": [],
   "source": [
    "# init_state = torch.nn.Parameter(torch.zeros(config.state_dim)).expand((1, config.state_dim))\n",
    "Data = namedtuple(\"Data\", \"observations controls gt satellite_states N_observations\")\n",
    "def generate_data(config):\n",
    "    T = 20\n",
    "    times = torch.arange(T)\n",
    "    states = torch.zeros(T, config.state_dim)\n",
    "#     controls = torch.zeros(T, config.control_dim)\n",
    "    controls = torch.stack([torch.sin((2*np.pi/T)*times*k) for k in range(config.control_dim)]).T\n",
    "    observations = torch.zeros(T, config.observation_dim)\n",
    "    satellite_states = (torch.rand(T, config.observation_dim, 4) - 0.5)*2e7\n",
    "    satellite_states[:, :, 3] = torch.rand(T, config.observation_dim)*1e3\n",
    "    satellite_states[:, :, 2] = torch.rand(T, config.observation_dim)*1e3 + 1e7\n",
    "    N_observations = torch.zeros(T, dtype=torch.int)\n",
    "    \n",
    "    for t in range(1, T):\n",
    "#         controls[t, :] = torch.randn(config.control_dim)\n",
    "        next_state, Q = dynamics_model(states[t-1, :][None, :], controls[t, :][None, :])\n",
    "        states[t, :] = next_state.squeeze(0) + batched_mm(Q, torch.randn((1, config.state_dim))).squeeze(0)\n",
    "        N_observations[t] = 4 + np.random.randint(config.observation_dim - 4)\n",
    "        kf_measurement_model.update_sats(satellite_states[t, :N_observations[t], :])\n",
    "        expected_observations, R = kf_measurement_model(states[t, :][None, :])\n",
    "        observations[t, :N_observations[t]] = expected_observations + batched_mm(R, torch.randn((1, N_observations[t])))\n",
    "    return Data(observations, controls, states, satellite_states, N_observations) \n",
    "\n",
    "data = generate_data(config)"
   ]
  },
  {
   "cell_type": "code",
   "execution_count": 10,
   "id": "075d40f8",
   "metadata": {},
   "outputs": [],
   "source": [
    "test_filter = tfilter.filters.ParticleFilter(\n",
    "    dynamics_model=dynamics_model,\n",
    "    measurement_model=pf_measurement_model,\n",
    "    resample=True,\n",
    "#     soft_resample_alpha=0.5,\n",
    "    )\n",
    "\n",
    "# test_filter = tfilter.filters.ExtendedKalmanFilter(\n",
    "#     dynamics_model=dynamics_model,\n",
    "#     measurement_model=kf_measurement_model,\n",
    "#     )\n",
    "\n",
    "# test_filter = tfilter.filters.VirtualSensorExtendedKalmanFilter(\n",
    "#     dynamics_model=dynamics_model,\n",
    "#     virtual_sensor_model=vsensor_model,\n",
    "#     )\n",
    "\n",
    "# test_filter = tfilter.filters.ExtendedInformationFilter(\n",
    "#     dynamics_model=dynamics_model,\n",
    "#     measurement_model=kf_measurement_model,\n",
    "#     )\n",
    "\n",
    "# test_filter = tfilter.filters.UnscentedKalmanFilter(\n",
    "#     dynamics_model=dynamics_model,\n",
    "#     measurement_model=kf_measurement_model,\n",
    "#     sigma_point_strategy=tfilter.utils.MerweSigmaPointStrategy(alpha=1e-1),\n",
    "#     )"
   ]
  },
  {
   "cell_type": "code",
   "execution_count": 11,
   "id": "45d2e83f",
   "metadata": {},
   "outputs": [],
   "source": [
    "test_filter.initialize_beliefs(\n",
    "            mean=torch.zeros(1, config.state_dim),\n",
    "            covariance=torch.eye(config.state_dim).expand((1, config.state_dim, config.state_dim)) * 0.5,\n",
    "        )"
   ]
  },
  {
   "cell_type": "code",
   "execution_count": 12,
   "id": "6297cbd5",
   "metadata": {},
   "outputs": [],
   "source": [
    "T = 20\n",
    "estimated_states = torch.zeros(T, config.state_dim)\n",
    "for t in range(1, T):\n",
    "#     test_filter.measurement_model.update_sats(data.satellite_states[t, :data.N_observations[t], :])\n",
    "    test_filter.measurement_model.kalman_filter_measurement_model.update_sats(data.satellite_states[t, :data.N_observations[t], :])\n",
    "#     test_filter.virtual_sensor_model.update_sats(data.satellite_states[t, :data.N_observations[t], :])\n",
    "    estimated_states[t, :] = test_filter(\n",
    "        observations=data.observations[t, None, :data.N_observations[t]], controls=data.controls[t, None, :]\n",
    "    )"
   ]
  },
  {
   "cell_type": "code",
   "execution_count": 13,
   "id": "a3f83097",
   "metadata": {},
   "outputs": [],
   "source": [
    "estimated_states = estimated_states.detach()"
   ]
  },
  {
   "cell_type": "code",
   "execution_count": 14,
   "id": "38b96402",
   "metadata": {},
   "outputs": [
    {
     "data": {
      "text/plain": [
       "<matplotlib.legend.Legend at 0x7ff38d82fb80>"
      ]
     },
     "execution_count": 14,
     "metadata": {},
     "output_type": "execute_result"
    },
    {
     "data": {
      "image/png": "[encoded data removed]",
      "text/plain": [
       "<Figure size 432x288 with 1 Axes>"
      ]
     },
     "metadata": {
      "needs_background": "light"
     },
     "output_type": "display_data"
    }
   ],
   "source": [
    "plt.plot(estimated_states[:, 0], \"r\", label=\"estimated_x\")\n",
    "plt.plot(estimated_states[:, 1], \"b\", label=\"estimated_y\")\n",
    "plt.plot(estimated_states[:, 2], \"g\", label=\"estimated_z\")\n",
    "# plt.plot(estimated_states[:, 3], \"k\", label=\"estimated_b\")\n",
    "plt.plot(data.gt[:, 0], \"r--\", label=\"gt_x\")\n",
    "plt.plot(data.gt[:, 1], \"b--\", label=\"gt_y\")\n",
    "plt.plot(data.gt[:, 2], \"g--\", label=\"gt_z\")\n",
    "# plt.plot(data.gt[:, 3], \"k--\", label=\"gt_b\")\n",
    "plt.legend()"
   ]
  },
  {
   "cell_type": "code",
   "execution_count": 92,
   "id": "9fbbd267",
   "metadata": {},
   "outputs": [
    {
     "data": {
      "text/plain": [
       "(tensor([[ 2.0263,  0.3196, -0.0169, -0.5114,  0.0000,  0.0000,  0.0000,  0.0000]],\n",
       "        grad_fn=<CopySlices>),\n",
       " tensor([[[ 1.0082e+00,  0.0000e+00,  0.0000e+00,  0.0000e+00,  0.0000e+00,\n",
       "            0.0000e+00,  0.0000e+00,  0.0000e+00],\n",
       "          [ 1.3476e-01,  9.6505e-01,  0.0000e+00,  0.0000e+00,  0.0000e+00,\n",
       "            0.0000e+00,  0.0000e+00,  0.0000e+00],\n",
       "          [ 1.6469e+00,  8.8733e-01,  4.7253e+00,  0.0000e+00,  0.0000e+00,\n",
       "            0.0000e+00,  0.0000e+00,  0.0000e+00],\n",
       "          [-1.3495e+00, -9.1340e-01, -3.7497e+00,  3.7799e-01,  0.0000e+00,\n",
       "            0.0000e+00,  0.0000e+00,  0.0000e+00],\n",
       "          [ 0.0000e+00,  0.0000e+00,  0.0000e+00,  0.0000e+00,  3.1623e-03,\n",
       "            0.0000e+00,  0.0000e+00,  0.0000e+00],\n",
       "          [ 0.0000e+00,  0.0000e+00,  0.0000e+00,  0.0000e+00,  0.0000e+00,\n",
       "            3.1623e-03,  0.0000e+00,  0.0000e+00],\n",
       "          [ 0.0000e+00,  0.0000e+00,  0.0000e+00,  0.0000e+00,  0.0000e+00,\n",
       "            0.0000e+00,  3.1623e-03,  0.0000e+00],\n",
       "          [ 0.0000e+00,  0.0000e+00,  0.0000e+00,  0.0000e+00,  0.0000e+00,\n",
       "            0.0000e+00,  0.0000e+00,  3.1623e-03]]]))"
      ]
     },
     "execution_count": 92,
     "metadata": {},
     "output_type": "execute_result"
    }
   ],
   "source": [
    "# x_pred, Q = dynamics_model(torch.zeros(1, config.state_dim), torch.zeros(1))\n",
    "# y_pred, R = kf_measurement_model(x_pred)\n",
    "# x_pred, y_pred\n",
    "t = 3\n",
    "vsensor_model.update_sats(data.satellite_states[t, :data.N_observations[t], :])\n",
    "vsensor_model(data.observations[t, None, :data.N_observations[t]])"
   ]
  }
 ],
 "metadata": {
  "kernelspec": {
   "display_name": "Python 3 (ipykernel)",
   "language": "python",
   "name": "python3"
  },
  "language_info": {
   "codemirror_mode": {
    "name": "ipython",
    "version": 3
   },
   "file_extension": ".py",
   "mimetype": "text/x-python",
   "name": "python",
   "nbconvert_exporter": "python",
   "pygments_lexer": "ipython3",
   "version": "3.8.10"
  }
 },
 "nbformat": 4,
 "nbformat_minor": 5
}
