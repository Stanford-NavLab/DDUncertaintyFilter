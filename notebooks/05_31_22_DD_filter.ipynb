{
 "cells": [
  {
   "cell_type": "code",
   "execution_count": 1,
   "id": "5d16c5aa",
   "metadata": {},
   "outputs": [
    {
     "name": "stderr",
     "output_type": "stream",
     "text": [
      "/home/groups/gracegao/conda_envs/deep_gnss/lib/python3.8/site-packages/xarray/backends/cfgrib_.py:27: UserWarning: Failed to load cfgrib - most likely there is a problem accessing the ecCodes library. Try `import cfgrib` to get the full error message\n",
      "  warnings.warn(\n"
     ]
    }
   ],
   "source": [
    "%matplotlib inline\n",
    "import torchfilter as tfilter\n",
    "import numpy as np\n",
    "import pandas as pd\n",
    "import pymap3d as pm\n",
    "from matplotlib import pyplot as plt\n",
    "import plotly.express as px\n",
    "import torch\n",
    "from tqdm.notebook import tqdm\n",
    "from collections import namedtuple\n",
    "import pytorch3d.transforms as tf\n",
    "import xarray as xr"
   ]
  },
  {
   "cell_type": "code",
   "execution_count": 3,
   "id": "b38feb38",
   "metadata": {},
   "outputs": [],
   "source": [
    "import os, sys\n",
    "sys.path.append('..')\n",
    "\n",
    "from dynamics_models import *\n",
    "from kf_measurement_models import *\n",
    "from pf_measurement_models import *\n",
    "from virtual_sensor_models import *\n",
    "from utils import *\n",
    "from filter_models import *\n",
    "\n",
    "%load_ext autoreload\n",
    "%autoreload 2"
   ]
  },
  {
   "cell_type": "code",
   "execution_count": 4,
   "id": "6eaa09aa",
   "metadata": {},
   "outputs": [],
   "source": [
    "def load_dd_data():\n",
    "    base_path = \"/home/users/shubhgup/Codes/KITTI360_Processing/TRI_KF/save_data/\"\n",
    "    time_gt = gps2utc(np.load(os.path.join(base_path, \"time_gt.npy\")))\n",
    "    \n",
    "    base_station_ecef = np.array([-2414266.9197,5386768.9868, 2407460.0314])\n",
    "    \n",
    "#     x0 = np.array([ -2418181.49, 5385962.29, 2405305.19 ]) \n",
    "#     lat0 = 22.3011999\n",
    "#     lon0 = 114.1790570\n",
    "#     alt0 = 3.47\n",
    "    \n",
    "    # utc time = 1621218838.00\n",
    "    x0 = np.array([ -2418269.91, 5385974.33, 2405189.36 ]) \n",
    "    lat0 = 22.3000704\n",
    "    lon0 = 114.1797920\n",
    "    alt0 = 3.19\n",
    "    \n",
    "    \n",
    "    \n",
    "    base_station_enu = ecef2enu(base_station_ecef, lat0, lon0, x0)\n",
    "    \n",
    "    beidou_base_measurements_carr = np.load(os.path.join(base_path, \"beidou_base_measurements_carr.npy\"))\n",
    "    beidou_base_measurements_code = np.load(os.path.join(base_path, \"beidou_base_measurements_code.npy\"))\n",
    "    beidou_rover_measurements_carr = np.load(os.path.join(base_path, \"beidou_rover_measurements_carr.npy\"))\n",
    "    beidou_rover_measurements_code = np.load(os.path.join(base_path, \"beidou_rover_measurements_code.npy\"))\n",
    "    beidou_ecef_svs = np.load(os.path.join(base_path, \"beidou_ecef_svs.npy\"))\n",
    "    beidou_enu_svs = ecef2enu(beidou_ecef_svs, lat0, lon0, x0)\n",
    "    \n",
    "    gps_base_measurements_carr = np.load(os.path.join(base_path, \"gps_base_measurements_carr.npy\"))\n",
    "    gps_base_measurements_code = np.load(os.path.join(base_path, \"gps_base_measurements_code.npy\"))\n",
    "    gps_rover_measurements_carr = np.load(os.path.join(base_path, \"gps_rover_measurements_carr.npy\"))\n",
    "    gps_rover_measurements_code = np.load(os.path.join(base_path, \"gps_rover_measurements_code.npy\"))\n",
    "    gps_ecef_svs = np.load(os.path.join(base_path, \"gps_ecef_svs.npy\"))\n",
    "    gps_enu_svs = ecef2enu(gps_ecef_svs, lat0, lon0, x0)\n",
    "    \n",
    "    inter_const_bias = np.zeros(31 + 32)\n",
    "    inter_const_bias[31:] = 17.5916\n",
    "    \n",
    "    return xr.Dataset(dict(\n",
    "        time_gt=(\"t\", time_gt), \n",
    "        beidou_base_measurements_carr=([\"t\", \"sv_bei\"], beidou_base_measurements_carr),\n",
    "       beidou_base_measurements_code=([\"t\", \"sv_bei\"], beidou_base_measurements_code),\n",
    "       beidou_rover_measurements_carr=([\"t\", \"sv_bei\"], beidou_rover_measurements_carr),\n",
    "       beidou_rover_measurements_code=([\"t\", \"sv_bei\"], beidou_rover_measurements_code),\n",
    "       beidou_enu_svs=([\"t\", \"sv_bei\", \"pos\"], beidou_enu_svs),\n",
    "       gps_base_measurements_carr=([\"t\", \"sv_gps\"], gps_base_measurements_carr),\n",
    "       gps_base_measurements_code=([\"t\", \"sv_gps\"], gps_base_measurements_code),\n",
    "       gps_rover_measurements_carr=([\"t\", \"sv_gps\"], gps_rover_measurements_carr),\n",
    "       gps_rover_measurements_code=([\"t\", \"sv_gps\"], gps_rover_measurements_code),\n",
    "       gps_enu_svs=([\"t\", \"sv_gps\", \"pos\"], gps_enu_svs),\n",
    "       base_station_enu=(\"pos\", base_station_enu),\n",
    "       inter_const_bias=(\"sv_all\", inter_const_bias) \n",
    "      ))"
   ]
  },
  {
   "cell_type": "code",
   "execution_count": 5,
   "id": "16e93dba",
   "metadata": {},
   "outputs": [],
   "source": [
    "def load_ground_truth():\n",
    "    lla_rover = np.genfromtxt(\"/home/users/shubhgup/Codes/KITTI360_Processing/TRI_KF/medium_dataset/ground_truth.txt\", delimiter = ',')\n",
    "    lla0 = np.array([22.3000704, 114.1797920, 3.19])\n",
    "    t_gt = lla_rover[:, 0]\n",
    "    enu_rover = np.array([pm.geodetic2enu(*lla_rover[i, 1:], *lla0) for i in range(len(lla_rover))])\n",
    "    return enu_rover\n",
    "\n",
    "gt_pos = load_ground_truth()"
   ]
  },
  {
   "cell_type": "code",
   "execution_count": 6,
   "id": "2bddb905",
   "metadata": {},
   "outputs": [],
   "source": [
    "dd_data = load_dd_data()"
   ]
  },
  {
   "cell_type": "code",
   "execution_count": 7,
   "id": "d4b933cd",
   "metadata": {},
   "outputs": [],
   "source": [
    "imu_data = xr.DataArray(pd.read_csv(\"/oak/stanford/groups/gracegao/HKdataset/data_06_22_22/xsense_imu_medium_urban1.csv\"))"
   ]
  },
  {
   "cell_type": "code",
   "execution_count": 8,
   "id": "82978677",
   "metadata": {},
   "outputs": [],
   "source": [
    "dynamics_model = CarFullPoseDynamicsModel()\n",
    "kf_measurement_model = GNSSDDKFMeasurementModel(dd_data['base_station_enu'].to_numpy())\n",
    "\n",
    "test_filter = AsyncExtendedKalmanFilter(\n",
    "    dynamics_model=dynamics_model,\n",
    "    measurement_model=kf_measurement_model,\n",
    "    )"
   ]
  },
  {
   "cell_type": "code",
   "execution_count": 9,
   "id": "536732e3",
   "metadata": {},
   "outputs": [
    {
     "name": "stdout",
     "output_type": "stream",
     "text": [
      "dd_t:  1621218839\n",
      "prev_timestamp:  1621218838.0434425\n"
     ]
    }
   ],
   "source": [
    "T_start = 25000\n",
    "T = len(imu_data)\n",
    "state_dim = (3+4)*2 + 31+32\n",
    "estimated_states = torch.zeros(T, state_dim)\n",
    "estimated_states[0, 3] = 1 \n",
    "prev_timestamp = int(imu_data[T_start-1].loc['%time'])/1e9 - 0.0025 \n",
    "\n",
    "inter_const_bias = torch.tensor(dd_data['inter_const_bias'].to_numpy())\n",
    "\n",
    "dd_tidx = 0\n",
    "dd_t = dd_data['time_gt'][dd_tidx]\n",
    "while dd_t < prev_timestamp:\n",
    "    dd_tidx += 1\n",
    "    dd_t = dd_data['time_gt'][dd_tidx]\n",
    "\n",
    "roll0 = -0.6671978933\n",
    "pitch0 = 0.4780759843\n",
    "yaw0 = 137.9359508957\n",
    "\n",
    "quat0 = tf.matrix_to_quaternion(tf.euler_angles_to_matrix(torch.deg2rad(torch.tensor([roll0, pitch0, yaw0])), [\"X\", \"Y\", \"Z\"]))\n",
    "quat0 = tf.quaternion_invert(quat0)\n",
    "\n",
    "init_state = torch.zeros(state_dim)\n",
    "init_state[3:7] = quat0\n",
    "\n",
    "init_cov = torch.eye(state_dim)\n",
    "init_cov[:3, :3] *= 0.1\n",
    "init_cov[3:7, 3:7] *= 0.01\n",
    "init_cov[7:10, 7:10] *= 0.05\n",
    "init_cov[10:14, 10:14] *= 0.05\n",
    "\n",
    "test_filter.initialize_beliefs(\n",
    "            mean=init_state[None, :],\n",
    "            covariance=init_cov[None, :, :],\n",
    "        )\n",
    "    \n",
    "print(\"dd_t: \", int(dd_t))\n",
    "print(\"prev_timestamp: \", prev_timestamp)"
   ]
  },
  {
   "cell_type": "code",
   "execution_count": 10,
   "id": "c98bffc0",
   "metadata": {},
   "outputs": [],
   "source": [
    "# plt.imshow(torch.log(test_filter.belief_covariance.detach()[0, :, :]))"
   ]
  },
  {
   "cell_type": "code",
   "execution_count": null,
   "id": "aceb3930",
   "metadata": {
    "scrolled": true
   },
   "outputs": [
    {
     "data": {
      "application/vnd.jupyter.widget-view+json": {
       "model_id": "206d56d193284ddabd6b6ba8a253b585",
       "version_major": 2,
       "version_minor": 0
      },
      "text/plain": [
       "  0%|          | 0/289194 [00:00<?, ?it/s]"
      ]
     },
     "metadata": {},
     "output_type": "display_data"
    }
   ],
   "source": [
    "for t in tqdm(range(T_start, T)):\n",
    "    timestamp, or_quat, or_cov, ang_vel, ang_vel_cov, lin_acc, lin_acc_cov = parse_imu_data(imu_data[t-1])\n",
    "    dt = (timestamp - prev_timestamp)\n",
    "    prev_timestamp = timestamp\n",
    "    or_quat = tf.quaternion_invert(or_quat)\n",
    "    controls = torch.cat((lin_acc, ang_vel, or_quat)).float()\n",
    "    test_filter.dynamics_model.update_dt(dt)\n",
    "    estimated_states[t-T_start, :] = test_filter(controls=controls[None, :], observations=None)\n",
    "    \n",
    "    assert not (torch.any(torch.isnan(estimated_states[t-T_start, :])))\n",
    "    if np.abs(timestamp-dd_t)<1:\n",
    "        rover_code, base_code, rover_carr, base_carr, satpos, idx_code_mask, idx_carr_mask = to_tensor(read_gnss_data(dd_data, dd_tidx, 'mixed'))\n",
    "        \n",
    "        if sum(idx_code_mask) > 1 and sum(idx_carr_mask) > 1:\n",
    "            ref = np.where(idx_code_mask & idx_carr_mask)[0][0]\n",
    "            \n",
    "            # Dont include reference\n",
    "            idx_code_mask[ref] = False\n",
    "            idx_carr_mask[ref] = False\n",
    "\n",
    "            dd_code, dd_carr = compute_d_diff(rover_code, base_code, rover_carr, base_carr, idx_code_mask=idx_code_mask, idx_carr_mask=idx_carr_mask, ref_idx=ref)\n",
    "            \n",
    "            observation = data_tensor([dd_code, dd_carr])\n",
    "\n",
    "            test_filter.measurement_model.update_sats(satpos, idx_code_mask, idx_carr_mask, ref, inter_const_bias=inter_const_bias)\n",
    "            \n",
    "            estimated_states[t-T_start, :] = test_filter(observations=observation[None, :], controls=None)\n",
    "            \n",
    "        \n",
    "        dd_tidx += 1\n",
    "        dd_t = dd_data['time_gt'][dd_tidx]\n",
    "#         print(\"dd_t:\", int(dd_t))\n",
    "    assert not (torch.any(torch.isnan(estimated_states[t-T_start, :]))) \n",
    "    \n",
    "#     measurement_model.update_sats()"
   ]
  },
  {
   "cell_type": "code",
   "execution_count": 1,
   "id": "c6d375e4",
   "metadata": {},
   "outputs": [
    {
     "ename": "NameError",
     "evalue": "name 't' is not defined",
     "output_type": "error",
     "traceback": [
      "\u001b[0;31m---------------------------------------------------------------------------\u001b[0m",
      "\u001b[0;31mNameError\u001b[0m                                 Traceback (most recent call last)",
      "\u001b[0;32m<ipython-input-1-7b873b72995c>\u001b[0m in \u001b[0;36m<module>\u001b[0;34m\u001b[0m\n\u001b[0;32m----> 1\u001b[0;31m \u001b[0mtmax\u001b[0m \u001b[0;34m=\u001b[0m \u001b[0mt\u001b[0m\u001b[0;34m-\u001b[0m\u001b[0;36m1\u001b[0m\u001b[0;34m\u001b[0m\u001b[0;34m\u001b[0m\u001b[0m\n\u001b[0m\u001b[1;32m      2\u001b[0m \u001b[0;34m\u001b[0m\u001b[0m\n\u001b[1;32m      3\u001b[0m \u001b[0mroot_t_s\u001b[0m \u001b[0;34m=\u001b[0m \u001b[0;36m1621218775\u001b[0m\u001b[0;34m\u001b[0m\u001b[0;34m\u001b[0m\u001b[0m\n\u001b[1;32m      4\u001b[0m \u001b[0mlower_t_s\u001b[0m \u001b[0;34m=\u001b[0m \u001b[0mint\u001b[0m\u001b[0;34m(\u001b[0m\u001b[0mimu_data\u001b[0m\u001b[0;34m[\u001b[0m\u001b[0mT_start\u001b[0m\u001b[0;34m]\u001b[0m\u001b[0;34m.\u001b[0m\u001b[0mloc\u001b[0m\u001b[0;34m[\u001b[0m\u001b[0;34m'%time'\u001b[0m\u001b[0;34m]\u001b[0m\u001b[0;34m/\u001b[0m\u001b[0;36m1e9\u001b[0m\u001b[0;34m)\u001b[0m\u001b[0;34m\u001b[0m\u001b[0;34m\u001b[0m\u001b[0m\n\u001b[1;32m      5\u001b[0m \u001b[0mupper_t_s\u001b[0m \u001b[0;34m=\u001b[0m \u001b[0mint\u001b[0m\u001b[0;34m(\u001b[0m\u001b[0mimu_data\u001b[0m\u001b[0;34m[\u001b[0m\u001b[0mtmax\u001b[0m\u001b[0;34m]\u001b[0m\u001b[0;34m.\u001b[0m\u001b[0mloc\u001b[0m\u001b[0;34m[\u001b[0m\u001b[0;34m'%time'\u001b[0m\u001b[0;34m]\u001b[0m\u001b[0;34m/\u001b[0m\u001b[0;36m1e9\u001b[0m\u001b[0;34m)\u001b[0m\u001b[0;34m\u001b[0m\u001b[0;34m\u001b[0m\u001b[0m\n",
      "\u001b[0;31mNameError\u001b[0m: name 't' is not defined"
     ]
    }
   ],
   "source": [
    "tmax = t-1\n",
    "\n",
    "root_t_s = 1621218775\n",
    "lower_t_s = int(imu_data[T_start].loc['%time']/1e9)\n",
    "upper_t_s = int(imu_data[tmax].loc['%time']/1e9)\n",
    "\n",
    "states = estimated_states.detach()\n",
    "plt.plot(np.linspace(1, upper_t_s-lower_t_s, num=tmax-T_start), states[:tmax-T_start, 0], \"r\", label=\"estimated_x\")\n",
    "plt.plot(np.linspace(1, upper_t_s-lower_t_s, num=tmax-T_start), states[:tmax-T_start, 1], \"b\", label=\"estimated_y\")\n",
    "plt.plot(np.linspace(1, upper_t_s-lower_t_s, num=tmax-T_start), states[:tmax-T_start, 2], \"g\", label=\"estimated_z\")\n",
    "\n",
    "plt.plot(np.linspace(1, upper_t_s-lower_t_s, num=upper_t_s-lower_t_s), gt_pos[lower_t_s-root_t_s:upper_t_s-root_t_s, 0], \"r--\", label=\"gt_x\")\n",
    "plt.plot(np.linspace(1, upper_t_s-lower_t_s, num=upper_t_s-lower_t_s), gt_pos[lower_t_s-root_t_s:upper_t_s-root_t_s, 1], \"b--\", label=\"gt_y\")\n",
    "plt.plot(np.linspace(1, upper_t_s-lower_t_s, num=upper_t_s-lower_t_s), gt_pos[lower_t_s-root_t_s:upper_t_s-root_t_s, 2], \"g--\", label=\"gt_z\")\n",
    "\n",
    "# plt.plot(gt_pos[lower_t_s-root_t_s:, 0], \"r--\", label=\"gt_x\")\n",
    "# plt.plot(gt_pos[lower_t_s-root_t_s:, 1], \"b--\", label=\"gt_y\")\n",
    "# plt.plot(gt_pos[lower_t_s-root_t_s:, 2], \"g--\", label=\"gt_z\")\n",
    "\n",
    "plt.legend()"
   ]
  },
  {
   "cell_type": "code",
   "execution_count": 19,
   "id": "87da164a",
   "metadata": {},
   "outputs": [
    {
     "data": {
      "text/plain": [
       "[<matplotlib.lines.Line2D at 0x7f21596e9970>]"
      ]
     },
     "execution_count": 19,
     "metadata": {},
     "output_type": "execute_result"
    },
    {
     "data": {
      "image/png": "[encoded data removed]",
      "text/plain": [
       "<Figure size 432x288 with 1 Axes>"
      ]
     },
     "metadata": {
      "needs_background": "light"
     },
     "output_type": "display_data"
    }
   ],
   "source": [
    "plt.scatter(states[:tmax-T_start, 0], states[:tmax-T_start, 1], s=1)\n",
    "plt.plot(gt_pos[lower_t_s-root_t_s:, 0], gt_pos[lower_t_s-root_t_s:, 1], \"r--\")"
   ]
  },
  {
   "cell_type": "code",
   "execution_count": null,
   "id": "b9bef160",
   "metadata": {},
   "outputs": [],
   "source": [
    "# observation_dim = test_filter.measurement_model.observation_dim\n",
    "\n",
    "# def temp_f(states, satXYZb, base_pos, ref_idx, idx_code_mask, idx_carr_mask):\n",
    "#     N, state_dim = states.shape\n",
    "#     pos = states[:, :3]\n",
    "# #         bias = states[:, self.idx_b_mask]\n",
    "\n",
    "#     # ROVER\n",
    "#     expected_observation_code = torch.linalg.norm(satXYZb[None, idx_code_mask, :3] - pos[:, None, :], dim=-1)\n",
    "#     expected_observation_carr = torch.linalg.norm(satXYZb[None, idx_carr_mask, :3] - pos[:, None, :], dim=-1)\n",
    "\n",
    "\n",
    "#     # ROVER - BASE\n",
    "#     expected_observation_code -= torch.linalg.norm(satXYZb[None, idx_code_mask, :3] - base_pos[None, None, :], dim=-1)\n",
    "#     expected_observation_carr -= torch.linalg.norm(satXYZb[None, idx_carr_mask, :3] - base_pos[None, None, :], dim=-1)\n",
    "\n",
    "    \n",
    "#     ## REFERENCE\n",
    "    \n",
    "#     # ROVER\n",
    "#     expected_observation_code_ref = torch.linalg.norm(satXYZb[None, ref_idx, :3] - pos[:, :], dim=-1)\n",
    "#     expected_observation_carr_ref = torch.linalg.norm(satXYZb[None, ref_idx, :3] - pos[:, :], dim=-1)\n",
    "\n",
    "\n",
    "#     # ROVER - BASE\n",
    "#     expected_observation_code_ref -= torch.linalg.norm(satXYZb[None, ref_idx, :3] - base_pos[None, :], dim=-1)\n",
    "#     expected_observation_carr_ref -= torch.linalg.norm(satXYZb[None, ref_idx, :3] - base_pos[None, :], dim=-1)\n",
    "    \n",
    "    \n",
    "#     # DOUBLE DIFFERENCE\n",
    "#     expected_observation_code = expected_observation_code - expected_observation_code_ref[:, None]\n",
    "#     expected_observation_carr = expected_observation_carr - expected_observation_carr_ref[:, None]\n",
    "\n",
    "#     expected_observation = torch.cat((expected_observation_code, expected_observation_carr), -1)\n",
    "\n",
    "#     return expected_observation.float()\n",
    "\n",
    "# with torch.enable_grad():\n",
    "#     x = pred_mean.detach().clone()\n",
    "\n",
    "#     N, ndim = x.shape\n",
    "    \n",
    "#     x = x[:, None, :].expand((N, observation_dim, ndim))\n",
    "#     x.requires_grad_(True)\n",
    "#     y = test_filter.measurement_model(x.reshape((-1, ndim)))[0].reshape((N, -1, observation_dim))\n",
    "#     mask = torch.eye(observation_dim, device=x.device).repeat(N, 1, 1)\n",
    "#     jac = torch.autograd.grad(y, x, mask, create_graph=True)\n",
    "# jac[0]"
   ]
  },
  {
   "cell_type": "code",
   "execution_count": 29,
   "id": "2424d548",
   "metadata": {},
   "outputs": [
    {
     "name": "stdout",
     "output_type": "stream",
     "text": [
      "tensor([[ 0.0000e+00,  0.0000e+00,  0.0000e+00,  3.8001e-01, -5.7320e-03,\n",
      "         -4.6546e-03, -9.2426e-01,  8.0929e-05,  3.0421e-04, -2.4306e-04,\n",
      "         -4.1550e-03, -4.2301e-03,  2.5471e-02, -1.7786e-03]])\n"
     ]
    }
   ],
   "source": [
    "# ## Fiter\n",
    "\n",
    "# t = 1\n",
    "# timestamp, or_quat, or_cov, ang_vel, ang_vel_cov, lin_acc, lin_acc_cov = parse_imu_data(imu_data[t-1])\n",
    "# dt = (timestamp - prev_timestamp)\n",
    "# prev_timestamp = timestamp\n",
    "# or_quat = tf.quaternion_invert(or_quat)\n",
    "# controls = torch.cat((lin_acc, ang_vel, or_quat)).float()\n",
    "\n",
    "# prev_mean = test_filter._belief_mean\n",
    "# prev_covariance = test_filter._belief_covariance\n",
    "# N, state_dim = prev_mean.shape\n",
    "\n",
    "# # Compute mu_{t+1|t}, covariance, and Jacobian\n",
    "# pred_mean, dynamics_tril = test_filter.dynamics_model(\n",
    "#     initial_states=prev_mean, controls=controls[None, :]\n",
    "# )\n",
    "\n",
    "# dynamics_covariance = dynamics_tril @ dynamics_tril.transpose(-1, -2)\n",
    "# dynamics_A_matrix = test_filter.dynamics_model.jacobian(\n",
    "#     initial_states=prev_mean, controls=controls[None, :]\n",
    "# )\n",
    "\n",
    "# # Calculate Sigma_{t+1|t}\n",
    "# pred_covariance = (\n",
    "#     dynamics_A_matrix @ prev_covariance @ dynamics_A_matrix.transpose(-1, -2)\n",
    "#     + dynamics_covariance\n",
    "# )\n",
    "\n",
    "# test_filter.measurement_model.update_sats(satpos, idx_code_mask, idx_carr_mask, ref)\n",
    "\n",
    "# observations = observation[None, :]\n",
    "# # Measurement model forward pass, Jacobian\n",
    "# observations_mean = observations\n",
    "# pred_observations, observations_tril = test_filter.measurement_model(states=pred_mean)\n",
    "# observations_covariance = observations_tril @ observations_tril.transpose(\n",
    "#     -1, -2\n",
    "# )\n",
    "\n",
    "# print(pred_mean)\n",
    "\n",
    "# C_matrix = test_filter.measurement_model.jacobian(states=pred_mean)\n",
    "# # Compute Kalman Gain, innovation\n",
    "# innovation = observations_mean - pred_observations\n",
    "# innovation_covariance = (\n",
    "#     C_matrix @ pred_covariance @ C_matrix.transpose(-1, -2)\n",
    "#     + observations_covariance\n",
    "# )\n",
    "# kalman_gain = (\n",
    "#     pred_covariance\n",
    "#     @ C_matrix.transpose(-1, -2)\n",
    "#     @ torch.inverse(innovation_covariance)\n",
    "# )\n",
    "\n",
    "# # Get mu_{t+1|t+1}, Sigma_{t+1|t+1}\n",
    "# corrected_mean = pred_mean + (kalman_gain @ innovation[:, :, None]).squeeze(-1)\n",
    "\n",
    "# identity = torch.eye(test_filter.state_dim, device=kalman_gain.device)\n",
    "# corrected_covariance = (identity - kalman_gain @ C_matrix) @ pred_covariance"
   ]
  },
  {
   "cell_type": "code",
   "execution_count": null,
   "id": "a4ac7371",
   "metadata": {},
   "outputs": [],
   "source": [
    "# ## DEBUG\n",
    "\n",
    "# rover_code = dd_data[constellation+'_rover_measurements_code'][dd_tidx].to_numpy()\n",
    "# base_code = dd_data[constellation+'_base_measurements_code'][dd_tidx].to_numpy()\n",
    "\n",
    "# rover_carr = dd_data[constellation+'_rover_measurements_carr'][dd_tidx].to_numpy()\n",
    "# base_carr = dd_data[constellation+'_base_measurements_carr'][dd_tidx].to_numpy()\n",
    "\n",
    "# idx_code_mask = np.logical_not(np.isnan(rover_code))\n",
    "# idx_carr_mask = np.logical_not(np.isnan(rover_carr))\n",
    "\n",
    "# satpos = torch.tensor(dd_data[constellation+'_ecef_svs'][dd_tidx].to_numpy())\n",
    "# ref = np.where(idx_code_mask & idx_carr_mask)[0][0]\n",
    "\n",
    "# sd_code = rover_code - base_code\n",
    "# dd_code = sd_code - sd_code[ref]\n",
    "\n",
    "# sd_carr = rover_carr - base_carr\n",
    "# dd_carr = sd_carr - sd_carr[ref]\n",
    "\n",
    "# # Dont include reference\n",
    "# idx_code_mask[ref] = False\n",
    "# idx_carr_mask[ref] = False\n",
    "\n",
    "# observation = torch.tensor(np.concatenate((dd_code[idx_code_mask], dd_carr[idx_carr_mask]), -1), dtype=torch.float32)\n",
    "\n",
    "# kf_measurement_model.update_sats(satpos, idx_code_mask, idx_carr_mask, ref)\n",
    "\n",
    "# print(\"expected: \", kf_measurement_model(estimated_states[0, :][None, :])[0])\n",
    "# print(\"measured: \", observation)"
   ]
  },
  {
   "cell_type": "markdown",
   "id": "0ca63a4d",
   "metadata": {},
   "source": [
    "# Residual Computation"
   ]
  },
  {
   "cell_type": "code",
   "execution_count": 113,
   "id": "7bd446d5",
   "metadata": {},
   "outputs": [],
   "source": [
    "# # Print number of measurements at each time\n",
    "# sum(~np.isnan(dd_data.beidou_base_measurements_carr).T)"
   ]
  },
  {
   "cell_type": "code",
   "execution_count": 119,
   "id": "87f5c2b2",
   "metadata": {},
   "outputs": [
    {
     "data": {
      "application/vnd.jupyter.widget-view+json": {
       "model_id": "561bc3ac75874006b778f52e81d3a620",
       "version_major": 2,
       "version_minor": 0
      },
      "text/plain": [
       "  0%|          | 0/777 [00:00<?, ?it/s]"
      ]
     },
     "metadata": {},
     "output_type": "display_data"
    }
   ],
   "source": [
    "# Residual computation\n",
    "T = len(dd_data['time_gt'])\n",
    "code_sd_residuals = torch.zeros(T, 32+31).float()\n",
    "code_sd_residuals[...] = float('nan') \n",
    "carr_sd_residuals = torch.zeros(T, 32+31).float()\n",
    "carr_sd_residuals[...] = float('nan')\n",
    "base_pose = torch.tensor(dd_data['base_station_enu'].to_numpy())[None, :]\n",
    "\n",
    "\n",
    "for dd_tidx in tqdm(range(T)):\n",
    "    rover_code, base_code, rover_carr, base_carr, satpos, idx_code_mask, idx_carr_mask = to_tensor(read_gnss_data(dd_data, dd_tidx, 'mixed'))\n",
    "    if sum(idx_code_mask) > 1 and sum(idx_carr_mask) > 1:\n",
    "        dd_code, dd_carr = compute_s_diff(rover_code, base_code, rover_carr, base_carr, idx_code_mask=idx_code_mask, idx_carr_mask=idx_carr_mask)\n",
    "\n",
    "        dd_code_expec, dd_carr_expec = expected_s_diff(satpos, torch.tensor(gt_pos[None, dd_tidx, :3]), base_pose, idx_code_mask=idx_code_mask, idx_carr_mask=idx_carr_mask)\n",
    "        code_sd_residuals[dd_tidx, idx_code_mask] = dd_code.float() - dd_code_expec[0, :].float()\n",
    "        carr_sd_residuals[dd_tidx, idx_carr_mask] = dd_carr.float() - dd_carr_expec[0, :].float()\n"
   ]
  },
  {
   "cell_type": "code",
   "execution_count": 162,
   "id": "37a59483",
   "metadata": {},
   "outputs": [
    {
     "data": {
      "text/plain": [
       "(tensor([ 0,  3,  6,  7,  8, 14, 19, 25, 32, 33, 46, 47, 49]),)"
      ]
     },
     "execution_count": 162,
     "metadata": {},
     "output_type": "execute_result"
    }
   ],
   "source": [
    "# Possible references\n",
    "torch.where(torch.sum(~torch.isnan(code_sd_residuals), dim=0)>0)"
   ]
  },
  {
   "cell_type": "code",
   "execution_count": 172,
   "id": "37444168",
   "metadata": {},
   "outputs": [
    {
     "name": "stdout",
     "output_type": "stream",
     "text": [
      "tensor(0.) tensor(17.5916)\n"
     ]
    },
    {
     "data": {
      "image/png": "[encoded data removed]",
      "text/plain": [
       "<Figure size 432x288 with 1 Axes>"
      ]
     },
     "metadata": {
      "needs_background": "light"
     },
     "output_type": "display_data"
    }
   ],
   "source": [
    "def calc_icb(residuals, ref=-1, const1_max_idx=31, plot=True):\n",
    "    max_idx = residuals.shape[1]\n",
    "    \n",
    "    if plot:\n",
    "        for idx in range(const1_max_idx):\n",
    "            if idx==ref:\n",
    "                continue\n",
    "            plt.plot(residuals[:, idx], 'c')\n",
    "\n",
    "        for idx in range(const1_max_idx, max_idx):\n",
    "            if idx==ref:\n",
    "                continue\n",
    "            plt.plot(residuals[:, idx], 'y')\n",
    "\n",
    "    tmp_mask = torch.ones(max_idx, dtype=torch.bool)\n",
    "    tmp_mask[const1_max_idx:] = False\n",
    "    if ref>=0:\n",
    "        tmp_mask[ref] = False\n",
    "    icb1_res = residuals[:, tmp_mask]\n",
    "    if plot:\n",
    "        plt.plot(torch.ones(len(residuals))*torch.nanmean(icb1_res), 'c--')\n",
    "\n",
    "    tmp_mask = torch.ones(max_idx, dtype=torch.bool)\n",
    "    tmp_mask[:const1_max_idx] = False\n",
    "    if ref>=0:\n",
    "        tmp_mask[ref] = False\n",
    "    icb2_res = residuals[:, tmp_mask]\n",
    "    if plot:\n",
    "        plt.plot(torch.ones(len(residuals))*torch.nanmean(icb2_res), 'y--')\n",
    "    return icb1_res, icb2_res\n",
    "\n",
    "all_icb1_res = []\n",
    "all_icb2_res = []\n",
    "for ref in [0,  3,  6,  7,  8, 14, 19, 25]:\n",
    "    code_dd_residuals = code_sd_residuals - code_sd_residuals[:, [ref]]\n",
    "    carr_dd_residuals = carr_sd_residuals - carr_sd_residuals[:, [ref]]\n",
    "    icb1_res, icb2_res = calc_icb(code_dd_residuals, ref=ref)\n",
    "    all_icb1_res.append(icb1_res)\n",
    "    all_icb2_res.append(icb2_res)\n",
    "all_icb1_res = torch.stack(all_icb1_res)\n",
    "all_icb2_res = torch.stack(all_icb2_res)\n",
    "\n",
    "print(torch.nanmean(all_icb1_res), torch.nanmean(all_icb2_res))"
   ]
  }
 ],
 "metadata": {
  "kernelspec": {
   "display_name": "Python 3 (ipykernel)",
   "language": "python",
   "name": "python3"
  },
  "language_info": {
   "codemirror_mode": {
    "name": "ipython",
    "version": 3
   },
   "file_extension": ".py",
   "mimetype": "text/x-python",
   "name": "python",
   "nbconvert_exporter": "python",
   "pygments_lexer": "ipython3",
   "version": "3.8.10"
  }
 },
 "nbformat": 4,
 "nbformat_minor": 5
}
