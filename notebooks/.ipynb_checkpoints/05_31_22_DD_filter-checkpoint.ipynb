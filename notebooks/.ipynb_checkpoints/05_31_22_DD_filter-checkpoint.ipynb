{
 "cells": [
  {
   "cell_type": "code",
   "execution_count": 1,
   "id": "5d16c5aa",
   "metadata": {},
   "outputs": [
    {
     "name": "stderr",
     "output_type": "stream",
     "text": [
      "/home/groups/gracegao/conda_envs/deep_gnss/lib/python3.8/site-packages/xarray/backends/cfgrib_.py:27: UserWarning: Failed to load cfgrib - most likely there is a problem accessing the ecCodes library. Try `import cfgrib` to get the full error message\n",
      "  warnings.warn(\n"
     ]
    }
   ],
   "source": [
    "%matplotlib inline\n",
    "import torchfilter as tfilter\n",
    "import numpy as np\n",
    "import pandas as pd\n",
    "import pymap3d as pm\n",
    "from matplotlib import pyplot as plt\n",
    "import plotly.express as px\n",
    "import torch\n",
    "from tqdm.notebook import tqdm\n",
    "from collections import namedtuple\n",
    "import pytorch3d.transforms as tf\n",
    "import xarray as xr"
   ]
  },
  {
   "cell_type": "code",
   "execution_count": 2,
   "id": "b38feb38",
   "metadata": {},
   "outputs": [],
   "source": [
    "import os, sys\n",
    "sys.path.append('..')\n",
    "\n",
    "from dynamics_models import *\n",
    "from kf_measurement_models import *\n",
    "from pf_measurement_models import *\n",
    "from virtual_sensor_models import *\n",
    "from utils import *\n",
    "from filter_models import *\n",
    "\n",
    "%load_ext autoreload\n",
    "%autoreload 2"
   ]
  },
  {
   "cell_type": "code",
   "execution_count": 3,
   "id": "a1c40948",
   "metadata": {},
   "outputs": [],
   "source": [
    "origin_lla, origin_ecef = get_reference_from_gt(\"22 18 04.31949  114 10 44.60559        3.472\")   \n",
    "origin_rpy = get_reference_rot(\"-1.7398149928   0.4409540487 -132.534729738\")\n",
    "origin_time = 1621218775.00\n",
    "\n",
    "# origin_lla, origin_ecef = get_reference_from_gt(\"22 18 00.25350  114 10 47.25217        3.189\") \n",
    "# origin_rpy = get_reference_rot(\"-0.6671978933   0.4780759843 137.9359508957\")\n",
    "# origin_time = 1621218838.00\n",
    "\n",
    "\n",
    "# origin_lla, origin_ecef = get_reference_from_gt(\"22 17 51.54462  114 10 37.53472        2.433\")  \n",
    "# origin_rpy = get_reference_rot(\"-0.7491022101  -0.4393383077 -133.811686506\")\n",
    "# origin_time = 1621218900.00\n",
    "\n",
    "# origin_lla, origin_ecef = get_reference_from_gt(\"22 17 49.70559  114 10 33.84846        3.084\") \n",
    "# origin_rpy = get_reference_rot(\"1.5505269260   0.5986893297 -84.4024418600\")\n",
    "# origin_time = 1621218930.00\n",
    "\n",
    "end_time = origin_time + 400 #+ 777.0"
   ]
  },
  {
   "cell_type": "code",
   "execution_count": 4,
   "id": "23da4006",
   "metadata": {},
   "outputs": [],
   "source": [
    "# Index/timestamp syncing management\n",
    "utc_to_gt_idx = lambda x: int(x - 1621218775.00)\n",
    "gt_idx_to_utc = lambda x: x + 1621218775.00\n",
    "\n",
    "utc_to_gnss_idx = lambda x: int(x - 1621218785)\n",
    "gnss_idx_to_utc = lambda x: x + 1621218785\n"
   ]
  },
  {
   "cell_type": "code",
   "execution_count": 5,
   "id": "e59bb819",
   "metadata": {},
   "outputs": [],
   "source": [
    "gt_data = load_ground_truth(\"/oak/stanford/groups/gracegao/HKdataset/data_06_22_22/UrbanNav_TST_GT_raw.txt\", origin_lla)\n",
    "gt_pos = gt_data.sel(dim_1=[\"ENUX\", \"ENUY\", \"ENUZ\"]).to_numpy()\n",
    "gt_vel = gt_data.sel(dim_1=[\"VelBdyX\", \"VelBdyY\", \"VelBdyZ\"]).to_numpy()\n",
    "gt_acc = gt_data.sel(dim_1=[\"AccBdyX\", \"AccBdyY\", \"AccBdyZ\"]).to_numpy()\n",
    "gt_rot = gt_data.sel(dim_1=[\"Roll\", \"Pitch\", \"Heading\"]).to_numpy()\n",
    "gt_len = len(gt_pos)"
   ]
  },
  {
   "cell_type": "code",
   "execution_count": 6,
   "id": "b14f59ac",
   "metadata": {},
   "outputs": [
    {
     "data": {
      "text/plain": [
       "787"
      ]
     },
     "execution_count": 6,
     "metadata": {},
     "output_type": "execute_result"
    }
   ],
   "source": [
    "gt_len"
   ]
  },
  {
   "cell_type": "code",
   "execution_count": 7,
   "id": "2bddb905",
   "metadata": {},
   "outputs": [],
   "source": [
    "dd_data = load_dd_data(origin_lla, origin_ecef)"
   ]
  },
  {
   "cell_type": "code",
   "execution_count": 8,
   "id": "d4b933cd",
   "metadata": {},
   "outputs": [],
   "source": [
    "imu_data = xr.DataArray(pd.read_csv(\"/oak/stanford/groups/gracegao/HKdataset/data_06_22_22/xsense_imu_medium_urban1.csv\"))"
   ]
  },
  {
   "cell_type": "code",
   "execution_count": 9,
   "id": "ce1cd842",
   "metadata": {},
   "outputs": [],
   "source": [
    "timestamp, or_quat, or_cov, ang_vel, ang_vel_cov, lin_acc, lin_acc_cov = parse_imu_data(imu_data)"
   ]
  },
  {
   "cell_type": "code",
   "execution_count": 10,
   "id": "58784d42",
   "metadata": {},
   "outputs": [],
   "source": [
    "imu_to_gt_idx = lambda i: utc_to_gt_idx(timestamp[i])\n",
    "imu_to_gnss_idx = lambda i: utc_to_gnss_idx(timestamp[i])\n",
    "utc_to_imu_idx = lambda x: np.argmin(np.abs(x - timestamp))"
   ]
  },
  {
   "cell_type": "code",
   "execution_count": 11,
   "id": "c54e104f",
   "metadata": {},
   "outputs": [
    {
     "data": {
      "text/plain": [
       "314194"
      ]
     },
     "execution_count": 11,
     "metadata": {},
     "output_type": "execute_result"
    }
   ],
   "source": [
    "len(timestamp)"
   ]
  },
  {
   "cell_type": "code",
   "execution_count": 12,
   "id": "f8687656",
   "metadata": {},
   "outputs": [],
   "source": [
    "def get_vo_data():\n",
    "    vo_path = os.path.abspath('/oak/stanford/groups/gracegao/HKdataset/data_06_22_22/')\n",
    "    vo_vals = np.load(os.path.join(vo_path, \"velocity_vo_15Hz.npy\"))\n",
    "    \n",
    "    vo_times = np.load(os.path.join(vo_path, \"velocity_vo_15Hz_timestamp.npy\"))\n",
    "    \n",
    "    return {\n",
    "        'vo': vo_vals.T,\n",
    "        'timestamp': vo_times/1e9\n",
    "    }\n",
    "vo_data = get_vo_data()"
   ]
  },
  {
   "cell_type": "code",
   "execution_count": 13,
   "id": "74c4cd43",
   "metadata": {},
   "outputs": [
    {
     "data": {
      "application/vnd.jupyter.widget-view+json": {
       "model_id": "1328ed68f61e4aa183cdc75df50fc30f",
       "version_major": 2,
       "version_minor": 0
      },
      "text/plain": [
       "0it [00:00, ?it/s]"
      ]
     },
     "metadata": {},
     "output_type": "display_data"
    }
   ],
   "source": [
    "imu_to_vo_idx_data = timestamp.copy()\n",
    "vo_idx = 0\n",
    "for i, t in tqdm(enumerate(timestamp)):\n",
    "    while (t > vo_data[\"timestamp\"][vo_idx]) and (vo_idx < len(vo_data[\"timestamp\"])-1):\n",
    "        vo_idx += 1\n",
    "    imu_to_vo_idx_data[i] = vo_idx\n",
    "\n",
    "imu_to_vo_idx = lambda i: imu_to_vo_idx_data[i]"
   ]
  },
  {
   "cell_type": "code",
   "execution_count": 14,
   "id": "64e836ab",
   "metadata": {},
   "outputs": [],
   "source": [
    "def get_ints_data():\n",
    "    int_hypo_path = os.path.abspath('/home/users/shubhgup/Codes/KITTI360_Processing/TRI_KF/IntegerHypotheses')\n",
    "    gps_ints = np.load(os.path.join(int_hypo_path, \"true_gps_ints.npy\"), allow_pickle=True).item()\n",
    "    ref_gps = None # np.load(\"/home/users/shubhgup/Codes/KITTI360_Processing/TRI_KF/IntegerHypotheses/ref_gps.npy\", allow_pickle=True).item()\n",
    "\n",
    "    mixed_ints = np.load(\"/home/users/shubhgup/Codes/KITTI360_Processing/TRI_KF/IntegerHypotheses/true_mixed_ints.npy\", allow_pickle=True).item()\n",
    "\n",
    "    return {\n",
    "        'mi': mixed_ints,\n",
    "        'gi': gps_ints,\n",
    "        'ref': ref_gps\n",
    "    }\n",
    "ints_data = get_ints_data()"
   ]
  },
  {
   "cell_type": "code",
   "execution_count": 15,
   "id": "9a06619c",
   "metadata": {},
   "outputs": [
    {
     "name": "stderr",
     "output_type": "stream",
     "text": [
      "<ipython-input-15-08f513d4ec1e>:6: DeprecationWarning: `np.bool` is a deprecated alias for the builtin `bool`. To silence this warning, use `bool` by itself. Doing this will not modify any behavior and is safe. If you specifically wanted the numpy scalar type, use `np.bool_` here.\n",
      "Deprecated in NumPy 1.20; for more details and guidance: https://numpy.org/devdocs/release/1.20.0-notes.html#deprecations\n",
      "  mixed_cs = np.zeros((777, 31+32), dtype=np.bool)\n"
     ]
    }
   ],
   "source": [
    "def get_cycle_slip_data():\n",
    "    cycle_slip_path = os.path.abspath('/home/users/shubhgup/Codes/KITTI360_Processing/TRI_KF/cycle_slip_data/')\n",
    "    _gps_cs = np.load(os.path.join(cycle_slip_path, 'gps mask_win5_thr3.npy'))\n",
    "    _bei_cs = np.load(os.path.join(cycle_slip_path, 'bei mask_win5_thr3.npy'))\n",
    "\n",
    "    mixed_cs = np.zeros((777, 31+32), dtype=np.bool)\n",
    "    mixed_cs[5:, :31][_gps_cs==True] = True\n",
    "    mixed_cs[5:, 31:][_bei_cs==True] = True\n",
    "    return mixed_cs\n",
    "\n",
    "mixed_data = get_cycle_slip_data()"
   ]
  },
  {
   "cell_type": "markdown",
   "id": "86605fce",
   "metadata": {},
   "source": [
    "# Filter Code"
   ]
  },
  {
   "cell_type": "code",
   "execution_count": 213,
   "id": "82978677",
   "metadata": {},
   "outputs": [],
   "source": [
    "N_dim = 31+32\n",
    "# N_dim = 0\n",
    "T_start = utc_to_imu_idx(origin_time)\n",
    "T = utc_to_imu_idx(end_time)\n",
    "state_dim = 10 + N_dim\n",
    "IMU_rate_div = 10\n",
    "\n",
    "dynamics_model = CarFullPoseDynamicsModel(N_dim=N_dim)\n",
    "kf_measurement_model = IMU_VO_DD_MeasurementModel(dd_data['base_station_enu'].to_numpy(), N_dim=N_dim)\n",
    "pf_measurement_model = GNSSPFMeasurementModel_IMU_DD_VO(dd_data['base_station_enu'].to_numpy(), N_dim=N_dim)\n",
    "\n",
    "# test_filter = AsyncExtendedKalmanFilter(\n",
    "#     dynamics_model=dynamics_model,\n",
    "#     measurement_model=kf_measurement_model,\n",
    "#     )\n",
    "\n",
    "# test_filter = AsyncParticleFilter(\n",
    "#     dynamics_model=dynamics_model,\n",
    "#     measurement_model=pf_measurement_model,\n",
    "#     resample=True,\n",
    "#     estimation_method=\"weighted_average\",\n",
    "#     num_particles= 10000,\n",
    "#     soft_resample_alpha=1.0,\n",
    "# )\n",
    "\n",
    "# test_filter = AsyncExtendedInformationFilter(\n",
    "#     dynamics_model=dynamics_model,\n",
    "#     measurement_model=kf_measurement_model,    \n",
    "# )\n",
    "\n",
    "test_filter = AsyncRaoBlackwellizedParticleFilter(\n",
    "    dynamics_model=dynamics_model,\n",
    "    measurement_model=pf_measurement_model,\n",
    "    resample=True,\n",
    "    estimation_method=\"weighted_average\",\n",
    "    num_particles= 20,\n",
    "    soft_resample_alpha=1.0,\n",
    ")\n",
    "\n",
    "# # Bank-of-EKF mode\n",
    "# test_filter = AsyncRaoBlackwellizedParticleFilter(\n",
    "#     dynamics_model=dynamics_model,\n",
    "#     measurement_model=pf_measurement_model,\n",
    "#     estimation_method=\"weighted_average\",\n",
    "#     num_particles= 1,\n",
    "#     soft_resample_alpha=1.0,\n",
    "# )\n",
    "\n",
    "pf_idx_mask = torch.zeros(state_dim, dtype=torch.bool)\n",
    "pf_idx_mask[:3] = True\n",
    "\n",
    "test_filter.attach_ekf(dynamics_model,kf_measurement_model, pf_idx_mask, bank_mode=False)"
   ]
  },
  {
   "cell_type": "code",
   "execution_count": 214,
   "id": "ece933b8",
   "metadata": {},
   "outputs": [],
   "source": [
    "# m_model_params = list(pf_measurement_model.parameters())\n",
    "# d_model_params = list(dynamics_model.parameters())\n",
    "# m_model_params, d_model_params"
   ]
  },
  {
   "cell_type": "code",
   "execution_count": 215,
   "id": "ba353006",
   "metadata": {},
   "outputs": [],
   "source": [
    "# tmp_a = torch.ones(1, 10)\n",
    "\n",
    "# for _ in range(10):\n",
    "#     tmp_a, Q = dynamics_model(tmp_a, torch.ones(1, 6))\n",
    "# tmp_obj = nll_objective(torch.tensor([1.0, 1.0, 1.0]).reshape(1, -1), tmp_a[:, :3], torch.diagonal(Q, dim1=-2, dim2=-1)[:, :3])\n",
    "# print(tmp_obj)\n",
    "# torch.autograd.grad(outputs=tmp_obj, inputs=d_model_params, allow_unused=True, retain_graph=True)"
   ]
  },
  {
   "cell_type": "code",
   "execution_count": 216,
   "id": "e544aa82",
   "metadata": {},
   "outputs": [],
   "source": [
    "# optimizer = torch.optim.SGD(test_filter.parameters(), lr=0.01, momentum=0.9)\n",
    "# optimizer.zero_grad()\n",
    "# loss_fn = torch.nn.MSELoss()\n",
    "# nll_objective = torch.nn.GaussianNLLLoss()"
   ]
  },
  {
   "cell_type": "code",
   "execution_count": 217,
   "id": "536732e3",
   "metadata": {},
   "outputs": [
    {
     "name": "stdout",
     "output_type": "stream",
     "text": [
      "prev_timestamp:  1621218775.5239782\n"
     ]
    }
   ],
   "source": [
    "estimated_states = torch.zeros(T, state_dim)\n",
    "estimated_states[T_start, 3] = 1 \n",
    "prev_timestamp = timestamp[T_start] - 0.0025*IMU_rate_div\n",
    "\n",
    "inter_const_bias = torch.tensor(dd_data['inter_const_bias'].to_numpy())\n",
    "\n",
    "quat0 = eul2quat(origin_rpy)\n",
    "quat0 = tf.quaternion_invert(quat0)\n",
    "\n",
    "init_state = torch.zeros(state_dim)\n",
    "init_state[3:7] = quat0\n",
    "\n",
    "init_cov = 10*torch.eye(state_dim)\n",
    "init_cov[:2, :2] *= 5.0    # x,y\n",
    "init_cov[2, 2] *= 0.1    # z\n",
    "\n",
    "init_cov[3:7, 3:7] *= 1e-2   # q_w\n",
    "init_cov[3:7, 3:7] *= 1e-3   # q_x\n",
    "init_cov[3:7, 3:7] *= 1e-3   # q_y\n",
    "init_cov[3:7, 3:7] *= 1e-2   # q_z\n",
    "\n",
    "init_cov[7:9, 7:9] *= 0.5   # v_x, v_y\n",
    "init_cov[9, 9] *= 0.01   # v_z\n",
    "\n",
    "test_filter.initialize_beliefs(\n",
    "            mean=init_state[None, :].detach(),\n",
    "            covariance=init_cov[None, :, :].detach(),\n",
    "        )\n",
    "    \n",
    "recorded_data = {\n",
    "    'controls': [],\n",
    "    'imu_observation': [],\n",
    "    'gnss_observation': [],\n",
    "    'gnss_observation_context': [],\n",
    "    'last_update': 0\n",
    "}    \n",
    "context = (prev_timestamp, 0, 0, recorded_data)\n",
    "    \n",
    "print(\"prev_timestamp: \", prev_timestamp)"
   ]
  },
  {
   "cell_type": "code",
   "execution_count": 218,
   "id": "7b603961",
   "metadata": {},
   "outputs": [],
   "source": [
    "def calc_gnss_observation(rover_code, base_code, rover_carr, base_carr, satpos, idx_code_mask, idx_carr_mask, ref=None):\n",
    "    # Check atleast 2 measurements in both code and carrier phase \n",
    "    if sum(idx_code_mask) < 2 or sum(idx_carr_mask) < 2:\n",
    "        return (None, None, None, None)\n",
    "\n",
    "    # First non-zero index is the reference\n",
    "    if ref is None:\n",
    "        ref = np.where(idx_code_mask & idx_carr_mask)[0][0]\n",
    "#         ref = np.where(idx_code_mask[:31] & idx_carr_mask[:31])[0][-1]\n",
    "\n",
    "    # Dont include reference in mask\n",
    "    idx_code_mask[ref] = False\n",
    "    idx_carr_mask[ref] = False\n",
    "\n",
    "    # Compute double difference  \n",
    "    dd_code, dd_carr = compute_d_diff(rover_code, base_code, rover_carr, base_carr, idx_code_mask=idx_code_mask, idx_carr_mask=idx_carr_mask, ref_idx=ref)\n",
    "    gnss_observation = data_tensor([dd_code, dd_carr])\n",
    "    \n",
    "    return gnss_observation, idx_code_mask, idx_carr_mask, ref"
   ]
  },
  {
   "cell_type": "code",
   "execution_count": 219,
   "id": "42c27a38",
   "metadata": {},
   "outputs": [],
   "source": [
    "def calc_gnss_cov(cnos, satpos, pos, mode='simple'):\n",
    "    if mode=='realni':\n",
    "        los = satpos - pos[None, :]\n",
    "        los = torch.div(los, torch.norm(los, dim=1)[:, None])\n",
    "        el = torch.arccos(los[:, 2])\n",
    "\n",
    "        s1 = 50\n",
    "        A = 30\n",
    "        s0 = 10 \n",
    "        a = 50\n",
    "\n",
    "        cno_term = cnos - s1\n",
    "        cno_term_1 = torch.pow(10, -cno_term/a)\n",
    "        cno_term_2 = cno_term/(s0-s1)\n",
    "        s0_term = torch.pow(10, torch.tensor(-(s0-s1)/a))\n",
    "\n",
    "        W = 1.0/torch.sin(el)**2*(cno_term_1*((A/s0_term - 1)*cno_term_2 + 1))\n",
    "        \n",
    "        sigma = 1./torch.sqrt(W)\n",
    "    elif mode=='simple':\n",
    "        ksnr = 100\n",
    "        \n",
    "        sigma = ksnr*torch.pow(10, -cnos/20)\n",
    "    \n",
    "    return sigma\n",
    "\n",
    "def calc_ambiguity_cov(cs_data, idx_carr_mask):\n",
    "    default_sigma = torch.ones(len(idx_carr_mask))\n",
    "    default_sigma[cs_data==True] = 20.0\n",
    "    return default_sigma"
   ]
  },
  {
   "cell_type": "code",
   "execution_count": 220,
   "id": "1c8adaa4",
   "metadata": {},
   "outputs": [],
   "source": [
    "# # EKF Run code\n",
    "# def run_timestep(t, context):\n",
    "#     prev_timestamp, dd_idx, vo_idx, recorded_data = context\n",
    "    \n",
    "#     # Load IMU data\n",
    "#     timestamp_t, or_quat_t, or_cov_t, ang_vel_t, ang_vel_cov_t, lin_acc_t, lin_acc_cov_t = timestamp[t], or_quat[t], or_cov[t], ang_vel[t], ang_vel_cov[t], lin_acc[t], lin_acc_cov[t]\n",
    "\n",
    "#     # Compute time difference \n",
    "#     dt = (timestamp_t - prev_timestamp)\n",
    "#     prev_timestamp = timestamp_t\n",
    "#     test_filter.dynamics_model.update_dt_cov(dt, ang_vel_cov_t, lin_acc_cov_t)\n",
    "\n",
    "#     # Predict step\n",
    "#     controls = torch.cat((lin_acc_t, ang_vel_t)).float()\n",
    "#     imu_observation = or_quat_t.float()\n",
    "#     imu_observation[[1, 2]] = imu_observation[[2, 1]]\n",
    "#     test_filter.measurement_model.update_imu_std(or_cov_t.float())\n",
    "#     estimated_state = test_filter(controls=controls[None, :], observations=imu_observation[None, :])\n",
    "# #     print(\"Heading: \", estimated_state[:, 3:7], tf.quaternion_invert(imu_observation))\n",
    "    \n",
    "#     tmp_outs_1 = {'predicted state': estimated_state.detach(), 'predicted cov': test_filter._belief_covariance.detach()}\n",
    "# #     tmp_outs_1 = {'predicted state': test_filter.particle_states.detach(), 'predicted logwt': test_filter.particle_log_weights.detach()}\n",
    "#     tmp_outs_2 = {'corrected state': estimated_state.detach(), 'corrected cov': test_filter._belief_covariance.detach()}\n",
    "    \n",
    "#     # Null corrected state and observation data\n",
    "#     corrected_state = None\n",
    "#     gnss_observation = None\n",
    "#     gnss_observation_context = None\n",
    "    \n",
    "#     new_vo_idx = imu_to_vo_idx(t)\n",
    "#     if new_vo_idx > vo_idx:\n",
    "# #         print(\"VO update: \", t)\n",
    "#         vo_idx = new_vo_idx\n",
    "        \n",
    "#         # VO does better at predicting low velocities\n",
    "#         vo_val = np.linalg.norm(vo_data['vo'][vo_idx, :])/1.5              # VO velocity\n",
    "# #         vo_val = gt_vel[imu_to_gt_idx(t), 1]           # Ground truth velocity\n",
    "#         vo_observation = torch.zeros(1, 3)\n",
    "#         vo_observation[0, 1] = vo_val\n",
    "# #         if vo_val<3:\n",
    "# #             test_filter.measurement_model.update_vo_std(1e-2)\n",
    "# #         else:\n",
    "# #             test_filter.measurement_model.update_vo_std(1e-4)\n",
    "#         test_filter.measurement_model.update_vo_std(1e-3)\n",
    "            \n",
    "        \n",
    "        \n",
    "#         estimated_state = test_filter(controls=None, observations=vo_observation)\n",
    "# #         expected_observation, R = test_filter.measurement_model.kalman_filter_measurement_model(estimated_state)\n",
    "# #         print(\"Vel: \", estimated_state[0, 7:10], expected_observation, vo_observation)\n",
    "        \n",
    "\n",
    "#     new_dd_idx = imu_to_gnss_idx(t)\n",
    "#     if new_dd_idx > dd_idx:\n",
    "# #         print(\"GNSS update: \", t)\n",
    "#         dd_idx = new_dd_idx\n",
    "\n",
    "#         # Load GNSS observables\n",
    "#         rover_code, base_code, rover_carr, base_carr, rover_cnos, satpos, idx_code_mask, idx_carr_mask = to_tensor(read_gnss_data(dd_data, dd_idx, 'mixed'))\n",
    "\n",
    "#         # Load Integer hypotheses\n",
    "#         ref, N_hypo_dict = None, None\n",
    "# #         ref, N_hypo_dict = get_N_hypotheses(timestamp_t, ints_data)\n",
    "\n",
    "#         gnss_observation, idx_code_mask, idx_carr_mask, ref = calc_gnss_observation(rover_code, base_code, rover_carr, base_carr, satpos, idx_code_mask, idx_carr_mask, ref=ref)\n",
    "        \n",
    "#         if gnss_observation is not None:\n",
    "            \n",
    "#             # Cycle slip detection\n",
    "#             cs_data = mixed_data[dd_idx, :]\n",
    "        \n",
    "#             # Dynamic covariances\n",
    "#             cov_observation = calc_gnss_cov(rover_cnos, satpos, estimated_state[0, :3])\n",
    "            \n",
    "# #             cov_ambiguity = calc_ambiguity_cov(cs_data, idx_carr_mask)            \n",
    "# #             test_filter.dynamics_model.update_ambiguity_cov(cov_ambiguity)\n",
    "\n",
    "# #             visible_sats = sum(idx_code_mask)\n",
    "# #             prange_std = 20.0/visible_sats\n",
    "# #             carrier_std = 20.0/visible_sats if visible_sats<3 else 1.0/visible_sats\n",
    "            \n",
    "#             # Update satellite and other context data in the measurement model\n",
    "#             test_filter.measurement_model.update_sats(satpos, idx_code_mask, idx_carr_mask, ref, inter_const_bias=inter_const_bias, N_hypo_dict=N_hypo_dict, prange_std=cov_observation, carrier_noN_std=cov_observation, carrier_N_std=cov_observation*0.1)\n",
    "#             gnss_observation_context = (satpos, idx_code_mask, idx_carr_mask, ref, inter_const_bias)\n",
    "\n",
    "#             # Debug\n",
    "#             tmp_state = torch.zeros(1, 10)\n",
    "#             tmp_state[0, :3] = torch.tensor(gt_pos[imu_to_gt_idx(t), :])\n",
    "#     #             expected_observation, R = test_filter.measurement_model.kalman_filter_measurement_model(tmp_state)\n",
    "\n",
    "#     #             if N_hypo_dict is not None:\n",
    "#     #                 print(expected_observation, gnss_observation)\n",
    "\n",
    "#             # Update step\n",
    "#             corrected_state = test_filter(observations=gnss_observation[None, :], controls=None)\n",
    "            \n",
    "#             print(\"Current err: \", torch.norm(corrected_state[0, :3] - tmp_state[0, :3]))\n",
    "\n",
    "#             tmp_outs_2 = {'corrected state': corrected_state.detach(), 'corrected cov': test_filter._belief_covariance.detach()}\n",
    "# #             tmp_outs_2 = {'corrected state': test_filter.particle_states.detach(), 'corrected logwt': test_filter.particle_log_weights.detach()}\n",
    "            \n",
    "#     # Ensure no NaN's so far\n",
    "#     assert not (torch.any(torch.isnan(estimated_states[t-T_start, :])))\n",
    "    \n",
    "# #     recorded_data['controls'].append(controls)\n",
    "# #     recorded_data['imu_observation'].append(imu_observation)\n",
    "# #     recorded_data['gnss_observation'].append(gnss_observation)\n",
    "# #     recorded_data['gnss_observation_context'].append(gnss_observation_context)\n",
    "    \n",
    "#     return estimated_state, corrected_state, (prev_timestamp, dd_idx, vo_idx, recorded_data), (tmp_outs_1, tmp_outs_2, prev_timestamp)"
   ]
  },
  {
   "cell_type": "code",
   "execution_count": 221,
   "id": "bff830e6",
   "metadata": {},
   "outputs": [],
   "source": [
    "# For RBPF\n",
    "jitter_measurement = 10\n",
    "\n",
    "def run_timestep(t, context):\n",
    "    prev_timestamp, dd_idx, vo_idx, recorded_data = context\n",
    "    \n",
    "    # Load IMU data\n",
    "    timestamp_t, or_quat_t, or_cov_t, ang_vel_t, ang_vel_cov_t, lin_acc_t, lin_acc_cov_t = timestamp[t], or_quat[t], or_cov[t], ang_vel[t], ang_vel_cov[t], lin_acc[t], lin_acc_cov[t]\n",
    "\n",
    "    # Compute time difference \n",
    "    dt = (timestamp_t - prev_timestamp)\n",
    "    prev_timestamp = timestamp_t\n",
    "    test_filter.update_dt_cov(dt, ang_vel_cov_t, lin_acc_cov_t)\n",
    "\n",
    "    # Orientation (world -> body) to (body -> world)\n",
    "#     or_quat_t[3] *= -1     # fix for ENU consistency\n",
    "\n",
    "    # Predict step\n",
    "    controls = torch.cat((lin_acc_t, ang_vel_t)).float()\n",
    "    imu_observation = or_quat_t.float()\n",
    "    imu_observation[[1, 2]] = imu_observation[[2, 1]]\n",
    "    test_filter.update_imu_std(or_cov_t.float())\n",
    "    estimated_state = test_filter(controls=controls[None, :], observations=imu_observation[None, :])\n",
    "#     print(\"Heading: \", estimated_state[:, 3:7], tf.quaternion_invert(imu_observation))\n",
    "    \n",
    "    tmp_outs_1 = test_filter.tmp_outs\n",
    "    tmp_outs_2 = test_filter.tmp_outs\n",
    "    tmp_outs_2['corrected state'] = tmp_outs_2['predicted state']\n",
    "    tmp_outs_2['corrected logwt'] = tmp_outs_2['predicted logwt']\n",
    "    tmp_outs_2['corrected cov'] = tmp_outs_2['predicted cov']\n",
    "    \n",
    "    # Null corrected state and observation data\n",
    "    corrected_state = None\n",
    "    gnss_observation = None\n",
    "    gnss_observation_context = None\n",
    "    \n",
    "    new_vo_idx = imu_to_vo_idx(t)\n",
    "    if new_vo_idx > vo_idx:\n",
    "#         print(\"VO update: \", t)\n",
    "        vo_idx = new_vo_idx\n",
    "        \n",
    "        # VO does better at predicting low velocities\n",
    "        vo_val = np.linalg.norm(vo_data['vo'][vo_idx, :])/1.5              # VO velocity\n",
    "#         vo_val = gt_vel[imu_to_gt_idx(t), 1]           # Ground truth velocity\n",
    "        vo_observation = torch.zeros(1, 3)\n",
    "        vo_observation[0, 1] = vo_val\n",
    "#         if vo_val<3:\n",
    "#             test_filter.update_vo_std(1e-4)\n",
    "#         else:\n",
    "        test_filter.update_vo_std(1e-3)\n",
    "            \n",
    "        \n",
    "        \n",
    "        estimated_state = test_filter(controls=None, observations=vo_observation)\n",
    "        expected_observation, R = test_filter.measurement_model.kalman_filter_measurement_model(estimated_state)\n",
    "#         print(\"Vel: \", estimated_state[0, 7:10], expected_observation, vo_observation)\n",
    "        \n",
    "\n",
    "    new_dd_idx = imu_to_gnss_idx(t)\n",
    "    if new_dd_idx > dd_idx:\n",
    "#         print(\"GNSS update: \", t)\n",
    "        dd_idx = new_dd_idx\n",
    "\n",
    "        # Load GNSS observables\n",
    "        rover_code, base_code, rover_carr, base_carr, rover_cnos, satpos, idx_code_mask, idx_carr_mask = to_tensor(read_gnss_data(dd_data, dd_idx, 'mixed'))\n",
    "\n",
    "        # Load Integer hypotheses\n",
    "        ref, N_hypo_dict = None, None\n",
    "#         ref, N_hypo_dict = get_N_hypotheses(timestamp_t, ints_data)\n",
    "\n",
    "        gnss_observation, idx_code_mask, idx_carr_mask, ref = calc_gnss_observation(rover_code, base_code, rover_carr, base_carr, satpos, idx_code_mask, idx_carr_mask, ref=ref)\n",
    "        \n",
    "        if gnss_observation is not None:\n",
    "            \n",
    "            # Cycle slip detection\n",
    "            cs_data = mixed_data[dd_idx, :]\n",
    "        \n",
    "            # Dynamic covariances\n",
    "            cov_observation = calc_gnss_cov(rover_cnos, satpos, estimated_state[0, :3])\n",
    "            \n",
    "            cov_ambiguity = calc_ambiguity_cov(cs_data, idx_carr_mask)\n",
    "            \n",
    "            test_filter.update_ambiguity_cov(cov_ambiguity)\n",
    "#             visible_sats = sum(idx_code_mask)\n",
    "#             prange_std = 20.0/visible_sats\n",
    "#             carrier_std = 20.0/visible_sats if visible_sats<3 else 1.0/visible_sats\n",
    "            \n",
    "            # Update satellite and other context data in the measurement model\n",
    "            test_filter.update_sats(satpos, idx_code_mask, idx_carr_mask, ref, inter_const_bias=inter_const_bias, N_hypo_dict=N_hypo_dict, pf_std=(cov_observation*jitter_measurement, cov_observation*jitter_measurement, cov_observation*0.1*jitter_measurement), kf_std=(cov_observation, cov_observation, cov_observation*0.1))\n",
    "            gnss_observation_context = (satpos, idx_code_mask, idx_carr_mask, ref, inter_const_bias)\n",
    "\n",
    "            # Debug\n",
    "            tmp_state = torch.zeros(1, 10)\n",
    "            tmp_state[0, :3] = torch.tensor(gt_pos[imu_to_gt_idx(t), :])\n",
    "    #             expected_observation, R = test_filter.measurement_model.kalman_filter_measurement_model(tmp_state)\n",
    "\n",
    "    #             if N_hypo_dict is not None:\n",
    "    #                 print(expected_observation, gnss_observation)\n",
    "\n",
    "            # Update step\n",
    "            corrected_state = test_filter(observations=gnss_observation[None, :], controls=None)\n",
    "            \n",
    "            print(\"Current err: \", torch.norm(corrected_state[0, :3] - tmp_state[0, :3]))\n",
    "\n",
    "            tmp_outs_2 = test_filter.tmp_outs\n",
    "            \n",
    "    # Ensure no NaN's so far\n",
    "    assert not (torch.any(torch.isnan(estimated_states[t-T_start, :])))\n",
    "    \n",
    "#     recorded_data['controls'].append(controls)\n",
    "#     recorded_data['imu_observation'].append(imu_observation)\n",
    "#     recorded_data['gnss_observation'].append(gnss_observation)\n",
    "#     recorded_data['gnss_observation_context'].append(gnss_observation_context)\n",
    "    \n",
    "    return estimated_state, corrected_state, (prev_timestamp, dd_idx, vo_idx, recorded_data), (tmp_outs_1, tmp_outs_2, prev_timestamp)"
   ]
  },
  {
   "cell_type": "code",
   "execution_count": 222,
   "id": "aceb3930",
   "metadata": {
    "scrolled": true
   },
   "outputs": [
    {
     "data": {
      "application/vnd.jupyter.widget-view+json": {
       "model_id": "cab99c98a813472b9c5c3f6aeaf52a35",
       "version_major": 2,
       "version_minor": 0
      },
      "text/plain": [
       "  0%|          | 0/15979 [00:00<?, ?it/s]"
      ]
     },
     "metadata": {},
     "output_type": "display_data"
    },
    {
     "name": "stdout",
     "output_type": "stream",
     "text": [
      "Current err:  tensor(5.7373)\n",
      "GT idx:  31\n",
      "Current err:  tensor(6.1439)\n",
      "GT idx:  32\n",
      "Current err:  tensor(7.1730)\n",
      "GT idx:  33\n",
      "Current err:  tensor(9.9454)\n",
      "GT idx:  34\n",
      "Current err:  tensor(12.7340)\n",
      "GT idx:  35\n",
      "Current err:  tensor(13.3982)\n",
      "GT idx:  36\n",
      "Current err:  tensor(4.8514)\n",
      "GT idx:  37\n",
      "Current err:  tensor(3.4343)\n",
      "GT idx:  38\n",
      "Current err:  tensor(3.0352)\n",
      "GT idx:  39\n",
      "Current err:  tensor(2.9560)\n",
      "GT idx:  40\n",
      "Current err:  tensor(3.1309)\n",
      "GT idx:  41\n",
      "Current err:  tensor(3.4263)\n",
      "GT idx:  42\n",
      "Current err:  tensor(3.8171)\n",
      "GT idx:  43\n",
      "Current err:  tensor(4.2794)\n",
      "GT idx:  44\n",
      "Current err:  tensor(4.9980)\n",
      "GT idx:  45\n",
      "Current err:  tensor(5.5564)\n",
      "GT idx:  46\n",
      "Current err:  tensor(6.0479)\n",
      "GT idx:  47\n",
      "Current err:  tensor(6.7067)\n",
      "GT idx:  48\n",
      "Current err:  tensor(7.2599)\n",
      "GT idx:  49\n",
      "Current err:  tensor(7.7497)\n",
      "GT idx:  50\n",
      "Current err:  tensor(8.1785)\n",
      "GT idx:  51\n",
      "Current err:  tensor(8.4751)\n",
      "GT idx:  52\n",
      "Current err:  tensor(8.6934)\n",
      "GT idx:  53\n",
      "Current err:  tensor(8.8892)\n",
      "GT idx:  54\n",
      "Current err:  tensor(9.0466)\n",
      "GT idx:  55\n",
      "Current err:  tensor(9.1367)\n",
      "GT idx:  56\n",
      "Current err:  tensor(9.0780)\n",
      "GT idx:  57\n",
      "Current err:  tensor(9.0157)\n",
      "GT idx:  58\n",
      "Current err:  tensor(8.9508)\n",
      "GT idx:  59\n",
      "Current err:  tensor(8.7597)\n",
      "GT idx:  60\n",
      "Current err:  tensor(8.2828)\n",
      "GT idx:  61\n",
      "Current err:  tensor(7.8069)\n",
      "GT idx:  62\n",
      "Current err:  tensor(7.5141)\n",
      "GT idx:  63\n",
      "Current err:  tensor(7.1770)\n",
      "GT idx:  64\n",
      "Current err:  tensor(6.9217)\n",
      "GT idx:  65\n",
      "Current err:  tensor(6.5774)\n",
      "GT idx:  66\n",
      "Current err:  tensor(5.8390)\n",
      "GT idx:  67\n",
      "Current err:  tensor(5.4508)\n",
      "GT idx:  68\n",
      "Current err:  tensor(5.1737)\n",
      "GT idx:  69\n",
      "Current err:  tensor(4.8111)\n",
      "GT idx:  70\n",
      "Current err:  tensor(4.4782)\n",
      "GT idx:  71\n",
      "Current err:  tensor(4.3013)\n",
      "GT idx:  72\n",
      "Current err:  tensor(4.1030)\n",
      "GT idx:  73\n",
      "Current err:  tensor(3.6784)\n",
      "GT idx:  74\n",
      "Current err:  tensor(4.0284)\n",
      "GT idx:  75\n",
      "Current err:  tensor(3.6357)\n",
      "GT idx:  76\n",
      "Current err:  tensor(3.4525)\n",
      "GT idx:  77\n",
      "Current err:  tensor(3.0792)\n",
      "GT idx:  78\n",
      "Current err:  tensor(3.3279)\n",
      "GT idx:  79\n",
      "Current err:  tensor(3.5197)\n",
      "GT idx:  80\n",
      "Current err:  tensor(3.2299)\n",
      "GT idx:  81\n",
      "Current err:  tensor(3.4459)\n",
      "GT idx:  82\n",
      "Current err:  tensor(5.9257)\n",
      "GT idx:  83\n",
      "Current err:  tensor(10.4229)\n",
      "GT idx:  84\n",
      "Current err:  tensor(10.4718)\n",
      "GT idx:  101\n",
      "Current err:  tensor(9.6381)\n",
      "GT idx:  102\n",
      "Current err:  tensor(11.9499)\n",
      "GT idx:  103\n",
      "Current err:  tensor(12.4696)\n",
      "GT idx:  104\n",
      "Current err:  tensor(12.5259)\n",
      "GT idx:  105\n",
      "Current err:  tensor(14.6913)\n",
      "GT idx:  106\n",
      "Current err:  tensor(45.1413)\n",
      "GT idx:  131\n",
      "Current err:  tensor(41.3010)\n",
      "GT idx:  132\n",
      "Current err:  tensor(38.9587)\n",
      "GT idx:  138\n",
      "Current err:  tensor(21.8695)\n",
      "GT idx:  139\n",
      "Current err:  tensor(24.5518)\n",
      "GT idx:  140\n",
      "Current err:  tensor(30.6981)\n",
      "GT idx:  141\n",
      "Current err:  tensor(9.3078)\n",
      "GT idx:  142\n",
      "Current err:  tensor(6.4620)\n",
      "GT idx:  143\n",
      "Current err:  tensor(5.7428)\n",
      "GT idx:  144\n",
      "Current err:  tensor(5.4386)\n",
      "GT idx:  145\n",
      "Current err:  tensor(5.1428)\n",
      "GT idx:  146\n",
      "Current err:  tensor(4.8232)\n",
      "GT idx:  147\n",
      "Current err:  tensor(4.7437)\n",
      "GT idx:  148\n",
      "Current err:  tensor(4.6899)\n",
      "GT idx:  149\n",
      "Current err:  tensor(4.0278)\n",
      "GT idx:  150\n",
      "Current err:  tensor(3.9248)\n",
      "GT idx:  151\n",
      "Current err:  tensor(3.8640)\n",
      "GT idx:  152\n",
      "Current err:  tensor(3.6463)\n",
      "GT idx:  153\n",
      "Current err:  tensor(3.5590)\n",
      "GT idx:  154\n",
      "Current err:  tensor(3.5170)\n",
      "GT idx:  155\n",
      "Current err:  tensor(3.4689)\n",
      "GT idx:  156\n",
      "Current err:  tensor(3.4908)\n",
      "GT idx:  157\n",
      "Current err:  tensor(4.1411)\n",
      "GT idx:  158\n",
      "Current err:  tensor(4.0452)\n",
      "GT idx:  159\n",
      "Current err:  tensor(4.0524)\n",
      "GT idx:  160\n",
      "Current err:  tensor(4.0398)\n",
      "GT idx:  161\n",
      "Current err:  tensor(3.9857)\n",
      "GT idx:  162\n",
      "Current err:  tensor(3.9631)\n",
      "GT idx:  163\n",
      "Current err:  tensor(3.9117)\n",
      "GT idx:  164\n",
      "Current err:  tensor(3.9058)\n",
      "GT idx:  165\n",
      "Current err:  tensor(3.5494)\n",
      "GT idx:  166\n",
      "Current err:  tensor(3.2795)\n",
      "GT idx:  167\n",
      "Current err:  tensor(3.1482)\n",
      "GT idx:  168\n",
      "Current err:  tensor(3.0511)\n",
      "GT idx:  169\n",
      "Current err:  tensor(2.9726)\n",
      "GT idx:  170\n",
      "Current err:  tensor(2.9771)\n",
      "GT idx:  171\n",
      "Current err:  tensor(2.9814)\n",
      "GT idx:  172\n",
      "Current err:  tensor(3.0174)\n",
      "GT idx:  173\n",
      "Current err:  tensor(3.0068)\n",
      "GT idx:  174\n",
      "Current err:  tensor(3.0273)\n",
      "GT idx:  175\n",
      "Current err:  tensor(3.0665)\n",
      "GT idx:  176\n",
      "Current err:  tensor(3.0842)\n",
      "GT idx:  177\n",
      "Current err:  tensor(3.0944)\n",
      "GT idx:  178\n",
      "Current err:  tensor(3.1262)\n",
      "GT idx:  179\n",
      "Current err:  tensor(3.1042)\n",
      "GT idx:  180\n",
      "Current err:  tensor(3.0850)\n",
      "GT idx:  181\n",
      "Current err:  tensor(3.0307)\n",
      "GT idx:  182\n",
      "Current err:  tensor(3.0040)\n",
      "GT idx:  183\n",
      "Current err:  tensor(2.9727)\n",
      "GT idx:  184\n",
      "Current err:  tensor(2.9168)\n",
      "GT idx:  185\n",
      "Current err:  tensor(2.8788)\n",
      "GT idx:  186\n",
      "Current err:  tensor(2.8472)\n",
      "GT idx:  187\n",
      "Current err:  tensor(2.8070)\n",
      "GT idx:  188\n",
      "Current err:  tensor(2.7407)\n",
      "GT idx:  189\n",
      "Current err:  tensor(2.6295)\n",
      "GT idx:  190\n",
      "Current err:  tensor(2.5433)\n",
      "GT idx:  191\n",
      "Current err:  tensor(2.4871)\n",
      "GT idx:  192\n",
      "Current err:  tensor(2.4670)\n",
      "GT idx:  193\n",
      "Current err:  tensor(2.1752)\n",
      "GT idx:  194\n",
      "Current err:  tensor(1.5598)\n",
      "GT idx:  195\n",
      "Current err:  tensor(1.5476)\n",
      "GT idx:  196\n",
      "Current err:  tensor(2.0346)\n",
      "GT idx:  197\n",
      "Current err:  tensor(2.2520)\n",
      "GT idx:  198\n",
      "Current err:  tensor(1.3627)\n",
      "GT idx:  199\n",
      "Current err:  tensor(1.3801)\n",
      "GT idx:  200\n",
      "Current err:  tensor(1.6210)\n",
      "GT idx:  201\n",
      "Current err:  tensor(1.6283)\n",
      "GT idx:  202\n",
      "Current err:  tensor(1.7334)\n",
      "GT idx:  203\n",
      "Current err:  tensor(1.5376)\n",
      "GT idx:  204\n",
      "Current err:  tensor(1.0557)\n",
      "GT idx:  205\n",
      "Current err:  tensor(6.3573)\n",
      "GT idx:  206\n",
      "Current err:  tensor(3.7718)\n",
      "GT idx:  207\n",
      "Current err:  tensor(0.7509)\n",
      "GT idx:  208\n",
      "Current err:  tensor(1.1889)\n",
      "GT idx:  209\n",
      "Current err:  tensor(2.0050)\n",
      "GT idx:  210\n",
      "Current err:  tensor(2.6086)\n",
      "GT idx:  211\n",
      "Current err:  tensor(2.9770)\n",
      "GT idx:  212\n",
      "Current err:  tensor(2.8304)\n",
      "GT idx:  213\n",
      "Current err:  tensor(2.9721)\n",
      "GT idx:  214\n",
      "Current err:  tensor(3.0390)\n",
      "GT idx:  215\n",
      "Current err:  tensor(3.0307)\n",
      "GT idx:  216\n",
      "Current err:  tensor(2.9153)\n",
      "GT idx:  217\n",
      "Current err:  tensor(2.5737)\n",
      "GT idx:  218\n",
      "Current err:  tensor(2.4372)\n",
      "GT idx:  219\n",
      "Current err:  tensor(2.6016)\n",
      "GT idx:  220\n",
      "Current err:  tensor(4.6968)\n",
      "GT idx:  223\n",
      "Current err:  tensor(5.3613)\n",
      "GT idx:  226\n",
      "Current err:  tensor(6.4770)\n",
      "GT idx:  227\n",
      "Current err:  tensor(5.2288)\n",
      "GT idx:  228\n",
      "Current err:  tensor(6.2946)\n",
      "GT idx:  231\n",
      "Current err:  tensor(8.1085)\n",
      "GT idx:  233\n",
      "Current err:  tensor(9.8826)\n",
      "GT idx:  234\n",
      "Current err:  tensor(11.3074)\n",
      "GT idx:  235\n",
      "Current err:  tensor(4.1881)\n",
      "GT idx:  236\n",
      "Current err:  tensor(5.7690)\n",
      "GT idx:  237\n",
      "Current err:  tensor(4.9142)\n",
      "GT idx:  238\n",
      "Current err:  tensor(3.9329)\n",
      "GT idx:  239\n",
      "Current err:  tensor(3.1220)\n",
      "GT idx:  240\n",
      "Current err:  tensor(3.0535)\n",
      "GT idx:  241\n",
      "Current err:  tensor(3.1526)\n",
      "GT idx:  242\n",
      "Current err:  tensor(3.3512)\n",
      "GT idx:  243\n",
      "Current err:  tensor(3.5238)\n",
      "GT idx:  244\n",
      "Current err:  tensor(3.6961)\n",
      "GT idx:  245\n",
      "Current err:  tensor(4.0552)\n",
      "GT idx:  246\n",
      "Current err:  tensor(4.4032)\n",
      "GT idx:  247\n",
      "Current err:  tensor(4.6202)\n",
      "GT idx:  248\n",
      "Current err:  tensor(4.9493)\n",
      "GT idx:  249\n",
      "Current err:  tensor(5.2090)\n",
      "GT idx:  250\n",
      "Current err:  tensor(5.2197)\n",
      "GT idx:  251\n",
      "Current err:  tensor(5.1984)\n",
      "GT idx:  252\n",
      "Current err:  tensor(5.1742)\n",
      "GT idx:  253\n",
      "Current err:  tensor(5.1161)\n",
      "GT idx:  254\n",
      "Current err:  tensor(5.1822)\n",
      "GT idx:  255\n",
      "Current err:  tensor(5.2716)\n",
      "GT idx:  256\n",
      "Current err:  tensor(5.3476)\n",
      "GT idx:  257\n",
      "Current err:  tensor(5.4668)\n",
      "GT idx:  258\n",
      "Current err:  tensor(5.5798)\n",
      "GT idx:  259\n",
      "Current err:  tensor(5.7013)\n",
      "GT idx:  260\n",
      "Current err:  tensor(5.8671)\n",
      "GT idx:  261\n",
      "Current err:  tensor(6.0188)\n",
      "GT idx:  262\n",
      "Current err:  tensor(6.1083)\n",
      "GT idx:  263\n",
      "Current err:  tensor(6.1527)\n",
      "GT idx:  264\n",
      "Current err:  tensor(6.2327)\n",
      "GT idx:  265\n",
      "Current err:  tensor(6.3454)\n",
      "GT idx:  266\n",
      "Current err:  tensor(6.2950)\n",
      "GT idx:  267\n",
      "Current err:  tensor(6.6101)\n",
      "GT idx:  268\n",
      "Current err:  tensor(6.7376)\n",
      "GT idx:  269\n",
      "Current err:  tensor(6.9004)\n",
      "GT idx:  270\n",
      "Current err:  tensor(7.2061)\n",
      "GT idx:  271\n",
      "Current err:  tensor(6.8373)\n",
      "GT idx:  272\n",
      "Current err:  tensor(6.8204)\n",
      "GT idx:  273\n",
      "Current err:  tensor(6.9347)\n",
      "GT idx:  274\n",
      "Current err:  tensor(7.7004)\n",
      "GT idx:  275\n",
      "Current err:  tensor(7.9345)\n",
      "GT idx:  276\n",
      "Current err:  tensor(12.6164)\n",
      "GT idx:  277\n",
      "Current err:  tensor(8.3423)\n",
      "GT idx:  279\n"
     ]
    },
    {
     "name": "stdout",
     "output_type": "stream",
     "text": [
      "Current err:  tensor(7.6917)\n",
      "GT idx:  280\n",
      "Current err:  tensor(8.4211)\n",
      "GT idx:  281\n",
      "Current err:  tensor(9.1298)\n",
      "GT idx:  282\n",
      "Current err:  tensor(8.4027)\n",
      "GT idx:  283\n",
      "Current err:  tensor(8.0547)\n",
      "GT idx:  284\n",
      "Current err:  tensor(8.4214)\n",
      "GT idx:  285\n",
      "Current err:  tensor(9.3970)\n",
      "GT idx:  286\n",
      "Current err:  tensor(15.7862)\n",
      "GT idx:  290\n",
      "Current err:  tensor(14.5004)\n",
      "GT idx:  291\n",
      "Current err:  tensor(17.6144)\n",
      "GT idx:  292\n",
      "Current err:  tensor(22.3848)\n",
      "GT idx:  293\n",
      "Current err:  tensor(14.7603)\n",
      "GT idx:  294\n",
      "Current err:  tensor(15.9651)\n",
      "GT idx:  295\n",
      "Current err:  tensor(8.9797)\n",
      "GT idx:  296\n",
      "Current err:  tensor(9.2017)\n",
      "GT idx:  297\n",
      "Current err:  tensor(10.8746)\n",
      "GT idx:  298\n",
      "Current err:  tensor(8.5948)\n",
      "GT idx:  299\n",
      "Current err:  tensor(8.5986)\n",
      "GT idx:  300\n",
      "Current err:  tensor(9.0329)\n",
      "GT idx:  301\n",
      "Current err:  tensor(9.0261)\n",
      "GT idx:  302\n",
      "Current err:  tensor(8.9541)\n",
      "GT idx:  303\n",
      "Current err:  tensor(8.9015)\n",
      "GT idx:  304\n",
      "Current err:  tensor(8.8612)\n",
      "GT idx:  305\n",
      "Current err:  tensor(8.7799)\n",
      "GT idx:  306\n",
      "Current err:  tensor(8.7678)\n",
      "GT idx:  307\n",
      "Current err:  tensor(8.7690)\n",
      "GT idx:  308\n",
      "Current err:  tensor(8.8085)\n",
      "GT idx:  309\n",
      "Current err:  tensor(8.8439)\n",
      "GT idx:  310\n",
      "Current err:  tensor(8.8328)\n",
      "GT idx:  311\n",
      "Current err:  tensor(8.8509)\n",
      "GT idx:  312\n",
      "Current err:  tensor(8.8713)\n",
      "GT idx:  313\n",
      "Current err:  tensor(8.8774)\n",
      "GT idx:  314\n",
      "Current err:  tensor(8.8990)\n",
      "GT idx:  315\n",
      "Current err:  tensor(8.9702)\n",
      "GT idx:  316\n",
      "Current err:  tensor(8.9935)\n",
      "GT idx:  317\n",
      "Current err:  tensor(9.0736)\n",
      "GT idx:  318\n",
      "Current err:  tensor(9.1100)\n",
      "GT idx:  319\n",
      "Current err:  tensor(9.0716)\n",
      "GT idx:  320\n",
      "Current err:  tensor(8.9818)\n",
      "GT idx:  321\n",
      "Current err:  tensor(9.1045)\n",
      "GT idx:  322\n",
      "Current err:  tensor(9.7354)\n",
      "GT idx:  323\n",
      "Current err:  tensor(9.5897)\n",
      "GT idx:  324\n",
      "Current err:  tensor(9.3727)\n",
      "GT idx:  325\n",
      "Current err:  tensor(9.3645)\n",
      "GT idx:  326\n",
      "Current err:  tensor(9.2634)\n",
      "GT idx:  327\n",
      "Current err:  tensor(9.0576)\n",
      "GT idx:  328\n",
      "Current err:  tensor(8.9033)\n",
      "GT idx:  329\n",
      "Current err:  tensor(8.6712)\n",
      "GT idx:  330\n",
      "Current err:  tensor(8.6497)\n",
      "GT idx:  331\n",
      "Current err:  tensor(8.7302)\n",
      "GT idx:  332\n",
      "Current err:  tensor(8.6984)\n",
      "GT idx:  333\n",
      "Current err:  tensor(8.7264)\n",
      "GT idx:  334\n",
      "Current err:  tensor(8.8145)\n",
      "GT idx:  335\n",
      "Current err:  tensor(8.8355)\n",
      "GT idx:  336\n",
      "Current err:  tensor(8.9280)\n",
      "GT idx:  337\n",
      "Current err:  tensor(8.9970)\n",
      "GT idx:  338\n",
      "Current err:  tensor(9.0847)\n",
      "GT idx:  339\n",
      "Current err:  tensor(9.0341)\n",
      "GT idx:  340\n",
      "Current err:  tensor(8.9433)\n",
      "GT idx:  341\n",
      "Current err:  tensor(8.8018)\n",
      "GT idx:  342\n",
      "Current err:  tensor(8.7082)\n",
      "GT idx:  343\n",
      "Current err:  tensor(8.4362)\n",
      "GT idx:  344\n",
      "Current err:  tensor(8.0801)\n",
      "GT idx:  345\n",
      "Current err:  tensor(7.7067)\n",
      "GT idx:  346\n",
      "Current err:  tensor(8.2000)\n",
      "GT idx:  347\n",
      "Current err:  tensor(8.2605)\n",
      "GT idx:  348\n",
      "Current err:  tensor(8.3077)\n",
      "GT idx:  349\n",
      "Current err:  tensor(7.8776)\n",
      "GT idx:  350\n",
      "Current err:  tensor(8.3157)\n",
      "GT idx:  351\n",
      "Current err:  tensor(8.1278)\n",
      "GT idx:  352\n",
      "Current err:  tensor(9.9757)\n",
      "GT idx:  354\n",
      "Current err:  tensor(10.1009)\n",
      "GT idx:  355\n",
      "Current err:  tensor(10.5463)\n",
      "GT idx:  356\n",
      "Current err:  tensor(10.4622)\n",
      "GT idx:  357\n",
      "Current err:  tensor(10.1594)\n",
      "GT idx:  358\n",
      "Current err:  tensor(9.8356)\n",
      "GT idx:  359\n",
      "Current err:  tensor(9.1432)\n",
      "GT idx:  360\n",
      "Current err:  tensor(9.1443)\n",
      "GT idx:  361\n",
      "Current err:  tensor(11.4291)\n",
      "GT idx:  362\n",
      "Current err:  tensor(9.9343)\n",
      "GT idx:  363\n",
      "Current err:  tensor(9.8220)\n",
      "GT idx:  364\n",
      "Current err:  tensor(9.3096)\n",
      "GT idx:  365\n",
      "Current err:  tensor(8.9879)\n",
      "GT idx:  366\n",
      "Current err:  tensor(8.8349)\n",
      "GT idx:  367\n",
      "Current err:  tensor(8.6658)\n",
      "GT idx:  368\n",
      "Current err:  tensor(8.5873)\n",
      "GT idx:  369\n",
      "Current err:  tensor(8.5380)\n",
      "GT idx:  370\n",
      "Current err:  tensor(8.5424)\n",
      "GT idx:  371\n",
      "Current err:  tensor(8.5727)\n",
      "GT idx:  372\n",
      "Current err:  tensor(8.6025)\n",
      "GT idx:  373\n",
      "Current err:  tensor(8.6432)\n",
      "GT idx:  374\n",
      "Current err:  tensor(8.6716)\n",
      "GT idx:  375\n",
      "Current err:  tensor(8.6787)\n",
      "GT idx:  376\n",
      "Current err:  tensor(8.6734)\n",
      "GT idx:  377\n",
      "Current err:  tensor(8.6531)\n",
      "GT idx:  378\n",
      "Current err:  tensor(8.6304)\n",
      "GT idx:  379\n",
      "Current err:  tensor(8.5684)\n",
      "GT idx:  380\n",
      "Current err:  tensor(8.6130)\n",
      "GT idx:  381\n",
      "Current err:  tensor(8.6440)\n",
      "GT idx:  382\n",
      "Current err:  tensor(8.9767)\n",
      "GT idx:  383\n",
      "Current err:  tensor(9.6361)\n",
      "GT idx:  384\n",
      "Current err:  tensor(10.7299)\n",
      "GT idx:  385\n",
      "Current err:  tensor(18.1297)\n",
      "GT idx:  386\n",
      "Current err:  tensor(26.8407)\n",
      "GT idx:  387\n",
      "Current err:  tensor(34.7768)\n",
      "GT idx:  388\n",
      "Current err:  tensor(41.9413)\n",
      "GT idx:  389\n",
      "Current err:  tensor(29.8339)\n",
      "GT idx:  390\n",
      "Current err:  tensor(38.6308)\n",
      "GT idx:  391\n",
      "Current err:  tensor(47.5662)\n",
      "GT idx:  392\n",
      "Current err:  tensor(12.6026)\n",
      "GT idx:  393\n",
      "Current err:  tensor(11.5162)\n",
      "GT idx:  394\n",
      "Current err:  tensor(13.2447)\n",
      "GT idx:  395\n",
      "Current err:  tensor(13.3242)\n",
      "GT idx:  396\n",
      "Current err:  tensor(12.9923)\n",
      "GT idx:  397\n",
      "Current err:  tensor(13.2133)\n",
      "GT idx:  398\n",
      "Current err:  tensor(14.0732)\n",
      "GT idx:  399\n"
     ]
    }
   ],
   "source": [
    "tmp_outs = []\n",
    "sync_gt = []\n",
    "\n",
    "prev_gt_idx = -1\n",
    "\n",
    "with torch.no_grad():\n",
    "    for t in tqdm(range(T_start, T, IMU_rate_div)):\n",
    "        estimated_state, corrected_state, context, _tmp_outs = run_timestep(t, context)\n",
    "        if imu_to_gt_idx(t) != prev_gt_idx:\n",
    "            prev_gt_idx = imu_to_gt_idx(t)\n",
    "            tmp_outs.append(_tmp_outs)\n",
    "            sync_gt.append(torch.tensor(gt_pos[prev_gt_idx, :]))\n",
    "        \n",
    "        if corrected_state is None:\n",
    "            estimated_states[t, :] = estimated_state\n",
    "        else:\n",
    "            estimated_states[t, :] = corrected_state\n",
    "            print(\"GT idx: \", prev_gt_idx)\n",
    "#             # Update filter parameters\n",
    "#             with torch.enable_grad():\n",
    "                \n",
    "#                 dynamics_objective = nll_objective(corrected_state.detach(), , torch.diagonal(Q, dim1=-2, dim2=-1)[:, :3])"
   ]
  },
  {
   "cell_type": "code",
   "execution_count": 223,
   "id": "4b6f8d7d",
   "metadata": {},
   "outputs": [
    {
     "name": "stdout",
     "output_type": "stream",
     "text": [
      "1621218806.0234077\n"
     ]
    },
    {
     "data": {
      "image/png": "[encoded data removed]",
      "text/plain": [
       "<Figure size 432x288 with 1 Axes>"
      ]
     },
     "metadata": {
      "needs_background": "light"
     },
     "output_type": "display_data"
    },
    {
     "data": {
      "image/png": "[encoded data removed]",
      "text/plain": [
       "<Figure size 432x288 with 1 Axes>"
      ]
     },
     "metadata": {
      "needs_background": "light"
     },
     "output_type": "display_data"
    },
    {
     "data": {
      "image/png": "[encoded data removed]",
      "text/plain": [
       "<Figure size 432x288 with 1 Axes>"
      ]
     },
     "metadata": {
      "needs_background": "light"
     },
     "output_type": "display_data"
    },
    {
     "data": {
      "image/png": "[encoded data removed]",
      "text/plain": [
       "<Figure size 432x288 with 1 Axes>"
      ]
     },
     "metadata": {
      "needs_background": "light"
     },
     "output_type": "display_data"
    }
   ],
   "source": [
    "timestep = 31\n",
    "\n",
    "print(tmp_outs[timestep][2])\n",
    "\n",
    "get_error = lambda x, timestep: torch.norm(x[0, :, :3] - sync_gt[timestep], dim=-1) \n",
    "\n",
    "# Initial -> Predict\n",
    "plt.hist(get_error(tmp_outs[timestep][0]['initial states'], timestep).numpy(), color='r', alpha=0.5, label='initial errors')\n",
    "plt.hist(get_error(tmp_outs[timestep][0]['predicted state'], timestep).numpy(), color='g', alpha=0.5, label='predict errors')\n",
    "plt.legend()\n",
    "plt.show()\n",
    "\n",
    "plt.bar(get_error(tmp_outs[timestep][0]['initial states'], timestep).numpy(), torch.exp(tmp_outs[timestep][0]['initial logwt'][0, :]).numpy(), width=0.3, color='r', alpha=0.3, label='initial weights')\n",
    "plt.bar(get_error(tmp_outs[timestep][0]['predicted state'], timestep).numpy(), torch.exp(tmp_outs[timestep][0]['predicted logwt'][0, :]).numpy(), width=0.3, color='g', alpha=0.3, label='predicted weights')\n",
    "plt.legend()\n",
    "plt.show()\n",
    "\n",
    "# Predict -> Update\n",
    "if tmp_outs[timestep][1] is not None:\n",
    "    plt.hist(get_error(tmp_outs[timestep][1]['initial states'], timestep).numpy(), color='g', alpha=0.5, label='predict errors')\n",
    "    plt.hist(get_error(tmp_outs[timestep][1]['corrected state'], timestep).numpy(), color='b', alpha=0.5, label='correct errors')\n",
    "    plt.legend()\n",
    "    plt.show()\n",
    "    \n",
    "    plt.bar(get_error(tmp_outs[timestep][1]['initial states'], timestep).numpy(), torch.exp(tmp_outs[timestep][1]['initial logwt'][0, :]).numpy(), width=0.3, color='g', alpha=0.3, label='predicted weights')\n",
    "    plt.bar(get_error(tmp_outs[timestep][1]['corrected state'], timestep).numpy(), torch.exp(tmp_outs[timestep][1]['corrected logwt'][0, :]).numpy(), width=0.3, color='b', alpha=0.3, label='corrected weights')\n",
    "    plt.legend()\n",
    "    plt.show()"
   ]
  },
  {
   "cell_type": "code",
   "execution_count": 224,
   "id": "c6d375e4",
   "metadata": {},
   "outputs": [
    {
     "data": {
      "text/plain": [
       "<matplotlib.legend.Legend at 0x7f75beef2f70>"
      ]
     },
     "execution_count": 224,
     "metadata": {},
     "output_type": "execute_result"
    },
    {
     "data": {
      "image/png": "[encoded data removed]",
      "text/plain": [
       "<Figure size 432x288 with 1 Axes>"
      ]
     },
     "metadata": {
      "needs_background": "light"
     },
     "output_type": "display_data"
    }
   ],
   "source": [
    "tmax = t-1\n",
    "\n",
    "state_range = range(T_start, tmax, IMU_rate_div)\n",
    "num_elem = len(state_range)\n",
    "\n",
    "lower_gt = imu_to_gt_idx(T_start)\n",
    "upper_gt = imu_to_gt_idx(tmax)\n",
    "\n",
    "gt_len = upper_gt-lower_gt\n",
    "\n",
    "states = estimated_states.detach()\n",
    "plt.plot(np.linspace(1, gt_len, num=num_elem), states[state_range, 0], \"r\", label=\"estimated_x\")\n",
    "plt.plot(np.linspace(1, gt_len, num=num_elem), states[state_range, 1], \"b\", label=\"estimated_y\")\n",
    "plt.plot(np.linspace(1, gt_len, num=num_elem), states[state_range, 2], \"g\", label=\"estimated_z\")\n",
    "\n",
    "plt.plot(np.linspace(1, gt_len, num=gt_len), gt_pos[lower_gt:upper_gt, 0], \"r--\", label=\"gt_x\")\n",
    "plt.plot(np.linspace(1, gt_len, num=gt_len), gt_pos[lower_gt:upper_gt, 1], \"b--\", label=\"gt_y\")\n",
    "plt.plot(np.linspace(1, gt_len, num=gt_len), gt_pos[lower_gt:upper_gt, 2], \"g--\", label=\"gt_z\")\n",
    "\n",
    "# plt.plot(gt_pos[lower_t_s-root_t_s:, 0], \"r--\", label=\"gt_x\")\n",
    "# plt.plot(gt_pos[lower_t_s-root_t_s:, 1], \"b--\", label=\"gt_y\")\n",
    "# plt.plot(gt_pos[lower_t_s-root_t_s:, 2], \"g--\", label=\"gt_z\")\n",
    "\n",
    "plt.legend()"
   ]
  },
  {
   "cell_type": "code",
   "execution_count": 225,
   "id": "18c23e7d",
   "metadata": {},
   "outputs": [
    {
     "data": {
      "text/plain": [
       "[<matplotlib.lines.Line2D at 0x7f75bf0714c0>]"
      ]
     },
     "execution_count": 225,
     "metadata": {},
     "output_type": "execute_result"
    },
    {
     "data": {
      "image/png": "[encoded data removed]",
      "text/plain": [
       "<Figure size 432x288 with 1 Axes>"
      ]
     },
     "metadata": {
      "needs_background": "light"
     },
     "output_type": "display_data"
    }
   ],
   "source": [
    "state_range = range(T_start, tmax, 400)\n",
    "gt_range = [imu_to_gt_idx(t) for t in state_range]\n",
    "\n",
    "tracking_error = torch.norm(states[state_range, :2] - gt_pos[gt_range, :2], dim=1)\n",
    "plt.plot(tracking_error)\n",
    "# plt.ylim((0, 2))"
   ]
  },
  {
   "cell_type": "code",
   "execution_count": 226,
   "id": "7d850455",
   "metadata": {},
   "outputs": [
    {
     "data": {
      "text/plain": [
       "tensor(9.2924, dtype=torch.float64)"
      ]
     },
     "execution_count": 226,
     "metadata": {},
     "output_type": "execute_result"
    }
   ],
   "source": [
    "torch.mean(tracking_error)"
   ]
  },
  {
   "cell_type": "code",
   "execution_count": 529,
   "id": "bfccf1c1",
   "metadata": {},
   "outputs": [
    {
     "data": {
      "text/plain": [
       "tensor([[-2.6204, -2.9803, -2.9535, -3.0314, -3.1245, -3.0062, -2.9315, -2.9579,\n",
       "         -2.8580, -3.5544, -2.9630, -3.2153, -2.8419, -2.8718, -2.9522, -3.4906,\n",
       "         -3.1208, -2.9055, -2.9558, -2.9746]])"
      ]
     },
     "execution_count": 529,
     "metadata": {},
     "output_type": "execute_result"
    }
   ],
   "source": [
    "test_filter.particle_log_weights"
   ]
  },
  {
   "cell_type": "code",
   "execution_count": 532,
   "id": "8d4ec6e0",
   "metadata": {
    "scrolled": true
   },
   "outputs": [
    {
     "data": {
      "text/plain": [
       "(tensor([[ -3.7602, -10.0149,   0.7574],\n",
       "         [ -2.1490, -13.6567,   4.3466],\n",
       "         [ -3.9965, -14.8795,   4.2408],\n",
       "         [ -4.2462, -13.0363,   2.5249],\n",
       "         [ -4.8837, -10.9676,   2.1322],\n",
       "         [ -4.1375, -12.0028,   1.9055],\n",
       "         [ -4.4640, -10.6087,   1.3913],\n",
       "         [ -3.3351, -10.6943,   2.1355],\n",
       "         [ -3.3593, -12.0124,   2.4433],\n",
       "         [ -6.4332,  -9.8007,  -0.2426],\n",
       "         [ -5.6419, -10.3134,   2.0603],\n",
       "         [ -4.2642, -13.1017,   2.7025],\n",
       "         [ -4.1685, -13.4230,   2.2401],\n",
       "         [ -5.3640, -11.1050,   0.9993],\n",
       "         [ -4.4026,  -9.6707,   0.6407],\n",
       "         [ -2.9898,  -9.4507,   0.0561],\n",
       "         [ -4.4787,  -9.3779,  -0.2631],\n",
       "         [ -4.4537, -10.7572,   1.8295],\n",
       "         [ -3.1819, -11.4238,   1.7459],\n",
       "         [ -5.7400, -11.4670,   1.7845]]),\n",
       " tensor([ -4.2339, -11.4396,   1.8330]))"
      ]
     },
     "execution_count": 532,
     "metadata": {},
     "output_type": "execute_result"
    }
   ],
   "source": [
    "test_filter.particle_states[0, :, :3], torch.sum(\n",
    "                torch.exp(test_filter.particle_log_weights[:, :, np.newaxis])\n",
    "                * test_filter.particle_states,\n",
    "                dim=1,\n",
    "            )[0, :3]"
   ]
  },
  {
   "cell_type": "code",
   "execution_count": 533,
   "id": "affcff8d",
   "metadata": {},
   "outputs": [
    {
     "data": {
      "text/plain": [
       "<matplotlib.colorbar.Colorbar at 0x7f94161e2fa0>"
      ]
     },
     "execution_count": 533,
     "metadata": {},
     "output_type": "execute_result"
    },
    {
     "data": {
      "image/png": "[encoded data removed]",
      "text/plain": [
       "<Figure size 432x288 with 2 Axes>"
      ]
     },
     "metadata": {
      "needs_background": "light"
     },
     "output_type": "display_data"
    }
   ],
   "source": [
    "plt.imshow(test_filter.ekf._belief_covariance[0, :, :])\n",
    "# plt.imshow(test_filter._belief_covariance[0, :, :])\n",
    "plt.colorbar()\n",
    "# torch.linalg.cond(test_filter.ekf._belief_covariance[0, :3, :3])\n"
   ]
  },
  {
   "cell_type": "code",
   "execution_count": 534,
   "id": "3c9f478d",
   "metadata": {},
   "outputs": [],
   "source": [
    "state_or_eul = np.stack(list(quaternion_to_euler_angle_vectorized(states[state_range, 3], -states[state_range, 4], -states[state_range, 5], -states[state_range, 6])), -1)"
   ]
  },
  {
   "cell_type": "code",
   "execution_count": 535,
   "id": "b307620c",
   "metadata": {},
   "outputs": [
    {
     "data": {
      "text/plain": [
       "[<matplotlib.lines.Line2D at 0x7f9415807760>]"
      ]
     },
     "execution_count": 535,
     "metadata": {},
     "output_type": "execute_result"
    },
    {
     "data": {
      "image/png": "[encoded data removed]",
      "text/plain": [
       "<Figure size 432x288 with 1 Axes>"
      ]
     },
     "metadata": {
      "needs_background": "light"
     },
     "output_type": "display_data"
    }
   ],
   "source": [
    "viz_block = range(0, len(state_or_eul))\n",
    "plt.plot(state_or_eul[viz_block, 0])\n",
    "plt.plot(state_or_eul[viz_block, 1])\n",
    "plt.plot(state_or_eul[viz_block, 2])"
   ]
  },
  {
   "cell_type": "code",
   "execution_count": 536,
   "id": "bba73bc7",
   "metadata": {},
   "outputs": [
    {
     "data": {
      "text/plain": [
       "[<matplotlib.lines.Line2D at 0x7f9416b68520>]"
      ]
     },
     "execution_count": 536,
     "metadata": {},
     "output_type": "execute_result"
    },
    {
     "data": {
      "image/png": "[encoded data removed]",
      "text/plain": [
       "<Figure size 432x288 with 1 Axes>"
      ]
     },
     "metadata": {
      "needs_background": "light"
     },
     "output_type": "display_data"
    }
   ],
   "source": [
    "plt.plot(gt_rot[gt_range, 0])\n",
    "plt.plot(gt_rot[gt_range, 1])\n",
    "plt.plot(-gt_rot[gt_range, 2])"
   ]
  },
  {
   "cell_type": "code",
   "execution_count": 537,
   "id": "a9f7d3a3",
   "metadata": {},
   "outputs": [
    {
     "data": {
      "text/plain": [
       "[<matplotlib.lines.Line2D at 0x7f94154a41f0>]"
      ]
     },
     "execution_count": 537,
     "metadata": {},
     "output_type": "execute_result"
    },
    {
     "data": {
      "image/png": "[encoded data removed]",
      "text/plain": [
       "<Figure size 432x288 with 1 Axes>"
      ]
     },
     "metadata": {
      "needs_background": "light"
     },
     "output_type": "display_data"
    }
   ],
   "source": [
    "state_vel = states[state_range, 7:10].numpy()\n",
    "\n",
    "viz_block_kHz = range(0, len(state_vel))\n",
    "plt.plot(np.linspace(0, 100, num=len(viz_block_kHz)), state_vel[viz_block_kHz, 0])\n",
    "plt.plot(np.linspace(0, 100, num=len(viz_block_kHz)), state_vel[viz_block_kHz, 1])\n",
    "plt.plot(np.linspace(0, 100, num=len(viz_block_kHz)), state_vel[viz_block_kHz, 2])"
   ]
  },
  {
   "cell_type": "code",
   "execution_count": 538,
   "id": "79cbd99a",
   "metadata": {},
   "outputs": [
    {
     "data": {
      "text/plain": [
       "[<matplotlib.lines.Line2D at 0x7f94153c66a0>]"
      ]
     },
     "execution_count": 538,
     "metadata": {},
     "output_type": "execute_result"
    },
    {
     "data": {
      "image/png": "[encoded data removed]",
      "text/plain": [
       "<Figure size 432x288 with 1 Axes>"
      ]
     },
     "metadata": {
      "needs_background": "light"
     },
     "output_type": "display_data"
    }
   ],
   "source": [
    "plt.plot(np.ediff1d(gt_pos[gt_range, 0]))\n",
    "plt.plot(np.ediff1d(gt_pos[gt_range, 1]))\n",
    "plt.plot(np.ediff1d(gt_pos[gt_range, 2]))"
   ]
  },
  {
   "cell_type": "code",
   "execution_count": 539,
   "id": "68eba5f7",
   "metadata": {
    "scrolled": true
   },
   "outputs": [
    {
     "data": {
      "application/vnd.jupyter.widget-view+json": {
       "model_id": "39d47b2019ef4eb9bb0ab51199f44cda",
       "version_major": 2,
       "version_minor": 0
      },
      "text/plain": [
       "  0%|          | 0/63 [00:00<?, ?it/s]"
      ]
     },
     "metadata": {},
     "output_type": "display_data"
    },
    {
     "data": {
      "image/png": "[encoded data removed]",
      "text/plain": [
       "<Figure size 432x288 with 1 Axes>"
      ]
     },
     "metadata": {
      "needs_background": "light"
     },
     "output_type": "display_data"
    }
   ],
   "source": [
    "for i in tqdm(range(10, 10+31+32)):\n",
    "    plt.scatter(range(len(state_range)), states[state_range, i].numpy(), s=1)"
   ]
  },
  {
   "cell_type": "code",
   "execution_count": 237,
   "id": "87da164a",
   "metadata": {},
   "outputs": [
    {
     "data": {
      "text/plain": [
       "[<matplotlib.lines.Line2D at 0x7f75beeffa30>]"
      ]
     },
     "execution_count": 237,
     "metadata": {},
     "output_type": "execute_result"
    },
    {
     "data": {
      "image/png": "[encoded data removed]",
      "text/plain": [
       "<Figure size 432x288 with 1 Axes>"
      ]
     },
     "metadata": {
      "needs_background": "light"
     },
     "output_type": "display_data"
    }
   ],
   "source": [
    "plt.scatter(states[state_range, 0], states[state_range, 1], s=5)\n",
    "plt.plot(gt_pos[gt_range, 0], gt_pos[gt_range, 1], \"r--\")"
   ]
  },
  {
   "cell_type": "code",
   "execution_count": 118,
   "id": "55772253",
   "metadata": {},
   "outputs": [
    {
     "data": {
      "text/plain": [
       "(400, 20)"
      ]
     },
     "execution_count": 118,
     "metadata": {},
     "output_type": "execute_result"
    }
   ],
   "source": [
    "save_data['weights'].shape"
   ]
  },
  {
   "cell_type": "code",
   "execution_count": 236,
   "id": "dd736f38",
   "metadata": {},
   "outputs": [
    {
     "data": {
      "application/vnd.jupyter.widget-view+json": {
       "model_id": "631f9c411e33424ba12318b6ad13abe8",
       "version_major": 2,
       "version_minor": 0
      },
      "text/plain": [
       "  0%|          | 0/400 [00:00<?, ?it/s]"
      ]
     },
     "metadata": {},
     "output_type": "display_data"
    },
    {
     "data": {
      "application/vnd.jupyter.widget-view+json": {
       "model_id": "90f110bb68ca4f2591eeef370d36b845",
       "version_major": 2,
       "version_minor": 0
      },
      "text/plain": [
       "  0%|          | 0/400 [00:00<?, ?it/s]"
      ]
     },
     "metadata": {},
     "output_type": "display_data"
    },
    {
     "data": {
      "application/vnd.jupyter.widget-view+json": {
       "model_id": "bbeb855f90d04390a69c9df1fc78d62c",
       "version_major": 2,
       "version_minor": 0
      },
      "text/plain": [
       "  0%|          | 0/400 [00:00<?, ?it/s]"
      ]
     },
     "metadata": {},
     "output_type": "display_data"
    },
    {
     "data": {
      "application/vnd.jupyter.widget-view+json": {
       "model_id": "b326d8b30edb4d7da0f99af380846870",
       "version_major": 2,
       "version_minor": 0
      },
      "text/plain": [
       "  0%|          | 0/400 [00:00<?, ?it/s]"
      ]
     },
     "metadata": {},
     "output_type": "display_data"
    },
    {
     "data": {
      "application/vnd.jupyter.widget-view+json": {
       "model_id": "d7799224bf82464e964a148b19008031",
       "version_major": 2,
       "version_minor": 0
      },
      "text/plain": [
       "  0%|          | 0/400 [00:00<?, ?it/s]"
      ]
     },
     "metadata": {},
     "output_type": "display_data"
    }
   ],
   "source": [
    "save_data = {\n",
    "    'states': np.array([tmp_outs[timestep][1]['corrected state'][0].numpy() for timestep in tqdm(range(len(tmp_outs)))]),\n",
    "    'weights': np.array([torch.exp(tmp_outs[timestep][1]['corrected logwt'][0]).numpy() for timestep in tqdm(range(len(tmp_outs)))]),\n",
    "    'cov': np.array([tmp_outs[timestep][1]['corrected cov'].numpy() for timestep in tqdm(range(len(tmp_outs)))]),\n",
    "    'UTCtime': np.array([tmp_outs[timestep][2] for timestep in tqdm(range(len(tmp_outs)))]),\n",
    "    'gt': np.array([sync_gt[timestep].numpy() for timestep in tqdm(range(len(tmp_outs)))]),\n",
    "}\n",
    "np.save(os.path.abspath('/oak/stanford/groups/gracegao/HKdataset/data_06_22_22/Filter_data/rbpf_det_20p_9_4_1210_loop1.npy'), save_data)\n",
    "# np.save(os.path.abspath('/oak/stanford/groups/gracegao/HKdataset/data_06_22_22/Filter_data/ekf_9_4_1130_loop1.npy'), save_data)"
   ]
  },
  {
   "cell_type": "code",
   "execution_count": 396,
   "id": "12720431",
   "metadata": {},
   "outputs": [
    {
     "data": {
      "application/vnd.jupyter.widget-view+json": {
       "model_id": "ce008b8cfe51406ba503eddadb37fe76",
       "version_major": 2,
       "version_minor": 0
      },
      "text/plain": [
       "  0%|          | 0/312 [00:00<?, ?it/s]"
      ]
     },
     "metadata": {},
     "output_type": "display_data"
    },
    {
     "data": {
      "application/vnd.jupyter.widget-view+json": {
       "model_id": "0a213e80eae94fbbb9d8f44aebe7ad96",
       "version_major": 2,
       "version_minor": 0
      },
      "text/plain": [
       "  0%|          | 0/312 [00:00<?, ?it/s]"
      ]
     },
     "metadata": {},
     "output_type": "display_data"
    },
    {
     "data": {
      "application/vnd.jupyter.widget-view+json": {
       "model_id": "8da8388a218f435486cd45b9670e2edf",
       "version_major": 2,
       "version_minor": 0
      },
      "text/plain": [
       "  0%|          | 0/312 [00:00<?, ?it/s]"
      ]
     },
     "metadata": {},
     "output_type": "display_data"
    },
    {
     "data": {
      "application/vnd.jupyter.widget-view+json": {
       "model_id": "11de0042492f4e93abc2fa0710e0b2c2",
       "version_major": 2,
       "version_minor": 0
      },
      "text/plain": [
       "  0%|          | 0/312 [00:00<?, ?it/s]"
      ]
     },
     "metadata": {},
     "output_type": "display_data"
    },
    {
     "data": {
      "application/vnd.jupyter.widget-view+json": {
       "model_id": "927647df8c544dcba265a599e4d6c53c",
       "version_major": 2,
       "version_minor": 0
      },
      "text/plain": [
       "  0%|          | 0/312 [00:00<?, ?it/s]"
      ]
     },
     "metadata": {},
     "output_type": "display_data"
    }
   ],
   "source": [
    "# # with open(, 'wb') as f:\n",
    "    \n",
    "# save_data = {\n",
    "#     'states': np.array([tmp_outs[timestep][0]['predicted state'][0].numpy() for timestep in tqdm(range(len(tmp_outs)))]),\n",
    "#     'weights': np.array([torch.exp(tmp_outs[timestep][0]['predicted logwt'][0]).numpy() for timestep in tqdm(range(len(tmp_outs)))]),\n",
    "#     'cov': np.array([tmp_outs[timestep][0]['predicted cov'][0].numpy() for timestep in tqdm(range(len(tmp_outs)))]),\n",
    "#     'UTCtime': np.array([tmp_outs[timestep][2] for timestep in tqdm(range(len(tmp_outs)))]),\n",
    "#     'gt': np.array([sync_gt[timestep].numpy() for timestep in tqdm(range(len(tmp_outs)))]),\n",
    "# }\n",
    "# np.save(os.path.abspath('/oak/stanford/groups/gracegao/HKdataset/data_06_22_22/Filter_data/full_8_26_1830_1.npy'), save_data)"
   ]
  },
  {
   "cell_type": "code",
   "execution_count": 66,
   "id": "9fac4120",
   "metadata": {},
   "outputs": [],
   "source": [
    "save_data = np.load(os.path.abspath('/oak/stanford/groups/gracegao/HKdataset/data_06_22_22/Filter_data/full_8_17_1515_1.npy'), allow_pickle=True).item()"
   ]
  },
  {
   "cell_type": "code",
   "execution_count": 255,
   "id": "dd2bf293",
   "metadata": {},
   "outputs": [],
   "source": [
    "def compute_tau_bisection(epsilon, diff_xh_xi, weights, init_tau=30.0):\n",
    "    tau = init_tau\n",
    "    \n",
    "    for _ in range(20): \n",
    "        is_inside = diff_xh_xi < tau\n",
    "        filter_integral = torch.sum(weights[is_inside])\n",
    "        if filter_integral < 1 - epsilon:\n",
    "            tau = 3/2 * tau\n",
    "        else:\n",
    "            tau = 1/2 * tau\n",
    "            \n",
    "    return tau\n",
    "\n",
    "def compute_tau_empirical_sigma(epsilon, diff_xh_xi, weights):\n",
    "    sigma = torch.sqrt(torch.sum(weights * torch.square(diff_xh_xi))) + 1e-6\n",
    "    return torch.distributions.normal.Normal(loc=0.0, scale=sigma).icdf(torch.tensor(1-epsilon))\n",
    "\n",
    "def compute_tau_sigma(epsilon, var, weights):\n",
    "    sigma = torch.sqrt(torch.sum(weights * var)) + 1e-6\n",
    "    return torch.distributions.normal.Normal(loc=0.0, scale=sigma).icdf(torch.tensor(1-epsilon))\n",
    "\n",
    "def integrate_beliefs_1d(estimated_state, all_hypo_log_weights, all_hypo_states, all_hypo_cov, epsilon=0.01, dim=0):\n",
    "    if len(all_hypo_states.shape)==2:\n",
    "        all_hypo_states = all_hypo_states[None, :, :]\n",
    "        all_hypo_log_weights = all_hypo_log_weights[None, :]\n",
    "        all_hypo_cov = all_hypo_cov[None, :, :, :]\n",
    "    \n",
    "    num_hypo = all_hypo_log_weights.shape[0]\n",
    "    \n",
    "#     diff_xh_xi = torch.abs(estimated_state[dim] - all_hypo_states[:, :, dim])\n",
    "    all_hypo_tau = torch.tensor([compute_tau_sigma(epsilon, all_hypo_cov[0, i, dim, dim], 1.0) for i in range(all_hypo_states.shape[1])])\n",
    "    diff_xh_xi = torch.abs(estimated_state[dim] - all_hypo_states[:, :, dim]) + all_hypo_tau[None, :]\n",
    "#     diff_xh_xi = torch.abs(estimated_state[dim] - all_hypo_states[:, :, dim]) + torch.sqrt(all_hypo_cov[:, :, dim, dim])\n",
    "    \n",
    "    weights = torch.exp(all_hypo_log_weights)\n",
    "    \n",
    "#     diff_atau_xi = torch.abs(estimated_state[dim] + tau - all_hypo_states[:, :, dim])\n",
    "#     diff_btau_xi = torch.abs(estimated_state[dim] - tau - all_hypo_states[:, :, dim])\n",
    "    \n",
    "#     diff_ptau_xi = torch.maximum(diff_atau_xi, diff_btau_xi)\n",
    "#     diff_mtau_xi = torch.minimum(diff_atau_xi, diff_btau_xi)\n",
    "    \n",
    "    tau = compute_tau_empirical_sigma(epsilon, diff_xh_xi, weights)\n",
    "#     tau = compute_tau_sigma(epsilon, all_hypo_cov[:, :, dim, dim], weights)\n",
    "\n",
    "    #     sigma = 5.0 # all_hypo_cov[:, :, dim, dim]\n",
    "    #     integral_xh_xi = torch.erf(diff_xh_xi/sigma)\n",
    "    #     integral_ptau_xi = torch.erf(diff_ptau_xi/sigma)\n",
    "    #     integral_mtau_xi = torch.erf(diff_mtau_xi/sigma)\n",
    "\n",
    "    return tau\n",
    "    "
   ]
  },
  {
   "cell_type": "code",
   "execution_count": 256,
   "id": "89bd5bf6",
   "metadata": {},
   "outputs": [],
   "source": [
    "# plt.bar((torch.tensor(_init_particles[:, 0]) - estimated_state[0]).numpy(), _init_weights, alpha=0.3)"
   ]
  },
  {
   "cell_type": "code",
   "execution_count": 257,
   "id": "7f12eb45",
   "metadata": {},
   "outputs": [],
   "source": [
    "# for h in tqdm(range(all_hypo_states.shape[0])):\n",
    "#     plt.bar((all_hypo_states[h, :, 0] - estimated_state[0]).numpy(), torch.exp(all_hypo_log_weights[h, :]).numpy(), width=0.8, alpha=0.2)"
   ]
  },
  {
   "cell_type": "code",
   "execution_count": 258,
   "id": "15e36821",
   "metadata": {},
   "outputs": [],
   "source": [
    "# metric_times = []\n",
    "\n",
    "# T = len(save_data['UTCtime'])\n",
    "# gnss_times = dd_data['time_gt'].to_numpy()\n",
    "\n",
    "# i = 0\n",
    "# i_N = 1\n",
    "\n",
    "# for timestep in tqdm(range(i*int(T/i_N), (i+1)*int(T/i_N))):\n",
    "#     _utctime = save_data['UTCtime'][timestep]\n",
    "#     dd_tidx = np.argmin(np.abs(gnss_times - _utctime))\n",
    "#     if np.abs(gnss_times[dd_tidx]-_utctime) > 1/40:\n",
    "#         continue\n",
    "    \n",
    "#     # Load GNSS observables\n",
    "#     rover_code, base_code, rover_carr, base_carr, satpos, idx_code_mask, idx_carr_mask = to_tensor(read_gnss_data(dd_data, dd_tidx, 'mixed'))\n",
    "\n",
    "#     gnss_observation, idx_code_mask, idx_carr_mask, ref = calc_gnss_observation(rover_code, base_code, rover_carr, base_carr, satpos, idx_code_mask, idx_carr_mask, ref=None)\n",
    "\n",
    "#     if gnss_observation is None:\n",
    "#         continue\n",
    "    \n",
    "#     metric_times.append(gnss_times[dd_tidx])\n",
    "# # print(len(metric_times))\n",
    "# np.save('/home/users/shubhgup/Codes/KITTI360_Processing/TRI_KF/Filter_data/8_17_1000_times.npy', np.array(metric_times))"
   ]
  },
  {
   "cell_type": "code",
   "execution_count": 259,
   "id": "16dc0640",
   "metadata": {},
   "outputs": [],
   "source": [
    "def single_hypo_update(_init_particles, _init_cov, _init_weights, gnss_observation, satpos, idx_code_mask, idx_carr_mask, ref, inter_const_bias, N_hypo_dict=None):\n",
    "    M, state_dim = _init_particles.shape\n",
    "    obs_dim = len(gnss_observation)\n",
    "    \n",
    "    test_filter.update_sats(satpos, idx_code_mask, idx_carr_mask, ref, inter_const_bias=inter_const_bias, N_hypo_dict=N_hypo_dict)\n",
    "\n",
    "    # Run EKF correct\n",
    "    test_filter.ekf._belief_mean = torch.tensor(_init_particles)\n",
    "    test_filter.ekf._belief_covariance = torch.tensor(_init_cov)\n",
    "\n",
    "    ekf_correct_particles = test_filter.ekf(controls=None, observations=gnss_observation.expand(M, obs_dim))\n",
    "\n",
    "    _meas_log_weights = test_filter.measurement_model(\n",
    "                    states=ekf_correct_particles[None, :, :],\n",
    "                    observations=gnss_observation[None, :],\n",
    "                )\n",
    "\n",
    "    _update_log_weights = torch.log(torch.tensor(_init_weights[None, :])) + _meas_log_weights\n",
    "    _update_log_weights -= torch.logsumexp(_update_log_weights, dim=1)\n",
    "    \n",
    "    return ekf_correct_particles.detach()[:, :3], test_filter.ekf._belief_covariance.detach()[:, :3, :3], _update_log_weights.detach()[0, :]"
   ]
  },
  {
   "cell_type": "code",
   "execution_count": 260,
   "id": "63345e47",
   "metadata": {
    "scrolled": true
   },
   "outputs": [
    {
     "data": {
      "application/vnd.jupyter.widget-view+json": {
       "model_id": "3a1151a68e6446b0bc379608a4467117",
       "version_major": 2,
       "version_minor": 0
      },
      "text/plain": [
       "  0%|          | 0/400 [00:00<?, ?it/s]"
      ]
     },
     "metadata": {},
     "output_type": "display_data"
    },
    {
     "ename": "NameError",
     "evalue": "name 'all_hypo_tau' is not defined",
     "output_type": "error",
     "traceback": [
      "\u001b[0;31m---------------------------------------------------------------------------\u001b[0m",
      "\u001b[0;31mNameError\u001b[0m                                 Traceback (most recent call last)",
      "\u001b[0;32m<ipython-input-260-fe8e9e0d03d2>\u001b[0m in \u001b[0;36m<module>\u001b[0;34m\u001b[0m\n\u001b[1;32m    101\u001b[0m     \u001b[0;32mreturn\u001b[0m \u001b[0mret_data\u001b[0m\u001b[0;34m,\u001b[0m \u001b[0;34m(\u001b[0m\u001b[0mall_hypo_states\u001b[0m\u001b[0;34m,\u001b[0m \u001b[0mall_hypo_log_weights\u001b[0m\u001b[0;34m,\u001b[0m \u001b[0mestimated_state\u001b[0m\u001b[0;34m,\u001b[0m \u001b[0mtorch\u001b[0m\u001b[0;34m.\u001b[0m\u001b[0mtensor\u001b[0m\u001b[0;34m(\u001b[0m\u001b[0m_gt\u001b[0m\u001b[0;34m)\u001b[0m\u001b[0;34m,\u001b[0m \u001b[0m_init_particles\u001b[0m\u001b[0;34m,\u001b[0m \u001b[0m_init_weights\u001b[0m\u001b[0;34m)\u001b[0m\u001b[0;34m\u001b[0m\u001b[0;34m\u001b[0m\u001b[0m\n\u001b[1;32m    102\u001b[0m \u001b[0;34m\u001b[0m\u001b[0m\n\u001b[0;32m--> 103\u001b[0;31m \u001b[0mret_data\u001b[0m\u001b[0;34m,\u001b[0m \u001b[0;34m(\u001b[0m\u001b[0mall_hypo_states\u001b[0m\u001b[0;34m,\u001b[0m \u001b[0mall_hypo_log_weights\u001b[0m\u001b[0;34m,\u001b[0m \u001b[0mestimated_state\u001b[0m\u001b[0;34m,\u001b[0m \u001b[0m_gt\u001b[0m\u001b[0;34m,\u001b[0m \u001b[0m_init_particles\u001b[0m\u001b[0;34m,\u001b[0m \u001b[0m_init_weights\u001b[0m\u001b[0;34m)\u001b[0m \u001b[0;34m=\u001b[0m \u001b[0mget_uls\u001b[0m\u001b[0;34m(\u001b[0m\u001b[0;34m)\u001b[0m\u001b[0;34m\u001b[0m\u001b[0;34m\u001b[0m\u001b[0m\n\u001b[0m",
      "\u001b[0;32m<ipython-input-260-fe8e9e0d03d2>\u001b[0m in \u001b[0;36mget_uls\u001b[0;34m()\u001b[0m\n\u001b[1;32m     88\u001b[0m                 )\n\u001b[1;32m     89\u001b[0m \u001b[0;34m\u001b[0m\u001b[0m\n\u001b[0;32m---> 90\u001b[0;31m         \u001b[0mret_data\u001b[0m\u001b[0;34m[\u001b[0m\u001b[0;34m'eul'\u001b[0m\u001b[0;34m]\u001b[0m\u001b[0;34m.\u001b[0m\u001b[0mappend\u001b[0m\u001b[0;34m(\u001b[0m\u001b[0mintegrate_beliefs_1d\u001b[0m\u001b[0;34m(\u001b[0m\u001b[0mestimated_state\u001b[0m\u001b[0;34m,\u001b[0m \u001b[0mall_hypo_log_weights\u001b[0m\u001b[0;34m,\u001b[0m \u001b[0mall_hypo_states\u001b[0m\u001b[0;34m,\u001b[0m \u001b[0mall_hypo_cov\u001b[0m\u001b[0;34m,\u001b[0m \u001b[0mdim\u001b[0m\u001b[0;34m=\u001b[0m\u001b[0;36m0\u001b[0m\u001b[0;34m)\u001b[0m\u001b[0;34m)\u001b[0m\u001b[0;34m\u001b[0m\u001b[0;34m\u001b[0m\u001b[0m\n\u001b[0m\u001b[1;32m     91\u001b[0m         \u001b[0mret_data\u001b[0m\u001b[0;34m[\u001b[0m\u001b[0;34m'nul'\u001b[0m\u001b[0;34m]\u001b[0m\u001b[0;34m.\u001b[0m\u001b[0mappend\u001b[0m\u001b[0;34m(\u001b[0m\u001b[0mintegrate_beliefs_1d\u001b[0m\u001b[0;34m(\u001b[0m\u001b[0mestimated_state\u001b[0m\u001b[0;34m,\u001b[0m \u001b[0mall_hypo_log_weights\u001b[0m\u001b[0;34m,\u001b[0m \u001b[0mall_hypo_states\u001b[0m\u001b[0;34m,\u001b[0m \u001b[0mall_hypo_cov\u001b[0m\u001b[0;34m,\u001b[0m \u001b[0mdim\u001b[0m\u001b[0;34m=\u001b[0m\u001b[0;36m1\u001b[0m\u001b[0;34m)\u001b[0m\u001b[0;34m)\u001b[0m\u001b[0;34m\u001b[0m\u001b[0;34m\u001b[0m\u001b[0m\n\u001b[1;32m     92\u001b[0m \u001b[0;34m\u001b[0m\u001b[0m\n",
      "\u001b[0;32m<ipython-input-255-56eaf1c7f344>\u001b[0m in \u001b[0;36mintegrate_beliefs_1d\u001b[0;34m(estimated_state, all_hypo_log_weights, all_hypo_states, all_hypo_cov, epsilon, dim)\u001b[0m\n\u001b[1;32m     30\u001b[0m \u001b[0;31m#     diff_xh_xi = torch.abs(estimated_state[dim] - all_hypo_states[:, :, dim])\u001b[0m\u001b[0;34m\u001b[0m\u001b[0;34m\u001b[0m\u001b[0;34m\u001b[0m\u001b[0m\n\u001b[1;32m     31\u001b[0m \u001b[0;31m#     all_hypo_tau = torch.tensor([compute_tau_sigma(epsilon, all_hypo_cov[0, i, dim, dim], 1.0) for i in range(all_hypo_states.shape[1])])\u001b[0m\u001b[0;34m\u001b[0m\u001b[0;34m\u001b[0m\u001b[0;34m\u001b[0m\u001b[0m\n\u001b[0;32m---> 32\u001b[0;31m     \u001b[0mdiff_xh_xi\u001b[0m \u001b[0;34m=\u001b[0m \u001b[0mtorch\u001b[0m\u001b[0;34m.\u001b[0m\u001b[0mabs\u001b[0m\u001b[0;34m(\u001b[0m\u001b[0mestimated_state\u001b[0m\u001b[0;34m[\u001b[0m\u001b[0mdim\u001b[0m\u001b[0;34m]\u001b[0m \u001b[0;34m-\u001b[0m \u001b[0mall_hypo_states\u001b[0m\u001b[0;34m[\u001b[0m\u001b[0;34m:\u001b[0m\u001b[0;34m,\u001b[0m \u001b[0;34m:\u001b[0m\u001b[0;34m,\u001b[0m \u001b[0mdim\u001b[0m\u001b[0;34m]\u001b[0m\u001b[0;34m)\u001b[0m \u001b[0;34m+\u001b[0m \u001b[0mall_hypo_tau\u001b[0m\u001b[0;34m[\u001b[0m\u001b[0;32mNone\u001b[0m\u001b[0;34m,\u001b[0m \u001b[0;34m:\u001b[0m\u001b[0;34m]\u001b[0m\u001b[0;34m\u001b[0m\u001b[0;34m\u001b[0m\u001b[0m\n\u001b[0m\u001b[1;32m     33\u001b[0m \u001b[0;31m#     diff_xh_xi = torch.abs(estimated_state[dim] - all_hypo_states[:, :, dim]) + torch.sqrt(all_hypo_cov[:, :, dim, dim])\u001b[0m\u001b[0;34m\u001b[0m\u001b[0;34m\u001b[0m\u001b[0;34m\u001b[0m\u001b[0m\n\u001b[1;32m     34\u001b[0m \u001b[0;34m\u001b[0m\u001b[0m\n",
      "\u001b[0;31mNameError\u001b[0m: name 'all_hypo_tau' is not defined"
     ]
    }
   ],
   "source": [
    "def get_uls():\n",
    "#     gnss_times = dd_data['time_gt'].to_numpy()\n",
    "#     test_filter.measurement_model.kalman_filter_measurement_model.gnss_model.carrier_N_std = 2.0\n",
    "#     test_filter.ekf.measurement_model.gnss_model.carrier_N_std = 2.0\n",
    "\n",
    "    ret_data = {\n",
    "        'eul': [],\n",
    "        'nul': [],\n",
    "        'xh': [],\n",
    "        'gt': []\n",
    "    }\n",
    "\n",
    "    T = len(save_data['UTCtime'])\n",
    "    \n",
    "    i = 0\n",
    "    i_N = 1\n",
    "\n",
    "    for timestep in tqdm(range(i*int(T/i_N), (i+1)*int(T/i_N))):\n",
    "        _utctime = save_data['UTCtime'][timestep]\n",
    "#         dd_tidx = np.argmin(np.abs(gnss_times - _utctime))\n",
    "#         if np.abs(gnss_times[dd_tidx]-_utctime) > 1/40:\n",
    "#             continue\n",
    "\n",
    "#         # Load GNSS observables\n",
    "#         rover_code, base_code, rover_carr, base_carr, satpos, idx_code_mask, idx_carr_mask = to_tensor(read_gnss_data(dd_data, dd_tidx, 'mixed'))\n",
    "\n",
    "        _init_particles = None\n",
    "        _init_weights = None\n",
    "#         all_hypo_states = torch.tensor(save_data['states'][timestep])[None, None, :]\n",
    "        all_hypo_states = torch.tensor(save_data['states'][timestep])[None, :, :]\n",
    "        \n",
    "        state_dim = all_hypo_states.shape[-1]\n",
    "\n",
    "#         all_hypo_log_weights = torch.zeros((1, 1, 1))\n",
    "        all_hypo_log_weights = torch.log(torch.tensor(save_data['weights'][timestep]))[None, :]\n",
    "        _gt = torch.tensor(save_data['gt'][timestep])\n",
    "\n",
    "#         M, state_dim = _init_particles.shape\n",
    "\n",
    "        _init_cov = None\n",
    "#         all_hypo_cov = torch.tensor(save_data['cov'][timestep])[None, None, :, :] # 1.0*torch.eye(state_dim).expand(M, state_dim, state_dim)\n",
    "        all_hypo_cov = torch.tensor(save_data['cov'][timestep])[None, :, :, :]\n",
    "#         ref, N_hypo_dict_all = get_N_hypotheses(_utctime, ints_data)\n",
    "\n",
    "#         gnss_observation, idx_code_mask, idx_carr_mask, ref = calc_gnss_observation(rover_code, base_code, rover_carr, base_carr, satpos, idx_code_mask, idx_carr_mask, ref=ref)\n",
    "\n",
    "#         if gnss_observation is None:\n",
    "#             continue\n",
    "        \n",
    "#         if N_hypo_dict_all is None:\n",
    "#             _hypo_states, _hypo_cov, _hypo_log_weights = single_hypo_update(_init_particles, _init_cov, _init_weights, gnss_observation, satpos, idx_code_mask, idx_carr_mask, ref, inter_const_bias, N_hypo_dict=None)\n",
    "            \n",
    "#             all_hypo_states = _hypo_states.unsqueeze(0)\n",
    "#             all_hypo_cov = _hypo_cov.unsqueeze(0)\n",
    "#             all_hypo_log_weights = _hypo_log_weights.unsqueeze(0)\n",
    "#         else:\n",
    "#             avail_sat_idx = list(N_hypo_dict_all.keys())\n",
    "\n",
    "#             num_hypo = len(N_hypo_dict_all[avail_sat_idx[0]])\n",
    "\n",
    "#             all_hypo_states = []\n",
    "#             all_hypo_cov = []\n",
    "#             all_hypo_log_weights = []    \n",
    "        \n",
    "\n",
    "# #             tmp_state = torch.zeros(1, 10)\n",
    "# #             tmp_state[0, :3] = torch.tensor(_gt)\n",
    "# #             test_filter.update_sats(satpos, idx_code_mask, idx_carr_mask, ref, inter_const_bias=inter_const_bias, N_hypo_dict=None)\n",
    "# #             expected_observation_gt, _ = test_filter.measurement_model.kalman_filter_measurement_model(tmp_state)\n",
    "\n",
    "#             for hypo_idx in range(num_hypo):\n",
    "#                 N_hypo_dict = {key: N_hypo_dict_all[key][hypo_idx] for key in avail_sat_idx}\n",
    "\n",
    "#                 _hypo_states, _hypo_cov, _hypo_log_weights = single_hypo_update(_init_particles, _init_cov, _init_weights, gnss_observation, satpos, idx_code_mask, idx_carr_mask, ref, inter_const_bias, N_hypo_dict=N_hypo_dict)\n",
    "\n",
    "#                 all_hypo_states.append(_hypo_states)\n",
    "#                 all_hypo_cov.append(_hypo_cov)\n",
    "#                 all_hypo_log_weights.append(_hypo_log_weights)\n",
    "\n",
    "#             all_hypo_states = torch.stack(all_hypo_states)\n",
    "#             all_hypo_cov = torch.stack(all_hypo_cov)\n",
    "#             all_hypo_log_weights = torch.stack(all_hypo_log_weights) - np.log(num_hypo)\n",
    "\n",
    "        estimated_state = torch.sum(\n",
    "                    torch.exp(all_hypo_log_weights).reshape(-1)[:, None]\n",
    "                    * all_hypo_states.reshape(-1, state_dim),\n",
    "                    dim=0,\n",
    "                )\n",
    "    \n",
    "        ret_data['eul'].append(integrate_beliefs_1d(estimated_state, all_hypo_log_weights, all_hypo_states, all_hypo_cov, dim=0))\n",
    "        ret_data['nul'].append(integrate_beliefs_1d(estimated_state, all_hypo_log_weights, all_hypo_states, all_hypo_cov, dim=1))\n",
    "\n",
    "        ret_data['xh'].append(estimated_state)\n",
    "        ret_data['gt'].append(torch.tensor(_gt))\n",
    "\n",
    "#         if timestep > i*int(T/10) + 0:\n",
    "#             break\n",
    "        \n",
    "#         print(_utctime)\n",
    "        \n",
    "    return ret_data, (all_hypo_states, all_hypo_log_weights, estimated_state, torch.tensor(_gt), _init_particles, _init_weights)\n",
    "\n",
    "ret_data, (all_hypo_states, all_hypo_log_weights, estimated_state, _gt, _init_particles, _init_weights) = get_uls()"
   ]
  },
  {
   "cell_type": "code",
   "execution_count": 261,
   "id": "cbec0805",
   "metadata": {},
   "outputs": [
    {
     "data": {
      "text/plain": [
       "(0.0, 50.0)"
      ]
     },
     "execution_count": 261,
     "metadata": {},
     "output_type": "execute_result"
    },
    {
     "data": {
      "image/png": "[encoded data removed]",
      "text/plain": [
       "<Figure size 576x576 with 1 Axes>"
      ]
     },
     "metadata": {
      "needs_background": "light"
     },
     "output_type": "display_data"
    }
   ],
   "source": [
    "run_x_hat = torch.stack(ret_data['xh'])\n",
    "run_gt = torch.stack(ret_data['gt'])\n",
    "\n",
    "overall_pe = torch.norm((run_x_hat[:, :2]-run_gt[:, :2]), dim=1)\n",
    "overall_ul = torch.maximum(torch.stack(ret_data['nul']), torch.stack(ret_data['eul']))\n",
    "\n",
    "# mask = overall_ul>50.0\n",
    "\n",
    "# run_x_hat[mask] = np.nan\n",
    "# run_gt[mask] = np.nan\n",
    "# overall_pe[mask] = np.nan\n",
    "# overall_ul[mask] = 50.0\n",
    "\n",
    "# print(torch.sum((overall_ul<overall_pe)&(overall_pe>15.0))/len(overall_pe))\n",
    "\n",
    "plt.figure(figsize=(8, 8))\n",
    "plt.scatter(overall_pe, overall_ul, color='k', s=3)\n",
    "plt.plot([0, 50], [0, 50], 'r--')\n",
    "plt.xlim([0, 50])\n",
    "plt.ylim([0, 50])"
   ]
  },
  {
   "cell_type": "code",
   "execution_count": 262,
   "id": "215a7f12",
   "metadata": {},
   "outputs": [
    {
     "data": {
      "text/plain": [
       "<matplotlib.legend.Legend at 0x7f75becdf880>"
      ]
     },
     "execution_count": 262,
     "metadata": {},
     "output_type": "execute_result"
    },
    {
     "data": {
      "image/png": "[encoded data removed]",
      "text/plain": [
       "<Figure size 432x288 with 1 Axes>"
      ]
     },
     "metadata": {
      "needs_background": "light"
     },
     "output_type": "display_data"
    }
   ],
   "source": [
    "dim = 1\n",
    "\n",
    "plt.fill_between(range(len(run_gt)), run_x_hat[:, dim] - overall_ul, run_x_hat[:, dim] + overall_ul, color='g', alpha=0.5, label='Uncertainty Level')\n",
    "# plt.plot(run_x_hat[:, dim], 'r', label='State Estimate')\n",
    "plt.plot(run_gt[:, dim], 'r--', label='Ground Truth')\n",
    "plt.legend()"
   ]
  },
  {
   "cell_type": "code",
   "execution_count": 96,
   "id": "5636e499",
   "metadata": {},
   "outputs": [],
   "source": [
    "metric_data = pd.DataFrame({'x_hat_e': run_x_hat.numpy()[:, 0], 'x_hat_n': run_x_hat.numpy()[:, 1], 'gt_e': run_gt.numpy()[:, 0], 'gt_n': run_gt.numpy()[:, 1], 'pe': overall_pe, 'ul': overall_ul})\n",
    "metric_data.to_csv('/home/users/shubhgup/Codes/KITTI360_Processing/TRI_KF/Filter_data/8_17_1430_half2_ekf.csv')"
   ]
  },
  {
   "cell_type": "code",
   "execution_count": null,
   "id": "b9bef160",
   "metadata": {},
   "outputs": [],
   "source": [
    "# observation_dim = test_filter.measurement_model.observation_dim\n",
    "\n",
    "# def temp_f(states, satXYZb, base_pos, ref_idx, idx_code_mask, idx_carr_mask):\n",
    "#     N, state_dim = states.shape\n",
    "#     pos = states[:, :3]\n",
    "# #         bias = states[:, self.idx_b_mask]\n",
    "\n",
    "#     # ROVER\n",
    "#     expected_observation_code = torch.linalg.norm(satXYZb[None, idx_code_mask, :3] - pos[:, None, :], dim=-1)\n",
    "#     expected_observation_carr = torch.linalg.norm(satXYZb[None, idx_carr_mask, :3] - pos[:, None, :], dim=-1)\n",
    "\n",
    "\n",
    "#     # ROVER - BASE\n",
    "#     expected_observation_code -= torch.linalg.norm(satXYZb[None, idx_code_mask, :3] - base_pos[None, None, :], dim=-1)\n",
    "#     expected_observation_carr -= torch.linalg.norm(satXYZb[None, idx_carr_mask, :3] - base_pos[None, None, :], dim=-1)\n",
    "\n",
    "    \n",
    "#     ## REFERENCE\n",
    "    \n",
    "#     # ROVER\n",
    "#     expected_observation_code_ref = torch.linalg.norm(satXYZb[None, ref_idx, :3] - pos[:, :], dim=-1)\n",
    "#     expected_observation_carr_ref = torch.linalg.norm(satXYZb[None, ref_idx, :3] - pos[:, :], dim=-1)\n",
    "\n",
    "\n",
    "#     # ROVER - BASE\n",
    "#     expected_observation_code_ref -= torch.linalg.norm(satXYZb[None, ref_idx, :3] - base_pos[None, :], dim=-1)\n",
    "#     expected_observation_carr_ref -= torch.linalg.norm(satXYZb[None, ref_idx, :3] - base_pos[None, :], dim=-1)\n",
    "    \n",
    "    \n",
    "#     # DOUBLE DIFFERENCE\n",
    "#     expected_observation_code = expected_observation_code - expected_observation_code_ref[:, None]\n",
    "#     expected_observation_carr = expected_observation_carr - expected_observation_carr_ref[:, None]\n",
    "\n",
    "#     expected_observation = torch.cat((expected_observation_code, expected_observation_carr), -1)\n",
    "\n",
    "#     return expected_observation.float()\n",
    "\n",
    "# with torch.enable_grad():\n",
    "#     x = pred_mean.detach().clone()\n",
    "\n",
    "#     N, ndim = x.shape\n",
    "    \n",
    "#     x = x[:, None, :].expand((N, observation_dim, ndim))\n",
    "#     x.requires_grad_(True)\n",
    "#     y = test_filter.measurement_model(x.reshape((-1, ndim)))[0].reshape((N, -1, observation_dim))\n",
    "#     mask = torch.eye(observation_dim, device=x.device).repeat(N, 1, 1)\n",
    "#     jac = torch.autograd.grad(y, x, mask, create_graph=True)\n",
    "# jac[0]"
   ]
  },
  {
   "cell_type": "code",
   "execution_count": null,
   "id": "2424d548",
   "metadata": {},
   "outputs": [],
   "source": [
    "# ## Fiter\n",
    "\n",
    "# t = 1\n",
    "# timestamp, or_quat, or_cov, ang_vel, ang_vel_cov, lin_acc, lin_acc_cov = parse_imu_data(imu_data[t-1])\n",
    "# dt = (timestamp - prev_timestamp)\n",
    "# prev_timestamp = timestamp\n",
    "# or_quat = tf.quaternion_invert(or_quat)\n",
    "# controls = torch.cat((lin_acc, ang_vel, or_quat)).float()\n",
    "\n",
    "# prev_mean = test_filter._belief_mean\n",
    "# prev_covariance = test_filter._belief_covariance\n",
    "# N, state_dim = prev_mean.shape\n",
    "\n",
    "# # Compute mu_{t+1|t}, covariance, and Jacobian\n",
    "# pred_mean, dynamics_tril = test_filter.dynamics_model(\n",
    "#     initial_states=prev_mean, controls=controls[None, :]\n",
    "# )\n",
    "\n",
    "# dynamics_covariance = dynamics_tril @ dynamics_tril.transpose(-1, -2)\n",
    "# dynamics_A_matrix = test_filter.dynamics_model.jacobian(\n",
    "#     initial_states=prev_mean, controls=controls[None, :]\n",
    "# )\n",
    "\n",
    "# # Calculate Sigma_{t+1|t}\n",
    "# pred_covariance = (\n",
    "#     dynamics_A_matrix @ prev_covariance @ dynamics_A_matrix.transpose(-1, -2)\n",
    "#     + dynamics_covariance\n",
    "# )\n",
    "\n",
    "# test_filter.measurement_model.update_sats(satpos, idx_code_mask, idx_carr_mask, ref)\n",
    "\n",
    "# observations = observation[None, :]\n",
    "# # Measurement model forward pass, Jacobian\n",
    "# observations_mean = observations\n",
    "# pred_observations, observations_tril = test_filter.measurement_model(states=pred_mean)\n",
    "# observations_covariance = observations_tril @ observations_tril.transpose(\n",
    "#     -1, -2\n",
    "# )\n",
    "\n",
    "# print(pred_mean)\n",
    "\n",
    "# C_matrix = test_filter.measurement_model.jacobian(states=pred_mean)\n",
    "# # Compute Kalman Gain, innovation\n",
    "# innovation = observations_mean - pred_observations\n",
    "# innovation_covariance = (\n",
    "#     C_matrix @ pred_covariance @ C_matrix.transpose(-1, -2)\n",
    "#     + observations_covariance\n",
    "# )\n",
    "# kalman_gain = (\n",
    "#     pred_covariance\n",
    "#     @ C_matrix.transpose(-1, -2)\n",
    "#     @ torch.inverse(innovation_covariance)\n",
    "# )\n",
    "\n",
    "# # Get mu_{t+1|t+1}, Sigma_{t+1|t+1}\n",
    "# corrected_mean = pred_mean + (kalman_gain @ innovation[:, :, None]).squeeze(-1)\n",
    "\n",
    "# identity = torch.eye(test_filter.state_dim, device=kalman_gain.device)\n",
    "# corrected_covariance = (identity - kalman_gain @ C_matrix) @ pred_covariance"
   ]
  },
  {
   "cell_type": "code",
   "execution_count": null,
   "id": "a4ac7371",
   "metadata": {},
   "outputs": [],
   "source": [
    "# ## DEBUG\n",
    "\n",
    "# rover_code = dd_data[constellation+'_rover_measurements_code'][dd_tidx].to_numpy()\n",
    "# base_code = dd_data[constellation+'_base_measurements_code'][dd_tidx].to_numpy()\n",
    "\n",
    "# rover_carr = dd_data[constellation+'_rover_measurements_carr'][dd_tidx].to_numpy()\n",
    "# base_carr = dd_data[constellation+'_base_measurements_carr'][dd_tidx].to_numpy()\n",
    "\n",
    "# idx_code_mask = np.logical_not(np.isnan(rover_code))\n",
    "# idx_carr_mask = np.logical_not(np.isnan(rover_carr))\n",
    "\n",
    "# satpos = torch.tensor(dd_data[constellation+'_ecef_svs'][dd_tidx].to_numpy())\n",
    "# ref = np.where(idx_code_mask & idx_carr_mask)[0][0]\n",
    "\n",
    "# sd_code = rover_code - base_code\n",
    "# dd_code = sd_code - sd_code[ref]\n",
    "\n",
    "# sd_carr = rover_carr - base_carr\n",
    "# dd_carr = sd_carr - sd_carr[ref]\n",
    "\n",
    "# # Dont include reference\n",
    "# idx_code_mask[ref] = False\n",
    "# idx_carr_mask[ref] = False\n",
    "\n",
    "# observation = torch.tensor(np.concatenate((dd_code[idx_code_mask], dd_carr[idx_carr_mask]), -1), dtype=torch.float32)\n",
    "\n",
    "# kf_measurement_model.update_sats(satpos, idx_code_mask, idx_carr_mask, ref)\n",
    "\n",
    "# print(\"expected: \", kf_measurement_model(estimated_states[0, :][None, :])[0])\n",
    "# print(\"measured: \", observation)"
   ]
  },
  {
   "cell_type": "markdown",
   "id": "0ca63a4d",
   "metadata": {},
   "source": [
    "# Residual Computation"
   ]
  },
  {
   "cell_type": "code",
   "execution_count": 153,
   "id": "7bd446d5",
   "metadata": {},
   "outputs": [],
   "source": [
    "# # Print number of measurements at each time\n",
    "# sum(~np.isnan(dd_data.beidou_base_measurements_carr).T)"
   ]
  },
  {
   "cell_type": "code",
   "execution_count": 154,
   "id": "afc70edb",
   "metadata": {},
   "outputs": [],
   "source": [
    "inter_const_bias = torch.tensor(dd_data['inter_const_bias'].to_numpy()).float()"
   ]
  },
  {
   "cell_type": "code",
   "execution_count": 155,
   "id": "063c6e4b",
   "metadata": {},
   "outputs": [],
   "source": [
    "lda_scale = torch.ones(31+32)\n",
    "lda_scale[:31] = 0.1902\n",
    "lda_scale[31:] = 0.1920"
   ]
  },
  {
   "cell_type": "code",
   "execution_count": 156,
   "id": "24559386",
   "metadata": {},
   "outputs": [
    {
     "data": {
      "text/plain": [
       "95603.0"
      ]
     },
     "execution_count": 156,
     "metadata": {},
     "output_type": "execute_result"
    }
   ],
   "source": [
    "utc2gps(dd_data['time_gt'][0].to_numpy())"
   ]
  },
  {
   "cell_type": "code",
   "execution_count": 186,
   "id": "87f5c2b2",
   "metadata": {},
   "outputs": [
    {
     "data": {
      "application/vnd.jupyter.widget-view+json": {
       "model_id": "fde172b3971e4152beaa8ea503d9a6d6",
       "version_major": 2,
       "version_minor": 0
      },
      "text/plain": [
       "  0%|          | 0/777 [00:00<?, ?it/s]"
      ]
     },
     "metadata": {},
     "output_type": "display_data"
    }
   ],
   "source": [
    "# Residual computation\n",
    "T = len(dd_data['time_gt'])\n",
    "code_sd_residuals = torch.zeros(T, 32+31).float()\n",
    "code_sd_residuals[...] = float('nan') \n",
    "carr_sd_residuals = torch.zeros(T, 32+31).float()\n",
    "carr_sd_residuals[...] = float('nan')\n",
    "base_pose = torch.tensor(dd_data['base_station_enu'].to_numpy())[None, :]\n",
    "\n",
    "\n",
    "for dd_tidx in tqdm(range(T)):\n",
    "    rover_code, base_code, rover_carr, base_carr, rover_cnos, satpos, idx_code_mask, idx_carr_mask = to_tensor(read_gnss_data(dd_data, dd_tidx, 'mixed'))\n",
    "    if sum(idx_code_mask) > 1 and sum(idx_carr_mask) > 1:\n",
    "        dd_code, dd_carr = compute_s_diff(rover_code, base_code, rover_carr, base_carr, idx_code_mask=idx_code_mask, idx_carr_mask=idx_carr_mask)\n",
    "#         print(\"time: \", utc2gps(dd_data['time_gt'].to_numpy()[dd_tidx]))\n",
    "#         print(\"rover_carr: \", rover_carr)\n",
    "#         print(\"base_carr: \", base_carr)\n",
    "#         print(\"sv idx: \", torch.where(idx_carr_mask))\n",
    "#         print(\"SD carr: \", dd_carr)\n",
    "        dd_code_expec, dd_carr_expec = expected_s_diff(satpos, torch.tensor(gt_pos[None, dd_tidx+10, :3]), base_pose, idx_code_mask=idx_code_mask, idx_carr_mask=idx_carr_mask)\n",
    "#         code_sd_residuals[dd_tidx, idx_code_mask] = torch.round(torch.divide(dd_code.float() - dd_code_expec[0, :].float() - inter_const_bias[idx_code_mask], lda_scale[idx_code_mask]))\n",
    "#         carr_sd_residuals[dd_tidx, idx_carr_mask] = torch.round(torch.divide(dd_carr.float() - dd_carr_expec[0, :].float() - inter_const_bias[idx_carr_mask], lda_scale[idx_carr_mask]))\n",
    "        code_sd_residuals[dd_tidx, idx_code_mask] = torch.round(torch.divide(dd_code.float() - inter_const_bias[idx_code_mask], lda_scale[idx_code_mask]))\n",
    "        carr_sd_residuals[dd_tidx, idx_carr_mask] = torch.round(torch.divide(dd_carr.float() - inter_const_bias[idx_carr_mask], lda_scale[idx_carr_mask]))\n",
    "\n"
   ]
  },
  {
   "cell_type": "code",
   "execution_count": 187,
   "id": "76780368",
   "metadata": {},
   "outputs": [
    {
     "data": {
      "text/plain": [
       "(0.0, 777.0)"
      ]
     },
     "execution_count": 187,
     "metadata": {},
     "output_type": "execute_result"
    },
    {
     "data": {
      "image/png": "[encoded data removed]",
      "text/plain": [
       "<Figure size 432x288 with 1 Axes>"
      ]
     },
     "metadata": {
      "needs_background": "light"
     },
     "output_type": "display_data"
    }
   ],
   "source": [
    "# plt.plot(np.diff(carr_sd_residuals[:, :] - carr_sd_residuals[:, 19:20], axis=0))\n",
    "plt.plot(np.diff(carr_sd_residuals[:, 0] - carr_sd_residuals[:, 19], axis=0))\n",
    "plt.xlim((0, 777))"
   ]
  },
  {
   "cell_type": "code",
   "execution_count": null,
   "id": "ee0d9d68",
   "metadata": {
    "scrolled": true
   },
   "outputs": [],
   "source": [
    "true_gps_ints = {key: dict() for key in ref_gps.keys()}\n",
    "true_mixed_ints = {key: dict() for key in ref_gps.keys()}\n",
    "for key in N_hypo_data.keys():\n",
    "    ref_idx = int(ref_gps[key])\n",
    "    t = int(float(key)) - 95603\n",
    "    DD_N_vec = carr_sd_residuals[t, :] - carr_sd_residuals[t, ref_idx:ref_idx+1]\n",
    "    for i, N_val in enumerate(DD_N_vec):\n",
    "        if ~(np.isnan(N_val.item()) or torch.abs(N_val)<1e-5):\n",
    "            if i<31:\n",
    "                true_gps_ints[key]['['+str(i)+']'] = N_val.item()\n",
    "            else:\n",
    "                true_mixed_ints[key]['['+str(i-31)+']'] = N_val.item()"
   ]
  },
  {
   "cell_type": "code",
   "execution_count": null,
   "id": "94524a86",
   "metadata": {},
   "outputs": [],
   "source": [
    "true_gps_ints"
   ]
  },
  {
   "cell_type": "code",
   "execution_count": null,
   "id": "dddb7909",
   "metadata": {},
   "outputs": [],
   "source": [
    "np.save(os.path.join(int_hypo_path, 'true_mixed_ints.npy'), true_mixed_ints)\n",
    "np.save(os.path.join(int_hypo_path, 'true_gps_ints.npy'), true_gps_ints)"
   ]
  },
  {
   "cell_type": "code",
   "execution_count": null,
   "id": "bd939a43",
   "metadata": {},
   "outputs": [],
   "source": [
    "plt.plot(carr_sd_residuals - carr_sd_residuals[:, 19:20])"
   ]
  },
  {
   "cell_type": "code",
   "execution_count": null,
   "id": "37a59483",
   "metadata": {},
   "outputs": [],
   "source": [
    "# Possible references\n",
    "torch.where(torch.sum(~torch.isnan(code_sd_residuals), dim=0)>0)"
   ]
  },
  {
   "cell_type": "code",
   "execution_count": null,
   "id": "37444168",
   "metadata": {},
   "outputs": [],
   "source": [
    "def calc_icb(residuals, ref=-1, const1_max_idx=31, plot=True):\n",
    "    max_idx = residuals.shape[1]\n",
    "    \n",
    "    if plot:\n",
    "        for idx in range(const1_max_idx):\n",
    "            if idx==ref:\n",
    "                continue\n",
    "            plt.plot(residuals[:, idx], 'c')\n",
    "\n",
    "        for idx in range(const1_max_idx, max_idx):\n",
    "            if idx==ref:\n",
    "                continue\n",
    "            plt.plot(residuals[:, idx], 'y')\n",
    "\n",
    "    tmp_mask = torch.ones(max_idx, dtype=torch.bool)\n",
    "    tmp_mask[const1_max_idx:] = False\n",
    "    if ref>=0:\n",
    "        tmp_mask[ref] = False\n",
    "    icb1_res = residuals[:, tmp_mask]\n",
    "    if plot:\n",
    "        plt.plot(torch.ones(len(residuals))*torch.nanmean(icb1_res), 'c--')\n",
    "\n",
    "    tmp_mask = torch.ones(max_idx, dtype=torch.bool)\n",
    "    tmp_mask[:const1_max_idx] = False\n",
    "    if ref>=0:\n",
    "        tmp_mask[ref] = False\n",
    "    icb2_res = residuals[:, tmp_mask]\n",
    "    if plot:\n",
    "        plt.plot(torch.ones(len(residuals))*torch.nanmean(icb2_res), 'y--')\n",
    "    return icb1_res, icb2_res\n",
    "\n",
    "all_icb1_res = []\n",
    "all_icb2_res = []\n",
    "for ref in [0,  3,  6,  7,  8, 14, 19, 25]:\n",
    "    code_dd_residuals = code_sd_residuals - code_sd_residuals[:, [ref]]\n",
    "    carr_dd_residuals = carr_sd_residuals - carr_sd_residuals[:, [ref]]\n",
    "    icb1_res, icb2_res = calc_icb(code_dd_residuals, ref=ref)\n",
    "    all_icb1_res.append(icb1_res)\n",
    "    all_icb2_res.append(icb2_res)\n",
    "all_icb1_res = torch.stack(all_icb1_res)\n",
    "all_icb2_res = torch.stack(all_icb2_res)\n",
    "\n",
    "print(torch.nanmean(all_icb1_res), torch.nanmean(all_icb2_res))"
   ]
  },
  {
   "cell_type": "markdown",
   "id": "910dce16",
   "metadata": {},
   "source": [
    "# Run filter step-by-step"
   ]
  },
  {
   "cell_type": "code",
   "execution_count": null,
   "id": "c98bffc0",
   "metadata": {
    "scrolled": true
   },
   "outputs": [],
   "source": [
    "# plt.imshow(torch.log(test_filter.belief_covariance.detach()[0, :, :]))\n",
    "t = T_start\n",
    "fig, ax = plt.subplots(nrows=3)\n",
    "t"
   ]
  },
  {
   "cell_type": "code",
   "execution_count": null,
   "id": "f259d0e2",
   "metadata": {},
   "outputs": [],
   "source": [
    "for idx in tqdm(range(5000)):\n",
    "    prev_context = context\n",
    "#     while context[-1] == prev_context[-1]:\n",
    "    estimated_state, context = run_timestep(t, context)\n",
    "    t += 1\n",
    "\n",
    "    for i in range(3):\n",
    "        if context[-1] != prev_context[-1]:\n",
    "            ax[i].plot([t-T_start]*2, [-50, 50], color='g')\n",
    "    \n",
    "    if idx%50 != 0:\n",
    "        continue\n",
    "        \n",
    "    for i in range(3): \n",
    "        ax[i].scatter([t-T_start]*100, test_filter.particle_states[0, :, i].detach(), s=1, color='b')\n",
    "        ax[i].scatter([t-T_start], gt_pos[context[-1], i], color='r', s=4)\n",
    "    \n",
    "fig"
   ]
  },
  {
   "cell_type": "markdown",
   "id": "648b659b",
   "metadata": {},
   "source": [
    "# Dataset and IMU Analysis"
   ]
  },
  {
   "cell_type": "code",
   "execution_count": null,
   "id": "d681fd4c",
   "metadata": {},
   "outputs": [],
   "source": [
    "plt.plot(gt_pos[0:100, 0], gt_pos[0:100, 1], 'k')\n",
    "plt.plot(gt_pos[100:200, 0], gt_pos[100:200, 1], 'r')\n",
    "plt.plot(gt_pos[200:300, 0], gt_pos[200:300, 1], 'g')\n",
    "plt.plot(gt_pos[300:400, 0], gt_pos[300:400, 1], 'b')"
   ]
  },
  {
   "cell_type": "code",
   "execution_count": null,
   "id": "e10ae0a4",
   "metadata": {},
   "outputs": [],
   "source": [
    "viz_block = range(0, 100)\n",
    "plt.plot(gt_pos[viz_block, 0])\n",
    "plt.plot(gt_pos[viz_block, 1])\n",
    "plt.plot(gt_pos[viz_block, 2])"
   ]
  },
  {
   "cell_type": "code",
   "execution_count": null,
   "id": "0ef527ef",
   "metadata": {},
   "outputs": [],
   "source": [
    "viz_block = range(0, 777)\n",
    "plt.plot(gt_rot[viz_block, 0])\n",
    "plt.plot(gt_rot[viz_block, 1])\n",
    "plt.plot(gt_rot[viz_block, 2])"
   ]
  },
  {
   "cell_type": "code",
   "execution_count": null,
   "id": "4b3fcaa4",
   "metadata": {},
   "outputs": [],
   "source": [
    "viz_block = range(0, 400*777)\n",
    "\n",
    "or_eul = np.stack(list(quaternion_to_euler_angle_vectorized(or_quat[:, 0], or_quat[:, 1], or_quat[:, 2], or_quat[:, 3])), -1)\n",
    "plt.plot(or_eul[viz_block, 0])\n",
    "plt.plot(or_eul[viz_block, 1])\n",
    "plt.plot(or_eul[viz_block, 2])"
   ]
  },
  {
   "cell_type": "code",
   "execution_count": null,
   "id": "3ab61fe1",
   "metadata": {},
   "outputs": [],
   "source": [
    "viz_block = range(0, 100)\n",
    "plt.plot(gt_vel[viz_block, 0])\n",
    "plt.plot(gt_vel[viz_block, 1])\n",
    "plt.plot(gt_vel[viz_block, 2])"
   ]
  },
  {
   "cell_type": "code",
   "execution_count": null,
   "id": "a9287b15",
   "metadata": {},
   "outputs": [],
   "source": [
    "viz_block = range(0, 100)\n",
    "plt.plot(np.ediff1d(gt_pos[viz_block, 0]))\n",
    "plt.plot(np.ediff1d(gt_pos[viz_block, 1]))\n",
    "plt.plot(np.ediff1d(gt_pos[viz_block, 2]))"
   ]
  },
  {
   "cell_type": "code",
   "execution_count": null,
   "id": "3697947a",
   "metadata": {},
   "outputs": [],
   "source": [
    "tmp_or_quat = or_quat[range(0, 400*100, 400)]\n",
    "tmp_or_quat[:, 3] *= -1\n",
    "or_quat_inv = tf.quaternion_invert(tmp_or_quat)\n",
    "gt_vel_enu = tf.quaternion_apply(or_quat_inv, torch.tensor(gt_vel[:100]).reshape(-1, 3))\n",
    "\n",
    "viz_block = range(0, 100)\n",
    "plt.plot(gt_vel_enu[viz_block, 0])\n",
    "plt.plot(gt_vel_enu[viz_block, 1])\n",
    "plt.plot(gt_vel_enu[viz_block, 2])"
   ]
  },
  {
   "cell_type": "code",
   "execution_count": null,
   "id": "0b2b3a35",
   "metadata": {},
   "outputs": [],
   "source": [
    "viz_block = range(0, 100)\n",
    "plt.plot(np.ediff1d(np.ediff1d(gt_pos[viz_block, 0])))\n",
    "plt.plot(np.ediff1d(np.ediff1d(gt_pos[viz_block, 1])))\n",
    "plt.plot(np.ediff1d(np.ediff1d(gt_pos[viz_block, 2])))"
   ]
  },
  {
   "cell_type": "code",
   "execution_count": null,
   "id": "e07d9f3d",
   "metadata": {},
   "outputs": [],
   "source": [
    "tmp_or_quat = or_quat[range(0, 400*100, 400)]\n",
    "tmp_or_quat[:, 3] *= -1\n",
    "or_quat_inv = tf.quaternion_invert(tmp_or_quat)\n",
    "gt_acc_enu = tf.quaternion_apply(or_quat_inv, torch.tensor(gt_acc[:100]).reshape(-1, 3))\n",
    "\n",
    "viz_block = range(0, 100)\n",
    "plt.plot(gt_acc_enu[viz_block, 0])\n",
    "plt.plot(gt_acc_enu[viz_block, 1])\n",
    "plt.plot(gt_acc_enu[viz_block, 2])"
   ]
  },
  {
   "cell_type": "code",
   "execution_count": null,
   "id": "f5e816a8",
   "metadata": {},
   "outputs": [],
   "source": [
    "viz_block = range(0, 400*100, 400)\n",
    "tmp_or_quat = or_quat[viz_block]\n",
    "tmp_or_quat[:, 3] *= -1\n",
    "or_quat_inv = tf.quaternion_invert(tmp_or_quat)\n",
    "gt_acc_enu = tf.quaternion_apply(or_quat_inv, lin_acc[viz_block].reshape(-1, 3))\n",
    "gt_acc_enu -= torch.tensor([0.0, 0.0, 9.81])\n",
    "\n",
    "viz_block = range(0, 100)\n",
    "plt.plot(gt_acc_enu[viz_block, 0])\n",
    "plt.plot(gt_acc_enu[viz_block, 1])\n",
    "plt.plot(gt_acc_enu[viz_block, 2])"
   ]
  },
  {
   "cell_type": "code",
   "execution_count": null,
   "id": "81c57d6e",
   "metadata": {},
   "outputs": [],
   "source": [
    "viz_block_1hz = range(0, 100)\n",
    "viz_block_400hz = range(0, 400*100, 400)\n",
    "tmp_diff = torch.tensor(gt_acc[viz_block_1hz]) - lin_acc[viz_block_400hz] + torch.tensor([0.0, 0.0, 9.81]).reshape(1, -1)\n",
    "\n",
    "plt.plot(tmp_diff[viz_block_1hz, 0])\n",
    "plt.plot(tmp_diff[viz_block_1hz, 1])\n",
    "plt.plot(tmp_diff[viz_block_1hz, 2])"
   ]
  }
 ],
 "metadata": {
  "kernelspec": {
   "display_name": "Python 3 (ipykernel)",
   "language": "python",
   "name": "python3"
  },
  "language_info": {
   "codemirror_mode": {
    "name": "ipython",
    "version": 3
   },
   "file_extension": ".py",
   "mimetype": "text/x-python",
   "name": "python",
   "nbconvert_exporter": "python",
   "pygments_lexer": "ipython3",
   "version": "3.8.10"
  }
 },
 "nbformat": 4,
 "nbformat_minor": 5
}
